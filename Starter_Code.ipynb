{
  "cells": [
    {
      "cell_type": "markdown",
      "metadata": {
        "id": "1luGE0ovKvyX"
      },
      "source": [
        "## Preprocessing"
      ]
    },
    {
      "cell_type": "code",
      "execution_count": 46,
      "metadata": {
        "colab": {
          "base_uri": "https://localhost:8080/",
          "height": 371
        },
        "id": "uIbKw_xTKvyZ",
        "outputId": "2c2fdd41-b1dc-4a27-fe69-b6dc04848254"
      },
      "outputs": [
        {
          "output_type": "execute_result",
          "data": {
            "text/plain": [
              "        EIN                                      NAME APPLICATION_TYPE  \\\n",
              "0  10520599              BLUE KNIGHTS MOTORCYCLE CLUB              T10   \n",
              "1  10531628    AMERICAN CHESAPEAKE CLUB CHARITABLE TR               T3   \n",
              "2  10547893        ST CLOUD PROFESSIONAL FIREFIGHTERS               T5   \n",
              "3  10553066            SOUTHSIDE ATHLETIC ASSOCIATION               T3   \n",
              "4  10556103  GENETIC RESEARCH INSTITUTE OF THE DESERT               T3   \n",
              "\n",
              "        AFFILIATION CLASSIFICATION      USE_CASE  ORGANIZATION  STATUS  \\\n",
              "0       Independent          C1000    ProductDev   Association       1   \n",
              "1       Independent          C2000  Preservation  Co-operative       1   \n",
              "2  CompanySponsored          C3000    ProductDev   Association       1   \n",
              "3  CompanySponsored          C2000  Preservation         Trust       1   \n",
              "4       Independent          C1000     Heathcare         Trust       1   \n",
              "\n",
              "      INCOME_AMT SPECIAL_CONSIDERATIONS  ASK_AMT  IS_SUCCESSFUL  \n",
              "0              0                      N     5000              1  \n",
              "1         1-9999                      N   108590              1  \n",
              "2              0                      N     5000              0  \n",
              "3    10000-24999                      N     6692              1  \n",
              "4  100000-499999                      N   142590              1  "
            ],
            "text/html": [
              "\n",
              "  <div id=\"df-272a3372-9fa8-410a-9543-1b170bf82082\">\n",
              "    <div class=\"colab-df-container\">\n",
              "      <div>\n",
              "<style scoped>\n",
              "    .dataframe tbody tr th:only-of-type {\n",
              "        vertical-align: middle;\n",
              "    }\n",
              "\n",
              "    .dataframe tbody tr th {\n",
              "        vertical-align: top;\n",
              "    }\n",
              "\n",
              "    .dataframe thead th {\n",
              "        text-align: right;\n",
              "    }\n",
              "</style>\n",
              "<table border=\"1\" class=\"dataframe\">\n",
              "  <thead>\n",
              "    <tr style=\"text-align: right;\">\n",
              "      <th></th>\n",
              "      <th>EIN</th>\n",
              "      <th>NAME</th>\n",
              "      <th>APPLICATION_TYPE</th>\n",
              "      <th>AFFILIATION</th>\n",
              "      <th>CLASSIFICATION</th>\n",
              "      <th>USE_CASE</th>\n",
              "      <th>ORGANIZATION</th>\n",
              "      <th>STATUS</th>\n",
              "      <th>INCOME_AMT</th>\n",
              "      <th>SPECIAL_CONSIDERATIONS</th>\n",
              "      <th>ASK_AMT</th>\n",
              "      <th>IS_SUCCESSFUL</th>\n",
              "    </tr>\n",
              "  </thead>\n",
              "  <tbody>\n",
              "    <tr>\n",
              "      <th>0</th>\n",
              "      <td>10520599</td>\n",
              "      <td>BLUE KNIGHTS MOTORCYCLE CLUB</td>\n",
              "      <td>T10</td>\n",
              "      <td>Independent</td>\n",
              "      <td>C1000</td>\n",
              "      <td>ProductDev</td>\n",
              "      <td>Association</td>\n",
              "      <td>1</td>\n",
              "      <td>0</td>\n",
              "      <td>N</td>\n",
              "      <td>5000</td>\n",
              "      <td>1</td>\n",
              "    </tr>\n",
              "    <tr>\n",
              "      <th>1</th>\n",
              "      <td>10531628</td>\n",
              "      <td>AMERICAN CHESAPEAKE CLUB CHARITABLE TR</td>\n",
              "      <td>T3</td>\n",
              "      <td>Independent</td>\n",
              "      <td>C2000</td>\n",
              "      <td>Preservation</td>\n",
              "      <td>Co-operative</td>\n",
              "      <td>1</td>\n",
              "      <td>1-9999</td>\n",
              "      <td>N</td>\n",
              "      <td>108590</td>\n",
              "      <td>1</td>\n",
              "    </tr>\n",
              "    <tr>\n",
              "      <th>2</th>\n",
              "      <td>10547893</td>\n",
              "      <td>ST CLOUD PROFESSIONAL FIREFIGHTERS</td>\n",
              "      <td>T5</td>\n",
              "      <td>CompanySponsored</td>\n",
              "      <td>C3000</td>\n",
              "      <td>ProductDev</td>\n",
              "      <td>Association</td>\n",
              "      <td>1</td>\n",
              "      <td>0</td>\n",
              "      <td>N</td>\n",
              "      <td>5000</td>\n",
              "      <td>0</td>\n",
              "    </tr>\n",
              "    <tr>\n",
              "      <th>3</th>\n",
              "      <td>10553066</td>\n",
              "      <td>SOUTHSIDE ATHLETIC ASSOCIATION</td>\n",
              "      <td>T3</td>\n",
              "      <td>CompanySponsored</td>\n",
              "      <td>C2000</td>\n",
              "      <td>Preservation</td>\n",
              "      <td>Trust</td>\n",
              "      <td>1</td>\n",
              "      <td>10000-24999</td>\n",
              "      <td>N</td>\n",
              "      <td>6692</td>\n",
              "      <td>1</td>\n",
              "    </tr>\n",
              "    <tr>\n",
              "      <th>4</th>\n",
              "      <td>10556103</td>\n",
              "      <td>GENETIC RESEARCH INSTITUTE OF THE DESERT</td>\n",
              "      <td>T3</td>\n",
              "      <td>Independent</td>\n",
              "      <td>C1000</td>\n",
              "      <td>Heathcare</td>\n",
              "      <td>Trust</td>\n",
              "      <td>1</td>\n",
              "      <td>100000-499999</td>\n",
              "      <td>N</td>\n",
              "      <td>142590</td>\n",
              "      <td>1</td>\n",
              "    </tr>\n",
              "  </tbody>\n",
              "</table>\n",
              "</div>\n",
              "      <button class=\"colab-df-convert\" onclick=\"convertToInteractive('df-272a3372-9fa8-410a-9543-1b170bf82082')\"\n",
              "              title=\"Convert this dataframe to an interactive table.\"\n",
              "              style=\"display:none;\">\n",
              "        \n",
              "  <svg xmlns=\"http://www.w3.org/2000/svg\" height=\"24px\"viewBox=\"0 0 24 24\"\n",
              "       width=\"24px\">\n",
              "    <path d=\"M0 0h24v24H0V0z\" fill=\"none\"/>\n",
              "    <path d=\"M18.56 5.44l.94 2.06.94-2.06 2.06-.94-2.06-.94-.94-2.06-.94 2.06-2.06.94zm-11 1L8.5 8.5l.94-2.06 2.06-.94-2.06-.94L8.5 2.5l-.94 2.06-2.06.94zm10 10l.94 2.06.94-2.06 2.06-.94-2.06-.94-.94-2.06-.94 2.06-2.06.94z\"/><path d=\"M17.41 7.96l-1.37-1.37c-.4-.4-.92-.59-1.43-.59-.52 0-1.04.2-1.43.59L10.3 9.45l-7.72 7.72c-.78.78-.78 2.05 0 2.83L4 21.41c.39.39.9.59 1.41.59.51 0 1.02-.2 1.41-.59l7.78-7.78 2.81-2.81c.8-.78.8-2.07 0-2.86zM5.41 20L4 18.59l7.72-7.72 1.47 1.35L5.41 20z\"/>\n",
              "  </svg>\n",
              "      </button>\n",
              "      \n",
              "  <style>\n",
              "    .colab-df-container {\n",
              "      display:flex;\n",
              "      flex-wrap:wrap;\n",
              "      gap: 12px;\n",
              "    }\n",
              "\n",
              "    .colab-df-convert {\n",
              "      background-color: #E8F0FE;\n",
              "      border: none;\n",
              "      border-radius: 50%;\n",
              "      cursor: pointer;\n",
              "      display: none;\n",
              "      fill: #1967D2;\n",
              "      height: 32px;\n",
              "      padding: 0 0 0 0;\n",
              "      width: 32px;\n",
              "    }\n",
              "\n",
              "    .colab-df-convert:hover {\n",
              "      background-color: #E2EBFA;\n",
              "      box-shadow: 0px 1px 2px rgba(60, 64, 67, 0.3), 0px 1px 3px 1px rgba(60, 64, 67, 0.15);\n",
              "      fill: #174EA6;\n",
              "    }\n",
              "\n",
              "    [theme=dark] .colab-df-convert {\n",
              "      background-color: #3B4455;\n",
              "      fill: #D2E3FC;\n",
              "    }\n",
              "\n",
              "    [theme=dark] .colab-df-convert:hover {\n",
              "      background-color: #434B5C;\n",
              "      box-shadow: 0px 1px 3px 1px rgba(0, 0, 0, 0.15);\n",
              "      filter: drop-shadow(0px 1px 2px rgba(0, 0, 0, 0.3));\n",
              "      fill: #FFFFFF;\n",
              "    }\n",
              "  </style>\n",
              "\n",
              "      <script>\n",
              "        const buttonEl =\n",
              "          document.querySelector('#df-272a3372-9fa8-410a-9543-1b170bf82082 button.colab-df-convert');\n",
              "        buttonEl.style.display =\n",
              "          google.colab.kernel.accessAllowed ? 'block' : 'none';\n",
              "\n",
              "        async function convertToInteractive(key) {\n",
              "          const element = document.querySelector('#df-272a3372-9fa8-410a-9543-1b170bf82082');\n",
              "          const dataTable =\n",
              "            await google.colab.kernel.invokeFunction('convertToInteractive',\n",
              "                                                     [key], {});\n",
              "          if (!dataTable) return;\n",
              "\n",
              "          const docLinkHtml = 'Like what you see? Visit the ' +\n",
              "            '<a target=\"_blank\" href=https://colab.research.google.com/notebooks/data_table.ipynb>data table notebook</a>'\n",
              "            + ' to learn more about interactive tables.';\n",
              "          element.innerHTML = '';\n",
              "          dataTable['output_type'] = 'display_data';\n",
              "          await google.colab.output.renderOutput(dataTable, element);\n",
              "          const docLink = document.createElement('div');\n",
              "          docLink.innerHTML = docLinkHtml;\n",
              "          element.appendChild(docLink);\n",
              "        }\n",
              "      </script>\n",
              "    </div>\n",
              "  </div>\n",
              "  "
            ]
          },
          "metadata": {},
          "execution_count": 46
        }
      ],
      "source": [
        "# Import our dependencies\n",
        "from sklearn.model_selection import train_test_split\n",
        "from sklearn.preprocessing import StandardScaler\n",
        "from sklearn.decomposition import PCA\n",
        "import pandas as pd\n",
        "import tensorflow as tf\n",
        "import warnings\n",
        "\n",
        "# Disable all warnings\n",
        "warnings.filterwarnings(\"ignore\")\n",
        "\n",
        "#  Import and read the charity_data.csv.\n",
        "application_df = pd.read_csv(\"https://static.bc-edx.com/data/dl-1-2/m21/lms/starter/charity_data.csv\")\n",
        "application_df.head(5)"
      ]
    },
    {
      "cell_type": "code",
      "execution_count": 47,
      "metadata": {
        "id": "oBVH6xjsKvyb"
      },
      "outputs": [],
      "source": [
        "# Drop the non-beneficial ID columns, 'EIN' and 'NAME'.\n",
        "application_df = application_df.drop(['EIN', 'NAME'], axis=1)\n",
        "application_df_copy = application_df.copy()"
      ]
    },
    {
      "cell_type": "code",
      "execution_count": 48,
      "metadata": {
        "colab": {
          "base_uri": "https://localhost:8080/"
        },
        "id": "hld8LlbtKvyc",
        "outputId": "a0b6d6d9-f9d2-4b11-bb80-1ecc999e3a91"
      },
      "outputs": [
        {
          "output_type": "execute_result",
          "data": {
            "text/plain": [
              "APPLICATION_TYPE            17\n",
              "AFFILIATION                  6\n",
              "CLASSIFICATION              71\n",
              "USE_CASE                     5\n",
              "ORGANIZATION                 4\n",
              "STATUS                       2\n",
              "INCOME_AMT                   9\n",
              "SPECIAL_CONSIDERATIONS       2\n",
              "ASK_AMT                   8747\n",
              "IS_SUCCESSFUL                2\n",
              "dtype: int64"
            ]
          },
          "metadata": {},
          "execution_count": 48
        }
      ],
      "source": [
        "# Determine the number of unique values in each column.\n",
        "application_df.nunique()"
      ]
    },
    {
      "cell_type": "code",
      "execution_count": 49,
      "metadata": {
        "colab": {
          "base_uri": "https://localhost:8080/"
        },
        "id": "qTx22cthKvyd",
        "outputId": "fce2b281-8126-4ba9-f82c-f33e5f31ed30"
      },
      "outputs": [
        {
          "output_type": "execute_result",
          "data": {
            "text/plain": [
              "T3     27037\n",
              "T4      1542\n",
              "T6      1216\n",
              "T5      1173\n",
              "T19     1065\n",
              "T8       737\n",
              "T7       725\n",
              "T10      528\n",
              "T9       156\n",
              "T13       66\n",
              "T12       27\n",
              "T2        16\n",
              "T25        3\n",
              "T14        3\n",
              "T29        2\n",
              "T15        2\n",
              "T17        1\n",
              "Name: APPLICATION_TYPE, dtype: int64"
            ]
          },
          "metadata": {},
          "execution_count": 49
        }
      ],
      "source": [
        "# Look at APPLICATION_TYPE value counts for binning\n",
        "application_df['APPLICATION_TYPE'].value_counts()"
      ]
    },
    {
      "cell_type": "code",
      "execution_count": 50,
      "metadata": {
        "colab": {
          "base_uri": "https://localhost:8080/"
        },
        "id": "2hp0X2j_Kvye",
        "outputId": "d8d307f5-8492-4283-c55f-6541477982d7"
      },
      "outputs": [
        {
          "output_type": "execute_result",
          "data": {
            "text/plain": [
              "T3       27037\n",
              "T4        1542\n",
              "T6        1216\n",
              "T5        1173\n",
              "T19       1065\n",
              "T8         737\n",
              "T7         725\n",
              "T10        528\n",
              "Other      276\n",
              "Name: APPLICATION_TYPE, dtype: int64"
            ]
          },
          "metadata": {},
          "execution_count": 50
        }
      ],
      "source": [
        "# Choose a cutoff value and create a list of application types to be replaced\n",
        "# use the variable name `application_types_to_replace`\n",
        "cutoff_value = 500\n",
        "application_types_to_replace = application_df['APPLICATION_TYPE'].value_counts()[application_df['APPLICATION_TYPE'].value_counts() < cutoff_value].index.tolist()\n",
        "\n",
        "# Replace in dataframe\n",
        "for app in application_types_to_replace:\n",
        "    application_df['APPLICATION_TYPE'] = application_df['APPLICATION_TYPE'].replace(app,\"Other\")\n",
        "\n",
        "# Check to make sure binning was successful\n",
        "application_df['APPLICATION_TYPE'].value_counts()"
      ]
    },
    {
      "cell_type": "code",
      "execution_count": 51,
      "metadata": {
        "colab": {
          "base_uri": "https://localhost:8080/"
        },
        "id": "rxlZilgMKvyf",
        "outputId": "652a2c82-9397-4889-8045-8bbd1dfa756a"
      },
      "outputs": [
        {
          "output_type": "execute_result",
          "data": {
            "text/plain": [
              "C1000    17326\n",
              "C2000     6074\n",
              "C1200     4837\n",
              "C3000     1918\n",
              "C2100     1883\n",
              "         ...  \n",
              "C4120        1\n",
              "C8210        1\n",
              "C2561        1\n",
              "C4500        1\n",
              "C2150        1\n",
              "Name: CLASSIFICATION, Length: 71, dtype: int64"
            ]
          },
          "metadata": {},
          "execution_count": 51
        }
      ],
      "source": [
        "# Look at CLASSIFICATION value counts for binning\n",
        "application_df['CLASSIFICATION'].value_counts()"
      ]
    },
    {
      "cell_type": "code",
      "execution_count": 52,
      "metadata": {
        "colab": {
          "base_uri": "https://localhost:8080/"
        },
        "id": "cxA_HNVhKvyf",
        "outputId": "88bead0c-b862-4bb2-ce3f-1f40c5d95738"
      },
      "outputs": [
        {
          "output_type": "execute_result",
          "data": {
            "text/plain": [
              "C1000    17326\n",
              "C2000     6074\n",
              "C1200     4837\n",
              "C3000     1918\n",
              "C2100     1883\n",
              "C7000      777\n",
              "C1700      287\n",
              "C4000      194\n",
              "C5000      116\n",
              "C1270      114\n",
              "C2700      104\n",
              "C2800       95\n",
              "C7100       75\n",
              "C1300       58\n",
              "C1280       50\n",
              "C1230       36\n",
              "C1400       34\n",
              "C7200       32\n",
              "C2300       32\n",
              "C1240       30\n",
              "C8000       20\n",
              "C7120       18\n",
              "C1500       16\n",
              "C1800       15\n",
              "C6000       15\n",
              "C1250       14\n",
              "C8200       11\n",
              "C1238       10\n",
              "C1278       10\n",
              "C1235        9\n",
              "C1237        9\n",
              "C7210        7\n",
              "C2400        6\n",
              "C1720        6\n",
              "C4100        6\n",
              "C1257        5\n",
              "C1600        5\n",
              "C1260        3\n",
              "C2710        3\n",
              "C0           3\n",
              "C3200        2\n",
              "C1234        2\n",
              "C1246        2\n",
              "C1267        2\n",
              "C1256        2\n",
              "Name: CLASSIFICATION, dtype: int64"
            ]
          },
          "metadata": {},
          "execution_count": 52
        }
      ],
      "source": [
        "# You may find it helpful to look at CLASSIFICATION value counts >1\n",
        "classification_counts = application_df['CLASSIFICATION'].value_counts()\n",
        "classification_counts[classification_counts > 1]"
      ]
    },
    {
      "cell_type": "code",
      "execution_count": 53,
      "metadata": {
        "colab": {
          "base_uri": "https://localhost:8080/"
        },
        "id": "F6-69P70Kvyg",
        "outputId": "d9fe8b7c-d107-45df-cf78-92cc60e1634a"
      },
      "outputs": [
        {
          "output_type": "execute_result",
          "data": {
            "text/plain": [
              "C1000    17326\n",
              "C2000     6074\n",
              "C1200     4837\n",
              "C3000     1918\n",
              "C2100     1883\n",
              "Other     1484\n",
              "C7000      777\n",
              "Name: CLASSIFICATION, dtype: int64"
            ]
          },
          "metadata": {},
          "execution_count": 53
        }
      ],
      "source": [
        "# Choose a cutoff value and create a list of classifications to be replaced\n",
        "# use the variable name `classifications_to_replace`\n",
        "cutoff_value = 500\n",
        "classifications_to_replace = application_df['CLASSIFICATION'].value_counts()[application_df['CLASSIFICATION'].value_counts() < cutoff_value].index.tolist()\n",
        "\n",
        "# Replace in dataframe\n",
        "for cls in classifications_to_replace:\n",
        "    application_df['CLASSIFICATION'] = application_df['CLASSIFICATION'].replace(cls,\"Other\")\n",
        "    \n",
        "# Check to make sure binning was successful\n",
        "application_df['CLASSIFICATION'].value_counts()"
      ]
    },
    {
      "cell_type": "code",
      "execution_count": 54,
      "metadata": {
        "colab": {
          "base_uri": "https://localhost:8080/",
          "height": 317
        },
        "id": "6EL377mWKvyg",
        "outputId": "6a7ff8cb-6f5f-4225-e159-a65ba89d4220"
      },
      "outputs": [
        {
          "output_type": "execute_result",
          "data": {
            "text/plain": [
              "   STATUS  ASK_AMT  IS_SUCCESSFUL  APPLICATION_TYPE_Other  \\\n",
              "0       1     5000              1                       0   \n",
              "1       1   108590              1                       0   \n",
              "2       1     5000              0                       0   \n",
              "3       1     6692              1                       0   \n",
              "4       1   142590              1                       0   \n",
              "\n",
              "   APPLICATION_TYPE_T10  APPLICATION_TYPE_T19  APPLICATION_TYPE_T3  \\\n",
              "0                     1                     0                    0   \n",
              "1                     0                     0                    1   \n",
              "2                     0                     0                    0   \n",
              "3                     0                     0                    1   \n",
              "4                     0                     0                    1   \n",
              "\n",
              "   APPLICATION_TYPE_T4  APPLICATION_TYPE_T5  APPLICATION_TYPE_T6  ...  \\\n",
              "0                    0                    0                    0  ...   \n",
              "1                    0                    0                    0  ...   \n",
              "2                    0                    1                    0  ...   \n",
              "3                    0                    0                    0  ...   \n",
              "4                    0                    0                    0  ...   \n",
              "\n",
              "   INCOME_AMT_1-9999  INCOME_AMT_10000-24999  INCOME_AMT_100000-499999  \\\n",
              "0                  0                       0                         0   \n",
              "1                  1                       0                         0   \n",
              "2                  0                       0                         0   \n",
              "3                  0                       1                         0   \n",
              "4                  0                       0                         1   \n",
              "\n",
              "   INCOME_AMT_10M-50M  INCOME_AMT_1M-5M  INCOME_AMT_25000-99999  \\\n",
              "0                   0                 0                       0   \n",
              "1                   0                 0                       0   \n",
              "2                   0                 0                       0   \n",
              "3                   0                 0                       0   \n",
              "4                   0                 0                       0   \n",
              "\n",
              "   INCOME_AMT_50M+  INCOME_AMT_5M-10M  SPECIAL_CONSIDERATIONS_N  \\\n",
              "0                0                  0                         1   \n",
              "1                0                  0                         1   \n",
              "2                0                  0                         1   \n",
              "3                0                  0                         1   \n",
              "4                0                  0                         1   \n",
              "\n",
              "   SPECIAL_CONSIDERATIONS_Y  \n",
              "0                         0  \n",
              "1                         0  \n",
              "2                         0  \n",
              "3                         0  \n",
              "4                         0  \n",
              "\n",
              "[5 rows x 45 columns]"
            ],
            "text/html": [
              "\n",
              "  <div id=\"df-089acfea-38ff-4fe8-98ca-5bfba8594e02\">\n",
              "    <div class=\"colab-df-container\">\n",
              "      <div>\n",
              "<style scoped>\n",
              "    .dataframe tbody tr th:only-of-type {\n",
              "        vertical-align: middle;\n",
              "    }\n",
              "\n",
              "    .dataframe tbody tr th {\n",
              "        vertical-align: top;\n",
              "    }\n",
              "\n",
              "    .dataframe thead th {\n",
              "        text-align: right;\n",
              "    }\n",
              "</style>\n",
              "<table border=\"1\" class=\"dataframe\">\n",
              "  <thead>\n",
              "    <tr style=\"text-align: right;\">\n",
              "      <th></th>\n",
              "      <th>STATUS</th>\n",
              "      <th>ASK_AMT</th>\n",
              "      <th>IS_SUCCESSFUL</th>\n",
              "      <th>APPLICATION_TYPE_Other</th>\n",
              "      <th>APPLICATION_TYPE_T10</th>\n",
              "      <th>APPLICATION_TYPE_T19</th>\n",
              "      <th>APPLICATION_TYPE_T3</th>\n",
              "      <th>APPLICATION_TYPE_T4</th>\n",
              "      <th>APPLICATION_TYPE_T5</th>\n",
              "      <th>APPLICATION_TYPE_T6</th>\n",
              "      <th>...</th>\n",
              "      <th>INCOME_AMT_1-9999</th>\n",
              "      <th>INCOME_AMT_10000-24999</th>\n",
              "      <th>INCOME_AMT_100000-499999</th>\n",
              "      <th>INCOME_AMT_10M-50M</th>\n",
              "      <th>INCOME_AMT_1M-5M</th>\n",
              "      <th>INCOME_AMT_25000-99999</th>\n",
              "      <th>INCOME_AMT_50M+</th>\n",
              "      <th>INCOME_AMT_5M-10M</th>\n",
              "      <th>SPECIAL_CONSIDERATIONS_N</th>\n",
              "      <th>SPECIAL_CONSIDERATIONS_Y</th>\n",
              "    </tr>\n",
              "  </thead>\n",
              "  <tbody>\n",
              "    <tr>\n",
              "      <th>0</th>\n",
              "      <td>1</td>\n",
              "      <td>5000</td>\n",
              "      <td>1</td>\n",
              "      <td>0</td>\n",
              "      <td>1</td>\n",
              "      <td>0</td>\n",
              "      <td>0</td>\n",
              "      <td>0</td>\n",
              "      <td>0</td>\n",
              "      <td>0</td>\n",
              "      <td>...</td>\n",
              "      <td>0</td>\n",
              "      <td>0</td>\n",
              "      <td>0</td>\n",
              "      <td>0</td>\n",
              "      <td>0</td>\n",
              "      <td>0</td>\n",
              "      <td>0</td>\n",
              "      <td>0</td>\n",
              "      <td>1</td>\n",
              "      <td>0</td>\n",
              "    </tr>\n",
              "    <tr>\n",
              "      <th>1</th>\n",
              "      <td>1</td>\n",
              "      <td>108590</td>\n",
              "      <td>1</td>\n",
              "      <td>0</td>\n",
              "      <td>0</td>\n",
              "      <td>0</td>\n",
              "      <td>1</td>\n",
              "      <td>0</td>\n",
              "      <td>0</td>\n",
              "      <td>0</td>\n",
              "      <td>...</td>\n",
              "      <td>1</td>\n",
              "      <td>0</td>\n",
              "      <td>0</td>\n",
              "      <td>0</td>\n",
              "      <td>0</td>\n",
              "      <td>0</td>\n",
              "      <td>0</td>\n",
              "      <td>0</td>\n",
              "      <td>1</td>\n",
              "      <td>0</td>\n",
              "    </tr>\n",
              "    <tr>\n",
              "      <th>2</th>\n",
              "      <td>1</td>\n",
              "      <td>5000</td>\n",
              "      <td>0</td>\n",
              "      <td>0</td>\n",
              "      <td>0</td>\n",
              "      <td>0</td>\n",
              "      <td>0</td>\n",
              "      <td>0</td>\n",
              "      <td>1</td>\n",
              "      <td>0</td>\n",
              "      <td>...</td>\n",
              "      <td>0</td>\n",
              "      <td>0</td>\n",
              "      <td>0</td>\n",
              "      <td>0</td>\n",
              "      <td>0</td>\n",
              "      <td>0</td>\n",
              "      <td>0</td>\n",
              "      <td>0</td>\n",
              "      <td>1</td>\n",
              "      <td>0</td>\n",
              "    </tr>\n",
              "    <tr>\n",
              "      <th>3</th>\n",
              "      <td>1</td>\n",
              "      <td>6692</td>\n",
              "      <td>1</td>\n",
              "      <td>0</td>\n",
              "      <td>0</td>\n",
              "      <td>0</td>\n",
              "      <td>1</td>\n",
              "      <td>0</td>\n",
              "      <td>0</td>\n",
              "      <td>0</td>\n",
              "      <td>...</td>\n",
              "      <td>0</td>\n",
              "      <td>1</td>\n",
              "      <td>0</td>\n",
              "      <td>0</td>\n",
              "      <td>0</td>\n",
              "      <td>0</td>\n",
              "      <td>0</td>\n",
              "      <td>0</td>\n",
              "      <td>1</td>\n",
              "      <td>0</td>\n",
              "    </tr>\n",
              "    <tr>\n",
              "      <th>4</th>\n",
              "      <td>1</td>\n",
              "      <td>142590</td>\n",
              "      <td>1</td>\n",
              "      <td>0</td>\n",
              "      <td>0</td>\n",
              "      <td>0</td>\n",
              "      <td>1</td>\n",
              "      <td>0</td>\n",
              "      <td>0</td>\n",
              "      <td>0</td>\n",
              "      <td>...</td>\n",
              "      <td>0</td>\n",
              "      <td>0</td>\n",
              "      <td>1</td>\n",
              "      <td>0</td>\n",
              "      <td>0</td>\n",
              "      <td>0</td>\n",
              "      <td>0</td>\n",
              "      <td>0</td>\n",
              "      <td>1</td>\n",
              "      <td>0</td>\n",
              "    </tr>\n",
              "  </tbody>\n",
              "</table>\n",
              "<p>5 rows × 45 columns</p>\n",
              "</div>\n",
              "      <button class=\"colab-df-convert\" onclick=\"convertToInteractive('df-089acfea-38ff-4fe8-98ca-5bfba8594e02')\"\n",
              "              title=\"Convert this dataframe to an interactive table.\"\n",
              "              style=\"display:none;\">\n",
              "        \n",
              "  <svg xmlns=\"http://www.w3.org/2000/svg\" height=\"24px\"viewBox=\"0 0 24 24\"\n",
              "       width=\"24px\">\n",
              "    <path d=\"M0 0h24v24H0V0z\" fill=\"none\"/>\n",
              "    <path d=\"M18.56 5.44l.94 2.06.94-2.06 2.06-.94-2.06-.94-.94-2.06-.94 2.06-2.06.94zm-11 1L8.5 8.5l.94-2.06 2.06-.94-2.06-.94L8.5 2.5l-.94 2.06-2.06.94zm10 10l.94 2.06.94-2.06 2.06-.94-2.06-.94-.94-2.06-.94 2.06-2.06.94z\"/><path d=\"M17.41 7.96l-1.37-1.37c-.4-.4-.92-.59-1.43-.59-.52 0-1.04.2-1.43.59L10.3 9.45l-7.72 7.72c-.78.78-.78 2.05 0 2.83L4 21.41c.39.39.9.59 1.41.59.51 0 1.02-.2 1.41-.59l7.78-7.78 2.81-2.81c.8-.78.8-2.07 0-2.86zM5.41 20L4 18.59l7.72-7.72 1.47 1.35L5.41 20z\"/>\n",
              "  </svg>\n",
              "      </button>\n",
              "      \n",
              "  <style>\n",
              "    .colab-df-container {\n",
              "      display:flex;\n",
              "      flex-wrap:wrap;\n",
              "      gap: 12px;\n",
              "    }\n",
              "\n",
              "    .colab-df-convert {\n",
              "      background-color: #E8F0FE;\n",
              "      border: none;\n",
              "      border-radius: 50%;\n",
              "      cursor: pointer;\n",
              "      display: none;\n",
              "      fill: #1967D2;\n",
              "      height: 32px;\n",
              "      padding: 0 0 0 0;\n",
              "      width: 32px;\n",
              "    }\n",
              "\n",
              "    .colab-df-convert:hover {\n",
              "      background-color: #E2EBFA;\n",
              "      box-shadow: 0px 1px 2px rgba(60, 64, 67, 0.3), 0px 1px 3px 1px rgba(60, 64, 67, 0.15);\n",
              "      fill: #174EA6;\n",
              "    }\n",
              "\n",
              "    [theme=dark] .colab-df-convert {\n",
              "      background-color: #3B4455;\n",
              "      fill: #D2E3FC;\n",
              "    }\n",
              "\n",
              "    [theme=dark] .colab-df-convert:hover {\n",
              "      background-color: #434B5C;\n",
              "      box-shadow: 0px 1px 3px 1px rgba(0, 0, 0, 0.15);\n",
              "      filter: drop-shadow(0px 1px 2px rgba(0, 0, 0, 0.3));\n",
              "      fill: #FFFFFF;\n",
              "    }\n",
              "  </style>\n",
              "\n",
              "      <script>\n",
              "        const buttonEl =\n",
              "          document.querySelector('#df-089acfea-38ff-4fe8-98ca-5bfba8594e02 button.colab-df-convert');\n",
              "        buttonEl.style.display =\n",
              "          google.colab.kernel.accessAllowed ? 'block' : 'none';\n",
              "\n",
              "        async function convertToInteractive(key) {\n",
              "          const element = document.querySelector('#df-089acfea-38ff-4fe8-98ca-5bfba8594e02');\n",
              "          const dataTable =\n",
              "            await google.colab.kernel.invokeFunction('convertToInteractive',\n",
              "                                                     [key], {});\n",
              "          if (!dataTable) return;\n",
              "\n",
              "          const docLinkHtml = 'Like what you see? Visit the ' +\n",
              "            '<a target=\"_blank\" href=https://colab.research.google.com/notebooks/data_table.ipynb>data table notebook</a>'\n",
              "            + ' to learn more about interactive tables.';\n",
              "          element.innerHTML = '';\n",
              "          dataTable['output_type'] = 'display_data';\n",
              "          await google.colab.output.renderOutput(dataTable, element);\n",
              "          const docLink = document.createElement('div');\n",
              "          docLink.innerHTML = docLinkHtml;\n",
              "          element.appendChild(docLink);\n",
              "        }\n",
              "      </script>\n",
              "    </div>\n",
              "  </div>\n",
              "  "
            ]
          },
          "metadata": {},
          "execution_count": 54
        }
      ],
      "source": [
        "# Convert categorical data to numeric with `pd.get_dummies`\n",
        "dummy_application_df = pd.get_dummies(application_df)\n",
        "dummy_application_df.head(5)"
      ]
    },
    {
      "cell_type": "code",
      "execution_count": 55,
      "metadata": {
        "id": "wJGDsOGCKvyh"
      },
      "outputs": [],
      "source": [
        "# Split our preprocessed data into our features and target arrays\n",
        "X = dummy_application_df.drop('IS_SUCCESSFUL', axis=1)\n",
        "y = dummy_application_df['IS_SUCCESSFUL']\n",
        "\n",
        "# Split the preprocessed data into a training and testing dataset\n",
        "X_train, X_test, y_train, y_test = train_test_split(X, y, test_size=0.25, random_state=1)"
      ]
    },
    {
      "cell_type": "code",
      "execution_count": 56,
      "metadata": {
        "id": "Efcr1-JmKvyi"
      },
      "outputs": [],
      "source": [
        "# Create a StandardScaler instances\n",
        "scaler = StandardScaler()\n",
        "\n",
        "# Fit the StandardScaler\n",
        "X_scaler = scaler.fit(X_train)\n",
        "\n",
        "# Scale the data\n",
        "X_train_scaled = X_scaler.transform(X_train)\n",
        "X_test_scaled = X_scaler.transform(X_test)"
      ]
    },
    {
      "cell_type": "markdown",
      "metadata": {
        "id": "f6R2N6DhKvyi"
      },
      "source": [
        "## Compile, Train and Evaluate the Model"
      ]
    },
    {
      "cell_type": "code",
      "source": [
        "# Define the model\n",
        "nn_default = tf.keras.models.Sequential()\n",
        "\n",
        "# First hidden layer\n",
        "nn_default.add(tf.keras.layers.Dense(units=80, activation='relu', input_dim=X_train_scaled.shape[1]))\n",
        "\n",
        "# Second hidden layer\n",
        "nn_default.add(tf.keras.layers.Dense(units=30, activation='relu'))\n",
        "\n",
        "# Output layer\n",
        "nn_default.add(tf.keras.layers.Dense(units=1, activation='sigmoid'))\n",
        "\n",
        "# Check the structure of the model\n",
        "nn_default.summary()"
      ],
      "metadata": {
        "colab": {
          "base_uri": "https://localhost:8080/"
        },
        "id": "Jus_tAcUG9NY",
        "outputId": "889c7720-208c-4812-a436-59cea109cbe2"
      },
      "execution_count": 74,
      "outputs": [
        {
          "output_type": "stream",
          "name": "stdout",
          "text": [
            "Model: \"sequential_5\"\n",
            "_________________________________________________________________\n",
            " Layer (type)                Output Shape              Param #   \n",
            "=================================================================\n",
            " dense_15 (Dense)            (None, 80)                3600      \n",
            "                                                                 \n",
            " dense_16 (Dense)            (None, 30)                2430      \n",
            "                                                                 \n",
            " dense_17 (Dense)            (None, 1)                 31        \n",
            "                                                                 \n",
            "=================================================================\n",
            "Total params: 6,061\n",
            "Trainable params: 6,061\n",
            "Non-trainable params: 0\n",
            "_________________________________________________________________\n"
          ]
        }
      ]
    },
    {
      "cell_type": "code",
      "source": [
        "# Compile the model\n",
        "nn_default.compile(loss='binary_crossentropy', optimizer='adam', metrics=['accuracy'])"
      ],
      "metadata": {
        "id": "Yk983jUXHRDO"
      },
      "execution_count": 75,
      "outputs": []
    },
    {
      "cell_type": "code",
      "source": [
        "# Train the model\n",
        "history = nn_default.fit(X_train_scaled, y_train, epochs=10, verbose=2, batch_size=16)"
      ],
      "metadata": {
        "colab": {
          "base_uri": "https://localhost:8080/"
        },
        "id": "Su23pDasHScw",
        "outputId": "cd321135-8d98-418e-bb91-c85a00b19ffb"
      },
      "execution_count": 76,
      "outputs": [
        {
          "output_type": "stream",
          "name": "stdout",
          "text": [
            "Epoch 1/10\n",
            "1608/1608 - 4s - loss: 0.5714 - accuracy: 0.7201 - 4s/epoch - 2ms/step\n",
            "Epoch 2/10\n",
            "1608/1608 - 3s - loss: 0.5562 - accuracy: 0.7283 - 3s/epoch - 2ms/step\n",
            "Epoch 3/10\n",
            "1608/1608 - 2s - loss: 0.5525 - accuracy: 0.7299 - 2s/epoch - 2ms/step\n",
            "Epoch 4/10\n",
            "1608/1608 - 2s - loss: 0.5508 - accuracy: 0.7298 - 2s/epoch - 1ms/step\n",
            "Epoch 5/10\n",
            "1608/1608 - 2s - loss: 0.5492 - accuracy: 0.7318 - 2s/epoch - 1ms/step\n",
            "Epoch 6/10\n",
            "1608/1608 - 3s - loss: 0.5482 - accuracy: 0.7338 - 3s/epoch - 2ms/step\n",
            "Epoch 7/10\n",
            "1608/1608 - 3s - loss: 0.5469 - accuracy: 0.7320 - 3s/epoch - 2ms/step\n",
            "Epoch 8/10\n",
            "1608/1608 - 2s - loss: 0.5460 - accuracy: 0.7329 - 2s/epoch - 2ms/step\n",
            "Epoch 9/10\n",
            "1608/1608 - 3s - loss: 0.5459 - accuracy: 0.7331 - 3s/epoch - 2ms/step\n",
            "Epoch 10/10\n",
            "1608/1608 - 3s - loss: 0.5459 - accuracy: 0.7330 - 3s/epoch - 2ms/step\n"
          ]
        }
      ]
    },
    {
      "cell_type": "code",
      "source": [
        "# Evaluate the model using the test data\n",
        "model_loss, model_accuracy = nn_default.evaluate(X_test_scaled,y_test,verbose=1, batch_size=1)\n",
        "print(f\"Loss: {model_loss}, Accuracy: {model_accuracy}\")"
      ],
      "metadata": {
        "colab": {
          "base_uri": "https://localhost:8080/"
        },
        "id": "xY43kl55He2V",
        "outputId": "691bbf17-67b1-4930-c504-23d1851bd2d2"
      },
      "execution_count": 77,
      "outputs": [
        {
          "output_type": "stream",
          "name": "stdout",
          "text": [
            "8575/8575 [==============================] - 23s 3ms/step - loss: 0.5529 - accuracy: 0.7289\n",
            "Loss: 0.5529197454452515, Accuracy: 0.728863000869751\n"
          ]
        }
      ]
    },
    {
      "cell_type": "code",
      "source": [
        "# Export our model to HDF5 file\n",
        "nn_default.save('AlphabetSoupCharity_default_no_op.h5')"
      ],
      "metadata": {
        "id": "1CtB_FLUIFzp"
      },
      "execution_count": 78,
      "outputs": []
    },
    {
      "cell_type": "markdown",
      "source": [
        "## Optimization Preprocessing Method 1 - Add/Drop Columns"
      ],
      "metadata": {
        "id": "1CWkexTq3vKu"
      }
    },
    {
      "cell_type": "code",
      "source": [
        "from sklearn.linear_model import Lasso, Ridge\n",
        "from sklearn.metrics import mean_squared_error\n",
        "\n",
        "# Make a copy of the working dataset\n",
        "application_df_dropping = application_df_copy.copy()\n",
        "\n",
        "print(\"Step 1 of 6 - Start... Samples: \", len(application_df_dropping), \" | (No dummies) Columns/Features: \", len(application_df_dropping.columns))"
      ],
      "metadata": {
        "id": "BmBESMMVASLH",
        "colab": {
          "base_uri": "https://localhost:8080/"
        },
        "outputId": "a5b616e0-ba97-4067-db2c-0398565ef474"
      },
      "execution_count": 320,
      "outputs": [
        {
          "output_type": "stream",
          "name": "stdout",
          "text": [
            "Step 1 of 6 - Start... Samples:  34299  | (No dummies) Columns/Features:  10\n"
          ]
        }
      ]
    },
    {
      "cell_type": "code",
      "source": [
        "cutoff_value = 500\n",
        "application_types_to_replace = application_df_dropping['APPLICATION_TYPE'].value_counts()[application_df_dropping['APPLICATION_TYPE'].value_counts() < cutoff_value].index.tolist()\n",
        "\n",
        "for app in application_types_to_replace:\n",
        "    application_df_dropping['APPLICATION_TYPE'] = application_df_dropping['APPLICATION_TYPE'].replace(app,\"Other\")\n",
        "\n",
        "cutoff_value2 = 500\n",
        "classifications_to_replace = application_df_dropping['CLASSIFICATION'].value_counts()[application_df_dropping['CLASSIFICATION'].value_counts() < cutoff_value2].index.tolist()\n",
        "\n",
        "for cls in classifications_to_replace:\n",
        "    application_df_dropping['CLASSIFICATION'] = application_df_dropping['CLASSIFICATION'].replace(cls,\"Other\")\n",
        "\n",
        "print(\"Step 2 of 6 - Simplify 'APPLICATION_TYPE' & 'CLASSIFICATION'... Samples: \", len(application_df_dropping), \" | (No dummies) Columns/Features: \", len(application_df_dropping.columns))"
      ],
      "metadata": {
        "id": "FPU0TZMk9MnA",
        "colab": {
          "base_uri": "https://localhost:8080/"
        },
        "outputId": "af7161e7-0815-422a-ec9a-6c2d86595176"
      },
      "execution_count": 321,
      "outputs": [
        {
          "output_type": "stream",
          "name": "stdout",
          "text": [
            "Step 2 of 6 - Simplify 'APPLICATION_TYPE' & 'CLASSIFICATION'... Samples:  34299  | (No dummies) Columns/Features:  10\n"
          ]
        }
      ]
    },
    {
      "cell_type": "code",
      "source": [
        "dummy_working_dropping_df = pd.get_dummies(application_df_dropping)\n",
        "dummy_working_dropping_df.head(3)\n",
        "\n",
        "print(\"Step 3 of 6 - Get Dummies... Samples: \", len(dummy_working_dropping_df), \" | Columns/Features: \", len(dummy_working_dropping_df.columns))\n",
        "dummy_working_dropping_df.head(3)"
      ],
      "metadata": {
        "colab": {
          "base_uri": "https://localhost:8080/",
          "height": 271
        },
        "id": "dlcTz7TE-Eki",
        "outputId": "b262a8f2-bbea-42f6-86ac-bf674028e27a"
      },
      "execution_count": 322,
      "outputs": [
        {
          "output_type": "stream",
          "name": "stdout",
          "text": [
            "Step 3 of 6 - Get Dummies... Samples:  34299  | Columns/Features:  45\n"
          ]
        },
        {
          "output_type": "execute_result",
          "data": {
            "text/plain": [
              "   STATUS  ASK_AMT  IS_SUCCESSFUL  APPLICATION_TYPE_Other  \\\n",
              "0       1     5000              1                       0   \n",
              "1       1   108590              1                       0   \n",
              "2       1     5000              0                       0   \n",
              "\n",
              "   APPLICATION_TYPE_T10  APPLICATION_TYPE_T19  APPLICATION_TYPE_T3  \\\n",
              "0                     1                     0                    0   \n",
              "1                     0                     0                    1   \n",
              "2                     0                     0                    0   \n",
              "\n",
              "   APPLICATION_TYPE_T4  APPLICATION_TYPE_T5  APPLICATION_TYPE_T6  ...  \\\n",
              "0                    0                    0                    0  ...   \n",
              "1                    0                    0                    0  ...   \n",
              "2                    0                    1                    0  ...   \n",
              "\n",
              "   INCOME_AMT_1-9999  INCOME_AMT_10000-24999  INCOME_AMT_100000-499999  \\\n",
              "0                  0                       0                         0   \n",
              "1                  1                       0                         0   \n",
              "2                  0                       0                         0   \n",
              "\n",
              "   INCOME_AMT_10M-50M  INCOME_AMT_1M-5M  INCOME_AMT_25000-99999  \\\n",
              "0                   0                 0                       0   \n",
              "1                   0                 0                       0   \n",
              "2                   0                 0                       0   \n",
              "\n",
              "   INCOME_AMT_50M+  INCOME_AMT_5M-10M  SPECIAL_CONSIDERATIONS_N  \\\n",
              "0                0                  0                         1   \n",
              "1                0                  0                         1   \n",
              "2                0                  0                         1   \n",
              "\n",
              "   SPECIAL_CONSIDERATIONS_Y  \n",
              "0                         0  \n",
              "1                         0  \n",
              "2                         0  \n",
              "\n",
              "[3 rows x 45 columns]"
            ],
            "text/html": [
              "\n",
              "  <div id=\"df-fe8ac5be-735e-4c30-94c2-51e5ff109339\">\n",
              "    <div class=\"colab-df-container\">\n",
              "      <div>\n",
              "<style scoped>\n",
              "    .dataframe tbody tr th:only-of-type {\n",
              "        vertical-align: middle;\n",
              "    }\n",
              "\n",
              "    .dataframe tbody tr th {\n",
              "        vertical-align: top;\n",
              "    }\n",
              "\n",
              "    .dataframe thead th {\n",
              "        text-align: right;\n",
              "    }\n",
              "</style>\n",
              "<table border=\"1\" class=\"dataframe\">\n",
              "  <thead>\n",
              "    <tr style=\"text-align: right;\">\n",
              "      <th></th>\n",
              "      <th>STATUS</th>\n",
              "      <th>ASK_AMT</th>\n",
              "      <th>IS_SUCCESSFUL</th>\n",
              "      <th>APPLICATION_TYPE_Other</th>\n",
              "      <th>APPLICATION_TYPE_T10</th>\n",
              "      <th>APPLICATION_TYPE_T19</th>\n",
              "      <th>APPLICATION_TYPE_T3</th>\n",
              "      <th>APPLICATION_TYPE_T4</th>\n",
              "      <th>APPLICATION_TYPE_T5</th>\n",
              "      <th>APPLICATION_TYPE_T6</th>\n",
              "      <th>...</th>\n",
              "      <th>INCOME_AMT_1-9999</th>\n",
              "      <th>INCOME_AMT_10000-24999</th>\n",
              "      <th>INCOME_AMT_100000-499999</th>\n",
              "      <th>INCOME_AMT_10M-50M</th>\n",
              "      <th>INCOME_AMT_1M-5M</th>\n",
              "      <th>INCOME_AMT_25000-99999</th>\n",
              "      <th>INCOME_AMT_50M+</th>\n",
              "      <th>INCOME_AMT_5M-10M</th>\n",
              "      <th>SPECIAL_CONSIDERATIONS_N</th>\n",
              "      <th>SPECIAL_CONSIDERATIONS_Y</th>\n",
              "    </tr>\n",
              "  </thead>\n",
              "  <tbody>\n",
              "    <tr>\n",
              "      <th>0</th>\n",
              "      <td>1</td>\n",
              "      <td>5000</td>\n",
              "      <td>1</td>\n",
              "      <td>0</td>\n",
              "      <td>1</td>\n",
              "      <td>0</td>\n",
              "      <td>0</td>\n",
              "      <td>0</td>\n",
              "      <td>0</td>\n",
              "      <td>0</td>\n",
              "      <td>...</td>\n",
              "      <td>0</td>\n",
              "      <td>0</td>\n",
              "      <td>0</td>\n",
              "      <td>0</td>\n",
              "      <td>0</td>\n",
              "      <td>0</td>\n",
              "      <td>0</td>\n",
              "      <td>0</td>\n",
              "      <td>1</td>\n",
              "      <td>0</td>\n",
              "    </tr>\n",
              "    <tr>\n",
              "      <th>1</th>\n",
              "      <td>1</td>\n",
              "      <td>108590</td>\n",
              "      <td>1</td>\n",
              "      <td>0</td>\n",
              "      <td>0</td>\n",
              "      <td>0</td>\n",
              "      <td>1</td>\n",
              "      <td>0</td>\n",
              "      <td>0</td>\n",
              "      <td>0</td>\n",
              "      <td>...</td>\n",
              "      <td>1</td>\n",
              "      <td>0</td>\n",
              "      <td>0</td>\n",
              "      <td>0</td>\n",
              "      <td>0</td>\n",
              "      <td>0</td>\n",
              "      <td>0</td>\n",
              "      <td>0</td>\n",
              "      <td>1</td>\n",
              "      <td>0</td>\n",
              "    </tr>\n",
              "    <tr>\n",
              "      <th>2</th>\n",
              "      <td>1</td>\n",
              "      <td>5000</td>\n",
              "      <td>0</td>\n",
              "      <td>0</td>\n",
              "      <td>0</td>\n",
              "      <td>0</td>\n",
              "      <td>0</td>\n",
              "      <td>0</td>\n",
              "      <td>1</td>\n",
              "      <td>0</td>\n",
              "      <td>...</td>\n",
              "      <td>0</td>\n",
              "      <td>0</td>\n",
              "      <td>0</td>\n",
              "      <td>0</td>\n",
              "      <td>0</td>\n",
              "      <td>0</td>\n",
              "      <td>0</td>\n",
              "      <td>0</td>\n",
              "      <td>1</td>\n",
              "      <td>0</td>\n",
              "    </tr>\n",
              "  </tbody>\n",
              "</table>\n",
              "<p>3 rows × 45 columns</p>\n",
              "</div>\n",
              "      <button class=\"colab-df-convert\" onclick=\"convertToInteractive('df-fe8ac5be-735e-4c30-94c2-51e5ff109339')\"\n",
              "              title=\"Convert this dataframe to an interactive table.\"\n",
              "              style=\"display:none;\">\n",
              "        \n",
              "  <svg xmlns=\"http://www.w3.org/2000/svg\" height=\"24px\"viewBox=\"0 0 24 24\"\n",
              "       width=\"24px\">\n",
              "    <path d=\"M0 0h24v24H0V0z\" fill=\"none\"/>\n",
              "    <path d=\"M18.56 5.44l.94 2.06.94-2.06 2.06-.94-2.06-.94-.94-2.06-.94 2.06-2.06.94zm-11 1L8.5 8.5l.94-2.06 2.06-.94-2.06-.94L8.5 2.5l-.94 2.06-2.06.94zm10 10l.94 2.06.94-2.06 2.06-.94-2.06-.94-.94-2.06-.94 2.06-2.06.94z\"/><path d=\"M17.41 7.96l-1.37-1.37c-.4-.4-.92-.59-1.43-.59-.52 0-1.04.2-1.43.59L10.3 9.45l-7.72 7.72c-.78.78-.78 2.05 0 2.83L4 21.41c.39.39.9.59 1.41.59.51 0 1.02-.2 1.41-.59l7.78-7.78 2.81-2.81c.8-.78.8-2.07 0-2.86zM5.41 20L4 18.59l7.72-7.72 1.47 1.35L5.41 20z\"/>\n",
              "  </svg>\n",
              "      </button>\n",
              "      \n",
              "  <style>\n",
              "    .colab-df-container {\n",
              "      display:flex;\n",
              "      flex-wrap:wrap;\n",
              "      gap: 12px;\n",
              "    }\n",
              "\n",
              "    .colab-df-convert {\n",
              "      background-color: #E8F0FE;\n",
              "      border: none;\n",
              "      border-radius: 50%;\n",
              "      cursor: pointer;\n",
              "      display: none;\n",
              "      fill: #1967D2;\n",
              "      height: 32px;\n",
              "      padding: 0 0 0 0;\n",
              "      width: 32px;\n",
              "    }\n",
              "\n",
              "    .colab-df-convert:hover {\n",
              "      background-color: #E2EBFA;\n",
              "      box-shadow: 0px 1px 2px rgba(60, 64, 67, 0.3), 0px 1px 3px 1px rgba(60, 64, 67, 0.15);\n",
              "      fill: #174EA6;\n",
              "    }\n",
              "\n",
              "    [theme=dark] .colab-df-convert {\n",
              "      background-color: #3B4455;\n",
              "      fill: #D2E3FC;\n",
              "    }\n",
              "\n",
              "    [theme=dark] .colab-df-convert:hover {\n",
              "      background-color: #434B5C;\n",
              "      box-shadow: 0px 1px 3px 1px rgba(0, 0, 0, 0.15);\n",
              "      filter: drop-shadow(0px 1px 2px rgba(0, 0, 0, 0.3));\n",
              "      fill: #FFFFFF;\n",
              "    }\n",
              "  </style>\n",
              "\n",
              "      <script>\n",
              "        const buttonEl =\n",
              "          document.querySelector('#df-fe8ac5be-735e-4c30-94c2-51e5ff109339 button.colab-df-convert');\n",
              "        buttonEl.style.display =\n",
              "          google.colab.kernel.accessAllowed ? 'block' : 'none';\n",
              "\n",
              "        async function convertToInteractive(key) {\n",
              "          const element = document.querySelector('#df-fe8ac5be-735e-4c30-94c2-51e5ff109339');\n",
              "          const dataTable =\n",
              "            await google.colab.kernel.invokeFunction('convertToInteractive',\n",
              "                                                     [key], {});\n",
              "          if (!dataTable) return;\n",
              "\n",
              "          const docLinkHtml = 'Like what you see? Visit the ' +\n",
              "            '<a target=\"_blank\" href=https://colab.research.google.com/notebooks/data_table.ipynb>data table notebook</a>'\n",
              "            + ' to learn more about interactive tables.';\n",
              "          element.innerHTML = '';\n",
              "          dataTable['output_type'] = 'display_data';\n",
              "          await google.colab.output.renderOutput(dataTable, element);\n",
              "          const docLink = document.createElement('div');\n",
              "          docLink.innerHTML = docLinkHtml;\n",
              "          element.appendChild(docLink);\n",
              "        }\n",
              "      </script>\n",
              "    </div>\n",
              "  </div>\n",
              "  "
            ]
          },
          "metadata": {},
          "execution_count": 322
        }
      ]
    },
    {
      "cell_type": "code",
      "source": [
        "import numpy as np\n",
        "import matplotlib.pyplot as plt\n",
        "\n",
        "fig1, ax1 = plt.subplots()\n",
        "ax1.set_title('Dataset Asking Amounts')\n",
        "ax1.set_ylabel('Amount $')\n",
        "ax1.set_xlabel('Spead')\n",
        "ax1.boxplot(dummy_working_dropping_df['ASK_AMT'])\n",
        "plt.show()"
      ],
      "metadata": {
        "colab": {
          "base_uri": "https://localhost:8080/",
          "height": 472
        },
        "id": "ams5WCDPmt1F",
        "outputId": "bb213969-075d-47b0-97e6-6f79f0e97a8f"
      },
      "execution_count": 323,
      "outputs": [
        {
          "output_type": "display_data",
          "data": {
            "text/plain": [
              "<Figure size 640x480 with 1 Axes>"
            ],
            "image/png": "[encoded data removed]"
          },
          "metadata": {}
        }
      ]
    },
    {
      "cell_type": "code",
      "source": [
        "# Determine which data points are outside of the 1.5*IQR range\n",
        "quartiles = np.quantile(dummy_working_dropping_df['ASK_AMT'],[.25,.75])\n",
        "iqr = quartiles[1]-quartiles[0]\n",
        "lower_bound = quartiles[0]-(1.45*iqr)\n",
        "upper_bound = quartiles[1]+(1.45*iqr)\n",
        "print(\"Lower boundry: \", lower_bound, \" | Upper boundry: \", upper_bound)\n",
        "\n",
        "potential_outliers = [AMT for AMT in dummy_working_dropping_df['ASK_AMT'] if AMT < lower_bound or AMT > upper_bound]\n",
        "print(\"Samples in dataset prior to outlier removal: \" + str(len(dummy_working_dropping_df['ASK_AMT'])))\n",
        "print(\"After outlier removal: \" + str(len(dummy_working_dropping_df['ASK_AMT']) - len(potential_outliers)))"
      ],
      "metadata": {
        "colab": {
          "base_uri": "https://localhost:8080/"
        },
        "id": "ayCmqys2nW-Y",
        "outputId": "da7f5f04-4e28-46d5-ca90-14e8bfd0fd00"
      },
      "execution_count": 324,
      "outputs": [
        {
          "output_type": "stream",
          "name": "stdout",
          "text": [
            "Lower boundry:  1024.1  | Upper boundry:  11717.9\n",
            "Samples in dataset prior to outlier removal: 34299\n",
            "After outlier removal: 26078\n"
          ]
        }
      ]
    },
    {
      "cell_type": "code",
      "source": [
        "# Drop the unnecessary rows from the dataset\n",
        "condensed_data = dummy_working_dropping_df[~dummy_working_dropping_df['ASK_AMT'].isin(potential_outliers)]\n",
        "print(\"Step 4 of 6 - Remove rows where 'ASK_AMT' is an outlier... Samples: \", len(condensed_data), \" | Columns/Features: \", len(condensed_data.columns))"
      ],
      "metadata": {
        "colab": {
          "base_uri": "https://localhost:8080/"
        },
        "id": "qoK1Lubep9Gk",
        "outputId": "37e3e9c6-26d6-402e-8f8c-6cd05100a618"
      },
      "execution_count": 325,
      "outputs": [
        {
          "output_type": "stream",
          "name": "stdout",
          "text": [
            "Step 4 of 6 - Remove rows where 'ASK_AMT' is an outlier... Samples:  26078  | Columns/Features:  45\n"
          ]
        }
      ]
    },
    {
      "cell_type": "code",
      "source": [
        "X_dropping = condensed_data.drop('IS_SUCCESSFUL', axis=1)\n",
        "y_dropping = condensed_data['IS_SUCCESSFUL']\n",
        "\n",
        "X_train_column_drop, X_test_column_drop, y_train_column_drop, y_test_column_drop = train_test_split(X_dropping, y_dropping, test_size=0.25, random_state=1)\n",
        "\n",
        "print(\"Step 5 of 6 - Split training and testing samples... Samples: \", len(X_train_column_drop), \" | Columns/Features: \", len(X_train_column_drop.columns))"
      ],
      "metadata": {
        "id": "X5hBrH0y-oQ3",
        "colab": {
          "base_uri": "https://localhost:8080/"
        },
        "outputId": "89eb51fd-8fd8-404b-fa00-935e013f6a88"
      },
      "execution_count": 326,
      "outputs": [
        {
          "output_type": "stream",
          "name": "stdout",
          "text": [
            "Step 5 of 6 - Split training and testing samples... Samples:  19558  | Columns/Features:  44\n"
          ]
        }
      ]
    },
    {
      "cell_type": "code",
      "source": [
        "# Create a Lasso model\n",
        "lasso_model = Lasso(alpha=0.1)  # Adjust the alpha parameter for regularization strength\n",
        "lasso_model.fit(X_train_column_drop, y_train_column_drop)\n",
        "\n",
        "lasso_predictions = lasso_model.predict(X_test_column_drop)\n",
        "lasso_rmse = mean_squared_error(y_test_column_drop, lasso_predictions, squared=False)\n",
        "print(\"Lasso RMSE:\", lasso_rmse)\n",
        "\n",
        "# Create a Ridge model\n",
        "ridge_model = Ridge(alpha=0.1)  # Adjust the alpha parameter for regularization strength\n",
        "ridge_model.fit(X_train_column_drop, y_train_column_drop)\n",
        "\n",
        "ridge_predictions = ridge_model.predict(X_test_column_drop)\n",
        "ridge_rmse = mean_squared_error(y_test_column_drop, ridge_predictions, squared=False)\n",
        "print(\"Ridge RMSE:\", ridge_rmse)\n",
        "\n",
        "print(\"- - -\")\n",
        "\n",
        "lasso_coeffs = lasso_model.coef_\n",
        "ridge_coeffs = ridge_model.coef_\n",
        "\n",
        "# make an array of columns to drop after failing Lasso and Ridge tests\n",
        "drop_columns = []\n",
        "\n",
        "Lower_Ridge = -0.005\n",
        "Upper_Ridge = 0.005\n",
        "\n",
        "for i in range(len(lasso_coeffs)):\n",
        "    if lasso_coeffs[i] == 0 and ((ridge_coeffs[i] > Lower_Ridge and ridge_coeffs[i] <= 0) or (ridge_coeffs[i] < Upper_Ridge and ridge_coeffs[i] >= 0)):\n",
        "        drop_columns.append(i)\n",
        "\n",
        "print(drop_columns)\n",
        "print(\"# of Columns/Features that will be dropped\", len(drop_columns))\n",
        "\n",
        "# remove columns from X1 df\n",
        "X_train_column_drop = X_train_column_drop.drop(X_train_column_drop.columns[drop_columns], axis=1)\n",
        "X_test_column_drop = X_test_column_drop.drop(X_test_column_drop.columns[drop_columns], axis=1)\n",
        "\n",
        "print(\"Step 6 of 6 - Remove Columns that fail Lasso & Ridge Tests... Samples: \", len(X_train_column_drop), \" | Columns/Features: \", len(X_train_column_drop.columns))"
      ],
      "metadata": {
        "colab": {
          "base_uri": "https://localhost:8080/"
        },
        "id": "SyFoyX5cD8sL",
        "outputId": "baaaedc5-b3df-4b53-f442-02e6a3bfffa7"
      },
      "execution_count": 327,
      "outputs": [
        {
          "output_type": "stream",
          "name": "stdout",
          "text": [
            "Lasso RMSE: 0.4993190478758795\n",
            "Ridge RMSE: 0.4307788485480379\n",
            "- - -\n",
            "[2, 27]\n",
            "# of Columns/Features that will be dropped 2\n",
            "Step 6 of 6 - Remove Columns that fail Lasso & Ridge Tests... Samples:  19558  | Columns/Features:  42\n"
          ]
        }
      ]
    },
    {
      "cell_type": "code",
      "source": [
        "X_scaler_columns_dropped = scaler.fit(X_train_column_drop)\n",
        "\n",
        "X_train_column_drop_scaled = X_scaler_columns_dropped.transform(X_train_column_drop)\n",
        "X_test_column_drop_scaled = X_scaler_columns_dropped.transform(X_test_column_drop)\n",
        "\n",
        "# Define the model\n",
        "nn_column_drop = tf.keras.models.Sequential()\n",
        "\n",
        "# First hidden layer\n",
        "nn_column_drop.add(tf.keras.layers.Dense(units=80, activation='relu', input_dim=X_train_column_drop_scaled.shape[1]))\n",
        "\n",
        "# Second hidden layer\n",
        "nn_column_drop.add(tf.keras.layers.Dense(units=30, activation='relu'))\n",
        "\n",
        "# Output layer\n",
        "nn_column_drop.add(tf.keras.layers.Dense(units=1, activation='sigmoid'))\n",
        "\n",
        "# Check the structure of the model\n",
        "nn_column_drop.summary()"
      ],
      "metadata": {
        "colab": {
          "base_uri": "https://localhost:8080/"
        },
        "id": "iVSOzpWd_NDb",
        "outputId": "3059c644-1eea-4534-c976-e261881b9782"
      },
      "execution_count": 328,
      "outputs": [
        {
          "output_type": "stream",
          "name": "stdout",
          "text": [
            "Model: \"sequential_36\"\n",
            "_________________________________________________________________\n",
            " Layer (type)                Output Shape              Param #   \n",
            "=================================================================\n",
            " dense_108 (Dense)           (None, 80)                3440      \n",
            "                                                                 \n",
            " dense_109 (Dense)           (None, 30)                2430      \n",
            "                                                                 \n",
            " dense_110 (Dense)           (None, 1)                 31        \n",
            "                                                                 \n",
            "=================================================================\n",
            "Total params: 5,901\n",
            "Trainable params: 5,901\n",
            "Non-trainable params: 0\n",
            "_________________________________________________________________\n"
          ]
        }
      ]
    },
    {
      "cell_type": "code",
      "source": [
        "nn_column_drop.compile(loss='binary_crossentropy', optimizer='adam', metrics=['accuracy'])\n",
        "\n",
        "history_column_drop = nn_column_drop.fit(X_train_column_drop_scaled, y_train_column_drop, epochs=10, verbose=1, batch_size=16)"
      ],
      "metadata": {
        "colab": {
          "base_uri": "https://localhost:8080/"
        },
        "id": "YRv6L9NJ_z-h",
        "outputId": "e9d1358f-254c-4ba4-aba2-9c43b35d255c"
      },
      "execution_count": 329,
      "outputs": [
        {
          "output_type": "stream",
          "name": "stdout",
          "text": [
            "Epoch 1/10\n",
            "1223/1223 [==============================] - 4s 2ms/step - loss: 0.5533 - accuracy: 0.7368\n",
            "Epoch 2/10\n",
            "1223/1223 [==============================] - 2s 2ms/step - loss: 0.5398 - accuracy: 0.7415\n",
            "Epoch 3/10\n",
            "1223/1223 [==============================] - 2s 2ms/step - loss: 0.5361 - accuracy: 0.7437\n",
            "Epoch 4/10\n",
            "1223/1223 [==============================] - 5s 4ms/step - loss: 0.5352 - accuracy: 0.7460\n",
            "Epoch 5/10\n",
            "1223/1223 [==============================] - 3s 2ms/step - loss: 0.5324 - accuracy: 0.7455\n",
            "Epoch 6/10\n",
            "1223/1223 [==============================] - 2s 2ms/step - loss: 0.5321 - accuracy: 0.7461\n",
            "Epoch 7/10\n",
            "1223/1223 [==============================] - 2s 2ms/step - loss: 0.5313 - accuracy: 0.7465\n",
            "Epoch 8/10\n",
            "1223/1223 [==============================] - 2s 2ms/step - loss: 0.5305 - accuracy: 0.7473\n",
            "Epoch 9/10\n",
            "1223/1223 [==============================] - 2s 2ms/step - loss: 0.5303 - accuracy: 0.7483\n",
            "Epoch 10/10\n",
            "1223/1223 [==============================] - 3s 3ms/step - loss: 0.5294 - accuracy: 0.7474\n"
          ]
        }
      ]
    },
    {
      "cell_type": "code",
      "source": [
        "model_loss, model_accuracy = nn_column_drop.evaluate(X_test_column_drop_scaled,y_test_column_drop,verbose=1, batch_size=16)\n",
        "print(f\"Loss: {model_loss}, Accuracy: {model_accuracy}\")"
      ],
      "metadata": {
        "colab": {
          "base_uri": "https://localhost:8080/"
        },
        "id": "GUL8zMpZzQPa",
        "outputId": "5b686436-e6d2-42ec-c885-d295c68108d6"
      },
      "execution_count": 330,
      "outputs": [
        {
          "output_type": "stream",
          "name": "stdout",
          "text": [
            "408/408 [==============================] - 1s 1ms/step - loss: 0.5391 - accuracy: 0.7535\n",
            "Loss: 0.5391210913658142, Accuracy: 0.7535275816917419\n"
          ]
        }
      ]
    },
    {
      "cell_type": "code",
      "source": [
        "# Export our model to HDF5 file\n",
        "nn_column_drop.save('AlphabetSoupCharity_Optimization_Dropping_Columns.h5')"
      ],
      "metadata": {
        "id": "rJHv4lTM_GC_"
      },
      "execution_count": 331,
      "outputs": []
    },
    {
      "cell_type": "markdown",
      "source": [
        "## Optimization Preprocessing Method 2 - PCA"
      ],
      "metadata": {
        "id": "L6LfaIkzGl4Y"
      }
    },
    {
      "cell_type": "code",
      "source": [
        "# Create PCA Model\n",
        "pca_model = PCA(n_components=40)"
      ],
      "metadata": {
        "id": "FoiHdGDqGr2L"
      },
      "execution_count": 228,
      "outputs": []
    },
    {
      "cell_type": "code",
      "source": [
        "pca_model = pca_model.fit(X_train_column_drop_scaled)\n",
        "\n",
        "pca_X_train = pca_model.transform(X_train_column_drop_scaled)\n",
        "pca_X_test = pca_model.transform(X_test_column_drop_scaled)\n",
        "\n",
        "# Training DataFrame with the PCA components\n",
        "pca_df = pd.DataFrame(data=pca_X_train, columns=['PC1', 'PC2', 'PC3', 'PC4', 'PC5', 'PC6', 'PC7', 'PC8', 'PC9', 'PC10', \n",
        "                                                'PC11', 'PC12', 'PC13', 'PC14', 'PC15', 'PC16', 'PC17', 'PC18', 'PC19', 'PC20',\n",
        "                                                'PC21', 'PC22', 'PC23', 'PC24', 'PC25', 'PC26', 'PC27', 'PC28', 'PC29', 'PC30',\n",
        "                                                'PC31', 'PC32', 'PC33', 'PC34', 'PC35', 'PC36', 'PC37', 'PC38', 'PC39', 'PC40'])\n",
        "\n",
        "# View the first five rows of the DataFrame\n",
        "pca_df.head()"
      ],
      "metadata": {
        "id": "C-3chlAvHIJB",
        "outputId": "68577ba6-0260-4182-e328-5e96c5dd7816",
        "colab": {
          "base_uri": "https://localhost:8080/",
          "height": 299
        }
      },
      "execution_count": 229,
      "outputs": [
        {
          "output_type": "execute_result",
          "data": {
            "text/plain": [
              "        PC1       PC2       PC3       PC4       PC5       PC6       PC7  \\\n",
              "0  0.601878 -1.602990  0.449661  0.094304 -1.446635 -0.251015 -0.021516   \n",
              "1 -1.826470 -0.127961 -0.385204 -0.001923  0.934805 -0.936857  0.006859   \n",
              "2 -0.795157 -1.256882  0.304779 -0.247162  1.220582  1.426650  0.417246   \n",
              "3 -0.876306 -1.702606  0.602707 -0.358838  0.828450  0.873587 -0.593384   \n",
              "4 -0.700460 -0.766304 -0.333087  0.116217 -0.617199  0.343100 -0.521549   \n",
              "\n",
              "        PC8       PC9      PC10  ...      PC31      PC32      PC33      PC34  \\\n",
              "0 -0.120556 -0.020658  0.160635  ... -0.026735 -0.006530 -0.002828  0.051312   \n",
              "1 -0.541575  0.332264 -1.314413  ...  0.030559  0.009032 -0.000590  0.040469   \n",
              "2 -0.095759 -0.211240  0.625877  ... -0.027029 -0.018813 -0.030073  0.069795   \n",
              "3  2.696117 -0.318137  0.985441  ...  0.035761  0.105837  0.071319 -0.166734   \n",
              "4  1.022282 -0.112710  0.317176  ... -0.037682 -0.007553 -0.045301  0.067981   \n",
              "\n",
              "       PC35      PC36      PC37      PC38      PC39      PC40  \n",
              "0  0.046377 -0.117131  0.110256 -0.042984 -0.140422  0.209963  \n",
              "1  0.101737 -0.008031  0.018590 -0.000574  0.050204  0.014945  \n",
              "2  0.109117 -0.085183  0.154539 -0.057753 -0.389696  0.092740  \n",
              "3 -0.285487  0.031277 -0.365393  0.149243  0.633718 -0.584382  \n",
              "4  0.114962 -0.135320  0.176038 -0.063946 -0.411447  0.179432  \n",
              "\n",
              "[5 rows x 40 columns]"
            ],
            "text/html": [
              "\n",
              "  <div id=\"df-501a9c51-7bd2-489a-8e07-89d3a26d0b91\">\n",
              "    <div class=\"colab-df-container\">\n",
              "      <div>\n",
              "<style scoped>\n",
              "    .dataframe tbody tr th:only-of-type {\n",
              "        vertical-align: middle;\n",
              "    }\n",
              "\n",
              "    .dataframe tbody tr th {\n",
              "        vertical-align: top;\n",
              "    }\n",
              "\n",
              "    .dataframe thead th {\n",
              "        text-align: right;\n",
              "    }\n",
              "</style>\n",
              "<table border=\"1\" class=\"dataframe\">\n",
              "  <thead>\n",
              "    <tr style=\"text-align: right;\">\n",
              "      <th></th>\n",
              "      <th>PC1</th>\n",
              "      <th>PC2</th>\n",
              "      <th>PC3</th>\n",
              "      <th>PC4</th>\n",
              "      <th>PC5</th>\n",
              "      <th>PC6</th>\n",
              "      <th>PC7</th>\n",
              "      <th>PC8</th>\n",
              "      <th>PC9</th>\n",
              "      <th>PC10</th>\n",
              "      <th>...</th>\n",
              "      <th>PC31</th>\n",
              "      <th>PC32</th>\n",
              "      <th>PC33</th>\n",
              "      <th>PC34</th>\n",
              "      <th>PC35</th>\n",
              "      <th>PC36</th>\n",
              "      <th>PC37</th>\n",
              "      <th>PC38</th>\n",
              "      <th>PC39</th>\n",
              "      <th>PC40</th>\n",
              "    </tr>\n",
              "  </thead>\n",
              "  <tbody>\n",
              "    <tr>\n",
              "      <th>0</th>\n",
              "      <td>0.601878</td>\n",
              "      <td>-1.602990</td>\n",
              "      <td>0.449661</td>\n",
              "      <td>0.094304</td>\n",
              "      <td>-1.446635</td>\n",
              "      <td>-0.251015</td>\n",
              "      <td>-0.021516</td>\n",
              "      <td>-0.120556</td>\n",
              "      <td>-0.020658</td>\n",
              "      <td>0.160635</td>\n",
              "      <td>...</td>\n",
              "      <td>-0.026735</td>\n",
              "      <td>-0.006530</td>\n",
              "      <td>-0.002828</td>\n",
              "      <td>0.051312</td>\n",
              "      <td>0.046377</td>\n",
              "      <td>-0.117131</td>\n",
              "      <td>0.110256</td>\n",
              "      <td>-0.042984</td>\n",
              "      <td>-0.140422</td>\n",
              "      <td>0.209963</td>\n",
              "    </tr>\n",
              "    <tr>\n",
              "      <th>1</th>\n",
              "      <td>-1.826470</td>\n",
              "      <td>-0.127961</td>\n",
              "      <td>-0.385204</td>\n",
              "      <td>-0.001923</td>\n",
              "      <td>0.934805</td>\n",
              "      <td>-0.936857</td>\n",
              "      <td>0.006859</td>\n",
              "      <td>-0.541575</td>\n",
              "      <td>0.332264</td>\n",
              "      <td>-1.314413</td>\n",
              "      <td>...</td>\n",
              "      <td>0.030559</td>\n",
              "      <td>0.009032</td>\n",
              "      <td>-0.000590</td>\n",
              "      <td>0.040469</td>\n",
              "      <td>0.101737</td>\n",
              "      <td>-0.008031</td>\n",
              "      <td>0.018590</td>\n",
              "      <td>-0.000574</td>\n",
              "      <td>0.050204</td>\n",
              "      <td>0.014945</td>\n",
              "    </tr>\n",
              "    <tr>\n",
              "      <th>2</th>\n",
              "      <td>-0.795157</td>\n",
              "      <td>-1.256882</td>\n",
              "      <td>0.304779</td>\n",
              "      <td>-0.247162</td>\n",
              "      <td>1.220582</td>\n",
              "      <td>1.426650</td>\n",
              "      <td>0.417246</td>\n",
              "      <td>-0.095759</td>\n",
              "      <td>-0.211240</td>\n",
              "      <td>0.625877</td>\n",
              "      <td>...</td>\n",
              "      <td>-0.027029</td>\n",
              "      <td>-0.018813</td>\n",
              "      <td>-0.030073</td>\n",
              "      <td>0.069795</td>\n",
              "      <td>0.109117</td>\n",
              "      <td>-0.085183</td>\n",
              "      <td>0.154539</td>\n",
              "      <td>-0.057753</td>\n",
              "      <td>-0.389696</td>\n",
              "      <td>0.092740</td>\n",
              "    </tr>\n",
              "    <tr>\n",
              "      <th>3</th>\n",
              "      <td>-0.876306</td>\n",
              "      <td>-1.702606</td>\n",
              "      <td>0.602707</td>\n",
              "      <td>-0.358838</td>\n",
              "      <td>0.828450</td>\n",
              "      <td>0.873587</td>\n",
              "      <td>-0.593384</td>\n",
              "      <td>2.696117</td>\n",
              "      <td>-0.318137</td>\n",
              "      <td>0.985441</td>\n",
              "      <td>...</td>\n",
              "      <td>0.035761</td>\n",
              "      <td>0.105837</td>\n",
              "      <td>0.071319</td>\n",
              "      <td>-0.166734</td>\n",
              "      <td>-0.285487</td>\n",
              "      <td>0.031277</td>\n",
              "      <td>-0.365393</td>\n",
              "      <td>0.149243</td>\n",
              "      <td>0.633718</td>\n",
              "      <td>-0.584382</td>\n",
              "    </tr>\n",
              "    <tr>\n",
              "      <th>4</th>\n",
              "      <td>-0.700460</td>\n",
              "      <td>-0.766304</td>\n",
              "      <td>-0.333087</td>\n",
              "      <td>0.116217</td>\n",
              "      <td>-0.617199</td>\n",
              "      <td>0.343100</td>\n",
              "      <td>-0.521549</td>\n",
              "      <td>1.022282</td>\n",
              "      <td>-0.112710</td>\n",
              "      <td>0.317176</td>\n",
              "      <td>...</td>\n",
              "      <td>-0.037682</td>\n",
              "      <td>-0.007553</td>\n",
              "      <td>-0.045301</td>\n",
              "      <td>0.067981</td>\n",
              "      <td>0.114962</td>\n",
              "      <td>-0.135320</td>\n",
              "      <td>0.176038</td>\n",
              "      <td>-0.063946</td>\n",
              "      <td>-0.411447</td>\n",
              "      <td>0.179432</td>\n",
              "    </tr>\n",
              "  </tbody>\n",
              "</table>\n",
              "<p>5 rows × 40 columns</p>\n",
              "</div>\n",
              "      <button class=\"colab-df-convert\" onclick=\"convertToInteractive('df-501a9c51-7bd2-489a-8e07-89d3a26d0b91')\"\n",
              "              title=\"Convert this dataframe to an interactive table.\"\n",
              "              style=\"display:none;\">\n",
              "        \n",
              "  <svg xmlns=\"http://www.w3.org/2000/svg\" height=\"24px\"viewBox=\"0 0 24 24\"\n",
              "       width=\"24px\">\n",
              "    <path d=\"M0 0h24v24H0V0z\" fill=\"none\"/>\n",
              "    <path d=\"M18.56 5.44l.94 2.06.94-2.06 2.06-.94-2.06-.94-.94-2.06-.94 2.06-2.06.94zm-11 1L8.5 8.5l.94-2.06 2.06-.94-2.06-.94L8.5 2.5l-.94 2.06-2.06.94zm10 10l.94 2.06.94-2.06 2.06-.94-2.06-.94-.94-2.06-.94 2.06-2.06.94z\"/><path d=\"M17.41 7.96l-1.37-1.37c-.4-.4-.92-.59-1.43-.59-.52 0-1.04.2-1.43.59L10.3 9.45l-7.72 7.72c-.78.78-.78 2.05 0 2.83L4 21.41c.39.39.9.59 1.41.59.51 0 1.02-.2 1.41-.59l7.78-7.78 2.81-2.81c.8-.78.8-2.07 0-2.86zM5.41 20L4 18.59l7.72-7.72 1.47 1.35L5.41 20z\"/>\n",
              "  </svg>\n",
              "      </button>\n",
              "      \n",
              "  <style>\n",
              "    .colab-df-container {\n",
              "      display:flex;\n",
              "      flex-wrap:wrap;\n",
              "      gap: 12px;\n",
              "    }\n",
              "\n",
              "    .colab-df-convert {\n",
              "      background-color: #E8F0FE;\n",
              "      border: none;\n",
              "      border-radius: 50%;\n",
              "      cursor: pointer;\n",
              "      display: none;\n",
              "      fill: #1967D2;\n",
              "      height: 32px;\n",
              "      padding: 0 0 0 0;\n",
              "      width: 32px;\n",
              "    }\n",
              "\n",
              "    .colab-df-convert:hover {\n",
              "      background-color: #E2EBFA;\n",
              "      box-shadow: 0px 1px 2px rgba(60, 64, 67, 0.3), 0px 1px 3px 1px rgba(60, 64, 67, 0.15);\n",
              "      fill: #174EA6;\n",
              "    }\n",
              "\n",
              "    [theme=dark] .colab-df-convert {\n",
              "      background-color: #3B4455;\n",
              "      fill: #D2E3FC;\n",
              "    }\n",
              "\n",
              "    [theme=dark] .colab-df-convert:hover {\n",
              "      background-color: #434B5C;\n",
              "      box-shadow: 0px 1px 3px 1px rgba(0, 0, 0, 0.15);\n",
              "      filter: drop-shadow(0px 1px 2px rgba(0, 0, 0, 0.3));\n",
              "      fill: #FFFFFF;\n",
              "    }\n",
              "  </style>\n",
              "\n",
              "      <script>\n",
              "        const buttonEl =\n",
              "          document.querySelector('#df-501a9c51-7bd2-489a-8e07-89d3a26d0b91 button.colab-df-convert');\n",
              "        buttonEl.style.display =\n",
              "          google.colab.kernel.accessAllowed ? 'block' : 'none';\n",
              "\n",
              "        async function convertToInteractive(key) {\n",
              "          const element = document.querySelector('#df-501a9c51-7bd2-489a-8e07-89d3a26d0b91');\n",
              "          const dataTable =\n",
              "            await google.colab.kernel.invokeFunction('convertToInteractive',\n",
              "                                                     [key], {});\n",
              "          if (!dataTable) return;\n",
              "\n",
              "          const docLinkHtml = 'Like what you see? Visit the ' +\n",
              "            '<a target=\"_blank\" href=https://colab.research.google.com/notebooks/data_table.ipynb>data table notebook</a>'\n",
              "            + ' to learn more about interactive tables.';\n",
              "          element.innerHTML = '';\n",
              "          dataTable['output_type'] = 'display_data';\n",
              "          await google.colab.output.renderOutput(dataTable, element);\n",
              "          const docLink = document.createElement('div');\n",
              "          docLink.innerHTML = docLinkHtml;\n",
              "          element.appendChild(docLink);\n",
              "        }\n",
              "      </script>\n",
              "    </div>\n",
              "  </div>\n",
              "  "
            ]
          },
          "metadata": {},
          "execution_count": 229
        }
      ]
    },
    {
      "cell_type": "code",
      "source": [
        "# Retrieve the explained variance from the PCA model\n",
        "explained_variance = pca_model.explained_variance_ratio_\n",
        "Scope = 0\n",
        "\n",
        "# Print the explained variance for each principal component\n",
        "for i, variance in enumerate(explained_variance):\n",
        "    Scope = Scope + variance\n",
        "    print(f\"Explained Variance PC{i+1}: {variance:.4f}\")\n",
        "\n",
        "print(f\"{Scope * 100:.2f}%\")"
      ],
      "metadata": {
        "id": "YldwwU9hILqh",
        "outputId": "dd5f9b8c-0eca-486f-c992-3513f3d707f4",
        "colab": {
          "base_uri": "https://localhost:8080/"
        }
      },
      "execution_count": 230,
      "outputs": [
        {
          "output_type": "stream",
          "name": "stdout",
          "text": [
            "Explained Variance PC1: 0.0671\n",
            "Explained Variance PC2: 0.0402\n",
            "Explained Variance PC3: 0.0304\n",
            "Explained Variance PC4: 0.0292\n",
            "Explained Variance PC5: 0.0271\n",
            "Explained Variance PC6: 0.0220\n",
            "Explained Variance PC7: 0.0217\n",
            "Explained Variance PC8: 0.0194\n",
            "Explained Variance PC9: 0.0176\n",
            "Explained Variance PC10: 0.0174\n",
            "Explained Variance PC11: 0.0171\n",
            "Explained Variance PC12: 0.0166\n",
            "Explained Variance PC13: 0.0165\n",
            "Explained Variance PC14: 0.0161\n",
            "Explained Variance PC15: 0.0158\n",
            "Explained Variance PC16: 0.0155\n",
            "Explained Variance PC17: 0.0153\n",
            "Explained Variance PC18: 0.0150\n",
            "Explained Variance PC19: 0.0149\n",
            "Explained Variance PC20: 0.0149\n",
            "Explained Variance PC21: 0.0148\n",
            "Explained Variance PC22: 0.0146\n",
            "Explained Variance PC23: 0.0146\n",
            "Explained Variance PC24: 0.0145\n",
            "Explained Variance PC25: 0.0145\n",
            "Explained Variance PC26: 0.0145\n",
            "Explained Variance PC27: 0.0145\n",
            "Explained Variance PC28: 0.0145\n",
            "Explained Variance PC29: 0.0145\n",
            "Explained Variance PC30: 0.0145\n",
            "Explained Variance PC31: 0.0145\n",
            "Explained Variance PC32: 0.0145\n",
            "Explained Variance PC33: 0.0145\n",
            "Explained Variance PC34: 0.0145\n",
            "Explained Variance PC35: 0.0144\n",
            "Explained Variance PC36: 0.0144\n",
            "Explained Variance PC37: 0.0143\n",
            "Explained Variance PC38: 0.0143\n",
            "Explained Variance PC39: 0.0142\n",
            "Explained Variance PC40: 0.0142\n",
            "73.90%\n"
          ]
        }
      ]
    },
    {
      "cell_type": "code",
      "source": [
        "# Define the model\n",
        "nn_pca = tf.keras.models.Sequential()\n",
        "\n",
        "# First hidden layer\n",
        "nn_pca.add(tf.keras.layers.Dense(units=80, activation='relu', input_dim=pca_X_train.shape[1]))\n",
        "\n",
        "# Second hidden layer\n",
        "nn_pca.add(tf.keras.layers.Dense(units=30, activation='relu'))\n",
        "\n",
        "# Output layer\n",
        "nn_pca.add(tf.keras.layers.Dense(units=1, activation='sigmoid'))\n",
        "\n",
        "# Check the structure of the model\n",
        "nn_pca.summary()"
      ],
      "metadata": {
        "id": "kqckYLXQK9KT",
        "outputId": "02611744-f893-401f-a545-346b99529795",
        "colab": {
          "base_uri": "https://localhost:8080/"
        }
      },
      "execution_count": 232,
      "outputs": [
        {
          "output_type": "stream",
          "name": "stdout",
          "text": [
            "Model: \"sequential_28\"\n",
            "_________________________________________________________________\n",
            " Layer (type)                Output Shape              Param #   \n",
            "=================================================================\n",
            " dense_84 (Dense)            (None, 80)                3280      \n",
            "                                                                 \n",
            " dense_85 (Dense)            (None, 30)                2430      \n",
            "                                                                 \n",
            " dense_86 (Dense)            (None, 1)                 31        \n",
            "                                                                 \n",
            "=================================================================\n",
            "Total params: 5,741\n",
            "Trainable params: 5,741\n",
            "Non-trainable params: 0\n",
            "_________________________________________________________________\n"
          ]
        }
      ]
    },
    {
      "cell_type": "code",
      "source": [
        "# Compile the model\n",
        "nn_pca.compile(loss='binary_crossentropy', optimizer='adam', metrics=['accuracy'])"
      ],
      "metadata": {
        "id": "loIid4Z1LDje"
      },
      "execution_count": 233,
      "outputs": []
    },
    {
      "cell_type": "code",
      "source": [
        "# Train the model\n",
        "history_pca = nn_pca.fit(pca_X_train, y_train_column_drop, epochs=10, verbose=2, batch_size=16)"
      ],
      "metadata": {
        "id": "NXGIJXEPLPd5",
        "outputId": "4ac3e893-fe15-4009-f560-f70a1e3582e1",
        "colab": {
          "base_uri": "https://localhost:8080/"
        }
      },
      "execution_count": 234,
      "outputs": [
        {
          "output_type": "stream",
          "name": "stdout",
          "text": [
            "Epoch 1/10\n",
            "1224/1224 - 3s - loss: 0.5517 - accuracy: 0.7404 - 3s/epoch - 3ms/step\n",
            "Epoch 2/10\n",
            "1224/1224 - 2s - loss: 0.5350 - accuracy: 0.7469 - 2s/epoch - 2ms/step\n",
            "Epoch 3/10\n",
            "1224/1224 - 2s - loss: 0.5321 - accuracy: 0.7474 - 2s/epoch - 1ms/step\n",
            "Epoch 4/10\n",
            "1224/1224 - 2s - loss: 0.5296 - accuracy: 0.7489 - 2s/epoch - 1ms/step\n",
            "Epoch 5/10\n",
            "1224/1224 - 2s - loss: 0.5278 - accuracy: 0.7518 - 2s/epoch - 2ms/step\n",
            "Epoch 6/10\n",
            "1224/1224 - 2s - loss: 0.5262 - accuracy: 0.7513 - 2s/epoch - 2ms/step\n",
            "Epoch 7/10\n",
            "1224/1224 - 3s - loss: 0.5259 - accuracy: 0.7512 - 3s/epoch - 2ms/step\n",
            "Epoch 8/10\n",
            "1224/1224 - 2s - loss: 0.5245 - accuracy: 0.7522 - 2s/epoch - 2ms/step\n",
            "Epoch 9/10\n",
            "1224/1224 - 2s - loss: 0.5233 - accuracy: 0.7520 - 2s/epoch - 1ms/step\n",
            "Epoch 10/10\n",
            "1224/1224 - 2s - loss: 0.5229 - accuracy: 0.7526 - 2s/epoch - 1ms/step\n"
          ]
        }
      ]
    },
    {
      "cell_type": "code",
      "source": [
        "# Evaluate the model using the test data\n",
        "model_loss, model_accuracy = nn_pca.evaluate(pca_X_test, y_test_column_drop, verbose=1, batch_size=1)\n",
        "print(f\"Loss: {model_loss}, Accuracy: {model_accuracy}\")"
      ],
      "metadata": {
        "id": "KhPwAv_wLzn6",
        "outputId": "ba514515-f5f1-4abd-f030-64a77d1017bc",
        "colab": {
          "base_uri": "https://localhost:8080/"
        }
      },
      "execution_count": 235,
      "outputs": [
        {
          "output_type": "stream",
          "name": "stdout",
          "text": [
            "6524/6524 [==============================] - 10s 2ms/step - loss: 0.5458 - accuracy: 0.7365\n",
            "Loss: 0.5458074808120728, Accuracy: 0.7365113496780396\n"
          ]
        }
      ]
    },
    {
      "cell_type": "markdown",
      "source": [
        "## Optimization Method 2 - Oversampling"
      ],
      "metadata": {
        "id": "hNMsmEhLbYFg"
      }
    },
    {
      "cell_type": "code",
      "source": [
        "# Import the RandomOverSampler module form imbalanced-learn\n",
        "from imblearn.over_sampling import RandomOverSampler\n",
        "\n",
        "from imblearn.over_sampling import SMOTE\n",
        "\n",
        "desired_samples = round(1 * len(X_train_column_drop_scaled))\n",
        "sampling_strategy = {0: desired_samples}\n",
        "\n",
        "# Instantiate the SMOTE model\n",
        "smote_oversampler = SMOTE(sampling_strategy=sampling_strategy, random_state=1)\n",
        "\n",
        "# Instantiate the random oversampler model\n",
        "random_oversampler = RandomOverSampler(sampling_strategy=sampling_strategy, random_state=1)\n",
        "\n",
        "# Fit the original training data to the random_oversampler model\n",
        "X_train_oversampled_scaled, y_train_oversampled = random_oversampler.fit_resample(X_train_column_drop_scaled, y_train_column_drop)"
      ],
      "metadata": {
        "id": "Ch_Z-O7JPEzb"
      },
      "execution_count": 209,
      "outputs": []
    },
    {
      "cell_type": "code",
      "source": [
        "X_train_column_drop_scaled_df = pd.DataFrame(X_train_column_drop_scaled)\n",
        "X_train_oversampled_scaled_df = pd.DataFrame(X_train_oversampled_scaled)\n",
        "print(\"X Train Before Resampling: \", X_train_column_drop_scaled_df.shape)\n",
        "print(\"X Train After Resampling: \", X_train_oversampled_scaled.shape)\n",
        "\n",
        "y_train_column_drop_df = pd.DataFrame(y_train_column_drop)\n",
        "y_train_oversampled_df = pd.DataFrame(y_train_oversampled)\n",
        "print(\"Y Train Before Resampling: \", y_train_column_drop_df.shape)\n",
        "print(\"Y Train After Resampling: \", y_train_oversampled_df.shape)"
      ],
      "metadata": {
        "id": "3vZET3T_P9Of",
        "outputId": "eb09c25d-1155-4024-87a8-460c55a30882",
        "colab": {
          "base_uri": "https://localhost:8080/"
        }
      },
      "execution_count": 210,
      "outputs": [
        {
          "output_type": "stream",
          "name": "stdout",
          "text": [
            "X Train Before Resampling:  (19569, 69)\n",
            "X Train After Resampling:  (29796, 69)\n",
            "Y Train Before Resampling:  (19569, 1)\n",
            "Y Train After Resampling:  (29796, 1)\n"
          ]
        }
      ]
    },
    {
      "cell_type": "code",
      "source": [
        "# Define the model\n",
        "nn_oversample = tf.keras.models.Sequential()\n",
        "\n",
        "# First hidden layer\n",
        "nn_oversample.add(tf.keras.layers.Dense(units=80, activation='relu', input_dim=X_train_oversampled_scaled_df.shape[1]))\n",
        "\n",
        "# Second hidden layer\n",
        "nn_oversample.add(tf.keras.layers.Dense(units=30, activation='relu'))\n",
        "\n",
        "# Output layer\n",
        "nn_oversample.add(tf.keras.layers.Dense(units=1, activation='sigmoid'))\n",
        "\n",
        "# Check the structure of the model\n",
        "nn_oversample.summary()"
      ],
      "metadata": {
        "id": "PZUwifq2TaPo",
        "outputId": "f64cafe9-db55-489b-db14-421ed8b2ae14",
        "colab": {
          "base_uri": "https://localhost:8080/"
        }
      },
      "execution_count": 212,
      "outputs": [
        {
          "output_type": "stream",
          "name": "stdout",
          "text": [
            "Model: \"sequential_23\"\n",
            "_________________________________________________________________\n",
            " Layer (type)                Output Shape              Param #   \n",
            "=================================================================\n",
            " dense_69 (Dense)            (None, 80)                5600      \n",
            "                                                                 \n",
            " dense_70 (Dense)            (None, 30)                2430      \n",
            "                                                                 \n",
            " dense_71 (Dense)            (None, 1)                 31        \n",
            "                                                                 \n",
            "=================================================================\n",
            "Total params: 8,061\n",
            "Trainable params: 8,061\n",
            "Non-trainable params: 0\n",
            "_________________________________________________________________\n"
          ]
        }
      ]
    },
    {
      "cell_type": "code",
      "source": [
        "nn_oversample.compile(loss='binary_crossentropy', optimizer='adam', metrics=['accuracy'])\n",
        "\n",
        "history_oversample = nn_oversample.fit(X_train_oversampled_scaled_df, y_train_oversampled_df, epochs=10, verbose=2, batch_size=16)"
      ],
      "metadata": {
        "id": "zN0_M-_xT5QX",
        "outputId": "4b4d162e-2953-47a8-e848-d88fd30468d2",
        "colab": {
          "base_uri": "https://localhost:8080/"
        }
      },
      "execution_count": 213,
      "outputs": [
        {
          "output_type": "stream",
          "name": "stdout",
          "text": [
            "Epoch 1/10\n",
            "1863/1863 - 4s - loss: 0.5160 - accuracy: 0.7420 - 4s/epoch - 2ms/step\n",
            "Epoch 2/10\n",
            "1863/1863 - 3s - loss: 0.5008 - accuracy: 0.7496 - 3s/epoch - 1ms/step\n",
            "Epoch 3/10\n",
            "1863/1863 - 3s - loss: 0.4973 - accuracy: 0.7518 - 3s/epoch - 1ms/step\n",
            "Epoch 4/10\n",
            "1863/1863 - 3s - loss: 0.4947 - accuracy: 0.7528 - 3s/epoch - 2ms/step\n",
            "Epoch 5/10\n",
            "1863/1863 - 4s - loss: 0.4935 - accuracy: 0.7535 - 4s/epoch - 2ms/step\n",
            "Epoch 6/10\n",
            "1863/1863 - 3s - loss: 0.4921 - accuracy: 0.7526 - 3s/epoch - 2ms/step\n",
            "Epoch 7/10\n",
            "1863/1863 - 3s - loss: 0.4912 - accuracy: 0.7572 - 3s/epoch - 2ms/step\n",
            "Epoch 8/10\n",
            "1863/1863 - 3s - loss: 0.4901 - accuracy: 0.7553 - 3s/epoch - 2ms/step\n",
            "Epoch 9/10\n",
            "1863/1863 - 4s - loss: 0.4899 - accuracy: 0.7563 - 4s/epoch - 2ms/step\n",
            "Epoch 10/10\n",
            "1863/1863 - 3s - loss: 0.4887 - accuracy: 0.7561 - 3s/epoch - 1ms/step\n"
          ]
        }
      ]
    },
    {
      "cell_type": "code",
      "source": [
        "model_loss, model_accuracy = nn_oversample.evaluate(X_test_column_drop_scaled,y_test_column_drop,verbose=1, batch_size=16)\n",
        "print(f\"Loss: {model_loss}, Accuracy: {model_accuracy}\")"
      ],
      "metadata": {
        "id": "efz2vg-DUUtx",
        "outputId": "2a041d8e-3e5b-4e5b-df62-6c937f5db28a",
        "colab": {
          "base_uri": "https://localhost:8080/"
        }
      },
      "execution_count": 214,
      "outputs": [
        {
          "output_type": "stream",
          "name": "stdout",
          "text": [
            "408/408 [==============================] - 1s 2ms/step - loss: 0.6065 - accuracy: 0.7213\n",
            "Loss: 0.6064736843109131, Accuracy: 0.7213366031646729\n"
          ]
        }
      ]
    },
    {
      "cell_type": "markdown",
      "source": [
        "## Optimization Method 3 - Altering Model"
      ],
      "metadata": {
        "id": "9gmcyF4CRNMG"
      }
    },
    {
      "cell_type": "code",
      "source": [
        "# Model creation function for ease of coding later\n",
        "def create_model(hp):\n",
        "    nn_model = tf.keras.models.Sequential()\n",
        "\n",
        "    activation = hp.Choice('activation', ['relu', 'leaky_relu']) # removed 'tanh', 'selu', 'elu', & 'sigmoid'\n",
        "\n",
        "    nn_model.add(tf.keras.layers.Dense(units=hp.Int('first_units',\n",
        "        min_value=10,\n",
        "        max_value=1000,\n",
        "        step=5), activation=activation, input_dim=X_train1.shape[1]))\n",
        "    \n",
        "    for i in range(hp.Int('num_layers', 4, 6)):\n",
        "        nn_model.add(tf.keras.layers.Dense(units=hp.Int('units_' + str(i),\n",
        "            min_value=10,\n",
        "            max_value=1000,\n",
        "            step=5),\n",
        "            activation=activation))\n",
        "    \n",
        "    nn_model.add(tf.keras.layers.Dense(units=1, activation=\"sigmoid\"))\n",
        "\n",
        "    nn_model.compile(loss=\"binary_crossentropy\", optimizer='adam', metrics=[\"accuracy\"])\n",
        "    \n",
        "    return nn_model"
      ],
      "metadata": {
        "id": "suIbcDcbikfZ"
      },
      "execution_count": null,
      "outputs": []
    },
    {
      "cell_type": "code",
      "source": [
        "# Install & import the kerastuner library\n",
        "!pip install keras_tuner\n",
        "import keras_tuner as kt"
      ],
      "metadata": {
        "id": "zT-M6WnwkSGP",
        "colab": {
          "base_uri": "https://localhost:8080/"
        },
        "outputId": "76c7e85f-124b-4b53-db17-2cfd6e42ad98"
      },
      "execution_count": null,
      "outputs": [
        {
          "output_type": "stream",
          "name": "stdout",
          "text": [
            "Looking in indexes: https://pypi.org/simple, https://us-python.pkg.dev/colab-wheels/public/simple/\n",
            "Collecting keras_tuner\n",
            "  Downloading keras_tuner-1.3.5-py3-none-any.whl (176 kB)\n",
            "\u001b[2K     \u001b[90m━━━━━━━━━━━━━━━━━━━━━━━━━━━━━━━━━━━━━━━\u001b[0m \u001b[32m176.1/176.1 kB\u001b[0m \u001b[31m4.6 MB/s\u001b[0m eta \u001b[36m0:00:00\u001b[0m\n",
            "\u001b[?25hRequirement already satisfied: packaging in /usr/local/lib/python3.10/dist-packages (from keras_tuner) (23.1)\n",
            "Requirement already satisfied: requests in /usr/local/lib/python3.10/dist-packages (from keras_tuner) (2.27.1)\n",
            "Collecting kt-legacy (from keras_tuner)\n",
            "  Downloading kt_legacy-1.0.5-py3-none-any.whl (9.6 kB)\n",
            "Requirement already satisfied: urllib3<1.27,>=1.21.1 in /usr/local/lib/python3.10/dist-packages (from requests->keras_tuner) (1.26.15)\n",
            "Requirement already satisfied: certifi>=2017.4.17 in /usr/local/lib/python3.10/dist-packages (from requests->keras_tuner) (2022.12.7)\n",
            "Requirement already satisfied: charset-normalizer~=2.0.0 in /usr/local/lib/python3.10/dist-packages (from requests->keras_tuner) (2.0.12)\n",
            "Requirement already satisfied: idna<4,>=2.5 in /usr/local/lib/python3.10/dist-packages (from requests->keras_tuner) (3.4)\n",
            "Installing collected packages: kt-legacy, keras_tuner\n",
            "Successfully installed keras_tuner-1.3.5 kt-legacy-1.0.5\n"
          ]
        }
      ]
    },
    {
      "cell_type": "code",
      "source": [
        "tuner = kt.Hyperband(\n",
        "    create_model,\n",
        "    objective=\"accuracy\",\n",
        "    max_epochs=10,\n",
        "    hyperband_iterations=2)"
      ],
      "metadata": {
        "id": "WOH6a-1Sv7h8"
      },
      "execution_count": null,
      "outputs": []
    },
    {
      "cell_type": "code",
      "source": [
        "tuner.search(X_train_scaled1,y_train1,epochs=5,validation_data=(X_test_scaled1,y_test1), batch_size=16)"
      ],
      "metadata": {
        "id": "GpS-9dQZlIvX",
        "colab": {
          "base_uri": "https://localhost:8080/"
        },
        "outputId": "9f12ad7d-21d1-456e-c615-8e56c1a60ef0"
      },
      "execution_count": null,
      "outputs": [
        {
          "output_type": "stream",
          "name": "stdout",
          "text": [
            "Trial 60 Complete [00h 06m 24s]\n",
            "accuracy: 0.751545786857605\n",
            "\n",
            "Best accuracy So Far: 0.7543563842773438\n",
            "Total elapsed time: 02h 04m 51s\n"
          ]
        }
      ]
    },
    {
      "cell_type": "code",
      "source": [
        "top_hyper = tuner.get_best_hyperparameters(5)\n",
        "\n",
        "for param in top_hyper:\n",
        "    for key, value in param.values.items():\n",
        "        print(f\"{key}: {value}\")\n",
        "    print(\"- - -\")"
      ],
      "metadata": {
        "id": "Sgj-UoYhnxjE",
        "colab": {
          "base_uri": "https://localhost:8080/"
        },
        "outputId": "14afd2c9-f49d-4832-e3e0-fcdd1ef401ad"
      },
      "execution_count": null,
      "outputs": [
        {
          "metadata": {
            "tags": null
          },
          "name": "stdout",
          "output_type": "stream",
          "text": [
            "activation: relu\n",
            "first_units: 80\n",
            "num_layers: 5\n",
            "units_0: 1000\n",
            "units_1: 55\n",
            "units_2: 70\n",
            "units_3: 45\n",
            "units_4: 500\n",
            "units_5: 75\n",
            "tuner/epochs: 10\n",
            "tuner/initial_epoch: 4\n",
            "tuner/bracket: 2\n",
            "tuner/round: 2\n",
            "tuner/trial_id: 0042\n",
            "- - -\n",
            "activation: relu\n",
            "first_units: 140\n",
            "num_layers: 4\n",
            "units_0: 795\n",
            "units_1: 295\n",
            "units_2: 905\n",
            "units_3: 60\n",
            "units_4: 430\n",
            "units_5: 315\n",
            "tuner/epochs: 10\n",
            "tuner/initial_epoch: 0\n",
            "tuner/bracket: 0\n",
            "tuner/round: 0\n",
            "- - -\n",
            "activation: relu\n",
            "first_units: 320\n",
            "num_layers: 5\n",
            "units_0: 70\n",
            "units_1: 520\n",
            "units_2: 740\n",
            "units_3: 590\n",
            "units_4: 50\n",
            "units_5: 930\n",
            "tuner/epochs: 10\n",
            "tuner/initial_epoch: 4\n",
            "tuner/bracket: 2\n",
            "tuner/round: 2\n",
            "tuner/trial_id: 0045\n",
            "- - -\n",
            "activation: relu\n",
            "first_units: 265\n",
            "num_layers: 4\n",
            "units_0: 270\n",
            "units_1: 495\n",
            "units_2: 75\n",
            "units_3: 310\n",
            "units_4: 370\n",
            "units_5: 110\n",
            "tuner/epochs: 10\n",
            "tuner/initial_epoch: 4\n",
            "tuner/bracket: 2\n",
            "tuner/round: 2\n",
            "tuner/trial_id: 0013\n",
            "- - -\n",
            "activation: relu\n",
            "first_units: 470\n",
            "num_layers: 4\n",
            "units_0: 430\n",
            "units_1: 60\n",
            "units_2: 200\n",
            "units_3: 875\n",
            "units_4: 100\n",
            "units_5: 610\n",
            "tuner/epochs: 10\n",
            "tuner/initial_epoch: 4\n",
            "tuner/bracket: 1\n",
            "tuner/round: 1\n",
            "tuner/trial_id: 0018\n",
            "- - -\n"
          ]
        }
      ]
    },
    {
      "cell_type": "code",
      "execution_count": null,
      "metadata": {
        "id": "dbGci5K9Kvyi",
        "colab": {
          "base_uri": "https://localhost:8080/"
        },
        "outputId": "29675120-31da-4c5f-f574-8cd026646a57"
      },
      "outputs": [
        {
          "output_type": "stream",
          "name": "stdout",
          "text": [
            "Model: \"sequential_2\"\n",
            "_________________________________________________________________\n",
            " Layer (type)                Output Shape              Param #   \n",
            "=================================================================\n",
            " dense_14 (Dense)            (None, 80)                5600      \n",
            "                                                                 \n",
            " dense_15 (Dense)            (None, 1000)              81000     \n",
            "                                                                 \n",
            " dense_16 (Dense)            (None, 55)                55055     \n",
            "                                                                 \n",
            " dense_17 (Dense)            (None, 70)                3920      \n",
            "                                                                 \n",
            " dense_18 (Dense)            (None, 45)                3195      \n",
            "                                                                 \n",
            " dense_19 (Dense)            (None, 500)               23000     \n",
            "                                                                 \n",
            " dense_20 (Dense)            (None, 1)                 501       \n",
            "                                                                 \n",
            "=================================================================\n",
            "Total params: 172,271\n",
            "Trainable params: 172,271\n",
            "Non-trainable params: 0\n",
            "_________________________________________________________________\n"
          ]
        }
      ],
      "source": [
        "# Define the model - deep neural net, i.e., the number of input features and hidden nodes for each layer.\n",
        "nn_op2 = tf.keras.models.Sequential()\n",
        "\n",
        "# Take optimized hyperparams and make a model\n",
        "nn_op2.add(tf.keras.layers.Dense(units=top_hyper[0].values.get('first_units'), activation=top_hyper[0].values.get('activation'), input_dim=X_train_scaled1.shape[1]))\n",
        "for i in range(top_hyper[0].values.get('num_layers')):\n",
        "    nn_op2.add(tf.keras.layers.Dense(units=top_hyper[0].values.get(f'units_{i}'), activation=top_hyper[0].values.get('activation')))\n",
        "\n",
        "# Output layer\n",
        "nn_op2.add(tf.keras.layers.Dense(units=1, activation='sigmoid'))\n",
        "\n",
        "# Check the structure of the model\n",
        "nn_op2.summary()"
      ]
    },
    {
      "cell_type": "code",
      "execution_count": null,
      "metadata": {
        "id": "Fs0Qh2Y5Kvyi"
      },
      "outputs": [],
      "source": [
        "# Compile the model\n",
        "nn_op2.compile(loss='binary_crossentropy', optimizer='adam', metrics=['accuracy'])"
      ]
    },
    {
      "cell_type": "code",
      "execution_count": null,
      "metadata": {
        "id": "uYdr9zhqKvyj",
        "colab": {
          "base_uri": "https://localhost:8080/"
        },
        "outputId": "4309d30b-69a7-4c07-d9b7-744283a80a06"
      },
      "outputs": [
        {
          "output_type": "stream",
          "name": "stdout",
          "text": [
            "Epoch 1/100\n",
            "1224/1224 [==============================] - 10s 8ms/step - loss: 0.5363 - accuracy: 0.7461\n",
            "Epoch 2/100\n",
            "1224/1224 [==============================] - 7s 6ms/step - loss: 0.5303 - accuracy: 0.7498\n",
            "Epoch 3/100\n",
            "1224/1224 [==============================] - 7s 6ms/step - loss: 0.5290 - accuracy: 0.7475\n",
            "Epoch 4/100\n",
            "1224/1224 [==============================] - 6s 5ms/step - loss: 0.5258 - accuracy: 0.7489\n",
            "Epoch 5/100\n",
            "1224/1224 [==============================] - 8s 6ms/step - loss: 0.5267 - accuracy: 0.7507\n",
            "Epoch 6/100\n",
            "1224/1224 [==============================] - 6s 5ms/step - loss: 0.5237 - accuracy: 0.7536\n",
            "Epoch 7/100\n",
            "1224/1224 [==============================] - 8s 6ms/step - loss: 0.5233 - accuracy: 0.7519\n",
            "Epoch 8/100\n",
            "1224/1224 [==============================] - 6s 5ms/step - loss: 0.5228 - accuracy: 0.7515\n",
            "Epoch 9/100\n",
            "1224/1224 [==============================] - 8s 6ms/step - loss: 0.5216 - accuracy: 0.7517\n",
            "Epoch 10/100\n",
            "1224/1224 [==============================] - 6s 5ms/step - loss: 0.5207 - accuracy: 0.7533\n",
            "Epoch 11/100\n",
            "1224/1224 [==============================] - 9s 8ms/step - loss: 0.5216 - accuracy: 0.7510\n",
            "Epoch 12/100\n",
            "1224/1224 [==============================] - 6s 5ms/step - loss: 0.5200 - accuracy: 0.7534\n",
            "Epoch 13/100\n",
            "1224/1224 [==============================] - 7s 6ms/step - loss: 0.5198 - accuracy: 0.7534\n",
            "Epoch 14/100\n",
            "1224/1224 [==============================] - 6s 5ms/step - loss: 0.5191 - accuracy: 0.7542\n",
            "Epoch 15/100\n",
            "1224/1224 [==============================] - 7s 6ms/step - loss: 0.5184 - accuracy: 0.7544\n",
            "Epoch 16/100\n",
            "1224/1224 [==============================] - 7s 6ms/step - loss: 0.5188 - accuracy: 0.7550\n",
            "Epoch 17/100\n",
            "1224/1224 [==============================] - 7s 6ms/step - loss: 0.5182 - accuracy: 0.7557\n",
            "Epoch 18/100\n",
            "1224/1224 [==============================] - 7s 5ms/step - loss: 0.5169 - accuracy: 0.7546\n",
            "Epoch 19/100\n",
            "1224/1224 [==============================] - 8s 6ms/step - loss: 0.5178 - accuracy: 0.7555\n",
            "Epoch 20/100\n",
            "1224/1224 [==============================] - 7s 6ms/step - loss: 0.5173 - accuracy: 0.7555\n",
            "Epoch 21/100\n",
            "1224/1224 [==============================] - 6s 5ms/step - loss: 0.5166 - accuracy: 0.7555\n",
            "Epoch 22/100\n",
            "1224/1224 [==============================] - 7s 6ms/step - loss: 0.5168 - accuracy: 0.7550\n",
            "Epoch 23/100\n",
            "1224/1224 [==============================] - 6s 5ms/step - loss: 0.5156 - accuracy: 0.7553\n",
            "Epoch 24/100\n",
            "1224/1224 [==============================] - 7s 6ms/step - loss: 0.5149 - accuracy: 0.7569\n",
            "Epoch 25/100\n",
            "1224/1224 [==============================] - 6s 5ms/step - loss: 0.5149 - accuracy: 0.7546\n",
            "Epoch 26/100\n",
            "1224/1224 [==============================] - 7s 6ms/step - loss: 0.5155 - accuracy: 0.7530\n",
            "Epoch 27/100\n",
            "1224/1224 [==============================] - 6s 5ms/step - loss: 0.5150 - accuracy: 0.7555\n",
            "Epoch 28/100\n",
            "1224/1224 [==============================] - 7s 6ms/step - loss: 0.5158 - accuracy: 0.7561\n",
            "Epoch 29/100\n",
            "1224/1224 [==============================] - 6s 5ms/step - loss: 0.5141 - accuracy: 0.7554\n",
            "Epoch 30/100\n",
            "1224/1224 [==============================] - 7s 6ms/step - loss: 0.5151 - accuracy: 0.7557\n",
            "Epoch 31/100\n",
            "1224/1224 [==============================] - 6s 5ms/step - loss: 0.5142 - accuracy: 0.7569\n",
            "Epoch 32/100\n",
            "1224/1224 [==============================] - 8s 7ms/step - loss: 0.5138 - accuracy: 0.7568\n",
            "Epoch 33/100\n",
            "1224/1224 [==============================] - 6s 5ms/step - loss: 0.5137 - accuracy: 0.7554\n",
            "Epoch 34/100\n",
            "1224/1224 [==============================] - 7s 6ms/step - loss: 0.5147 - accuracy: 0.7552\n",
            "Epoch 35/100\n",
            "1224/1224 [==============================] - 8s 6ms/step - loss: 0.5142 - accuracy: 0.7554\n",
            "Epoch 36/100\n",
            "1224/1224 [==============================] - 7s 6ms/step - loss: 0.5128 - accuracy: 0.7550\n",
            "Epoch 37/100\n",
            "1224/1224 [==============================] - 7s 5ms/step - loss: 0.5146 - accuracy: 0.7558\n",
            "Epoch 38/100\n",
            "1224/1224 [==============================] - 8s 7ms/step - loss: 0.5141 - accuracy: 0.7552\n",
            "Epoch 39/100\n",
            "1224/1224 [==============================] - 9s 7ms/step - loss: 0.5140 - accuracy: 0.7555\n",
            "Epoch 40/100\n",
            "1224/1224 [==============================] - 6s 5ms/step - loss: 0.5131 - accuracy: 0.7558\n",
            "Epoch 41/100\n",
            "1224/1224 [==============================] - 7s 6ms/step - loss: 0.5127 - accuracy: 0.7557\n",
            "Epoch 42/100\n",
            "1224/1224 [==============================] - 6s 5ms/step - loss: 0.5139 - accuracy: 0.7576\n",
            "Epoch 43/100\n",
            "1224/1224 [==============================] - 7s 6ms/step - loss: 0.5116 - accuracy: 0.7571\n",
            "Epoch 44/100\n",
            "1224/1224 [==============================] - 6s 5ms/step - loss: 0.5115 - accuracy: 0.7561\n",
            "Epoch 45/100\n",
            "1224/1224 [==============================] - 7s 6ms/step - loss: 0.5115 - accuracy: 0.7577\n",
            "Epoch 46/100\n",
            "1224/1224 [==============================] - 6s 5ms/step - loss: 0.5112 - accuracy: 0.7567\n",
            "Epoch 47/100\n",
            "1224/1224 [==============================] - 7s 6ms/step - loss: 0.5132 - accuracy: 0.7575\n",
            "Epoch 48/100\n",
            "1224/1224 [==============================] - 6s 5ms/step - loss: 0.5123 - accuracy: 0.7557\n",
            "Epoch 49/100\n",
            "1224/1224 [==============================] - 7s 6ms/step - loss: 0.5115 - accuracy: 0.7570\n",
            "Epoch 50/100\n",
            "1224/1224 [==============================] - 6s 5ms/step - loss: 0.5118 - accuracy: 0.7593\n",
            "Epoch 51/100\n",
            "1224/1224 [==============================] - 7s 6ms/step - loss: 0.5112 - accuracy: 0.7569\n",
            "Epoch 52/100\n",
            "1224/1224 [==============================] - 6s 5ms/step - loss: 0.5117 - accuracy: 0.7564\n",
            "Epoch 53/100\n",
            "1224/1224 [==============================] - 7s 6ms/step - loss: 0.5108 - accuracy: 0.7570\n",
            "Epoch 54/100\n",
            "1224/1224 [==============================] - 6s 5ms/step - loss: 0.5124 - accuracy: 0.7567\n",
            "Epoch 55/100\n",
            "1224/1224 [==============================] - 7s 6ms/step - loss: 0.5146 - accuracy: 0.7556\n",
            "Epoch 56/100\n",
            "1224/1224 [==============================] - 6s 5ms/step - loss: 0.5095 - accuracy: 0.7583\n",
            "Epoch 57/100\n",
            "1224/1224 [==============================] - 7s 6ms/step - loss: 0.5121 - accuracy: 0.7569\n",
            "Epoch 58/100\n",
            "1224/1224 [==============================] - 6s 5ms/step - loss: 0.5131 - accuracy: 0.7576\n",
            "Epoch 59/100\n",
            "1224/1224 [==============================] - 8s 7ms/step - loss: 0.5129 - accuracy: 0.7573\n",
            "Epoch 60/100\n",
            "1224/1224 [==============================] - 7s 6ms/step - loss: 0.5110 - accuracy: 0.7561\n",
            "Epoch 61/100\n",
            "1224/1224 [==============================] - 6s 5ms/step - loss: 0.5191 - accuracy: 0.7562\n",
            "Epoch 62/100\n",
            "1224/1224 [==============================] - 7s 6ms/step - loss: 0.5105 - accuracy: 0.7573\n",
            "Epoch 63/100\n",
            "1224/1224 [==============================] - 6s 5ms/step - loss: 0.5157 - accuracy: 0.7585\n",
            "Epoch 64/100\n",
            "1224/1224 [==============================] - 7s 6ms/step - loss: 0.5120 - accuracy: 0.7580\n",
            "Epoch 65/100\n",
            "1224/1224 [==============================] - 6s 5ms/step - loss: 0.5100 - accuracy: 0.7582\n",
            "Epoch 66/100\n",
            "1224/1224 [==============================] - 7s 6ms/step - loss: 0.5113 - accuracy: 0.7551\n",
            "Epoch 67/100\n",
            "1224/1224 [==============================] - 6s 5ms/step - loss: 0.5107 - accuracy: 0.7578\n",
            "Epoch 68/100\n",
            "1224/1224 [==============================] - 7s 6ms/step - loss: 0.5123 - accuracy: 0.7565\n",
            "Epoch 69/100\n",
            "1224/1224 [==============================] - 6s 5ms/step - loss: 0.5109 - accuracy: 0.7570\n",
            "Epoch 70/100\n",
            "1224/1224 [==============================] - 8s 6ms/step - loss: 0.5093 - accuracy: 0.7572\n",
            "Epoch 71/100\n",
            "1224/1224 [==============================] - 6s 5ms/step - loss: 0.5156 - accuracy: 0.7575\n",
            "Epoch 72/100\n",
            "1224/1224 [==============================] - 7s 6ms/step - loss: 0.5102 - accuracy: 0.7571\n",
            "Epoch 73/100\n",
            "1224/1224 [==============================] - 7s 5ms/step - loss: 0.5134 - accuracy: 0.7577\n",
            "Epoch 74/100\n",
            "1224/1224 [==============================] - 8s 6ms/step - loss: 0.5101 - accuracy: 0.7565\n",
            "Epoch 75/100\n",
            "1224/1224 [==============================] - 6s 5ms/step - loss: 0.5110 - accuracy: 0.7569\n",
            "Epoch 76/100\n",
            "1224/1224 [==============================] - 7s 6ms/step - loss: 0.5107 - accuracy: 0.7578\n",
            "Epoch 77/100\n",
            "1224/1224 [==============================] - 6s 5ms/step - loss: 0.5106 - accuracy: 0.7578\n",
            "Epoch 78/100\n",
            "1224/1224 [==============================] - 7s 6ms/step - loss: 0.5111 - accuracy: 0.7580\n",
            "Epoch 79/100\n",
            "1224/1224 [==============================] - 7s 5ms/step - loss: 0.5123 - accuracy: 0.7562\n",
            "Epoch 80/100\n",
            "1224/1224 [==============================] - 7s 6ms/step - loss: 0.5098 - accuracy: 0.7583\n",
            "Epoch 81/100\n",
            "1224/1224 [==============================] - 7s 6ms/step - loss: 0.5094 - accuracy: 0.7581\n",
            "Epoch 82/100\n",
            "1224/1224 [==============================] - 7s 6ms/step - loss: 0.5107 - accuracy: 0.7571\n",
            "Epoch 83/100\n",
            "1224/1224 [==============================] - 7s 6ms/step - loss: 0.5112 - accuracy: 0.7588\n",
            "Epoch 84/100\n",
            "1224/1224 [==============================] - 8s 6ms/step - loss: 0.5158 - accuracy: 0.7502\n",
            "Epoch 85/100\n",
            "1224/1224 [==============================] - 6s 5ms/step - loss: 0.5132 - accuracy: 0.7556\n",
            "Epoch 86/100\n",
            "1224/1224 [==============================] - 7s 6ms/step - loss: 0.5115 - accuracy: 0.7568\n",
            "Epoch 87/100\n",
            "1224/1224 [==============================] - 7s 5ms/step - loss: 0.5102 - accuracy: 0.7580\n",
            "Epoch 88/100\n",
            "1224/1224 [==============================] - 7s 6ms/step - loss: 0.5096 - accuracy: 0.7594\n",
            "Epoch 89/100\n",
            "1224/1224 [==============================] - 7s 6ms/step - loss: 0.5101 - accuracy: 0.7583\n",
            "Epoch 90/100\n",
            "1224/1224 [==============================] - 7s 5ms/step - loss: 0.5143 - accuracy: 0.7573\n",
            "Epoch 91/100\n",
            "1224/1224 [==============================] - 7s 6ms/step - loss: 0.5133 - accuracy: 0.7554\n",
            "Epoch 92/100\n",
            "1224/1224 [==============================] - 6s 5ms/step - loss: 0.5106 - accuracy: 0.7573\n",
            "Epoch 93/100\n",
            "1224/1224 [==============================] - 7s 6ms/step - loss: 0.5097 - accuracy: 0.7568\n",
            "Epoch 94/100\n",
            "1224/1224 [==============================] - 6s 5ms/step - loss: 0.5147 - accuracy: 0.7573\n",
            "Epoch 95/100\n",
            "1224/1224 [==============================] - 7s 6ms/step - loss: 0.5088 - accuracy: 0.7585\n",
            "Epoch 96/100\n",
            "1224/1224 [==============================] - 6s 5ms/step - loss: 0.5087 - accuracy: 0.7594\n",
            "Epoch 97/100\n",
            "1224/1224 [==============================] - 7s 6ms/step - loss: 0.5084 - accuracy: 0.7584\n",
            "Epoch 98/100\n",
            "1224/1224 [==============================] - 6s 5ms/step - loss: 0.5138 - accuracy: 0.7579\n",
            "Epoch 99/100\n",
            "1224/1224 [==============================] - 7s 6ms/step - loss: 0.5110 - accuracy: 0.7582\n",
            "Epoch 100/100\n",
            "1224/1224 [==============================] - 6s 5ms/step - loss: 0.5089 - accuracy: 0.7600\n"
          ]
        }
      ],
      "source": [
        "# Train the model\n",
        "history = nn_op2.fit(X_train_scaled1, y_train1, epochs=100, verbose=1, batch_size=16)"
      ]
    },
    {
      "cell_type": "code",
      "execution_count": null,
      "metadata": {
        "id": "vSp7TNeKKvyj",
        "colab": {
          "base_uri": "https://localhost:8080/"
        },
        "outputId": "18e13d2b-b8d1-47c0-8138-395b62dbb14e"
      },
      "outputs": [
        {
          "output_type": "stream",
          "name": "stdout",
          "text": [
            "408/408 [==============================] - 1s 2ms/step - loss: 0.6784 - accuracy: 0.7362\n",
            "Loss: 0.6784164309501648, Accuracy: 0.7362048029899597\n"
          ]
        }
      ],
      "source": [
        "# Evaluate the model using the test data\n",
        "model_loss, model_accuracy = nn_op2.evaluate(X_test_scaled1,y_test1,verbose=1, batch_size=16)\n",
        "print(f\"Loss: {model_loss}, Accuracy: {model_accuracy}\")"
      ]
    },
    {
      "cell_type": "code",
      "execution_count": null,
      "metadata": {
        "id": "JVGVAcJ6Kvyj"
      },
      "outputs": [],
      "source": [
        "# Export our model to HDF5 file\n",
        "nn_op2.save('AlphabetSoupCharity_Optimization_2.h5')"
      ]
    }
  ],
  "metadata": {
    "kernelspec": {
      "display_name": "Python 3",
      "language": "python",
      "name": "python3"
    },
    "language_info": {
      "codemirror_mode": {
        "name": "ipython",
        "version": 3
      },
      "file_extension": ".py",
      "mimetype": "text/x-python",
      "name": "python",
      "nbconvert_exporter": "python",
      "pygments_lexer": "ipython3",
      "version": "3.-1.-1"
    },
    "vscode": {
      "interpreter": {
        "hash": "31f2aee4e71d21fbe5cf8b01ff0e069b9275f58929596ceb00d14d90e3e16cd6"
      }
    },
    "colab": {
      "provenance": []
    }
  },
  "nbformat": 4,
  "nbformat_minor": 0
}