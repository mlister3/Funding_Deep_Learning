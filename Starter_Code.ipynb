{
  "cells": [
    {
      "cell_type": "markdown",
      "metadata": {
        "id": "1luGE0ovKvyX"
      },
      "source": [
        "## Preprocessing"
      ]
    },
    {
      "cell_type": "code",
      "execution_count": 65,
      "metadata": {
        "colab": {
          "base_uri": "https://localhost:8080/",
          "height": 371
        },
        "id": "uIbKw_xTKvyZ",
        "outputId": "39916b55-ba69-4f16-e3c3-44c449186482"
      },
      "outputs": [
        {
          "output_type": "execute_result",
          "data": {
            "text/plain": [
              "        EIN                                      NAME APPLICATION_TYPE  \\\n",
              "0  10520599              BLUE KNIGHTS MOTORCYCLE CLUB              T10   \n",
              "1  10531628    AMERICAN CHESAPEAKE CLUB CHARITABLE TR               T3   \n",
              "2  10547893        ST CLOUD PROFESSIONAL FIREFIGHTERS               T5   \n",
              "3  10553066            SOUTHSIDE ATHLETIC ASSOCIATION               T3   \n",
              "4  10556103  GENETIC RESEARCH INSTITUTE OF THE DESERT               T3   \n",
              "\n",
              "        AFFILIATION CLASSIFICATION      USE_CASE  ORGANIZATION  STATUS  \\\n",
              "0       Independent          C1000    ProductDev   Association       1   \n",
              "1       Independent          C2000  Preservation  Co-operative       1   \n",
              "2  CompanySponsored          C3000    ProductDev   Association       1   \n",
              "3  CompanySponsored          C2000  Preservation         Trust       1   \n",
              "4       Independent          C1000     Heathcare         Trust       1   \n",
              "\n",
              "      INCOME_AMT SPECIAL_CONSIDERATIONS  ASK_AMT  IS_SUCCESSFUL  \n",
              "0              0                      N     5000              1  \n",
              "1         1-9999                      N   108590              1  \n",
              "2              0                      N     5000              0  \n",
              "3    10000-24999                      N     6692              1  \n",
              "4  100000-499999                      N   142590              1  "
            ],
            "text/html": [
              "\n",
              "  <div id=\"df-63955d35-6240-4c6b-9688-4af6a8293452\">\n",
              "    <div class=\"colab-df-container\">\n",
              "      <div>\n",
              "<style scoped>\n",
              "    .dataframe tbody tr th:only-of-type {\n",
              "        vertical-align: middle;\n",
              "    }\n",
              "\n",
              "    .dataframe tbody tr th {\n",
              "        vertical-align: top;\n",
              "    }\n",
              "\n",
              "    .dataframe thead th {\n",
              "        text-align: right;\n",
              "    }\n",
              "</style>\n",
              "<table border=\"1\" class=\"dataframe\">\n",
              "  <thead>\n",
              "    <tr style=\"text-align: right;\">\n",
              "      <th></th>\n",
              "      <th>EIN</th>\n",
              "      <th>NAME</th>\n",
              "      <th>APPLICATION_TYPE</th>\n",
              "      <th>AFFILIATION</th>\n",
              "      <th>CLASSIFICATION</th>\n",
              "      <th>USE_CASE</th>\n",
              "      <th>ORGANIZATION</th>\n",
              "      <th>STATUS</th>\n",
              "      <th>INCOME_AMT</th>\n",
              "      <th>SPECIAL_CONSIDERATIONS</th>\n",
              "      <th>ASK_AMT</th>\n",
              "      <th>IS_SUCCESSFUL</th>\n",
              "    </tr>\n",
              "  </thead>\n",
              "  <tbody>\n",
              "    <tr>\n",
              "      <th>0</th>\n",
              "      <td>10520599</td>\n",
              "      <td>BLUE KNIGHTS MOTORCYCLE CLUB</td>\n",
              "      <td>T10</td>\n",
              "      <td>Independent</td>\n",
              "      <td>C1000</td>\n",
              "      <td>ProductDev</td>\n",
              "      <td>Association</td>\n",
              "      <td>1</td>\n",
              "      <td>0</td>\n",
              "      <td>N</td>\n",
              "      <td>5000</td>\n",
              "      <td>1</td>\n",
              "    </tr>\n",
              "    <tr>\n",
              "      <th>1</th>\n",
              "      <td>10531628</td>\n",
              "      <td>AMERICAN CHESAPEAKE CLUB CHARITABLE TR</td>\n",
              "      <td>T3</td>\n",
              "      <td>Independent</td>\n",
              "      <td>C2000</td>\n",
              "      <td>Preservation</td>\n",
              "      <td>Co-operative</td>\n",
              "      <td>1</td>\n",
              "      <td>1-9999</td>\n",
              "      <td>N</td>\n",
              "      <td>108590</td>\n",
              "      <td>1</td>\n",
              "    </tr>\n",
              "    <tr>\n",
              "      <th>2</th>\n",
              "      <td>10547893</td>\n",
              "      <td>ST CLOUD PROFESSIONAL FIREFIGHTERS</td>\n",
              "      <td>T5</td>\n",
              "      <td>CompanySponsored</td>\n",
              "      <td>C3000</td>\n",
              "      <td>ProductDev</td>\n",
              "      <td>Association</td>\n",
              "      <td>1</td>\n",
              "      <td>0</td>\n",
              "      <td>N</td>\n",
              "      <td>5000</td>\n",
              "      <td>0</td>\n",
              "    </tr>\n",
              "    <tr>\n",
              "      <th>3</th>\n",
              "      <td>10553066</td>\n",
              "      <td>SOUTHSIDE ATHLETIC ASSOCIATION</td>\n",
              "      <td>T3</td>\n",
              "      <td>CompanySponsored</td>\n",
              "      <td>C2000</td>\n",
              "      <td>Preservation</td>\n",
              "      <td>Trust</td>\n",
              "      <td>1</td>\n",
              "      <td>10000-24999</td>\n",
              "      <td>N</td>\n",
              "      <td>6692</td>\n",
              "      <td>1</td>\n",
              "    </tr>\n",
              "    <tr>\n",
              "      <th>4</th>\n",
              "      <td>10556103</td>\n",
              "      <td>GENETIC RESEARCH INSTITUTE OF THE DESERT</td>\n",
              "      <td>T3</td>\n",
              "      <td>Independent</td>\n",
              "      <td>C1000</td>\n",
              "      <td>Heathcare</td>\n",
              "      <td>Trust</td>\n",
              "      <td>1</td>\n",
              "      <td>100000-499999</td>\n",
              "      <td>N</td>\n",
              "      <td>142590</td>\n",
              "      <td>1</td>\n",
              "    </tr>\n",
              "  </tbody>\n",
              "</table>\n",
              "</div>\n",
              "      <button class=\"colab-df-convert\" onclick=\"convertToInteractive('df-63955d35-6240-4c6b-9688-4af6a8293452')\"\n",
              "              title=\"Convert this dataframe to an interactive table.\"\n",
              "              style=\"display:none;\">\n",
              "        \n",
              "  <svg xmlns=\"http://www.w3.org/2000/svg\" height=\"24px\"viewBox=\"0 0 24 24\"\n",
              "       width=\"24px\">\n",
              "    <path d=\"M0 0h24v24H0V0z\" fill=\"none\"/>\n",
              "    <path d=\"M18.56 5.44l.94 2.06.94-2.06 2.06-.94-2.06-.94-.94-2.06-.94 2.06-2.06.94zm-11 1L8.5 8.5l.94-2.06 2.06-.94-2.06-.94L8.5 2.5l-.94 2.06-2.06.94zm10 10l.94 2.06.94-2.06 2.06-.94-2.06-.94-.94-2.06-.94 2.06-2.06.94z\"/><path d=\"M17.41 7.96l-1.37-1.37c-.4-.4-.92-.59-1.43-.59-.52 0-1.04.2-1.43.59L10.3 9.45l-7.72 7.72c-.78.78-.78 2.05 0 2.83L4 21.41c.39.39.9.59 1.41.59.51 0 1.02-.2 1.41-.59l7.78-7.78 2.81-2.81c.8-.78.8-2.07 0-2.86zM5.41 20L4 18.59l7.72-7.72 1.47 1.35L5.41 20z\"/>\n",
              "  </svg>\n",
              "      </button>\n",
              "      \n",
              "  <style>\n",
              "    .colab-df-container {\n",
              "      display:flex;\n",
              "      flex-wrap:wrap;\n",
              "      gap: 12px;\n",
              "    }\n",
              "\n",
              "    .colab-df-convert {\n",
              "      background-color: #E8F0FE;\n",
              "      border: none;\n",
              "      border-radius: 50%;\n",
              "      cursor: pointer;\n",
              "      display: none;\n",
              "      fill: #1967D2;\n",
              "      height: 32px;\n",
              "      padding: 0 0 0 0;\n",
              "      width: 32px;\n",
              "    }\n",
              "\n",
              "    .colab-df-convert:hover {\n",
              "      background-color: #E2EBFA;\n",
              "      box-shadow: 0px 1px 2px rgba(60, 64, 67, 0.3), 0px 1px 3px 1px rgba(60, 64, 67, 0.15);\n",
              "      fill: #174EA6;\n",
              "    }\n",
              "\n",
              "    [theme=dark] .colab-df-convert {\n",
              "      background-color: #3B4455;\n",
              "      fill: #D2E3FC;\n",
              "    }\n",
              "\n",
              "    [theme=dark] .colab-df-convert:hover {\n",
              "      background-color: #434B5C;\n",
              "      box-shadow: 0px 1px 3px 1px rgba(0, 0, 0, 0.15);\n",
              "      filter: drop-shadow(0px 1px 2px rgba(0, 0, 0, 0.3));\n",
              "      fill: #FFFFFF;\n",
              "    }\n",
              "  </style>\n",
              "\n",
              "      <script>\n",
              "        const buttonEl =\n",
              "          document.querySelector('#df-63955d35-6240-4c6b-9688-4af6a8293452 button.colab-df-convert');\n",
              "        buttonEl.style.display =\n",
              "          google.colab.kernel.accessAllowed ? 'block' : 'none';\n",
              "\n",
              "        async function convertToInteractive(key) {\n",
              "          const element = document.querySelector('#df-63955d35-6240-4c6b-9688-4af6a8293452');\n",
              "          const dataTable =\n",
              "            await google.colab.kernel.invokeFunction('convertToInteractive',\n",
              "                                                     [key], {});\n",
              "          if (!dataTable) return;\n",
              "\n",
              "          const docLinkHtml = 'Like what you see? Visit the ' +\n",
              "            '<a target=\"_blank\" href=https://colab.research.google.com/notebooks/data_table.ipynb>data table notebook</a>'\n",
              "            + ' to learn more about interactive tables.';\n",
              "          element.innerHTML = '';\n",
              "          dataTable['output_type'] = 'display_data';\n",
              "          await google.colab.output.renderOutput(dataTable, element);\n",
              "          const docLink = document.createElement('div');\n",
              "          docLink.innerHTML = docLinkHtml;\n",
              "          element.appendChild(docLink);\n",
              "        }\n",
              "      </script>\n",
              "    </div>\n",
              "  </div>\n",
              "  "
            ]
          },
          "metadata": {},
          "execution_count": 65
        }
      ],
      "source": [
        "# Import our dependencies\n",
        "from sklearn.model_selection import train_test_split\n",
        "from sklearn.preprocessing import StandardScaler\n",
        "import pandas as pd\n",
        "import tensorflow as tf\n",
        "\n",
        "#  Import and read the charity_data.csv.\n",
        "application_df = pd.read_csv(\"https://static.bc-edx.com/data/dl-1-2/m21/lms/starter/charity_data.csv\")\n",
        "application_df.head(5)"
      ]
    },
    {
      "cell_type": "code",
      "execution_count": 66,
      "metadata": {
        "id": "oBVH6xjsKvyb"
      },
      "outputs": [],
      "source": [
        "# Drop the non-beneficial ID columns, 'EIN' and 'NAME'.\n",
        "application_df = application_df.drop(['EIN', 'NAME'], axis=1)\n",
        "application_df_copy = application_df.copy()"
      ]
    },
    {
      "cell_type": "code",
      "execution_count": 67,
      "metadata": {
        "colab": {
          "base_uri": "https://localhost:8080/"
        },
        "id": "hld8LlbtKvyc",
        "outputId": "8893df27-43d4-40b2-eae1-d7c7f1c52f69"
      },
      "outputs": [
        {
          "output_type": "execute_result",
          "data": {
            "text/plain": [
              "APPLICATION_TYPE            17\n",
              "AFFILIATION                  6\n",
              "CLASSIFICATION              71\n",
              "USE_CASE                     5\n",
              "ORGANIZATION                 4\n",
              "STATUS                       2\n",
              "INCOME_AMT                   9\n",
              "SPECIAL_CONSIDERATIONS       2\n",
              "ASK_AMT                   8747\n",
              "IS_SUCCESSFUL                2\n",
              "dtype: int64"
            ]
          },
          "metadata": {},
          "execution_count": 67
        }
      ],
      "source": [
        "# Determine the number of unique values in each column.\n",
        "application_df.nunique()"
      ]
    },
    {
      "cell_type": "code",
      "execution_count": 68,
      "metadata": {
        "colab": {
          "base_uri": "https://localhost:8080/"
        },
        "id": "qTx22cthKvyd",
        "outputId": "a6793f22-2a0b-4010-93b3-1550d7f246b1"
      },
      "outputs": [
        {
          "output_type": "execute_result",
          "data": {
            "text/plain": [
              "T3     27037\n",
              "T4      1542\n",
              "T6      1216\n",
              "T5      1173\n",
              "T19     1065\n",
              "T8       737\n",
              "T7       725\n",
              "T10      528\n",
              "T9       156\n",
              "T13       66\n",
              "T12       27\n",
              "T2        16\n",
              "T25        3\n",
              "T14        3\n",
              "T29        2\n",
              "T15        2\n",
              "T17        1\n",
              "Name: APPLICATION_TYPE, dtype: int64"
            ]
          },
          "metadata": {},
          "execution_count": 68
        }
      ],
      "source": [
        "# Look at APPLICATION_TYPE value counts for binning\n",
        "application_df['APPLICATION_TYPE'].value_counts()"
      ]
    },
    {
      "cell_type": "code",
      "execution_count": 69,
      "metadata": {
        "colab": {
          "base_uri": "https://localhost:8080/"
        },
        "id": "2hp0X2j_Kvye",
        "outputId": "0f5fbd82-b71d-4c99-a4de-ac1940033190"
      },
      "outputs": [
        {
          "output_type": "execute_result",
          "data": {
            "text/plain": [
              "T3       27037\n",
              "T4        1542\n",
              "T6        1216\n",
              "T5        1173\n",
              "T19       1065\n",
              "T8         737\n",
              "T7         725\n",
              "T10        528\n",
              "Other      276\n",
              "Name: APPLICATION_TYPE, dtype: int64"
            ]
          },
          "metadata": {},
          "execution_count": 69
        }
      ],
      "source": [
        "# Choose a cutoff value and create a list of application types to be replaced\n",
        "# use the variable name `application_types_to_replace`\n",
        "cutoff_value = 500\n",
        "application_types_to_replace = application_df['APPLICATION_TYPE'].value_counts()[application_df['APPLICATION_TYPE'].value_counts() < cutoff_value].index.tolist()\n",
        "\n",
        "# Replace in dataframe\n",
        "for app in application_types_to_replace:\n",
        "    application_df['APPLICATION_TYPE'] = application_df['APPLICATION_TYPE'].replace(app,\"Other\")\n",
        "\n",
        "# Check to make sure binning was successful\n",
        "application_df['APPLICATION_TYPE'].value_counts()"
      ]
    },
    {
      "cell_type": "code",
      "execution_count": 70,
      "metadata": {
        "colab": {
          "base_uri": "https://localhost:8080/"
        },
        "id": "rxlZilgMKvyf",
        "outputId": "941c3466-9925-4fd9-985a-d5eb61bb6423"
      },
      "outputs": [
        {
          "output_type": "execute_result",
          "data": {
            "text/plain": [
              "C1000    17326\n",
              "C2000     6074\n",
              "C1200     4837\n",
              "C3000     1918\n",
              "C2100     1883\n",
              "         ...  \n",
              "C4120        1\n",
              "C8210        1\n",
              "C2561        1\n",
              "C4500        1\n",
              "C2150        1\n",
              "Name: CLASSIFICATION, Length: 71, dtype: int64"
            ]
          },
          "metadata": {},
          "execution_count": 70
        }
      ],
      "source": [
        "# Look at CLASSIFICATION value counts for binning\n",
        "application_df['CLASSIFICATION'].value_counts()"
      ]
    },
    {
      "cell_type": "code",
      "execution_count": 71,
      "metadata": {
        "colab": {
          "base_uri": "https://localhost:8080/"
        },
        "id": "cxA_HNVhKvyf",
        "outputId": "b1eaff5e-8a91-4f24-fa7d-68cc10c05e9a"
      },
      "outputs": [
        {
          "output_type": "execute_result",
          "data": {
            "text/plain": [
              "C1000    17326\n",
              "C2000     6074\n",
              "C1200     4837\n",
              "C3000     1918\n",
              "C2100     1883\n",
              "C7000      777\n",
              "C1700      287\n",
              "C4000      194\n",
              "C5000      116\n",
              "C1270      114\n",
              "C2700      104\n",
              "C2800       95\n",
              "C7100       75\n",
              "C1300       58\n",
              "C1280       50\n",
              "C1230       36\n",
              "C1400       34\n",
              "C7200       32\n",
              "C2300       32\n",
              "C1240       30\n",
              "C8000       20\n",
              "C7120       18\n",
              "C1500       16\n",
              "C1800       15\n",
              "C6000       15\n",
              "C1250       14\n",
              "C8200       11\n",
              "C1238       10\n",
              "C1278       10\n",
              "C1235        9\n",
              "C1237        9\n",
              "C7210        7\n",
              "C2400        6\n",
              "C1720        6\n",
              "C4100        6\n",
              "C1257        5\n",
              "C1600        5\n",
              "C1260        3\n",
              "C2710        3\n",
              "C0           3\n",
              "C3200        2\n",
              "C1234        2\n",
              "C1246        2\n",
              "C1267        2\n",
              "C1256        2\n",
              "Name: CLASSIFICATION, dtype: int64"
            ]
          },
          "metadata": {},
          "execution_count": 71
        }
      ],
      "source": [
        "# You may find it helpful to look at CLASSIFICATION value counts >1\n",
        "classification_counts = application_df['CLASSIFICATION'].value_counts()\n",
        "classification_counts[classification_counts > 1]"
      ]
    },
    {
      "cell_type": "code",
      "execution_count": 72,
      "metadata": {
        "colab": {
          "base_uri": "https://localhost:8080/"
        },
        "id": "F6-69P70Kvyg",
        "outputId": "3b2f1a17-7eab-4d1f-908d-910b6cb0a118"
      },
      "outputs": [
        {
          "output_type": "execute_result",
          "data": {
            "text/plain": [
              "C1000    17326\n",
              "C2000     6074\n",
              "C1200     4837\n",
              "C3000     1918\n",
              "C2100     1883\n",
              "Other     1484\n",
              "C7000      777\n",
              "Name: CLASSIFICATION, dtype: int64"
            ]
          },
          "metadata": {},
          "execution_count": 72
        }
      ],
      "source": [
        "# Choose a cutoff value and create a list of classifications to be replaced\n",
        "# use the variable name `classifications_to_replace`\n",
        "cutoff_value = 500\n",
        "classifications_to_replace = application_df['CLASSIFICATION'].value_counts()[application_df['CLASSIFICATION'].value_counts() < cutoff_value].index.tolist()\n",
        "\n",
        "# Replace in dataframe\n",
        "for cls in classifications_to_replace:\n",
        "    application_df['CLASSIFICATION'] = application_df['CLASSIFICATION'].replace(cls,\"Other\")\n",
        "    \n",
        "# Check to make sure binning was successful\n",
        "application_df['CLASSIFICATION'].value_counts()"
      ]
    },
    {
      "cell_type": "code",
      "execution_count": 73,
      "metadata": {
        "colab": {
          "base_uri": "https://localhost:8080/",
          "height": 317
        },
        "id": "6EL377mWKvyg",
        "outputId": "fd62f830-3dcf-4e3a-e0ea-9a04325a04bc"
      },
      "outputs": [
        {
          "output_type": "execute_result",
          "data": {
            "text/plain": [
              "   STATUS  ASK_AMT  IS_SUCCESSFUL  APPLICATION_TYPE_Other  \\\n",
              "0       1     5000              1                       0   \n",
              "1       1   108590              1                       0   \n",
              "2       1     5000              0                       0   \n",
              "3       1     6692              1                       0   \n",
              "4       1   142590              1                       0   \n",
              "\n",
              "   APPLICATION_TYPE_T10  APPLICATION_TYPE_T19  APPLICATION_TYPE_T3  \\\n",
              "0                     1                     0                    0   \n",
              "1                     0                     0                    1   \n",
              "2                     0                     0                    0   \n",
              "3                     0                     0                    1   \n",
              "4                     0                     0                    1   \n",
              "\n",
              "   APPLICATION_TYPE_T4  APPLICATION_TYPE_T5  APPLICATION_TYPE_T6  ...  \\\n",
              "0                    0                    0                    0  ...   \n",
              "1                    0                    0                    0  ...   \n",
              "2                    0                    1                    0  ...   \n",
              "3                    0                    0                    0  ...   \n",
              "4                    0                    0                    0  ...   \n",
              "\n",
              "   INCOME_AMT_1-9999  INCOME_AMT_10000-24999  INCOME_AMT_100000-499999  \\\n",
              "0                  0                       0                         0   \n",
              "1                  1                       0                         0   \n",
              "2                  0                       0                         0   \n",
              "3                  0                       1                         0   \n",
              "4                  0                       0                         1   \n",
              "\n",
              "   INCOME_AMT_10M-50M  INCOME_AMT_1M-5M  INCOME_AMT_25000-99999  \\\n",
              "0                   0                 0                       0   \n",
              "1                   0                 0                       0   \n",
              "2                   0                 0                       0   \n",
              "3                   0                 0                       0   \n",
              "4                   0                 0                       0   \n",
              "\n",
              "   INCOME_AMT_50M+  INCOME_AMT_5M-10M  SPECIAL_CONSIDERATIONS_N  \\\n",
              "0                0                  0                         1   \n",
              "1                0                  0                         1   \n",
              "2                0                  0                         1   \n",
              "3                0                  0                         1   \n",
              "4                0                  0                         1   \n",
              "\n",
              "   SPECIAL_CONSIDERATIONS_Y  \n",
              "0                         0  \n",
              "1                         0  \n",
              "2                         0  \n",
              "3                         0  \n",
              "4                         0  \n",
              "\n",
              "[5 rows x 45 columns]"
            ],
            "text/html": [
              "\n",
              "  <div id=\"df-7e0b3575-6716-4b8f-8559-fd601dedb7d8\">\n",
              "    <div class=\"colab-df-container\">\n",
              "      <div>\n",
              "<style scoped>\n",
              "    .dataframe tbody tr th:only-of-type {\n",
              "        vertical-align: middle;\n",
              "    }\n",
              "\n",
              "    .dataframe tbody tr th {\n",
              "        vertical-align: top;\n",
              "    }\n",
              "\n",
              "    .dataframe thead th {\n",
              "        text-align: right;\n",
              "    }\n",
              "</style>\n",
              "<table border=\"1\" class=\"dataframe\">\n",
              "  <thead>\n",
              "    <tr style=\"text-align: right;\">\n",
              "      <th></th>\n",
              "      <th>STATUS</th>\n",
              "      <th>ASK_AMT</th>\n",
              "      <th>IS_SUCCESSFUL</th>\n",
              "      <th>APPLICATION_TYPE_Other</th>\n",
              "      <th>APPLICATION_TYPE_T10</th>\n",
              "      <th>APPLICATION_TYPE_T19</th>\n",
              "      <th>APPLICATION_TYPE_T3</th>\n",
              "      <th>APPLICATION_TYPE_T4</th>\n",
              "      <th>APPLICATION_TYPE_T5</th>\n",
              "      <th>APPLICATION_TYPE_T6</th>\n",
              "      <th>...</th>\n",
              "      <th>INCOME_AMT_1-9999</th>\n",
              "      <th>INCOME_AMT_10000-24999</th>\n",
              "      <th>INCOME_AMT_100000-499999</th>\n",
              "      <th>INCOME_AMT_10M-50M</th>\n",
              "      <th>INCOME_AMT_1M-5M</th>\n",
              "      <th>INCOME_AMT_25000-99999</th>\n",
              "      <th>INCOME_AMT_50M+</th>\n",
              "      <th>INCOME_AMT_5M-10M</th>\n",
              "      <th>SPECIAL_CONSIDERATIONS_N</th>\n",
              "      <th>SPECIAL_CONSIDERATIONS_Y</th>\n",
              "    </tr>\n",
              "  </thead>\n",
              "  <tbody>\n",
              "    <tr>\n",
              "      <th>0</th>\n",
              "      <td>1</td>\n",
              "      <td>5000</td>\n",
              "      <td>1</td>\n",
              "      <td>0</td>\n",
              "      <td>1</td>\n",
              "      <td>0</td>\n",
              "      <td>0</td>\n",
              "      <td>0</td>\n",
              "      <td>0</td>\n",
              "      <td>0</td>\n",
              "      <td>...</td>\n",
              "      <td>0</td>\n",
              "      <td>0</td>\n",
              "      <td>0</td>\n",
              "      <td>0</td>\n",
              "      <td>0</td>\n",
              "      <td>0</td>\n",
              "      <td>0</td>\n",
              "      <td>0</td>\n",
              "      <td>1</td>\n",
              "      <td>0</td>\n",
              "    </tr>\n",
              "    <tr>\n",
              "      <th>1</th>\n",
              "      <td>1</td>\n",
              "      <td>108590</td>\n",
              "      <td>1</td>\n",
              "      <td>0</td>\n",
              "      <td>0</td>\n",
              "      <td>0</td>\n",
              "      <td>1</td>\n",
              "      <td>0</td>\n",
              "      <td>0</td>\n",
              "      <td>0</td>\n",
              "      <td>...</td>\n",
              "      <td>1</td>\n",
              "      <td>0</td>\n",
              "      <td>0</td>\n",
              "      <td>0</td>\n",
              "      <td>0</td>\n",
              "      <td>0</td>\n",
              "      <td>0</td>\n",
              "      <td>0</td>\n",
              "      <td>1</td>\n",
              "      <td>0</td>\n",
              "    </tr>\n",
              "    <tr>\n",
              "      <th>2</th>\n",
              "      <td>1</td>\n",
              "      <td>5000</td>\n",
              "      <td>0</td>\n",
              "      <td>0</td>\n",
              "      <td>0</td>\n",
              "      <td>0</td>\n",
              "      <td>0</td>\n",
              "      <td>0</td>\n",
              "      <td>1</td>\n",
              "      <td>0</td>\n",
              "      <td>...</td>\n",
              "      <td>0</td>\n",
              "      <td>0</td>\n",
              "      <td>0</td>\n",
              "      <td>0</td>\n",
              "      <td>0</td>\n",
              "      <td>0</td>\n",
              "      <td>0</td>\n",
              "      <td>0</td>\n",
              "      <td>1</td>\n",
              "      <td>0</td>\n",
              "    </tr>\n",
              "    <tr>\n",
              "      <th>3</th>\n",
              "      <td>1</td>\n",
              "      <td>6692</td>\n",
              "      <td>1</td>\n",
              "      <td>0</td>\n",
              "      <td>0</td>\n",
              "      <td>0</td>\n",
              "      <td>1</td>\n",
              "      <td>0</td>\n",
              "      <td>0</td>\n",
              "      <td>0</td>\n",
              "      <td>...</td>\n",
              "      <td>0</td>\n",
              "      <td>1</td>\n",
              "      <td>0</td>\n",
              "      <td>0</td>\n",
              "      <td>0</td>\n",
              "      <td>0</td>\n",
              "      <td>0</td>\n",
              "      <td>0</td>\n",
              "      <td>1</td>\n",
              "      <td>0</td>\n",
              "    </tr>\n",
              "    <tr>\n",
              "      <th>4</th>\n",
              "      <td>1</td>\n",
              "      <td>142590</td>\n",
              "      <td>1</td>\n",
              "      <td>0</td>\n",
              "      <td>0</td>\n",
              "      <td>0</td>\n",
              "      <td>1</td>\n",
              "      <td>0</td>\n",
              "      <td>0</td>\n",
              "      <td>0</td>\n",
              "      <td>...</td>\n",
              "      <td>0</td>\n",
              "      <td>0</td>\n",
              "      <td>1</td>\n",
              "      <td>0</td>\n",
              "      <td>0</td>\n",
              "      <td>0</td>\n",
              "      <td>0</td>\n",
              "      <td>0</td>\n",
              "      <td>1</td>\n",
              "      <td>0</td>\n",
              "    </tr>\n",
              "  </tbody>\n",
              "</table>\n",
              "<p>5 rows × 45 columns</p>\n",
              "</div>\n",
              "      <button class=\"colab-df-convert\" onclick=\"convertToInteractive('df-7e0b3575-6716-4b8f-8559-fd601dedb7d8')\"\n",
              "              title=\"Convert this dataframe to an interactive table.\"\n",
              "              style=\"display:none;\">\n",
              "        \n",
              "  <svg xmlns=\"http://www.w3.org/2000/svg\" height=\"24px\"viewBox=\"0 0 24 24\"\n",
              "       width=\"24px\">\n",
              "    <path d=\"M0 0h24v24H0V0z\" fill=\"none\"/>\n",
              "    <path d=\"M18.56 5.44l.94 2.06.94-2.06 2.06-.94-2.06-.94-.94-2.06-.94 2.06-2.06.94zm-11 1L8.5 8.5l.94-2.06 2.06-.94-2.06-.94L8.5 2.5l-.94 2.06-2.06.94zm10 10l.94 2.06.94-2.06 2.06-.94-2.06-.94-.94-2.06-.94 2.06-2.06.94z\"/><path d=\"M17.41 7.96l-1.37-1.37c-.4-.4-.92-.59-1.43-.59-.52 0-1.04.2-1.43.59L10.3 9.45l-7.72 7.72c-.78.78-.78 2.05 0 2.83L4 21.41c.39.39.9.59 1.41.59.51 0 1.02-.2 1.41-.59l7.78-7.78 2.81-2.81c.8-.78.8-2.07 0-2.86zM5.41 20L4 18.59l7.72-7.72 1.47 1.35L5.41 20z\"/>\n",
              "  </svg>\n",
              "      </button>\n",
              "      \n",
              "  <style>\n",
              "    .colab-df-container {\n",
              "      display:flex;\n",
              "      flex-wrap:wrap;\n",
              "      gap: 12px;\n",
              "    }\n",
              "\n",
              "    .colab-df-convert {\n",
              "      background-color: #E8F0FE;\n",
              "      border: none;\n",
              "      border-radius: 50%;\n",
              "      cursor: pointer;\n",
              "      display: none;\n",
              "      fill: #1967D2;\n",
              "      height: 32px;\n",
              "      padding: 0 0 0 0;\n",
              "      width: 32px;\n",
              "    }\n",
              "\n",
              "    .colab-df-convert:hover {\n",
              "      background-color: #E2EBFA;\n",
              "      box-shadow: 0px 1px 2px rgba(60, 64, 67, 0.3), 0px 1px 3px 1px rgba(60, 64, 67, 0.15);\n",
              "      fill: #174EA6;\n",
              "    }\n",
              "\n",
              "    [theme=dark] .colab-df-convert {\n",
              "      background-color: #3B4455;\n",
              "      fill: #D2E3FC;\n",
              "    }\n",
              "\n",
              "    [theme=dark] .colab-df-convert:hover {\n",
              "      background-color: #434B5C;\n",
              "      box-shadow: 0px 1px 3px 1px rgba(0, 0, 0, 0.15);\n",
              "      filter: drop-shadow(0px 1px 2px rgba(0, 0, 0, 0.3));\n",
              "      fill: #FFFFFF;\n",
              "    }\n",
              "  </style>\n",
              "\n",
              "      <script>\n",
              "        const buttonEl =\n",
              "          document.querySelector('#df-7e0b3575-6716-4b8f-8559-fd601dedb7d8 button.colab-df-convert');\n",
              "        buttonEl.style.display =\n",
              "          google.colab.kernel.accessAllowed ? 'block' : 'none';\n",
              "\n",
              "        async function convertToInteractive(key) {\n",
              "          const element = document.querySelector('#df-7e0b3575-6716-4b8f-8559-fd601dedb7d8');\n",
              "          const dataTable =\n",
              "            await google.colab.kernel.invokeFunction('convertToInteractive',\n",
              "                                                     [key], {});\n",
              "          if (!dataTable) return;\n",
              "\n",
              "          const docLinkHtml = 'Like what you see? Visit the ' +\n",
              "            '<a target=\"_blank\" href=https://colab.research.google.com/notebooks/data_table.ipynb>data table notebook</a>'\n",
              "            + ' to learn more about interactive tables.';\n",
              "          element.innerHTML = '';\n",
              "          dataTable['output_type'] = 'display_data';\n",
              "          await google.colab.output.renderOutput(dataTable, element);\n",
              "          const docLink = document.createElement('div');\n",
              "          docLink.innerHTML = docLinkHtml;\n",
              "          element.appendChild(docLink);\n",
              "        }\n",
              "      </script>\n",
              "    </div>\n",
              "  </div>\n",
              "  "
            ]
          },
          "metadata": {},
          "execution_count": 73
        }
      ],
      "source": [
        "# Convert categorical data to numeric with `pd.get_dummies`\n",
        "dummy_application_df = pd.get_dummies(application_df)\n",
        "dummy_application_df.head(5)"
      ]
    },
    {
      "cell_type": "code",
      "execution_count": 74,
      "metadata": {
        "id": "wJGDsOGCKvyh"
      },
      "outputs": [],
      "source": [
        "# Split our preprocessed data into our features and target arrays\n",
        "X = dummy_application_df.drop('IS_SUCCESSFUL', axis=1)\n",
        "y = dummy_application_df['IS_SUCCESSFUL']\n",
        "\n",
        "# Split the preprocessed data into a training and testing dataset\n",
        "X_train, X_test, y_train, y_test = train_test_split(X, y, test_size=0.25, random_state=1)"
      ]
    },
    {
      "cell_type": "code",
      "execution_count": 75,
      "metadata": {
        "id": "Efcr1-JmKvyi"
      },
      "outputs": [],
      "source": [
        "# Create a StandardScaler instances\n",
        "scaler = StandardScaler()\n",
        "\n",
        "# Fit the StandardScaler\n",
        "X_scaler = scaler.fit(X_train)\n",
        "\n",
        "# Scale the data\n",
        "X_train_scaled = X_scaler.transform(X_train)\n",
        "X_test_scaled = X_scaler.transform(X_test)"
      ]
    },
    {
      "cell_type": "markdown",
      "metadata": {
        "id": "f6R2N6DhKvyi"
      },
      "source": [
        "## Compile, Train and Evaluate the Model"
      ]
    },
    {
      "cell_type": "code",
      "source": [
        "# Define the model\n",
        "nn = tf.keras.models.Sequential()\n",
        "\n",
        "# First hidden layer\n",
        "nn.add(tf.keras.layers.Dense(units=80, activation='relu', input_dim=X_train_scaled.shape[1]))\n",
        "\n",
        "# Second hidden layer\n",
        "nn.add(tf.keras.layers.Dense(units=30, activation='relu'))\n",
        "\n",
        "# Output layer\n",
        "nn.add(tf.keras.layers.Dense(units=1, activation='sigmoid'))\n",
        "\n",
        "# Check the structure of the model\n",
        "nn.summary()"
      ],
      "metadata": {
        "colab": {
          "base_uri": "https://localhost:8080/"
        },
        "id": "Jus_tAcUG9NY",
        "outputId": "1b56d53b-74a1-45d9-81ca-ffd4ccdf49a3"
      },
      "execution_count": 12,
      "outputs": [
        {
          "output_type": "stream",
          "name": "stdout",
          "text": [
            "Model: \"sequential\"\n",
            "_________________________________________________________________\n",
            " Layer (type)                Output Shape              Param #   \n",
            "=================================================================\n",
            " dense (Dense)               (None, 80)                3600      \n",
            "                                                                 \n",
            " dense_1 (Dense)             (None, 30)                2430      \n",
            "                                                                 \n",
            " dense_2 (Dense)             (None, 1)                 31        \n",
            "                                                                 \n",
            "=================================================================\n",
            "Total params: 6,061\n",
            "Trainable params: 6,061\n",
            "Non-trainable params: 0\n",
            "_________________________________________________________________\n"
          ]
        }
      ]
    },
    {
      "cell_type": "code",
      "source": [
        "# Compile the model\n",
        "nn.compile(loss='binary_crossentropy', optimizer='adam', metrics=['accuracy'])"
      ],
      "metadata": {
        "id": "Yk983jUXHRDO"
      },
      "execution_count": 13,
      "outputs": []
    },
    {
      "cell_type": "code",
      "source": [
        "# Train the model\n",
        "history = nn.fit(X_train_scaled, y_train, epochs=100, verbose=2, batch_size=16)"
      ],
      "metadata": {
        "colab": {
          "base_uri": "https://localhost:8080/"
        },
        "id": "Su23pDasHScw",
        "outputId": "a0633972-2b6f-494c-9088-06fb1499d803"
      },
      "execution_count": 14,
      "outputs": [
        {
          "output_type": "stream",
          "name": "stdout",
          "text": [
            "Epoch 1/100\n",
            "1608/1608 - 10s - loss: 0.5673 - accuracy: 0.7230 - 10s/epoch - 6ms/step\n",
            "Epoch 2/100\n",
            "1608/1608 - 4s - loss: 0.5552 - accuracy: 0.7275 - 4s/epoch - 2ms/step\n",
            "Epoch 3/100\n",
            "1608/1608 - 4s - loss: 0.5518 - accuracy: 0.7303 - 4s/epoch - 2ms/step\n",
            "Epoch 4/100\n",
            "1608/1608 - 6s - loss: 0.5505 - accuracy: 0.7315 - 6s/epoch - 4ms/step\n",
            "Epoch 5/100\n",
            "1608/1608 - 3s - loss: 0.5495 - accuracy: 0.7323 - 3s/epoch - 2ms/step\n",
            "Epoch 6/100\n",
            "1608/1608 - 2s - loss: 0.5475 - accuracy: 0.7330 - 2s/epoch - 1ms/step\n",
            "Epoch 7/100\n",
            "1608/1608 - 3s - loss: 0.5469 - accuracy: 0.7325 - 3s/epoch - 2ms/step\n",
            "Epoch 8/100\n",
            "1608/1608 - 3s - loss: 0.5461 - accuracy: 0.7329 - 3s/epoch - 2ms/step\n",
            "Epoch 9/100\n",
            "1608/1608 - 2s - loss: 0.5459 - accuracy: 0.7342 - 2s/epoch - 1ms/step\n",
            "Epoch 10/100\n",
            "1608/1608 - 2s - loss: 0.5450 - accuracy: 0.7346 - 2s/epoch - 1ms/step\n",
            "Epoch 11/100\n",
            "1608/1608 - 2s - loss: 0.5444 - accuracy: 0.7352 - 2s/epoch - 1ms/step\n",
            "Epoch 12/100\n",
            "1608/1608 - 3s - loss: 0.5442 - accuracy: 0.7352 - 3s/epoch - 2ms/step\n",
            "Epoch 13/100\n",
            "1608/1608 - 3s - loss: 0.5440 - accuracy: 0.7346 - 3s/epoch - 2ms/step\n",
            "Epoch 14/100\n",
            "1608/1608 - 2s - loss: 0.5434 - accuracy: 0.7359 - 2s/epoch - 1ms/step\n",
            "Epoch 15/100\n",
            "1608/1608 - 2s - loss: 0.5430 - accuracy: 0.7348 - 2s/epoch - 1ms/step\n",
            "Epoch 16/100\n",
            "1608/1608 - 2s - loss: 0.5432 - accuracy: 0.7356 - 2s/epoch - 1ms/step\n",
            "Epoch 17/100\n",
            "1608/1608 - 2s - loss: 0.5428 - accuracy: 0.7360 - 2s/epoch - 1ms/step\n",
            "Epoch 18/100\n",
            "1608/1608 - 3s - loss: 0.5417 - accuracy: 0.7364 - 3s/epoch - 2ms/step\n",
            "Epoch 19/100\n",
            "1608/1608 - 2s - loss: 0.5418 - accuracy: 0.7372 - 2s/epoch - 1ms/step\n",
            "Epoch 20/100\n",
            "1608/1608 - 2s - loss: 0.5416 - accuracy: 0.7364 - 2s/epoch - 1ms/step\n",
            "Epoch 21/100\n",
            "1608/1608 - 2s - loss: 0.5421 - accuracy: 0.7362 - 2s/epoch - 1ms/step\n",
            "Epoch 22/100\n",
            "1608/1608 - 2s - loss: 0.5413 - accuracy: 0.7369 - 2s/epoch - 1ms/step\n",
            "Epoch 23/100\n",
            "1608/1608 - 3s - loss: 0.5409 - accuracy: 0.7380 - 3s/epoch - 2ms/step\n",
            "Epoch 24/100\n",
            "1608/1608 - 2s - loss: 0.5410 - accuracy: 0.7371 - 2s/epoch - 1ms/step\n",
            "Epoch 25/100\n",
            "1608/1608 - 2s - loss: 0.5404 - accuracy: 0.7365 - 2s/epoch - 1ms/step\n",
            "Epoch 26/100\n",
            "1608/1608 - 2s - loss: 0.5402 - accuracy: 0.7363 - 2s/epoch - 1ms/step\n",
            "Epoch 27/100\n",
            "1608/1608 - 2s - loss: 0.5400 - accuracy: 0.7365 - 2s/epoch - 1ms/step\n",
            "Epoch 28/100\n",
            "1608/1608 - 3s - loss: 0.5398 - accuracy: 0.7372 - 3s/epoch - 2ms/step\n",
            "Epoch 29/100\n",
            "1608/1608 - 2s - loss: 0.5398 - accuracy: 0.7379 - 2s/epoch - 1ms/step\n",
            "Epoch 30/100\n",
            "1608/1608 - 2s - loss: 0.5400 - accuracy: 0.7374 - 2s/epoch - 1ms/step\n",
            "Epoch 31/100\n",
            "1608/1608 - 2s - loss: 0.5397 - accuracy: 0.7387 - 2s/epoch - 1ms/step\n",
            "Epoch 32/100\n",
            "1608/1608 - 2s - loss: 0.5394 - accuracy: 0.7375 - 2s/epoch - 1ms/step\n",
            "Epoch 33/100\n",
            "1608/1608 - 3s - loss: 0.5391 - accuracy: 0.7379 - 3s/epoch - 2ms/step\n",
            "Epoch 34/100\n",
            "1608/1608 - 2s - loss: 0.5390 - accuracy: 0.7376 - 2s/epoch - 2ms/step\n",
            "Epoch 35/100\n",
            "1608/1608 - 2s - loss: 0.5390 - accuracy: 0.7374 - 2s/epoch - 1ms/step\n",
            "Epoch 36/100\n",
            "1608/1608 - 2s - loss: 0.5386 - accuracy: 0.7376 - 2s/epoch - 1ms/step\n",
            "Epoch 37/100\n",
            "1608/1608 - 2s - loss: 0.5386 - accuracy: 0.7378 - 2s/epoch - 1ms/step\n",
            "Epoch 38/100\n",
            "1608/1608 - 3s - loss: 0.5386 - accuracy: 0.7382 - 3s/epoch - 2ms/step\n",
            "Epoch 39/100\n",
            "1608/1608 - 2s - loss: 0.5380 - accuracy: 0.7384 - 2s/epoch - 2ms/step\n",
            "Epoch 40/100\n",
            "1608/1608 - 2s - loss: 0.5382 - accuracy: 0.7387 - 2s/epoch - 1ms/step\n",
            "Epoch 41/100\n",
            "1608/1608 - 2s - loss: 0.5384 - accuracy: 0.7392 - 2s/epoch - 1ms/step\n",
            "Epoch 42/100\n",
            "1608/1608 - 2s - loss: 0.5380 - accuracy: 0.7377 - 2s/epoch - 1ms/step\n",
            "Epoch 43/100\n",
            "1608/1608 - 3s - loss: 0.5378 - accuracy: 0.7379 - 3s/epoch - 2ms/step\n",
            "Epoch 44/100\n",
            "1608/1608 - 3s - loss: 0.5377 - accuracy: 0.7392 - 3s/epoch - 2ms/step\n",
            "Epoch 45/100\n",
            "1608/1608 - 3s - loss: 0.5377 - accuracy: 0.7377 - 3s/epoch - 2ms/step\n",
            "Epoch 46/100\n",
            "1608/1608 - 2s - loss: 0.5369 - accuracy: 0.7378 - 2s/epoch - 1ms/step\n",
            "Epoch 47/100\n",
            "1608/1608 - 2s - loss: 0.5373 - accuracy: 0.7392 - 2s/epoch - 1ms/step\n",
            "Epoch 48/100\n",
            "1608/1608 - 3s - loss: 0.5377 - accuracy: 0.7392 - 3s/epoch - 2ms/step\n",
            "Epoch 49/100\n",
            "1608/1608 - 2s - loss: 0.5372 - accuracy: 0.7391 - 2s/epoch - 1ms/step\n",
            "Epoch 50/100\n",
            "1608/1608 - 2s - loss: 0.5369 - accuracy: 0.7390 - 2s/epoch - 1ms/step\n",
            "Epoch 51/100\n",
            "1608/1608 - 2s - loss: 0.5370 - accuracy: 0.7391 - 2s/epoch - 1ms/step\n",
            "Epoch 52/100\n",
            "1608/1608 - 2s - loss: 0.5366 - accuracy: 0.7394 - 2s/epoch - 1ms/step\n",
            "Epoch 53/100\n",
            "1608/1608 - 3s - loss: 0.5367 - accuracy: 0.7386 - 3s/epoch - 2ms/step\n",
            "Epoch 54/100\n",
            "1608/1608 - 2s - loss: 0.5369 - accuracy: 0.7384 - 2s/epoch - 1ms/step\n",
            "Epoch 55/100\n",
            "1608/1608 - 2s - loss: 0.5367 - accuracy: 0.7384 - 2s/epoch - 1ms/step\n",
            "Epoch 56/100\n",
            "1608/1608 - 2s - loss: 0.5363 - accuracy: 0.7385 - 2s/epoch - 1ms/step\n",
            "Epoch 57/100\n",
            "1608/1608 - 2s - loss: 0.5364 - accuracy: 0.7393 - 2s/epoch - 1ms/step\n",
            "Epoch 58/100\n",
            "1608/1608 - 3s - loss: 0.5361 - accuracy: 0.7394 - 3s/epoch - 2ms/step\n",
            "Epoch 59/100\n",
            "1608/1608 - 2s - loss: 0.5363 - accuracy: 0.7395 - 2s/epoch - 2ms/step\n",
            "Epoch 60/100\n",
            "1608/1608 - 2s - loss: 0.5361 - accuracy: 0.7390 - 2s/epoch - 1ms/step\n",
            "Epoch 61/100\n",
            "1608/1608 - 2s - loss: 0.5355 - accuracy: 0.7397 - 2s/epoch - 1ms/step\n",
            "Epoch 62/100\n",
            "1608/1608 - 2s - loss: 0.5356 - accuracy: 0.7392 - 2s/epoch - 1ms/step\n",
            "Epoch 63/100\n",
            "1608/1608 - 3s - loss: 0.5359 - accuracy: 0.7397 - 3s/epoch - 2ms/step\n",
            "Epoch 64/100\n",
            "1608/1608 - 3s - loss: 0.5358 - accuracy: 0.7393 - 3s/epoch - 2ms/step\n",
            "Epoch 65/100\n",
            "1608/1608 - 2s - loss: 0.5356 - accuracy: 0.7395 - 2s/epoch - 1ms/step\n",
            "Epoch 66/100\n",
            "1608/1608 - 2s - loss: 0.5359 - accuracy: 0.7395 - 2s/epoch - 1ms/step\n",
            "Epoch 67/100\n",
            "1608/1608 - 2s - loss: 0.5351 - accuracy: 0.7395 - 2s/epoch - 1ms/step\n",
            "Epoch 68/100\n",
            "1608/1608 - 3s - loss: 0.5352 - accuracy: 0.7399 - 3s/epoch - 2ms/step\n",
            "Epoch 69/100\n",
            "1608/1608 - 3s - loss: 0.5355 - accuracy: 0.7393 - 3s/epoch - 2ms/step\n",
            "Epoch 70/100\n",
            "1608/1608 - 2s - loss: 0.5352 - accuracy: 0.7396 - 2s/epoch - 1ms/step\n",
            "Epoch 71/100\n",
            "1608/1608 - 3s - loss: 0.5354 - accuracy: 0.7402 - 3s/epoch - 2ms/step\n",
            "Epoch 72/100\n",
            "1608/1608 - 2s - loss: 0.5348 - accuracy: 0.7392 - 2s/epoch - 1ms/step\n",
            "Epoch 73/100\n",
            "1608/1608 - 3s - loss: 0.5351 - accuracy: 0.7395 - 3s/epoch - 2ms/step\n",
            "Epoch 74/100\n",
            "1608/1608 - 2s - loss: 0.5347 - accuracy: 0.7392 - 2s/epoch - 2ms/step\n",
            "Epoch 75/100\n",
            "1608/1608 - 2s - loss: 0.5351 - accuracy: 0.7395 - 2s/epoch - 1ms/step\n",
            "Epoch 76/100\n",
            "1608/1608 - 2s - loss: 0.5350 - accuracy: 0.7395 - 2s/epoch - 1ms/step\n",
            "Epoch 77/100\n",
            "1608/1608 - 2s - loss: 0.5345 - accuracy: 0.7391 - 2s/epoch - 1ms/step\n",
            "Epoch 78/100\n",
            "1608/1608 - 3s - loss: 0.5347 - accuracy: 0.7399 - 3s/epoch - 2ms/step\n",
            "Epoch 79/100\n",
            "1608/1608 - 3s - loss: 0.5347 - accuracy: 0.7393 - 3s/epoch - 2ms/step\n",
            "Epoch 80/100\n",
            "1608/1608 - 2s - loss: 0.5356 - accuracy: 0.7406 - 2s/epoch - 1ms/step\n",
            "Epoch 81/100\n",
            "1608/1608 - 2s - loss: 0.5360 - accuracy: 0.7390 - 2s/epoch - 1ms/step\n",
            "Epoch 82/100\n",
            "1608/1608 - 2s - loss: 0.5343 - accuracy: 0.7400 - 2s/epoch - 1ms/step\n",
            "Epoch 83/100\n",
            "1608/1608 - 3s - loss: 0.5344 - accuracy: 0.7391 - 3s/epoch - 2ms/step\n",
            "Epoch 84/100\n",
            "1608/1608 - 3s - loss: 0.5346 - accuracy: 0.7393 - 3s/epoch - 2ms/step\n",
            "Epoch 85/100\n",
            "1608/1608 - 2s - loss: 0.5342 - accuracy: 0.7404 - 2s/epoch - 1ms/step\n",
            "Epoch 86/100\n",
            "1608/1608 - 2s - loss: 0.5345 - accuracy: 0.7396 - 2s/epoch - 1ms/step\n",
            "Epoch 87/100\n",
            "1608/1608 - 2s - loss: 0.5338 - accuracy: 0.7397 - 2s/epoch - 1ms/step\n",
            "Epoch 88/100\n",
            "1608/1608 - 3s - loss: 0.5343 - accuracy: 0.7402 - 3s/epoch - 2ms/step\n",
            "Epoch 89/100\n",
            "1608/1608 - 3s - loss: 0.5345 - accuracy: 0.7395 - 3s/epoch - 2ms/step\n",
            "Epoch 90/100\n",
            "1608/1608 - 2s - loss: 0.5340 - accuracy: 0.7396 - 2s/epoch - 1ms/step\n",
            "Epoch 91/100\n",
            "1608/1608 - 2s - loss: 0.5342 - accuracy: 0.7394 - 2s/epoch - 1ms/step\n",
            "Epoch 92/100\n",
            "1608/1608 - 2s - loss: 0.5345 - accuracy: 0.7399 - 2s/epoch - 1ms/step\n",
            "Epoch 93/100\n",
            "1608/1608 - 3s - loss: 0.5338 - accuracy: 0.7395 - 3s/epoch - 2ms/step\n",
            "Epoch 94/100\n",
            "1608/1608 - 3s - loss: 0.5339 - accuracy: 0.7395 - 3s/epoch - 2ms/step\n",
            "Epoch 95/100\n",
            "1608/1608 - 2s - loss: 0.5335 - accuracy: 0.7400 - 2s/epoch - 1ms/step\n",
            "Epoch 96/100\n",
            "1608/1608 - 2s - loss: 0.5337 - accuracy: 0.7402 - 2s/epoch - 1ms/step\n",
            "Epoch 97/100\n",
            "1608/1608 - 2s - loss: 0.5344 - accuracy: 0.7392 - 2s/epoch - 1ms/step\n",
            "Epoch 98/100\n",
            "1608/1608 - 2s - loss: 0.5333 - accuracy: 0.7402 - 2s/epoch - 1ms/step\n",
            "Epoch 99/100\n",
            "1608/1608 - 3s - loss: 0.5338 - accuracy: 0.7401 - 3s/epoch - 2ms/step\n",
            "Epoch 100/100\n",
            "1608/1608 - 2s - loss: 0.5335 - accuracy: 0.7399 - 2s/epoch - 1ms/step\n"
          ]
        }
      ]
    },
    {
      "cell_type": "code",
      "source": [
        "# Evaluate the model using the test data\n",
        "model_loss, model_accuracy = nn.evaluate(X_test_scaled,y_test,verbose=1, batch_size=1)\n",
        "print(f\"Loss: {model_loss}, Accuracy: {model_accuracy}\")"
      ],
      "metadata": {
        "colab": {
          "base_uri": "https://localhost:8080/"
        },
        "id": "xY43kl55He2V",
        "outputId": "f1ea652f-97d4-41d3-a53f-b9fbb28f8560"
      },
      "execution_count": 15,
      "outputs": [
        {
          "output_type": "stream",
          "name": "stdout",
          "text": [
            "8575/8575 [==============================] - 13s 1ms/step - loss: 0.5636 - accuracy: 0.7289\n",
            "Loss: 0.5635594129562378, Accuracy: 0.728863000869751\n"
          ]
        }
      ]
    },
    {
      "cell_type": "code",
      "source": [
        "# Export our model to HDF5 file\n",
        "nn.save('AlphabetSoupCharity.h5')"
      ],
      "metadata": {
        "id": "1CtB_FLUIFzp"
      },
      "execution_count": 16,
      "outputs": []
    },
    {
      "cell_type": "markdown",
      "source": [
        "## Optimization Method 1 - Add/Drop Columns"
      ],
      "metadata": {
        "id": "1CWkexTq3vKu"
      }
    },
    {
      "cell_type": "code",
      "source": [
        "from sklearn.linear_model import Lasso, Ridge\n",
        "from sklearn.metrics import mean_squared_error\n",
        "\n",
        "# Make a copy of the working dataset\n",
        "application_df_op1 = application_df_copy.copy()\n",
        "\n",
        "print(\"Step 1 of 6 - Start... Samples: \", len(application_df_op1), \" | (No dummies) Columns/Features: \", len(application_df_op1.columns))"
      ],
      "metadata": {
        "id": "BmBESMMVASLH",
        "colab": {
          "base_uri": "https://localhost:8080/"
        },
        "outputId": "7367d76c-394f-433d-b6ef-7b9f8d7f426e"
      },
      "execution_count": 76,
      "outputs": [
        {
          "output_type": "stream",
          "name": "stdout",
          "text": [
            "Step 1 of 6 - Start... Samples:  34299  | (No dummies) Columns/Features:  10\n"
          ]
        }
      ]
    },
    {
      "cell_type": "code",
      "source": [
        "cutoff_value = 10\n",
        "application_types_to_replace = application_df_op1['APPLICATION_TYPE'].value_counts()[application_df_op1['APPLICATION_TYPE'].value_counts() < cutoff_value].index.tolist()\n",
        "\n",
        "for app in application_types_to_replace:\n",
        "    application_df_op1['APPLICATION_TYPE'] = application_df_op1['APPLICATION_TYPE'].replace(app,\"Other\")\n",
        "\n",
        "cutoff_value2 = 10\n",
        "classifications_to_replace = application_df_op1['CLASSIFICATION'].value_counts()[application_df_op1['CLASSIFICATION'].value_counts() < cutoff_value2].index.tolist()\n",
        "\n",
        "for cls in classifications_to_replace:\n",
        "    application_df_op1['CLASSIFICATION'] = application_df_op1['CLASSIFICATION'].replace(cls,\"Other\")\n",
        "\n",
        "print(\"Step 2 of 6 - Simplify 'APPLICATION_TYPE' & 'CLASSIFICATION'... Samples: \", len(application_df_op1), \" | (No dummies) Columns/Features: \", len(application_df_op1.columns))"
      ],
      "metadata": {
        "id": "FPU0TZMk9MnA",
        "colab": {
          "base_uri": "https://localhost:8080/"
        },
        "outputId": "2869e451-c692-4197-cf25-7e1b6ca59077"
      },
      "execution_count": 77,
      "outputs": [
        {
          "output_type": "stream",
          "name": "stdout",
          "text": [
            "Step 2 of 6 - Simplify 'APPLICATION_TYPE' & 'CLASSIFICATION'... Samples:  34299  | (No dummies) Columns/Features:  10\n"
          ]
        }
      ]
    },
    {
      "cell_type": "code",
      "source": [
        "dummy_working_op1_df = pd.get_dummies(application_df_op1)\n",
        "dummy_working_op1_df.head(3)\n",
        "\n",
        "print(\"Step 3 of 6 - Get Dummies... Samples: \", len(dummy_working_op1_df), \" | Columns/Features: \", len(dummy_working_op1_df.columns))\n",
        "dummy_working_op1_df.head(3)"
      ],
      "metadata": {
        "colab": {
          "base_uri": "https://localhost:8080/",
          "height": 271
        },
        "id": "dlcTz7TE-Eki",
        "outputId": "b300e487-9c02-462c-c205-41ea73b71301"
      },
      "execution_count": 78,
      "outputs": [
        {
          "output_type": "stream",
          "name": "stdout",
          "text": [
            "Step 3 of 6 - Get Dummies... Samples:  34299  | Columns/Features:  72\n"
          ]
        },
        {
          "output_type": "execute_result",
          "data": {
            "text/plain": [
              "   STATUS  ASK_AMT  IS_SUCCESSFUL  APPLICATION_TYPE_Other  \\\n",
              "0       1     5000              1                       0   \n",
              "1       1   108590              1                       0   \n",
              "2       1     5000              0                       0   \n",
              "\n",
              "   APPLICATION_TYPE_T10  APPLICATION_TYPE_T12  APPLICATION_TYPE_T13  \\\n",
              "0                     1                     0                     0   \n",
              "1                     0                     0                     0   \n",
              "2                     0                     0                     0   \n",
              "\n",
              "   APPLICATION_TYPE_T19  APPLICATION_TYPE_T2  APPLICATION_TYPE_T3  ...  \\\n",
              "0                     0                    0                    0  ...   \n",
              "1                     0                    0                    1  ...   \n",
              "2                     0                    0                    0  ...   \n",
              "\n",
              "   INCOME_AMT_1-9999  INCOME_AMT_10000-24999  INCOME_AMT_100000-499999  \\\n",
              "0                  0                       0                         0   \n",
              "1                  1                       0                         0   \n",
              "2                  0                       0                         0   \n",
              "\n",
              "   INCOME_AMT_10M-50M  INCOME_AMT_1M-5M  INCOME_AMT_25000-99999  \\\n",
              "0                   0                 0                       0   \n",
              "1                   0                 0                       0   \n",
              "2                   0                 0                       0   \n",
              "\n",
              "   INCOME_AMT_50M+  INCOME_AMT_5M-10M  SPECIAL_CONSIDERATIONS_N  \\\n",
              "0                0                  0                         1   \n",
              "1                0                  0                         1   \n",
              "2                0                  0                         1   \n",
              "\n",
              "   SPECIAL_CONSIDERATIONS_Y  \n",
              "0                         0  \n",
              "1                         0  \n",
              "2                         0  \n",
              "\n",
              "[3 rows x 72 columns]"
            ],
            "text/html": [
              "\n",
              "  <div id=\"df-ce4e24c0-1f80-47ee-90f8-16e57b81bbab\">\n",
              "    <div class=\"colab-df-container\">\n",
              "      <div>\n",
              "<style scoped>\n",
              "    .dataframe tbody tr th:only-of-type {\n",
              "        vertical-align: middle;\n",
              "    }\n",
              "\n",
              "    .dataframe tbody tr th {\n",
              "        vertical-align: top;\n",
              "    }\n",
              "\n",
              "    .dataframe thead th {\n",
              "        text-align: right;\n",
              "    }\n",
              "</style>\n",
              "<table border=\"1\" class=\"dataframe\">\n",
              "  <thead>\n",
              "    <tr style=\"text-align: right;\">\n",
              "      <th></th>\n",
              "      <th>STATUS</th>\n",
              "      <th>ASK_AMT</th>\n",
              "      <th>IS_SUCCESSFUL</th>\n",
              "      <th>APPLICATION_TYPE_Other</th>\n",
              "      <th>APPLICATION_TYPE_T10</th>\n",
              "      <th>APPLICATION_TYPE_T12</th>\n",
              "      <th>APPLICATION_TYPE_T13</th>\n",
              "      <th>APPLICATION_TYPE_T19</th>\n",
              "      <th>APPLICATION_TYPE_T2</th>\n",
              "      <th>APPLICATION_TYPE_T3</th>\n",
              "      <th>...</th>\n",
              "      <th>INCOME_AMT_1-9999</th>\n",
              "      <th>INCOME_AMT_10000-24999</th>\n",
              "      <th>INCOME_AMT_100000-499999</th>\n",
              "      <th>INCOME_AMT_10M-50M</th>\n",
              "      <th>INCOME_AMT_1M-5M</th>\n",
              "      <th>INCOME_AMT_25000-99999</th>\n",
              "      <th>INCOME_AMT_50M+</th>\n",
              "      <th>INCOME_AMT_5M-10M</th>\n",
              "      <th>SPECIAL_CONSIDERATIONS_N</th>\n",
              "      <th>SPECIAL_CONSIDERATIONS_Y</th>\n",
              "    </tr>\n",
              "  </thead>\n",
              "  <tbody>\n",
              "    <tr>\n",
              "      <th>0</th>\n",
              "      <td>1</td>\n",
              "      <td>5000</td>\n",
              "      <td>1</td>\n",
              "      <td>0</td>\n",
              "      <td>1</td>\n",
              "      <td>0</td>\n",
              "      <td>0</td>\n",
              "      <td>0</td>\n",
              "      <td>0</td>\n",
              "      <td>0</td>\n",
              "      <td>...</td>\n",
              "      <td>0</td>\n",
              "      <td>0</td>\n",
              "      <td>0</td>\n",
              "      <td>0</td>\n",
              "      <td>0</td>\n",
              "      <td>0</td>\n",
              "      <td>0</td>\n",
              "      <td>0</td>\n",
              "      <td>1</td>\n",
              "      <td>0</td>\n",
              "    </tr>\n",
              "    <tr>\n",
              "      <th>1</th>\n",
              "      <td>1</td>\n",
              "      <td>108590</td>\n",
              "      <td>1</td>\n",
              "      <td>0</td>\n",
              "      <td>0</td>\n",
              "      <td>0</td>\n",
              "      <td>0</td>\n",
              "      <td>0</td>\n",
              "      <td>0</td>\n",
              "      <td>1</td>\n",
              "      <td>...</td>\n",
              "      <td>1</td>\n",
              "      <td>0</td>\n",
              "      <td>0</td>\n",
              "      <td>0</td>\n",
              "      <td>0</td>\n",
              "      <td>0</td>\n",
              "      <td>0</td>\n",
              "      <td>0</td>\n",
              "      <td>1</td>\n",
              "      <td>0</td>\n",
              "    </tr>\n",
              "    <tr>\n",
              "      <th>2</th>\n",
              "      <td>1</td>\n",
              "      <td>5000</td>\n",
              "      <td>0</td>\n",
              "      <td>0</td>\n",
              "      <td>0</td>\n",
              "      <td>0</td>\n",
              "      <td>0</td>\n",
              "      <td>0</td>\n",
              "      <td>0</td>\n",
              "      <td>0</td>\n",
              "      <td>...</td>\n",
              "      <td>0</td>\n",
              "      <td>0</td>\n",
              "      <td>0</td>\n",
              "      <td>0</td>\n",
              "      <td>0</td>\n",
              "      <td>0</td>\n",
              "      <td>0</td>\n",
              "      <td>0</td>\n",
              "      <td>1</td>\n",
              "      <td>0</td>\n",
              "    </tr>\n",
              "  </tbody>\n",
              "</table>\n",
              "<p>3 rows × 72 columns</p>\n",
              "</div>\n",
              "      <button class=\"colab-df-convert\" onclick=\"convertToInteractive('df-ce4e24c0-1f80-47ee-90f8-16e57b81bbab')\"\n",
              "              title=\"Convert this dataframe to an interactive table.\"\n",
              "              style=\"display:none;\">\n",
              "        \n",
              "  <svg xmlns=\"http://www.w3.org/2000/svg\" height=\"24px\"viewBox=\"0 0 24 24\"\n",
              "       width=\"24px\">\n",
              "    <path d=\"M0 0h24v24H0V0z\" fill=\"none\"/>\n",
              "    <path d=\"M18.56 5.44l.94 2.06.94-2.06 2.06-.94-2.06-.94-.94-2.06-.94 2.06-2.06.94zm-11 1L8.5 8.5l.94-2.06 2.06-.94-2.06-.94L8.5 2.5l-.94 2.06-2.06.94zm10 10l.94 2.06.94-2.06 2.06-.94-2.06-.94-.94-2.06-.94 2.06-2.06.94z\"/><path d=\"M17.41 7.96l-1.37-1.37c-.4-.4-.92-.59-1.43-.59-.52 0-1.04.2-1.43.59L10.3 9.45l-7.72 7.72c-.78.78-.78 2.05 0 2.83L4 21.41c.39.39.9.59 1.41.59.51 0 1.02-.2 1.41-.59l7.78-7.78 2.81-2.81c.8-.78.8-2.07 0-2.86zM5.41 20L4 18.59l7.72-7.72 1.47 1.35L5.41 20z\"/>\n",
              "  </svg>\n",
              "      </button>\n",
              "      \n",
              "  <style>\n",
              "    .colab-df-container {\n",
              "      display:flex;\n",
              "      flex-wrap:wrap;\n",
              "      gap: 12px;\n",
              "    }\n",
              "\n",
              "    .colab-df-convert {\n",
              "      background-color: #E8F0FE;\n",
              "      border: none;\n",
              "      border-radius: 50%;\n",
              "      cursor: pointer;\n",
              "      display: none;\n",
              "      fill: #1967D2;\n",
              "      height: 32px;\n",
              "      padding: 0 0 0 0;\n",
              "      width: 32px;\n",
              "    }\n",
              "\n",
              "    .colab-df-convert:hover {\n",
              "      background-color: #E2EBFA;\n",
              "      box-shadow: 0px 1px 2px rgba(60, 64, 67, 0.3), 0px 1px 3px 1px rgba(60, 64, 67, 0.15);\n",
              "      fill: #174EA6;\n",
              "    }\n",
              "\n",
              "    [theme=dark] .colab-df-convert {\n",
              "      background-color: #3B4455;\n",
              "      fill: #D2E3FC;\n",
              "    }\n",
              "\n",
              "    [theme=dark] .colab-df-convert:hover {\n",
              "      background-color: #434B5C;\n",
              "      box-shadow: 0px 1px 3px 1px rgba(0, 0, 0, 0.15);\n",
              "      filter: drop-shadow(0px 1px 2px rgba(0, 0, 0, 0.3));\n",
              "      fill: #FFFFFF;\n",
              "    }\n",
              "  </style>\n",
              "\n",
              "      <script>\n",
              "        const buttonEl =\n",
              "          document.querySelector('#df-ce4e24c0-1f80-47ee-90f8-16e57b81bbab button.colab-df-convert');\n",
              "        buttonEl.style.display =\n",
              "          google.colab.kernel.accessAllowed ? 'block' : 'none';\n",
              "\n",
              "        async function convertToInteractive(key) {\n",
              "          const element = document.querySelector('#df-ce4e24c0-1f80-47ee-90f8-16e57b81bbab');\n",
              "          const dataTable =\n",
              "            await google.colab.kernel.invokeFunction('convertToInteractive',\n",
              "                                                     [key], {});\n",
              "          if (!dataTable) return;\n",
              "\n",
              "          const docLinkHtml = 'Like what you see? Visit the ' +\n",
              "            '<a target=\"_blank\" href=https://colab.research.google.com/notebooks/data_table.ipynb>data table notebook</a>'\n",
              "            + ' to learn more about interactive tables.';\n",
              "          element.innerHTML = '';\n",
              "          dataTable['output_type'] = 'display_data';\n",
              "          await google.colab.output.renderOutput(dataTable, element);\n",
              "          const docLink = document.createElement('div');\n",
              "          docLink.innerHTML = docLinkHtml;\n",
              "          element.appendChild(docLink);\n",
              "        }\n",
              "      </script>\n",
              "    </div>\n",
              "  </div>\n",
              "  "
            ]
          },
          "metadata": {},
          "execution_count": 78
        }
      ]
    },
    {
      "cell_type": "code",
      "source": [
        "import numpy as np\n",
        "import matplotlib.pyplot as plt\n",
        "\n",
        "fig1, ax1 = plt.subplots()\n",
        "ax1.set_title('Dataset Asking Amounts')\n",
        "ax1.set_ylabel('Amount $')\n",
        "ax1.set_xlabel('Spead')\n",
        "ax1.boxplot(dummy_working_op1_df['ASK_AMT'])\n",
        "plt.show()"
      ],
      "metadata": {
        "colab": {
          "base_uri": "https://localhost:8080/",
          "height": 472
        },
        "id": "ams5WCDPmt1F",
        "outputId": "3279eb96-5682-434d-b463-ffb3e84f2110"
      },
      "execution_count": 79,
      "outputs": [
        {
          "output_type": "display_data",
          "data": {
            "text/plain": [
              "<Figure size 640x480 with 1 Axes>"
            ],
            "image/png": "[encoded data removed]"
          },
          "metadata": {}
        }
      ]
    },
    {
      "cell_type": "code",
      "source": [
        "# Determine which data points are outside of the 1.5*IQR range\n",
        "quartiles = np.quantile(dummy_working_op1_df['ASK_AMT'],[.25,.75])\n",
        "iqr = quartiles[1]-quartiles[0]\n",
        "lower_bound = quartiles[0]-(1.5*iqr)\n",
        "upper_bound = quartiles[1]+(1.5*iqr)\n",
        "print(\"Lower boundry: \", lower_bound, \" | Upper boundry: \", upper_bound)\n",
        "\n",
        "potential_outliers = [AMT for AMT in dummy_working_op1_df['ASK_AMT'] if AMT < lower_bound or AMT > upper_bound]\n",
        "print(\"Samples in dataset prior to outlier removal: \" + str(len(dummy_working_op1_df['ASK_AMT'])))\n",
        "print(\"After outlier removal: \" + str(len(dummy_working_op1_df['ASK_AMT']) - len(potential_outliers)))"
      ],
      "metadata": {
        "colab": {
          "base_uri": "https://localhost:8080/"
        },
        "id": "ayCmqys2nW-Y",
        "outputId": "fcd86207-5b57-4409-e32d-1bf1418fd257"
      },
      "execution_count": 80,
      "outputs": [
        {
          "output_type": "stream",
          "name": "stdout",
          "text": [
            "Lower boundry:  887.0  | Upper boundry:  11855.0\n",
            "Samples in dataset prior to outlier removal: 34299\n",
            "After outlier removal: 26093\n"
          ]
        }
      ]
    },
    {
      "cell_type": "code",
      "source": [
        "# Drop the unnecessary rows from the dataset\n",
        "condensed_data = dummy_working_op1_df[~dummy_working_op1_df['ASK_AMT'].isin(potential_outliers)]\n",
        "print(\"Step 4 of 6 - Remove rows where 'ASK_AMT' is an outlier... Samples: \", len(condensed_data), \" | Columns/Features: \", len(condensed_data.columns))"
      ],
      "metadata": {
        "colab": {
          "base_uri": "https://localhost:8080/"
        },
        "id": "qoK1Lubep9Gk",
        "outputId": "d6b1c442-022d-404b-d205-6378eaaaa07d"
      },
      "execution_count": 83,
      "outputs": [
        {
          "output_type": "stream",
          "name": "stdout",
          "text": [
            "Step 4 of 6 - Remove rows where 'ASK_AMT' is an outlier... Samples:  26093  | Columns/Features:  72\n"
          ]
        }
      ]
    },
    {
      "cell_type": "code",
      "source": [
        "X1 = condensed_data.drop('IS_SUCCESSFUL', axis=1)\n",
        "y1 = condensed_data['IS_SUCCESSFUL']\n",
        "\n",
        "X_train1, X_test1, y_train1, y_test1 = train_test_split(X1, y1, test_size=0.25, random_state=1)\n",
        "\n",
        "print(\"Step 5 of 6 - Split training and testing samples... Samples: \", len(X_train1), \" | Columns/Features: \", len(X_train1.columns))"
      ],
      "metadata": {
        "id": "X5hBrH0y-oQ3",
        "colab": {
          "base_uri": "https://localhost:8080/"
        },
        "outputId": "47263968-2bac-46fc-b411-19db42ceff29"
      },
      "execution_count": 84,
      "outputs": [
        {
          "output_type": "stream",
          "name": "stdout",
          "text": [
            "Step 5 of 6 - Split training and testing samples... Samples:  19569  | Columns/Features:  71\n"
          ]
        }
      ]
    },
    {
      "cell_type": "code",
      "source": [
        "# Create a Lasso model\n",
        "lasso_model = Lasso(alpha=0.1)  # Adjust the alpha parameter for regularization strength\n",
        "lasso_model.fit(X_train1, y_train1)\n",
        "\n",
        "lasso_predictions = lasso_model.predict(X_test1)\n",
        "lasso_rmse = mean_squared_error(y_test1, lasso_predictions, squared=False)\n",
        "print(\"Lasso RMSE:\", lasso_rmse)\n",
        "\n",
        "# Create a Ridge model\n",
        "ridge_model = Ridge(alpha=0.1)  # Adjust the alpha parameter for regularization strength\n",
        "ridge_model.fit(X_train1, y_train1)\n",
        "\n",
        "ridge_predictions = ridge_model.predict(X_test1)\n",
        "ridge_rmse = mean_squared_error(y_test1, ridge_predictions, squared=False)\n",
        "print(\"Ridge RMSE:\", ridge_rmse)\n",
        "\n",
        "print(\"- - -\")\n",
        "\n",
        "lasso_coeffs = lasso_model.coef_\n",
        "ridge_coeffs = ridge_model.coef_\n",
        "\n",
        "# make an array of columns to drop after failing Lasso and Ridge tests\n",
        "drop_columns = []\n",
        "\n",
        "Lower_Ridge = -0.005\n",
        "Upper_Ridge = 0.005\n",
        "\n",
        "for i in range(len(lasso_coeffs)):\n",
        "    if lasso_coeffs[i] == 0 and ((ridge_coeffs[i] > Lower_Ridge and ridge_coeffs[i] <= 0) or (ridge_coeffs[i] < Upper_Ridge and ridge_coeffs[i] >= 0)):\n",
        "        drop_columns.append(i)\n",
        "\n",
        "print(drop_columns)\n",
        "print(\"# of Columns/Features that will be dropped\", len(drop_columns))\n",
        "\n",
        "# remove columns from X1 df\n",
        "X_train1 = X_train1.drop(X_train1.columns[drop_columns], axis=1)\n",
        "X_test1 = X_test1.drop(X_test1.columns[drop_columns], axis=1)\n",
        "\n",
        "print(\"Step 6 of 6 - Remove Columns that fail Lasso & Ridge Tests... Samples: \", len(X_train1), \" | Columns/Features: \", len(X_train1.columns))"
      ],
      "metadata": {
        "colab": {
          "base_uri": "https://localhost:8080/"
        },
        "id": "SyFoyX5cD8sL",
        "outputId": "280e1e42-fa6b-4b5c-a5c9-67a8d8c3137d"
      },
      "execution_count": 85,
      "outputs": [
        {
          "output_type": "stream",
          "name": "stdout",
          "text": [
            "Lasso RMSE: 0.49697971875244473\n",
            "Ridge RMSE: 0.4343868204024987\n",
            "- - -\n",
            "[2, 67]\n",
            "# of Columns/Features that will be dropped 2\n",
            "Step 6 of 6 - Remove Columns that fail Lasso & Ridge Tests... Samples:  19569  | Columns/Features:  69\n"
          ]
        }
      ]
    },
    {
      "cell_type": "code",
      "source": [
        "X_scaler1 = scaler.fit(X_train1)\n",
        "\n",
        "X_train_scaled1 = X_scaler1.transform(X_train1)\n",
        "X_test_scaled1 = X_scaler1.transform(X_test1)\n",
        "\n",
        "# Define the model\n",
        "nn_op1 = tf.keras.models.Sequential()\n",
        "\n",
        "# First hidden layer\n",
        "nn_op1.add(tf.keras.layers.Dense(units=80, activation='relu', input_dim=X_train_scaled1.shape[1]))\n",
        "\n",
        "# Second hidden layer\n",
        "nn_op1.add(tf.keras.layers.Dense(units=30, activation='relu'))\n",
        "\n",
        "# Output layer\n",
        "nn_op1.add(tf.keras.layers.Dense(units=1, activation='sigmoid'))\n",
        "\n",
        "# Check the structure of the model\n",
        "nn_op1.summary()"
      ],
      "metadata": {
        "colab": {
          "base_uri": "https://localhost:8080/"
        },
        "id": "iVSOzpWd_NDb",
        "outputId": "5cdd67cf-374b-4251-e255-72c0363810e9"
      },
      "execution_count": 25,
      "outputs": [
        {
          "output_type": "stream",
          "name": "stdout",
          "text": [
            "Model: \"sequential_1\"\n",
            "_________________________________________________________________\n",
            " Layer (type)                Output Shape              Param #   \n",
            "=================================================================\n",
            " dense_3 (Dense)             (None, 80)                5600      \n",
            "                                                                 \n",
            " dense_4 (Dense)             (None, 30)                2430      \n",
            "                                                                 \n",
            " dense_5 (Dense)             (None, 1)                 31        \n",
            "                                                                 \n",
            "=================================================================\n",
            "Total params: 8,061\n",
            "Trainable params: 8,061\n",
            "Non-trainable params: 0\n",
            "_________________________________________________________________\n"
          ]
        }
      ]
    },
    {
      "cell_type": "code",
      "source": [
        "nn_op1.compile(loss='binary_crossentropy', optimizer='adam', metrics=['accuracy'])\n",
        "\n",
        "history1 = nn_op1.fit(X_train_scaled1, y_train1, epochs=10, verbose=1, batch_size=16)"
      ],
      "metadata": {
        "colab": {
          "base_uri": "https://localhost:8080/"
        },
        "id": "YRv6L9NJ_z-h",
        "outputId": "e35bb860-d4ad-424d-bb1e-702a45131069"
      },
      "execution_count": 26,
      "outputs": [
        {
          "output_type": "stream",
          "name": "stdout",
          "text": [
            "Epoch 1/10\n",
            "1224/1224 [==============================] - 3s 2ms/step - loss: 0.5521 - accuracy: 0.7380\n",
            "Epoch 2/10\n",
            "1224/1224 [==============================] - 2s 2ms/step - loss: 0.5320 - accuracy: 0.7478\n",
            "Epoch 3/10\n",
            "1224/1224 [==============================] - 3s 3ms/step - loss: 0.5292 - accuracy: 0.7497\n",
            "Epoch 4/10\n",
            "1224/1224 [==============================] - 2s 2ms/step - loss: 0.5259 - accuracy: 0.7490\n",
            "Epoch 5/10\n",
            "1224/1224 [==============================] - 2s 2ms/step - loss: 0.5248 - accuracy: 0.7510\n",
            "Epoch 6/10\n",
            "1224/1224 [==============================] - 2s 2ms/step - loss: 0.5243 - accuracy: 0.7507\n",
            "Epoch 7/10\n",
            "1224/1224 [==============================] - 2s 2ms/step - loss: 0.5224 - accuracy: 0.7530\n",
            "Epoch 8/10\n",
            "1224/1224 [==============================] - 3s 2ms/step - loss: 0.5221 - accuracy: 0.7533\n",
            "Epoch 9/10\n",
            "1224/1224 [==============================] - 2s 2ms/step - loss: 0.5211 - accuracy: 0.7529\n",
            "Epoch 10/10\n",
            "1224/1224 [==============================] - 2s 2ms/step - loss: 0.5207 - accuracy: 0.7533\n"
          ]
        }
      ]
    },
    {
      "cell_type": "code",
      "source": [
        "model_loss, model_accuracy = nn_op1.evaluate(X_test_scaled1,y_test1,verbose=1, batch_size=16)\n",
        "print(f\"Loss: {model_loss}, Accuracy: {model_accuracy}\")"
      ],
      "metadata": {
        "colab": {
          "base_uri": "https://localhost:8080/"
        },
        "id": "GUL8zMpZzQPa",
        "outputId": "2a44cf91-cfd1-4e4f-cc3e-aa9b49a9b488"
      },
      "execution_count": 27,
      "outputs": [
        {
          "output_type": "stream",
          "name": "stdout",
          "text": [
            "408/408 [==============================] - 1s 1ms/step - loss: 0.5482 - accuracy: 0.7368\n",
            "Loss: 0.5481538772583008, Accuracy: 0.7368178963661194\n"
          ]
        }
      ]
    },
    {
      "cell_type": "code",
      "source": [
        "# Export our model to HDF5 file\n",
        "nn_op1.save('AlphabetSoupCharity_Optimization_1.h5')"
      ],
      "metadata": {
        "id": "rJHv4lTM_GC_"
      },
      "execution_count": 38,
      "outputs": []
    },
    {
      "cell_type": "markdown",
      "source": [
        "## Optimization Method 2 - Oversampling"
      ],
      "metadata": {
        "id": "hNMsmEhLbYFg"
      }
    },
    {
      "cell_type": "code",
      "source": [
        "# Import the RandomOverSampler module form imbalanced-learn\n",
        "from imblearn.over_sampling import RandomOverSampler\n",
        "\n",
        "# Instantiate the random oversampler model\n",
        "random_oversampler = RandomOverSampler(random_state=1)\n",
        "\n",
        "# Fit the original training data to the random_oversampler model\n",
        "X_resampled, y_resampled = random_oversampler.fit_resample(X_train1, y_train1)"
      ],
      "metadata": {
        "id": "Ch_Z-O7JPEzb"
      },
      "execution_count": 99,
      "outputs": []
    },
    {
      "cell_type": "code",
      "source": [
        "X_resampled_df = pd.DataFrame(X_resampled)\n",
        "X_train1_df = pd.DataFrame(X_train1)\n",
        "print(X_train1_df.shape)\n",
        "print(X_resampled_df.shape)"
      ],
      "metadata": {
        "id": "3vZET3T_P9Of",
        "outputId": "c40a0c0b-02f3-4aee-e26a-e3355e34b0ab",
        "colab": {
          "base_uri": "https://localhost:8080/"
        }
      },
      "execution_count": 100,
      "outputs": [
        {
          "output_type": "stream",
          "name": "stdout",
          "text": [
            "(19569, 69)\n",
            "(20454, 69)\n"
          ]
        }
      ]
    },
    {
      "cell_type": "code",
      "source": [
        "X_scaler2 = scaler.fit(X_resampled_df)\n",
        "\n",
        "X_train_resampled2 = X_scaler2.transform(X_resampled_df)\n",
        "X_test_scaled2 = X_scaler2.transform(X_test1)\n",
        "\n",
        "X_train_resampled2.shape"
      ],
      "metadata": {
        "id": "y1s1LHN_SfcO",
        "outputId": "037e8ecf-bd4c-48a4-8b00-4f21f37e9fdd",
        "colab": {
          "base_uri": "https://localhost:8080/"
        }
      },
      "execution_count": 103,
      "outputs": [
        {
          "output_type": "execute_result",
          "data": {
            "text/plain": [
              "(20454, 69)"
            ]
          },
          "metadata": {},
          "execution_count": 103
        }
      ]
    },
    {
      "cell_type": "code",
      "source": [
        "# Define the model\n",
        "nn_op3 = tf.keras.models.Sequential()\n",
        "\n",
        "# First hidden layer\n",
        "nn_op3.add(tf.keras.layers.Dense(units=80, activation='relu', input_dim=X_train_resampled2.shape[1]))\n",
        "\n",
        "# Second hidden layer\n",
        "nn_op3.add(tf.keras.layers.Dense(units=30, activation='relu'))\n",
        "\n",
        "# Output layer\n",
        "nn_op3.add(tf.keras.layers.Dense(units=1, activation='sigmoid'))\n",
        "\n",
        "# Check the structure of the model\n",
        "nn_op3.summary()"
      ],
      "metadata": {
        "id": "PZUwifq2TaPo",
        "outputId": "1a75d066-02ff-43c8-814b-027e0feb115a",
        "colab": {
          "base_uri": "https://localhost:8080/"
        }
      },
      "execution_count": 102,
      "outputs": [
        {
          "output_type": "stream",
          "name": "stdout",
          "text": [
            "Model: \"sequential_3\"\n",
            "_________________________________________________________________\n",
            " Layer (type)                Output Shape              Param #   \n",
            "=================================================================\n",
            " dense_21 (Dense)            (None, 80)                5600      \n",
            "                                                                 \n",
            " dense_22 (Dense)            (None, 30)                2430      \n",
            "                                                                 \n",
            " dense_23 (Dense)            (None, 1)                 31        \n",
            "                                                                 \n",
            "=================================================================\n",
            "Total params: 8,061\n",
            "Trainable params: 8,061\n",
            "Non-trainable params: 0\n",
            "_________________________________________________________________\n"
          ]
        }
      ]
    },
    {
      "cell_type": "code",
      "source": [
        "nn_op3.compile(loss='binary_crossentropy', optimizer='adam', metrics=['accuracy'])\n",
        "\n",
        "history3 = nn_op3.fit(X_train_resampled2, y_resampled, epochs=10, verbose=1, batch_size=16)"
      ],
      "metadata": {
        "id": "zN0_M-_xT5QX",
        "outputId": "f7ff42a7-7d82-4329-b59d-151a58cb0a64",
        "colab": {
          "base_uri": "https://localhost:8080/"
        }
      },
      "execution_count": 106,
      "outputs": [
        {
          "output_type": "stream",
          "name": "stdout",
          "text": [
            "Epoch 1/10\n",
            "1279/1279 [==============================] - 4s 3ms/step - loss: 0.5213 - accuracy: 0.7537\n",
            "Epoch 2/10\n",
            "1279/1279 [==============================] - 3s 2ms/step - loss: 0.5207 - accuracy: 0.7534\n",
            "Epoch 3/10\n",
            "1279/1279 [==============================] - 3s 2ms/step - loss: 0.5189 - accuracy: 0.7534\n",
            "Epoch 4/10\n",
            "1279/1279 [==============================] - 3s 2ms/step - loss: 0.5187 - accuracy: 0.7540\n",
            "Epoch 5/10\n",
            "1279/1279 [==============================] - 3s 2ms/step - loss: 0.5186 - accuracy: 0.7539\n",
            "Epoch 6/10\n",
            "1279/1279 [==============================] - 4s 3ms/step - loss: 0.5178 - accuracy: 0.7539\n",
            "Epoch 7/10\n",
            "1279/1279 [==============================] - 3s 2ms/step - loss: 0.5181 - accuracy: 0.7556\n",
            "Epoch 8/10\n",
            "1279/1279 [==============================] - 3s 2ms/step - loss: 0.5175 - accuracy: 0.7555\n",
            "Epoch 9/10\n",
            "1279/1279 [==============================] - 2s 2ms/step - loss: 0.5167 - accuracy: 0.7551\n",
            "Epoch 10/10\n",
            "1279/1279 [==============================] - 3s 2ms/step - loss: 0.5165 - accuracy: 0.7561\n"
          ]
        }
      ]
    },
    {
      "cell_type": "code",
      "source": [
        "model_loss, model_accuracy = nn_op3.evaluate(X_test_scaled2,y_test1,verbose=1, batch_size=16)\n",
        "print(f\"Loss: {model_loss}, Accuracy: {model_accuracy}\")"
      ],
      "metadata": {
        "id": "efz2vg-DUUtx",
        "outputId": "7aa6b710-4a9a-4bee-9e49-8214731a5cc3",
        "colab": {
          "base_uri": "https://localhost:8080/"
        }
      },
      "execution_count": 107,
      "outputs": [
        {
          "output_type": "stream",
          "name": "stdout",
          "text": [
            "408/408 [==============================] - 1s 3ms/step - loss: 0.5476 - accuracy: 0.7379\n",
            "Loss: 0.5476242899894714, Accuracy: 0.7378908395767212\n"
          ]
        }
      ]
    },
    {
      "cell_type": "markdown",
      "source": [
        "## Optimization Method 3 - Altering Model"
      ],
      "metadata": {
        "id": "9gmcyF4CRNMG"
      }
    },
    {
      "cell_type": "code",
      "source": [
        "# Model creation function for ease of coding later\n",
        "def create_model(hp):\n",
        "    nn_model = tf.keras.models.Sequential()\n",
        "\n",
        "    activation = hp.Choice('activation', ['relu', 'leaky_relu']) # removed 'tanh', 'selu', 'elu', & 'sigmoid'\n",
        "\n",
        "    nn_model.add(tf.keras.layers.Dense(units=hp.Int('first_units',\n",
        "        min_value=10,\n",
        "        max_value=1000,\n",
        "        step=5), activation=activation, input_dim=X_train1.shape[1]))\n",
        "    \n",
        "    for i in range(hp.Int('num_layers', 4, 6)):\n",
        "        nn_model.add(tf.keras.layers.Dense(units=hp.Int('units_' + str(i),\n",
        "            min_value=10,\n",
        "            max_value=1000,\n",
        "            step=5),\n",
        "            activation=activation))\n",
        "    \n",
        "    nn_model.add(tf.keras.layers.Dense(units=1, activation=\"sigmoid\"))\n",
        "\n",
        "    nn_model.compile(loss=\"binary_crossentropy\", optimizer='adam', metrics=[\"accuracy\"])\n",
        "    \n",
        "    return nn_model"
      ],
      "metadata": {
        "id": "suIbcDcbikfZ"
      },
      "execution_count": 28,
      "outputs": []
    },
    {
      "cell_type": "code",
      "source": [
        "# Install & import the kerastuner library\n",
        "!pip install keras_tuner\n",
        "import keras_tuner as kt"
      ],
      "metadata": {
        "id": "zT-M6WnwkSGP",
        "colab": {
          "base_uri": "https://localhost:8080/"
        },
        "outputId": "76c7e85f-124b-4b53-db17-2cfd6e42ad98"
      },
      "execution_count": 29,
      "outputs": [
        {
          "output_type": "stream",
          "name": "stdout",
          "text": [
            "Looking in indexes: https://pypi.org/simple, https://us-python.pkg.dev/colab-wheels/public/simple/\n",
            "Collecting keras_tuner\n",
            "  Downloading keras_tuner-1.3.5-py3-none-any.whl (176 kB)\n",
            "\u001b[2K     \u001b[90m━━━━━━━━━━━━━━━━━━━━━━━━━━━━━━━━━━━━━━━\u001b[0m \u001b[32m176.1/176.1 kB\u001b[0m \u001b[31m4.6 MB/s\u001b[0m eta \u001b[36m0:00:00\u001b[0m\n",
            "\u001b[?25hRequirement already satisfied: packaging in /usr/local/lib/python3.10/dist-packages (from keras_tuner) (23.1)\n",
            "Requirement already satisfied: requests in /usr/local/lib/python3.10/dist-packages (from keras_tuner) (2.27.1)\n",
            "Collecting kt-legacy (from keras_tuner)\n",
            "  Downloading kt_legacy-1.0.5-py3-none-any.whl (9.6 kB)\n",
            "Requirement already satisfied: urllib3<1.27,>=1.21.1 in /usr/local/lib/python3.10/dist-packages (from requests->keras_tuner) (1.26.15)\n",
            "Requirement already satisfied: certifi>=2017.4.17 in /usr/local/lib/python3.10/dist-packages (from requests->keras_tuner) (2022.12.7)\n",
            "Requirement already satisfied: charset-normalizer~=2.0.0 in /usr/local/lib/python3.10/dist-packages (from requests->keras_tuner) (2.0.12)\n",
            "Requirement already satisfied: idna<4,>=2.5 in /usr/local/lib/python3.10/dist-packages (from requests->keras_tuner) (3.4)\n",
            "Installing collected packages: kt-legacy, keras_tuner\n",
            "Successfully installed keras_tuner-1.3.5 kt-legacy-1.0.5\n"
          ]
        }
      ]
    },
    {
      "cell_type": "code",
      "source": [
        "tuner = kt.Hyperband(\n",
        "    create_model,\n",
        "    objective=\"accuracy\",\n",
        "    max_epochs=10,\n",
        "    hyperband_iterations=2)"
      ],
      "metadata": {
        "id": "WOH6a-1Sv7h8"
      },
      "execution_count": 30,
      "outputs": []
    },
    {
      "cell_type": "code",
      "source": [
        "tuner.search(X_train_scaled1,y_train1,epochs=5,validation_data=(X_test_scaled1,y_test1), batch_size=16)"
      ],
      "metadata": {
        "id": "GpS-9dQZlIvX",
        "colab": {
          "base_uri": "https://localhost:8080/"
        },
        "outputId": "9f12ad7d-21d1-456e-c615-8e56c1a60ef0"
      },
      "execution_count": 31,
      "outputs": [
        {
          "output_type": "stream",
          "name": "stdout",
          "text": [
            "Trial 60 Complete [00h 06m 24s]\n",
            "accuracy: 0.751545786857605\n",
            "\n",
            "Best accuracy So Far: 0.7543563842773438\n",
            "Total elapsed time: 02h 04m 51s\n"
          ]
        }
      ]
    },
    {
      "cell_type": "code",
      "source": [
        "top_hyper = tuner.get_best_hyperparameters(5)\n",
        "\n",
        "for param in top_hyper:\n",
        "    for key, value in param.values.items():\n",
        "        print(f\"{key}: {value}\")\n",
        "    print(\"- - -\")"
      ],
      "metadata": {
        "id": "Sgj-UoYhnxjE",
        "colab": {
          "base_uri": "https://localhost:8080/"
        },
        "outputId": "14afd2c9-f49d-4832-e3e0-fcdd1ef401ad"
      },
      "execution_count": 32,
      "outputs": [
        {
          "metadata": {
            "tags": null
          },
          "name": "stdout",
          "output_type": "stream",
          "text": [
            "activation: relu\n",
            "first_units: 80\n",
            "num_layers: 5\n",
            "units_0: 1000\n",
            "units_1: 55\n",
            "units_2: 70\n",
            "units_3: 45\n",
            "units_4: 500\n",
            "units_5: 75\n",
            "tuner/epochs: 10\n",
            "tuner/initial_epoch: 4\n",
            "tuner/bracket: 2\n",
            "tuner/round: 2\n",
            "tuner/trial_id: 0042\n",
            "- - -\n",
            "activation: relu\n",
            "first_units: 140\n",
            "num_layers: 4\n",
            "units_0: 795\n",
            "units_1: 295\n",
            "units_2: 905\n",
            "units_3: 60\n",
            "units_4: 430\n",
            "units_5: 315\n",
            "tuner/epochs: 10\n",
            "tuner/initial_epoch: 0\n",
            "tuner/bracket: 0\n",
            "tuner/round: 0\n",
            "- - -\n",
            "activation: relu\n",
            "first_units: 320\n",
            "num_layers: 5\n",
            "units_0: 70\n",
            "units_1: 520\n",
            "units_2: 740\n",
            "units_3: 590\n",
            "units_4: 50\n",
            "units_5: 930\n",
            "tuner/epochs: 10\n",
            "tuner/initial_epoch: 4\n",
            "tuner/bracket: 2\n",
            "tuner/round: 2\n",
            "tuner/trial_id: 0045\n",
            "- - -\n",
            "activation: relu\n",
            "first_units: 265\n",
            "num_layers: 4\n",
            "units_0: 270\n",
            "units_1: 495\n",
            "units_2: 75\n",
            "units_3: 310\n",
            "units_4: 370\n",
            "units_5: 110\n",
            "tuner/epochs: 10\n",
            "tuner/initial_epoch: 4\n",
            "tuner/bracket: 2\n",
            "tuner/round: 2\n",
            "tuner/trial_id: 0013\n",
            "- - -\n",
            "activation: relu\n",
            "first_units: 470\n",
            "num_layers: 4\n",
            "units_0: 430\n",
            "units_1: 60\n",
            "units_2: 200\n",
            "units_3: 875\n",
            "units_4: 100\n",
            "units_5: 610\n",
            "tuner/epochs: 10\n",
            "tuner/initial_epoch: 4\n",
            "tuner/bracket: 1\n",
            "tuner/round: 1\n",
            "tuner/trial_id: 0018\n",
            "- - -\n"
          ]
        }
      ]
    },
    {
      "cell_type": "code",
      "execution_count": 39,
      "metadata": {
        "id": "dbGci5K9Kvyi",
        "colab": {
          "base_uri": "https://localhost:8080/"
        },
        "outputId": "29675120-31da-4c5f-f574-8cd026646a57"
      },
      "outputs": [
        {
          "output_type": "stream",
          "name": "stdout",
          "text": [
            "Model: \"sequential_2\"\n",
            "_________________________________________________________________\n",
            " Layer (type)                Output Shape              Param #   \n",
            "=================================================================\n",
            " dense_14 (Dense)            (None, 80)                5600      \n",
            "                                                                 \n",
            " dense_15 (Dense)            (None, 1000)              81000     \n",
            "                                                                 \n",
            " dense_16 (Dense)            (None, 55)                55055     \n",
            "                                                                 \n",
            " dense_17 (Dense)            (None, 70)                3920      \n",
            "                                                                 \n",
            " dense_18 (Dense)            (None, 45)                3195      \n",
            "                                                                 \n",
            " dense_19 (Dense)            (None, 500)               23000     \n",
            "                                                                 \n",
            " dense_20 (Dense)            (None, 1)                 501       \n",
            "                                                                 \n",
            "=================================================================\n",
            "Total params: 172,271\n",
            "Trainable params: 172,271\n",
            "Non-trainable params: 0\n",
            "_________________________________________________________________\n"
          ]
        }
      ],
      "source": [
        "# Define the model - deep neural net, i.e., the number of input features and hidden nodes for each layer.\n",
        "nn_op2 = tf.keras.models.Sequential()\n",
        "\n",
        "# Take optimized hyperparams and make a model\n",
        "nn_op2.add(tf.keras.layers.Dense(units=top_hyper[0].values.get('first_units'), activation=top_hyper[0].values.get('activation'), input_dim=X_train_scaled1.shape[1]))\n",
        "for i in range(top_hyper[0].values.get('num_layers')):\n",
        "    nn_op2.add(tf.keras.layers.Dense(units=top_hyper[0].values.get(f'units_{i}'), activation=top_hyper[0].values.get('activation')))\n",
        "\n",
        "# Output layer\n",
        "nn_op2.add(tf.keras.layers.Dense(units=1, activation='sigmoid'))\n",
        "\n",
        "# Check the structure of the model\n",
        "nn_op2.summary()"
      ]
    },
    {
      "cell_type": "code",
      "execution_count": 40,
      "metadata": {
        "id": "Fs0Qh2Y5Kvyi"
      },
      "outputs": [],
      "source": [
        "# Compile the model\n",
        "nn_op2.compile(loss='binary_crossentropy', optimizer='adam', metrics=['accuracy'])"
      ]
    },
    {
      "cell_type": "code",
      "execution_count": 42,
      "metadata": {
        "id": "uYdr9zhqKvyj",
        "colab": {
          "base_uri": "https://localhost:8080/"
        },
        "outputId": "4309d30b-69a7-4c07-d9b7-744283a80a06"
      },
      "outputs": [
        {
          "output_type": "stream",
          "name": "stdout",
          "text": [
            "Epoch 1/100\n",
            "1224/1224 [==============================] - 10s 8ms/step - loss: 0.5363 - accuracy: 0.7461\n",
            "Epoch 2/100\n",
            "1224/1224 [==============================] - 7s 6ms/step - loss: 0.5303 - accuracy: 0.7498\n",
            "Epoch 3/100\n",
            "1224/1224 [==============================] - 7s 6ms/step - loss: 0.5290 - accuracy: 0.7475\n",
            "Epoch 4/100\n",
            "1224/1224 [==============================] - 6s 5ms/step - loss: 0.5258 - accuracy: 0.7489\n",
            "Epoch 5/100\n",
            "1224/1224 [==============================] - 8s 6ms/step - loss: 0.5267 - accuracy: 0.7507\n",
            "Epoch 6/100\n",
            "1224/1224 [==============================] - 6s 5ms/step - loss: 0.5237 - accuracy: 0.7536\n",
            "Epoch 7/100\n",
            "1224/1224 [==============================] - 8s 6ms/step - loss: 0.5233 - accuracy: 0.7519\n",
            "Epoch 8/100\n",
            "1224/1224 [==============================] - 6s 5ms/step - loss: 0.5228 - accuracy: 0.7515\n",
            "Epoch 9/100\n",
            "1224/1224 [==============================] - 8s 6ms/step - loss: 0.5216 - accuracy: 0.7517\n",
            "Epoch 10/100\n",
            "1224/1224 [==============================] - 6s 5ms/step - loss: 0.5207 - accuracy: 0.7533\n",
            "Epoch 11/100\n",
            "1224/1224 [==============================] - 9s 8ms/step - loss: 0.5216 - accuracy: 0.7510\n",
            "Epoch 12/100\n",
            "1224/1224 [==============================] - 6s 5ms/step - loss: 0.5200 - accuracy: 0.7534\n",
            "Epoch 13/100\n",
            "1224/1224 [==============================] - 7s 6ms/step - loss: 0.5198 - accuracy: 0.7534\n",
            "Epoch 14/100\n",
            "1224/1224 [==============================] - 6s 5ms/step - loss: 0.5191 - accuracy: 0.7542\n",
            "Epoch 15/100\n",
            "1224/1224 [==============================] - 7s 6ms/step - loss: 0.5184 - accuracy: 0.7544\n",
            "Epoch 16/100\n",
            "1224/1224 [==============================] - 7s 6ms/step - loss: 0.5188 - accuracy: 0.7550\n",
            "Epoch 17/100\n",
            "1224/1224 [==============================] - 7s 6ms/step - loss: 0.5182 - accuracy: 0.7557\n",
            "Epoch 18/100\n",
            "1224/1224 [==============================] - 7s 5ms/step - loss: 0.5169 - accuracy: 0.7546\n",
            "Epoch 19/100\n",
            "1224/1224 [==============================] - 8s 6ms/step - loss: 0.5178 - accuracy: 0.7555\n",
            "Epoch 20/100\n",
            "1224/1224 [==============================] - 7s 6ms/step - loss: 0.5173 - accuracy: 0.7555\n",
            "Epoch 21/100\n",
            "1224/1224 [==============================] - 6s 5ms/step - loss: 0.5166 - accuracy: 0.7555\n",
            "Epoch 22/100\n",
            "1224/1224 [==============================] - 7s 6ms/step - loss: 0.5168 - accuracy: 0.7550\n",
            "Epoch 23/100\n",
            "1224/1224 [==============================] - 6s 5ms/step - loss: 0.5156 - accuracy: 0.7553\n",
            "Epoch 24/100\n",
            "1224/1224 [==============================] - 7s 6ms/step - loss: 0.5149 - accuracy: 0.7569\n",
            "Epoch 25/100\n",
            "1224/1224 [==============================] - 6s 5ms/step - loss: 0.5149 - accuracy: 0.7546\n",
            "Epoch 26/100\n",
            "1224/1224 [==============================] - 7s 6ms/step - loss: 0.5155 - accuracy: 0.7530\n",
            "Epoch 27/100\n",
            "1224/1224 [==============================] - 6s 5ms/step - loss: 0.5150 - accuracy: 0.7555\n",
            "Epoch 28/100\n",
            "1224/1224 [==============================] - 7s 6ms/step - loss: 0.5158 - accuracy: 0.7561\n",
            "Epoch 29/100\n",
            "1224/1224 [==============================] - 6s 5ms/step - loss: 0.5141 - accuracy: 0.7554\n",
            "Epoch 30/100\n",
            "1224/1224 [==============================] - 7s 6ms/step - loss: 0.5151 - accuracy: 0.7557\n",
            "Epoch 31/100\n",
            "1224/1224 [==============================] - 6s 5ms/step - loss: 0.5142 - accuracy: 0.7569\n",
            "Epoch 32/100\n",
            "1224/1224 [==============================] - 8s 7ms/step - loss: 0.5138 - accuracy: 0.7568\n",
            "Epoch 33/100\n",
            "1224/1224 [==============================] - 6s 5ms/step - loss: 0.5137 - accuracy: 0.7554\n",
            "Epoch 34/100\n",
            "1224/1224 [==============================] - 7s 6ms/step - loss: 0.5147 - accuracy: 0.7552\n",
            "Epoch 35/100\n",
            "1224/1224 [==============================] - 8s 6ms/step - loss: 0.5142 - accuracy: 0.7554\n",
            "Epoch 36/100\n",
            "1224/1224 [==============================] - 7s 6ms/step - loss: 0.5128 - accuracy: 0.7550\n",
            "Epoch 37/100\n",
            "1224/1224 [==============================] - 7s 5ms/step - loss: 0.5146 - accuracy: 0.7558\n",
            "Epoch 38/100\n",
            "1224/1224 [==============================] - 8s 7ms/step - loss: 0.5141 - accuracy: 0.7552\n",
            "Epoch 39/100\n",
            "1224/1224 [==============================] - 9s 7ms/step - loss: 0.5140 - accuracy: 0.7555\n",
            "Epoch 40/100\n",
            "1224/1224 [==============================] - 6s 5ms/step - loss: 0.5131 - accuracy: 0.7558\n",
            "Epoch 41/100\n",
            "1224/1224 [==============================] - 7s 6ms/step - loss: 0.5127 - accuracy: 0.7557\n",
            "Epoch 42/100\n",
            "1224/1224 [==============================] - 6s 5ms/step - loss: 0.5139 - accuracy: 0.7576\n",
            "Epoch 43/100\n",
            "1224/1224 [==============================] - 7s 6ms/step - loss: 0.5116 - accuracy: 0.7571\n",
            "Epoch 44/100\n",
            "1224/1224 [==============================] - 6s 5ms/step - loss: 0.5115 - accuracy: 0.7561\n",
            "Epoch 45/100\n",
            "1224/1224 [==============================] - 7s 6ms/step - loss: 0.5115 - accuracy: 0.7577\n",
            "Epoch 46/100\n",
            "1224/1224 [==============================] - 6s 5ms/step - loss: 0.5112 - accuracy: 0.7567\n",
            "Epoch 47/100\n",
            "1224/1224 [==============================] - 7s 6ms/step - loss: 0.5132 - accuracy: 0.7575\n",
            "Epoch 48/100\n",
            "1224/1224 [==============================] - 6s 5ms/step - loss: 0.5123 - accuracy: 0.7557\n",
            "Epoch 49/100\n",
            "1224/1224 [==============================] - 7s 6ms/step - loss: 0.5115 - accuracy: 0.7570\n",
            "Epoch 50/100\n",
            "1224/1224 [==============================] - 6s 5ms/step - loss: 0.5118 - accuracy: 0.7593\n",
            "Epoch 51/100\n",
            "1224/1224 [==============================] - 7s 6ms/step - loss: 0.5112 - accuracy: 0.7569\n",
            "Epoch 52/100\n",
            "1224/1224 [==============================] - 6s 5ms/step - loss: 0.5117 - accuracy: 0.7564\n",
            "Epoch 53/100\n",
            "1224/1224 [==============================] - 7s 6ms/step - loss: 0.5108 - accuracy: 0.7570\n",
            "Epoch 54/100\n",
            "1224/1224 [==============================] - 6s 5ms/step - loss: 0.5124 - accuracy: 0.7567\n",
            "Epoch 55/100\n",
            "1224/1224 [==============================] - 7s 6ms/step - loss: 0.5146 - accuracy: 0.7556\n",
            "Epoch 56/100\n",
            "1224/1224 [==============================] - 6s 5ms/step - loss: 0.5095 - accuracy: 0.7583\n",
            "Epoch 57/100\n",
            "1224/1224 [==============================] - 7s 6ms/step - loss: 0.5121 - accuracy: 0.7569\n",
            "Epoch 58/100\n",
            "1224/1224 [==============================] - 6s 5ms/step - loss: 0.5131 - accuracy: 0.7576\n",
            "Epoch 59/100\n",
            "1224/1224 [==============================] - 8s 7ms/step - loss: 0.5129 - accuracy: 0.7573\n",
            "Epoch 60/100\n",
            "1224/1224 [==============================] - 7s 6ms/step - loss: 0.5110 - accuracy: 0.7561\n",
            "Epoch 61/100\n",
            "1224/1224 [==============================] - 6s 5ms/step - loss: 0.5191 - accuracy: 0.7562\n",
            "Epoch 62/100\n",
            "1224/1224 [==============================] - 7s 6ms/step - loss: 0.5105 - accuracy: 0.7573\n",
            "Epoch 63/100\n",
            "1224/1224 [==============================] - 6s 5ms/step - loss: 0.5157 - accuracy: 0.7585\n",
            "Epoch 64/100\n",
            "1224/1224 [==============================] - 7s 6ms/step - loss: 0.5120 - accuracy: 0.7580\n",
            "Epoch 65/100\n",
            "1224/1224 [==============================] - 6s 5ms/step - loss: 0.5100 - accuracy: 0.7582\n",
            "Epoch 66/100\n",
            "1224/1224 [==============================] - 7s 6ms/step - loss: 0.5113 - accuracy: 0.7551\n",
            "Epoch 67/100\n",
            "1224/1224 [==============================] - 6s 5ms/step - loss: 0.5107 - accuracy: 0.7578\n",
            "Epoch 68/100\n",
            "1224/1224 [==============================] - 7s 6ms/step - loss: 0.5123 - accuracy: 0.7565\n",
            "Epoch 69/100\n",
            "1224/1224 [==============================] - 6s 5ms/step - loss: 0.5109 - accuracy: 0.7570\n",
            "Epoch 70/100\n",
            "1224/1224 [==============================] - 8s 6ms/step - loss: 0.5093 - accuracy: 0.7572\n",
            "Epoch 71/100\n",
            "1224/1224 [==============================] - 6s 5ms/step - loss: 0.5156 - accuracy: 0.7575\n",
            "Epoch 72/100\n",
            "1224/1224 [==============================] - 7s 6ms/step - loss: 0.5102 - accuracy: 0.7571\n",
            "Epoch 73/100\n",
            "1224/1224 [==============================] - 7s 5ms/step - loss: 0.5134 - accuracy: 0.7577\n",
            "Epoch 74/100\n",
            "1224/1224 [==============================] - 8s 6ms/step - loss: 0.5101 - accuracy: 0.7565\n",
            "Epoch 75/100\n",
            "1224/1224 [==============================] - 6s 5ms/step - loss: 0.5110 - accuracy: 0.7569\n",
            "Epoch 76/100\n",
            "1224/1224 [==============================] - 7s 6ms/step - loss: 0.5107 - accuracy: 0.7578\n",
            "Epoch 77/100\n",
            "1224/1224 [==============================] - 6s 5ms/step - loss: 0.5106 - accuracy: 0.7578\n",
            "Epoch 78/100\n",
            "1224/1224 [==============================] - 7s 6ms/step - loss: 0.5111 - accuracy: 0.7580\n",
            "Epoch 79/100\n",
            "1224/1224 [==============================] - 7s 5ms/step - loss: 0.5123 - accuracy: 0.7562\n",
            "Epoch 80/100\n",
            "1224/1224 [==============================] - 7s 6ms/step - loss: 0.5098 - accuracy: 0.7583\n",
            "Epoch 81/100\n",
            "1224/1224 [==============================] - 7s 6ms/step - loss: 0.5094 - accuracy: 0.7581\n",
            "Epoch 82/100\n",
            "1224/1224 [==============================] - 7s 6ms/step - loss: 0.5107 - accuracy: 0.7571\n",
            "Epoch 83/100\n",
            "1224/1224 [==============================] - 7s 6ms/step - loss: 0.5112 - accuracy: 0.7588\n",
            "Epoch 84/100\n",
            "1224/1224 [==============================] - 8s 6ms/step - loss: 0.5158 - accuracy: 0.7502\n",
            "Epoch 85/100\n",
            "1224/1224 [==============================] - 6s 5ms/step - loss: 0.5132 - accuracy: 0.7556\n",
            "Epoch 86/100\n",
            "1224/1224 [==============================] - 7s 6ms/step - loss: 0.5115 - accuracy: 0.7568\n",
            "Epoch 87/100\n",
            "1224/1224 [==============================] - 7s 5ms/step - loss: 0.5102 - accuracy: 0.7580\n",
            "Epoch 88/100\n",
            "1224/1224 [==============================] - 7s 6ms/step - loss: 0.5096 - accuracy: 0.7594\n",
            "Epoch 89/100\n",
            "1224/1224 [==============================] - 7s 6ms/step - loss: 0.5101 - accuracy: 0.7583\n",
            "Epoch 90/100\n",
            "1224/1224 [==============================] - 7s 5ms/step - loss: 0.5143 - accuracy: 0.7573\n",
            "Epoch 91/100\n",
            "1224/1224 [==============================] - 7s 6ms/step - loss: 0.5133 - accuracy: 0.7554\n",
            "Epoch 92/100\n",
            "1224/1224 [==============================] - 6s 5ms/step - loss: 0.5106 - accuracy: 0.7573\n",
            "Epoch 93/100\n",
            "1224/1224 [==============================] - 7s 6ms/step - loss: 0.5097 - accuracy: 0.7568\n",
            "Epoch 94/100\n",
            "1224/1224 [==============================] - 6s 5ms/step - loss: 0.5147 - accuracy: 0.7573\n",
            "Epoch 95/100\n",
            "1224/1224 [==============================] - 7s 6ms/step - loss: 0.5088 - accuracy: 0.7585\n",
            "Epoch 96/100\n",
            "1224/1224 [==============================] - 6s 5ms/step - loss: 0.5087 - accuracy: 0.7594\n",
            "Epoch 97/100\n",
            "1224/1224 [==============================] - 7s 6ms/step - loss: 0.5084 - accuracy: 0.7584\n",
            "Epoch 98/100\n",
            "1224/1224 [==============================] - 6s 5ms/step - loss: 0.5138 - accuracy: 0.7579\n",
            "Epoch 99/100\n",
            "1224/1224 [==============================] - 7s 6ms/step - loss: 0.5110 - accuracy: 0.7582\n",
            "Epoch 100/100\n",
            "1224/1224 [==============================] - 6s 5ms/step - loss: 0.5089 - accuracy: 0.7600\n"
          ]
        }
      ],
      "source": [
        "# Train the model\n",
        "history = nn_op2.fit(X_train_scaled1, y_train1, epochs=100, verbose=1, batch_size=16)"
      ]
    },
    {
      "cell_type": "code",
      "execution_count": 43,
      "metadata": {
        "id": "vSp7TNeKKvyj",
        "colab": {
          "base_uri": "https://localhost:8080/"
        },
        "outputId": "18e13d2b-b8d1-47c0-8138-395b62dbb14e"
      },
      "outputs": [
        {
          "output_type": "stream",
          "name": "stdout",
          "text": [
            "408/408 [==============================] - 1s 2ms/step - loss: 0.6784 - accuracy: 0.7362\n",
            "Loss: 0.6784164309501648, Accuracy: 0.7362048029899597\n"
          ]
        }
      ],
      "source": [
        "# Evaluate the model using the test data\n",
        "model_loss, model_accuracy = nn_op2.evaluate(X_test_scaled1,y_test1,verbose=1, batch_size=16)\n",
        "print(f\"Loss: {model_loss}, Accuracy: {model_accuracy}\")"
      ]
    },
    {
      "cell_type": "code",
      "execution_count": 44,
      "metadata": {
        "id": "JVGVAcJ6Kvyj"
      },
      "outputs": [],
      "source": [
        "# Export our model to HDF5 file\n",
        "nn_op2.save('AlphabetSoupCharity_Optimization_2.h5')"
      ]
    }
  ],
  "metadata": {
    "kernelspec": {
      "display_name": "Python 3",
      "language": "python",
      "name": "python3"
    },
    "language_info": {
      "codemirror_mode": {
        "name": "ipython",
        "version": 3
      },
      "file_extension": ".py",
      "mimetype": "text/x-python",
      "name": "python",
      "nbconvert_exporter": "python",
      "pygments_lexer": "ipython3",
      "version": "3.-1.-1"
    },
    "vscode": {
      "interpreter": {
        "hash": "31f2aee4e71d21fbe5cf8b01ff0e069b9275f58929596ceb00d14d90e3e16cd6"
      }
    },
    "colab": {
      "provenance": []
    }
  },
  "nbformat": 4,
  "nbformat_minor": 0
}