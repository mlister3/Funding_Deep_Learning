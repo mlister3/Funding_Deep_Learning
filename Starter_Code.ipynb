{
  "cells": [
    {
      "cell_type": "markdown",
      "metadata": {
        "id": "1luGE0ovKvyX"
      },
      "source": [
        "## Preprocessing"
      ]
    },
    {
      "cell_type": "code",
      "execution_count": 73,
      "metadata": {
        "colab": {
          "base_uri": "https://localhost:8080/",
          "height": 0
        },
        "id": "uIbKw_xTKvyZ",
        "outputId": "b7c1e71e-4b84-4e41-93f0-57f1fcff310f"
      },
      "outputs": [
        {
          "output_type": "execute_result",
          "data": {
            "text/plain": [
              "        EIN                                      NAME APPLICATION_TYPE  \\\n",
              "0  10520599              BLUE KNIGHTS MOTORCYCLE CLUB              T10   \n",
              "1  10531628    AMERICAN CHESAPEAKE CLUB CHARITABLE TR               T3   \n",
              "2  10547893        ST CLOUD PROFESSIONAL FIREFIGHTERS               T5   \n",
              "3  10553066            SOUTHSIDE ATHLETIC ASSOCIATION               T3   \n",
              "4  10556103  GENETIC RESEARCH INSTITUTE OF THE DESERT               T3   \n",
              "\n",
              "        AFFILIATION CLASSIFICATION      USE_CASE  ORGANIZATION  STATUS  \\\n",
              "0       Independent          C1000    ProductDev   Association       1   \n",
              "1       Independent          C2000  Preservation  Co-operative       1   \n",
              "2  CompanySponsored          C3000    ProductDev   Association       1   \n",
              "3  CompanySponsored          C2000  Preservation         Trust       1   \n",
              "4       Independent          C1000     Heathcare         Trust       1   \n",
              "\n",
              "      INCOME_AMT SPECIAL_CONSIDERATIONS  ASK_AMT  IS_SUCCESSFUL  \n",
              "0              0                      N     5000              1  \n",
              "1         1-9999                      N   108590              1  \n",
              "2              0                      N     5000              0  \n",
              "3    10000-24999                      N     6692              1  \n",
              "4  100000-499999                      N   142590              1  "
            ],
            "text/html": [
              "\n",
              "  <div id=\"df-94807c38-c22d-4053-b378-5bcac3b3e3b9\">\n",
              "    <div class=\"colab-df-container\">\n",
              "      <div>\n",
              "<style scoped>\n",
              "    .dataframe tbody tr th:only-of-type {\n",
              "        vertical-align: middle;\n",
              "    }\n",
              "\n",
              "    .dataframe tbody tr th {\n",
              "        vertical-align: top;\n",
              "    }\n",
              "\n",
              "    .dataframe thead th {\n",
              "        text-align: right;\n",
              "    }\n",
              "</style>\n",
              "<table border=\"1\" class=\"dataframe\">\n",
              "  <thead>\n",
              "    <tr style=\"text-align: right;\">\n",
              "      <th></th>\n",
              "      <th>EIN</th>\n",
              "      <th>NAME</th>\n",
              "      <th>APPLICATION_TYPE</th>\n",
              "      <th>AFFILIATION</th>\n",
              "      <th>CLASSIFICATION</th>\n",
              "      <th>USE_CASE</th>\n",
              "      <th>ORGANIZATION</th>\n",
              "      <th>STATUS</th>\n",
              "      <th>INCOME_AMT</th>\n",
              "      <th>SPECIAL_CONSIDERATIONS</th>\n",
              "      <th>ASK_AMT</th>\n",
              "      <th>IS_SUCCESSFUL</th>\n",
              "    </tr>\n",
              "  </thead>\n",
              "  <tbody>\n",
              "    <tr>\n",
              "      <th>0</th>\n",
              "      <td>10520599</td>\n",
              "      <td>BLUE KNIGHTS MOTORCYCLE CLUB</td>\n",
              "      <td>T10</td>\n",
              "      <td>Independent</td>\n",
              "      <td>C1000</td>\n",
              "      <td>ProductDev</td>\n",
              "      <td>Association</td>\n",
              "      <td>1</td>\n",
              "      <td>0</td>\n",
              "      <td>N</td>\n",
              "      <td>5000</td>\n",
              "      <td>1</td>\n",
              "    </tr>\n",
              "    <tr>\n",
              "      <th>1</th>\n",
              "      <td>10531628</td>\n",
              "      <td>AMERICAN CHESAPEAKE CLUB CHARITABLE TR</td>\n",
              "      <td>T3</td>\n",
              "      <td>Independent</td>\n",
              "      <td>C2000</td>\n",
              "      <td>Preservation</td>\n",
              "      <td>Co-operative</td>\n",
              "      <td>1</td>\n",
              "      <td>1-9999</td>\n",
              "      <td>N</td>\n",
              "      <td>108590</td>\n",
              "      <td>1</td>\n",
              "    </tr>\n",
              "    <tr>\n",
              "      <th>2</th>\n",
              "      <td>10547893</td>\n",
              "      <td>ST CLOUD PROFESSIONAL FIREFIGHTERS</td>\n",
              "      <td>T5</td>\n",
              "      <td>CompanySponsored</td>\n",
              "      <td>C3000</td>\n",
              "      <td>ProductDev</td>\n",
              "      <td>Association</td>\n",
              "      <td>1</td>\n",
              "      <td>0</td>\n",
              "      <td>N</td>\n",
              "      <td>5000</td>\n",
              "      <td>0</td>\n",
              "    </tr>\n",
              "    <tr>\n",
              "      <th>3</th>\n",
              "      <td>10553066</td>\n",
              "      <td>SOUTHSIDE ATHLETIC ASSOCIATION</td>\n",
              "      <td>T3</td>\n",
              "      <td>CompanySponsored</td>\n",
              "      <td>C2000</td>\n",
              "      <td>Preservation</td>\n",
              "      <td>Trust</td>\n",
              "      <td>1</td>\n",
              "      <td>10000-24999</td>\n",
              "      <td>N</td>\n",
              "      <td>6692</td>\n",
              "      <td>1</td>\n",
              "    </tr>\n",
              "    <tr>\n",
              "      <th>4</th>\n",
              "      <td>10556103</td>\n",
              "      <td>GENETIC RESEARCH INSTITUTE OF THE DESERT</td>\n",
              "      <td>T3</td>\n",
              "      <td>Independent</td>\n",
              "      <td>C1000</td>\n",
              "      <td>Heathcare</td>\n",
              "      <td>Trust</td>\n",
              "      <td>1</td>\n",
              "      <td>100000-499999</td>\n",
              "      <td>N</td>\n",
              "      <td>142590</td>\n",
              "      <td>1</td>\n",
              "    </tr>\n",
              "  </tbody>\n",
              "</table>\n",
              "</div>\n",
              "      <button class=\"colab-df-convert\" onclick=\"convertToInteractive('df-94807c38-c22d-4053-b378-5bcac3b3e3b9')\"\n",
              "              title=\"Convert this dataframe to an interactive table.\"\n",
              "              style=\"display:none;\">\n",
              "        \n",
              "  <svg xmlns=\"http://www.w3.org/2000/svg\" height=\"24px\"viewBox=\"0 0 24 24\"\n",
              "       width=\"24px\">\n",
              "    <path d=\"M0 0h24v24H0V0z\" fill=\"none\"/>\n",
              "    <path d=\"M18.56 5.44l.94 2.06.94-2.06 2.06-.94-2.06-.94-.94-2.06-.94 2.06-2.06.94zm-11 1L8.5 8.5l.94-2.06 2.06-.94-2.06-.94L8.5 2.5l-.94 2.06-2.06.94zm10 10l.94 2.06.94-2.06 2.06-.94-2.06-.94-.94-2.06-.94 2.06-2.06.94z\"/><path d=\"M17.41 7.96l-1.37-1.37c-.4-.4-.92-.59-1.43-.59-.52 0-1.04.2-1.43.59L10.3 9.45l-7.72 7.72c-.78.78-.78 2.05 0 2.83L4 21.41c.39.39.9.59 1.41.59.51 0 1.02-.2 1.41-.59l7.78-7.78 2.81-2.81c.8-.78.8-2.07 0-2.86zM5.41 20L4 18.59l7.72-7.72 1.47 1.35L5.41 20z\"/>\n",
              "  </svg>\n",
              "      </button>\n",
              "      \n",
              "  <style>\n",
              "    .colab-df-container {\n",
              "      display:flex;\n",
              "      flex-wrap:wrap;\n",
              "      gap: 12px;\n",
              "    }\n",
              "\n",
              "    .colab-df-convert {\n",
              "      background-color: #E8F0FE;\n",
              "      border: none;\n",
              "      border-radius: 50%;\n",
              "      cursor: pointer;\n",
              "      display: none;\n",
              "      fill: #1967D2;\n",
              "      height: 32px;\n",
              "      padding: 0 0 0 0;\n",
              "      width: 32px;\n",
              "    }\n",
              "\n",
              "    .colab-df-convert:hover {\n",
              "      background-color: #E2EBFA;\n",
              "      box-shadow: 0px 1px 2px rgba(60, 64, 67, 0.3), 0px 1px 3px 1px rgba(60, 64, 67, 0.15);\n",
              "      fill: #174EA6;\n",
              "    }\n",
              "\n",
              "    [theme=dark] .colab-df-convert {\n",
              "      background-color: #3B4455;\n",
              "      fill: #D2E3FC;\n",
              "    }\n",
              "\n",
              "    [theme=dark] .colab-df-convert:hover {\n",
              "      background-color: #434B5C;\n",
              "      box-shadow: 0px 1px 3px 1px rgba(0, 0, 0, 0.15);\n",
              "      filter: drop-shadow(0px 1px 2px rgba(0, 0, 0, 0.3));\n",
              "      fill: #FFFFFF;\n",
              "    }\n",
              "  </style>\n",
              "\n",
              "      <script>\n",
              "        const buttonEl =\n",
              "          document.querySelector('#df-94807c38-c22d-4053-b378-5bcac3b3e3b9 button.colab-df-convert');\n",
              "        buttonEl.style.display =\n",
              "          google.colab.kernel.accessAllowed ? 'block' : 'none';\n",
              "\n",
              "        async function convertToInteractive(key) {\n",
              "          const element = document.querySelector('#df-94807c38-c22d-4053-b378-5bcac3b3e3b9');\n",
              "          const dataTable =\n",
              "            await google.colab.kernel.invokeFunction('convertToInteractive',\n",
              "                                                     [key], {});\n",
              "          if (!dataTable) return;\n",
              "\n",
              "          const docLinkHtml = 'Like what you see? Visit the ' +\n",
              "            '<a target=\"_blank\" href=https://colab.research.google.com/notebooks/data_table.ipynb>data table notebook</a>'\n",
              "            + ' to learn more about interactive tables.';\n",
              "          element.innerHTML = '';\n",
              "          dataTable['output_type'] = 'display_data';\n",
              "          await google.colab.output.renderOutput(dataTable, element);\n",
              "          const docLink = document.createElement('div');\n",
              "          docLink.innerHTML = docLinkHtml;\n",
              "          element.appendChild(docLink);\n",
              "        }\n",
              "      </script>\n",
              "    </div>\n",
              "  </div>\n",
              "  "
            ]
          },
          "metadata": {},
          "execution_count": 73
        }
      ],
      "source": [
        "# Import our dependencies\n",
        "from sklearn.model_selection import train_test_split\n",
        "from sklearn.preprocessing import StandardScaler\n",
        "import pandas as pd\n",
        "import tensorflow as tf\n",
        "\n",
        "#  Import and read the charity_data.csv.\n",
        "application_df = pd.read_csv(\"https://static.bc-edx.com/data/dl-1-2/m21/lms/starter/charity_data.csv\")\n",
        "application_df.head(5)"
      ]
    },
    {
      "cell_type": "code",
      "execution_count": 74,
      "metadata": {
        "id": "oBVH6xjsKvyb"
      },
      "outputs": [],
      "source": [
        "# Drop the non-beneficial ID columns, 'EIN' and 'NAME'.\n",
        "application_df = application_df.drop(['EIN', 'NAME'], axis=1)\n",
        "application_df_copy = application_df.copy()"
      ]
    },
    {
      "cell_type": "code",
      "execution_count": 75,
      "metadata": {
        "colab": {
          "base_uri": "https://localhost:8080/"
        },
        "id": "hld8LlbtKvyc",
        "outputId": "eab0894a-28d9-4cdd-ce8a-d31ff7393957"
      },
      "outputs": [
        {
          "output_type": "execute_result",
          "data": {
            "text/plain": [
              "APPLICATION_TYPE            17\n",
              "AFFILIATION                  6\n",
              "CLASSIFICATION              71\n",
              "USE_CASE                     5\n",
              "ORGANIZATION                 4\n",
              "STATUS                       2\n",
              "INCOME_AMT                   9\n",
              "SPECIAL_CONSIDERATIONS       2\n",
              "ASK_AMT                   8747\n",
              "IS_SUCCESSFUL                2\n",
              "dtype: int64"
            ]
          },
          "metadata": {},
          "execution_count": 75
        }
      ],
      "source": [
        "# Determine the number of unique values in each column.\n",
        "application_df.nunique()"
      ]
    },
    {
      "cell_type": "code",
      "execution_count": 76,
      "metadata": {
        "colab": {
          "base_uri": "https://localhost:8080/"
        },
        "id": "qTx22cthKvyd",
        "outputId": "eca5584d-c503-4892-cbf1-83fadec21cd0"
      },
      "outputs": [
        {
          "output_type": "execute_result",
          "data": {
            "text/plain": [
              "T3     27037\n",
              "T4      1542\n",
              "T6      1216\n",
              "T5      1173\n",
              "T19     1065\n",
              "T8       737\n",
              "T7       725\n",
              "T10      528\n",
              "T9       156\n",
              "T13       66\n",
              "T12       27\n",
              "T2        16\n",
              "T25        3\n",
              "T14        3\n",
              "T29        2\n",
              "T15        2\n",
              "T17        1\n",
              "Name: APPLICATION_TYPE, dtype: int64"
            ]
          },
          "metadata": {},
          "execution_count": 76
        }
      ],
      "source": [
        "# Look at APPLICATION_TYPE value counts for binning\n",
        "application_df['APPLICATION_TYPE'].value_counts()"
      ]
    },
    {
      "cell_type": "code",
      "execution_count": 77,
      "metadata": {
        "colab": {
          "base_uri": "https://localhost:8080/"
        },
        "id": "2hp0X2j_Kvye",
        "outputId": "185c04f3-5200-4420-c5a7-54eb7a9f4024"
      },
      "outputs": [
        {
          "output_type": "execute_result",
          "data": {
            "text/plain": [
              "T3       27037\n",
              "T4        1542\n",
              "T6        1216\n",
              "T5        1173\n",
              "T19       1065\n",
              "T8         737\n",
              "T7         725\n",
              "T10        528\n",
              "Other      276\n",
              "Name: APPLICATION_TYPE, dtype: int64"
            ]
          },
          "metadata": {},
          "execution_count": 77
        }
      ],
      "source": [
        "# Choose a cutoff value and create a list of application types to be replaced\n",
        "# use the variable name `application_types_to_replace`\n",
        "cutoff_value = 500\n",
        "application_types_to_replace = application_df['APPLICATION_TYPE'].value_counts()[application_df['APPLICATION_TYPE'].value_counts() < cutoff_value].index.tolist()\n",
        "\n",
        "# Replace in dataframe\n",
        "for app in application_types_to_replace:\n",
        "    application_df['APPLICATION_TYPE'] = application_df['APPLICATION_TYPE'].replace(app,\"Other\")\n",
        "\n",
        "# Check to make sure binning was successful\n",
        "application_df['APPLICATION_TYPE'].value_counts()"
      ]
    },
    {
      "cell_type": "code",
      "execution_count": 78,
      "metadata": {
        "colab": {
          "base_uri": "https://localhost:8080/"
        },
        "id": "rxlZilgMKvyf",
        "outputId": "bb354915-32f0-4f21-acd4-7e80c23c1f51"
      },
      "outputs": [
        {
          "output_type": "execute_result",
          "data": {
            "text/plain": [
              "C1000    17326\n",
              "C2000     6074\n",
              "C1200     4837\n",
              "C3000     1918\n",
              "C2100     1883\n",
              "C7000      777\n",
              "C1700      287\n",
              "C4000      194\n",
              "C5000      116\n",
              "C1270      114\n",
              "C2700      104\n",
              "C2800       95\n",
              "C7100       75\n",
              "C1300       58\n",
              "C1280       50\n",
              "C1230       36\n",
              "C1400       34\n",
              "C7200       32\n",
              "C2300       32\n",
              "C1240       30\n",
              "C8000       20\n",
              "C7120       18\n",
              "C1500       16\n",
              "C1800       15\n",
              "C6000       15\n",
              "C1250       14\n",
              "C8200       11\n",
              "C1238       10\n",
              "C1278       10\n",
              "C1235        9\n",
              "C1237        9\n",
              "C7210        7\n",
              "C2400        6\n",
              "C1720        6\n",
              "C4100        6\n",
              "C1257        5\n",
              "C1600        5\n",
              "C1260        3\n",
              "C2710        3\n",
              "C0           3\n",
              "C3200        2\n",
              "C1234        2\n",
              "C1246        2\n",
              "C1267        2\n",
              "C1256        2\n",
              "C2190        1\n",
              "C4200        1\n",
              "C2600        1\n",
              "C5200        1\n",
              "C1370        1\n",
              "C1248        1\n",
              "C6100        1\n",
              "C1820        1\n",
              "C1900        1\n",
              "C1236        1\n",
              "C3700        1\n",
              "C2570        1\n",
              "C1580        1\n",
              "C1245        1\n",
              "C2500        1\n",
              "C1570        1\n",
              "C1283        1\n",
              "C2380        1\n",
              "C1732        1\n",
              "C1728        1\n",
              "C2170        1\n",
              "C4120        1\n",
              "C8210        1\n",
              "C2561        1\n",
              "C4500        1\n",
              "C2150        1\n",
              "Name: CLASSIFICATION, dtype: int64"
            ]
          },
          "metadata": {},
          "execution_count": 78
        }
      ],
      "source": [
        "# Look at CLASSIFICATION value counts for binning\n",
        "application_df['CLASSIFICATION'].value_counts()"
      ]
    },
    {
      "cell_type": "code",
      "execution_count": 79,
      "metadata": {
        "colab": {
          "base_uri": "https://localhost:8080/"
        },
        "id": "cxA_HNVhKvyf",
        "outputId": "ba91b805-c9a3-491d-bd2c-d2ab17d7c6f0"
      },
      "outputs": [
        {
          "output_type": "execute_result",
          "data": {
            "text/plain": [
              "C1000    17326\n",
              "C2000     6074\n",
              "C1200     4837\n",
              "C3000     1918\n",
              "C2100     1883\n",
              "C7000      777\n",
              "C1700      287\n",
              "C4000      194\n",
              "C5000      116\n",
              "C1270      114\n",
              "C2700      104\n",
              "C2800       95\n",
              "C7100       75\n",
              "C1300       58\n",
              "C1280       50\n",
              "C1230       36\n",
              "C1400       34\n",
              "C7200       32\n",
              "C2300       32\n",
              "C1240       30\n",
              "C8000       20\n",
              "C7120       18\n",
              "C1500       16\n",
              "C1800       15\n",
              "C6000       15\n",
              "C1250       14\n",
              "C8200       11\n",
              "C1238       10\n",
              "C1278       10\n",
              "C1235        9\n",
              "C1237        9\n",
              "C7210        7\n",
              "C2400        6\n",
              "C1720        6\n",
              "C4100        6\n",
              "C1257        5\n",
              "C1600        5\n",
              "C1260        3\n",
              "C2710        3\n",
              "C0           3\n",
              "C3200        2\n",
              "C1234        2\n",
              "C1246        2\n",
              "C1267        2\n",
              "C1256        2\n",
              "Name: CLASSIFICATION, dtype: int64"
            ]
          },
          "metadata": {},
          "execution_count": 79
        }
      ],
      "source": [
        "# You may find it helpful to look at CLASSIFICATION value counts >1\n",
        "classification_counts = application_df['CLASSIFICATION'].value_counts()\n",
        "classification_counts[classification_counts > 1]"
      ]
    },
    {
      "cell_type": "code",
      "execution_count": 80,
      "metadata": {
        "colab": {
          "base_uri": "https://localhost:8080/"
        },
        "id": "F6-69P70Kvyg",
        "outputId": "2d746a59-9d93-467d-f326-1f659a5559d6"
      },
      "outputs": [
        {
          "output_type": "execute_result",
          "data": {
            "text/plain": [
              "C1000    17326\n",
              "C2000     6074\n",
              "C1200     4837\n",
              "C3000     1918\n",
              "C2100     1883\n",
              "Other     1484\n",
              "C7000      777\n",
              "Name: CLASSIFICATION, dtype: int64"
            ]
          },
          "metadata": {},
          "execution_count": 80
        }
      ],
      "source": [
        "# Choose a cutoff value and create a list of classifications to be replaced\n",
        "# use the variable name `classifications_to_replace`\n",
        "cutoff_value = 500\n",
        "classifications_to_replace = application_df['CLASSIFICATION'].value_counts()[application_df['CLASSIFICATION'].value_counts() < cutoff_value].index.tolist()\n",
        "\n",
        "# Replace in dataframe\n",
        "for cls in classifications_to_replace:\n",
        "    application_df['CLASSIFICATION'] = application_df['CLASSIFICATION'].replace(cls,\"Other\")\n",
        "    \n",
        "# Check to make sure binning was successful\n",
        "application_df['CLASSIFICATION'].value_counts()"
      ]
    },
    {
      "cell_type": "code",
      "execution_count": 81,
      "metadata": {
        "colab": {
          "base_uri": "https://localhost:8080/",
          "height": 0
        },
        "id": "6EL377mWKvyg",
        "outputId": "99dc2da5-a7d5-4573-f564-65014a1f5690"
      },
      "outputs": [
        {
          "output_type": "execute_result",
          "data": {
            "text/plain": [
              "   STATUS  ASK_AMT  IS_SUCCESSFUL  APPLICATION_TYPE_Other  \\\n",
              "0       1     5000              1                       0   \n",
              "1       1   108590              1                       0   \n",
              "2       1     5000              0                       0   \n",
              "3       1     6692              1                       0   \n",
              "4       1   142590              1                       0   \n",
              "\n",
              "   APPLICATION_TYPE_T10  APPLICATION_TYPE_T19  APPLICATION_TYPE_T3  \\\n",
              "0                     1                     0                    0   \n",
              "1                     0                     0                    1   \n",
              "2                     0                     0                    0   \n",
              "3                     0                     0                    1   \n",
              "4                     0                     0                    1   \n",
              "\n",
              "   APPLICATION_TYPE_T4  APPLICATION_TYPE_T5  APPLICATION_TYPE_T6  ...  \\\n",
              "0                    0                    0                    0  ...   \n",
              "1                    0                    0                    0  ...   \n",
              "2                    0                    1                    0  ...   \n",
              "3                    0                    0                    0  ...   \n",
              "4                    0                    0                    0  ...   \n",
              "\n",
              "   INCOME_AMT_1-9999  INCOME_AMT_10000-24999  INCOME_AMT_100000-499999  \\\n",
              "0                  0                       0                         0   \n",
              "1                  1                       0                         0   \n",
              "2                  0                       0                         0   \n",
              "3                  0                       1                         0   \n",
              "4                  0                       0                         1   \n",
              "\n",
              "   INCOME_AMT_10M-50M  INCOME_AMT_1M-5M  INCOME_AMT_25000-99999  \\\n",
              "0                   0                 0                       0   \n",
              "1                   0                 0                       0   \n",
              "2                   0                 0                       0   \n",
              "3                   0                 0                       0   \n",
              "4                   0                 0                       0   \n",
              "\n",
              "   INCOME_AMT_50M+  INCOME_AMT_5M-10M  SPECIAL_CONSIDERATIONS_N  \\\n",
              "0                0                  0                         1   \n",
              "1                0                  0                         1   \n",
              "2                0                  0                         1   \n",
              "3                0                  0                         1   \n",
              "4                0                  0                         1   \n",
              "\n",
              "   SPECIAL_CONSIDERATIONS_Y  \n",
              "0                         0  \n",
              "1                         0  \n",
              "2                         0  \n",
              "3                         0  \n",
              "4                         0  \n",
              "\n",
              "[5 rows x 45 columns]"
            ],
            "text/html": [
              "\n",
              "  <div id=\"df-9bca27ad-6a99-4fc3-b612-a7565d2720b2\">\n",
              "    <div class=\"colab-df-container\">\n",
              "      <div>\n",
              "<style scoped>\n",
              "    .dataframe tbody tr th:only-of-type {\n",
              "        vertical-align: middle;\n",
              "    }\n",
              "\n",
              "    .dataframe tbody tr th {\n",
              "        vertical-align: top;\n",
              "    }\n",
              "\n",
              "    .dataframe thead th {\n",
              "        text-align: right;\n",
              "    }\n",
              "</style>\n",
              "<table border=\"1\" class=\"dataframe\">\n",
              "  <thead>\n",
              "    <tr style=\"text-align: right;\">\n",
              "      <th></th>\n",
              "      <th>STATUS</th>\n",
              "      <th>ASK_AMT</th>\n",
              "      <th>IS_SUCCESSFUL</th>\n",
              "      <th>APPLICATION_TYPE_Other</th>\n",
              "      <th>APPLICATION_TYPE_T10</th>\n",
              "      <th>APPLICATION_TYPE_T19</th>\n",
              "      <th>APPLICATION_TYPE_T3</th>\n",
              "      <th>APPLICATION_TYPE_T4</th>\n",
              "      <th>APPLICATION_TYPE_T5</th>\n",
              "      <th>APPLICATION_TYPE_T6</th>\n",
              "      <th>...</th>\n",
              "      <th>INCOME_AMT_1-9999</th>\n",
              "      <th>INCOME_AMT_10000-24999</th>\n",
              "      <th>INCOME_AMT_100000-499999</th>\n",
              "      <th>INCOME_AMT_10M-50M</th>\n",
              "      <th>INCOME_AMT_1M-5M</th>\n",
              "      <th>INCOME_AMT_25000-99999</th>\n",
              "      <th>INCOME_AMT_50M+</th>\n",
              "      <th>INCOME_AMT_5M-10M</th>\n",
              "      <th>SPECIAL_CONSIDERATIONS_N</th>\n",
              "      <th>SPECIAL_CONSIDERATIONS_Y</th>\n",
              "    </tr>\n",
              "  </thead>\n",
              "  <tbody>\n",
              "    <tr>\n",
              "      <th>0</th>\n",
              "      <td>1</td>\n",
              "      <td>5000</td>\n",
              "      <td>1</td>\n",
              "      <td>0</td>\n",
              "      <td>1</td>\n",
              "      <td>0</td>\n",
              "      <td>0</td>\n",
              "      <td>0</td>\n",
              "      <td>0</td>\n",
              "      <td>0</td>\n",
              "      <td>...</td>\n",
              "      <td>0</td>\n",
              "      <td>0</td>\n",
              "      <td>0</td>\n",
              "      <td>0</td>\n",
              "      <td>0</td>\n",
              "      <td>0</td>\n",
              "      <td>0</td>\n",
              "      <td>0</td>\n",
              "      <td>1</td>\n",
              "      <td>0</td>\n",
              "    </tr>\n",
              "    <tr>\n",
              "      <th>1</th>\n",
              "      <td>1</td>\n",
              "      <td>108590</td>\n",
              "      <td>1</td>\n",
              "      <td>0</td>\n",
              "      <td>0</td>\n",
              "      <td>0</td>\n",
              "      <td>1</td>\n",
              "      <td>0</td>\n",
              "      <td>0</td>\n",
              "      <td>0</td>\n",
              "      <td>...</td>\n",
              "      <td>1</td>\n",
              "      <td>0</td>\n",
              "      <td>0</td>\n",
              "      <td>0</td>\n",
              "      <td>0</td>\n",
              "      <td>0</td>\n",
              "      <td>0</td>\n",
              "      <td>0</td>\n",
              "      <td>1</td>\n",
              "      <td>0</td>\n",
              "    </tr>\n",
              "    <tr>\n",
              "      <th>2</th>\n",
              "      <td>1</td>\n",
              "      <td>5000</td>\n",
              "      <td>0</td>\n",
              "      <td>0</td>\n",
              "      <td>0</td>\n",
              "      <td>0</td>\n",
              "      <td>0</td>\n",
              "      <td>0</td>\n",
              "      <td>1</td>\n",
              "      <td>0</td>\n",
              "      <td>...</td>\n",
              "      <td>0</td>\n",
              "      <td>0</td>\n",
              "      <td>0</td>\n",
              "      <td>0</td>\n",
              "      <td>0</td>\n",
              "      <td>0</td>\n",
              "      <td>0</td>\n",
              "      <td>0</td>\n",
              "      <td>1</td>\n",
              "      <td>0</td>\n",
              "    </tr>\n",
              "    <tr>\n",
              "      <th>3</th>\n",
              "      <td>1</td>\n",
              "      <td>6692</td>\n",
              "      <td>1</td>\n",
              "      <td>0</td>\n",
              "      <td>0</td>\n",
              "      <td>0</td>\n",
              "      <td>1</td>\n",
              "      <td>0</td>\n",
              "      <td>0</td>\n",
              "      <td>0</td>\n",
              "      <td>...</td>\n",
              "      <td>0</td>\n",
              "      <td>1</td>\n",
              "      <td>0</td>\n",
              "      <td>0</td>\n",
              "      <td>0</td>\n",
              "      <td>0</td>\n",
              "      <td>0</td>\n",
              "      <td>0</td>\n",
              "      <td>1</td>\n",
              "      <td>0</td>\n",
              "    </tr>\n",
              "    <tr>\n",
              "      <th>4</th>\n",
              "      <td>1</td>\n",
              "      <td>142590</td>\n",
              "      <td>1</td>\n",
              "      <td>0</td>\n",
              "      <td>0</td>\n",
              "      <td>0</td>\n",
              "      <td>1</td>\n",
              "      <td>0</td>\n",
              "      <td>0</td>\n",
              "      <td>0</td>\n",
              "      <td>...</td>\n",
              "      <td>0</td>\n",
              "      <td>0</td>\n",
              "      <td>1</td>\n",
              "      <td>0</td>\n",
              "      <td>0</td>\n",
              "      <td>0</td>\n",
              "      <td>0</td>\n",
              "      <td>0</td>\n",
              "      <td>1</td>\n",
              "      <td>0</td>\n",
              "    </tr>\n",
              "  </tbody>\n",
              "</table>\n",
              "<p>5 rows × 45 columns</p>\n",
              "</div>\n",
              "      <button class=\"colab-df-convert\" onclick=\"convertToInteractive('df-9bca27ad-6a99-4fc3-b612-a7565d2720b2')\"\n",
              "              title=\"Convert this dataframe to an interactive table.\"\n",
              "              style=\"display:none;\">\n",
              "        \n",
              "  <svg xmlns=\"http://www.w3.org/2000/svg\" height=\"24px\"viewBox=\"0 0 24 24\"\n",
              "       width=\"24px\">\n",
              "    <path d=\"M0 0h24v24H0V0z\" fill=\"none\"/>\n",
              "    <path d=\"M18.56 5.44l.94 2.06.94-2.06 2.06-.94-2.06-.94-.94-2.06-.94 2.06-2.06.94zm-11 1L8.5 8.5l.94-2.06 2.06-.94-2.06-.94L8.5 2.5l-.94 2.06-2.06.94zm10 10l.94 2.06.94-2.06 2.06-.94-2.06-.94-.94-2.06-.94 2.06-2.06.94z\"/><path d=\"M17.41 7.96l-1.37-1.37c-.4-.4-.92-.59-1.43-.59-.52 0-1.04.2-1.43.59L10.3 9.45l-7.72 7.72c-.78.78-.78 2.05 0 2.83L4 21.41c.39.39.9.59 1.41.59.51 0 1.02-.2 1.41-.59l7.78-7.78 2.81-2.81c.8-.78.8-2.07 0-2.86zM5.41 20L4 18.59l7.72-7.72 1.47 1.35L5.41 20z\"/>\n",
              "  </svg>\n",
              "      </button>\n",
              "      \n",
              "  <style>\n",
              "    .colab-df-container {\n",
              "      display:flex;\n",
              "      flex-wrap:wrap;\n",
              "      gap: 12px;\n",
              "    }\n",
              "\n",
              "    .colab-df-convert {\n",
              "      background-color: #E8F0FE;\n",
              "      border: none;\n",
              "      border-radius: 50%;\n",
              "      cursor: pointer;\n",
              "      display: none;\n",
              "      fill: #1967D2;\n",
              "      height: 32px;\n",
              "      padding: 0 0 0 0;\n",
              "      width: 32px;\n",
              "    }\n",
              "\n",
              "    .colab-df-convert:hover {\n",
              "      background-color: #E2EBFA;\n",
              "      box-shadow: 0px 1px 2px rgba(60, 64, 67, 0.3), 0px 1px 3px 1px rgba(60, 64, 67, 0.15);\n",
              "      fill: #174EA6;\n",
              "    }\n",
              "\n",
              "    [theme=dark] .colab-df-convert {\n",
              "      background-color: #3B4455;\n",
              "      fill: #D2E3FC;\n",
              "    }\n",
              "\n",
              "    [theme=dark] .colab-df-convert:hover {\n",
              "      background-color: #434B5C;\n",
              "      box-shadow: 0px 1px 3px 1px rgba(0, 0, 0, 0.15);\n",
              "      filter: drop-shadow(0px 1px 2px rgba(0, 0, 0, 0.3));\n",
              "      fill: #FFFFFF;\n",
              "    }\n",
              "  </style>\n",
              "\n",
              "      <script>\n",
              "        const buttonEl =\n",
              "          document.querySelector('#df-9bca27ad-6a99-4fc3-b612-a7565d2720b2 button.colab-df-convert');\n",
              "        buttonEl.style.display =\n",
              "          google.colab.kernel.accessAllowed ? 'block' : 'none';\n",
              "\n",
              "        async function convertToInteractive(key) {\n",
              "          const element = document.querySelector('#df-9bca27ad-6a99-4fc3-b612-a7565d2720b2');\n",
              "          const dataTable =\n",
              "            await google.colab.kernel.invokeFunction('convertToInteractive',\n",
              "                                                     [key], {});\n",
              "          if (!dataTable) return;\n",
              "\n",
              "          const docLinkHtml = 'Like what you see? Visit the ' +\n",
              "            '<a target=\"_blank\" href=https://colab.research.google.com/notebooks/data_table.ipynb>data table notebook</a>'\n",
              "            + ' to learn more about interactive tables.';\n",
              "          element.innerHTML = '';\n",
              "          dataTable['output_type'] = 'display_data';\n",
              "          await google.colab.output.renderOutput(dataTable, element);\n",
              "          const docLink = document.createElement('div');\n",
              "          docLink.innerHTML = docLinkHtml;\n",
              "          element.appendChild(docLink);\n",
              "        }\n",
              "      </script>\n",
              "    </div>\n",
              "  </div>\n",
              "  "
            ]
          },
          "metadata": {},
          "execution_count": 81
        }
      ],
      "source": [
        "# Convert categorical data to numeric with `pd.get_dummies`\n",
        "dummy_application_df = pd.get_dummies(application_df)\n",
        "dummy_application_df.head(5)"
      ]
    },
    {
      "cell_type": "code",
      "execution_count": 82,
      "metadata": {
        "id": "wJGDsOGCKvyh"
      },
      "outputs": [],
      "source": [
        "# Split our preprocessed data into our features and target arrays\n",
        "X = dummy_application_df.drop('IS_SUCCESSFUL', axis=1)\n",
        "y = dummy_application_df['IS_SUCCESSFUL']\n",
        "\n",
        "# Split the preprocessed data into a training and testing dataset\n",
        "X_train, X_test, y_train, y_test = train_test_split(X, y, test_size=0.25, random_state=1)"
      ]
    },
    {
      "cell_type": "code",
      "execution_count": 83,
      "metadata": {
        "id": "Efcr1-JmKvyi"
      },
      "outputs": [],
      "source": [
        "# Create a StandardScaler instances\n",
        "scaler = StandardScaler()\n",
        "\n",
        "# Fit the StandardScaler\n",
        "X_scaler = scaler.fit(X_train)\n",
        "\n",
        "# Scale the data\n",
        "X_train_scaled = X_scaler.transform(X_train)\n",
        "X_test_scaled = X_scaler.transform(X_test)"
      ]
    },
    {
      "cell_type": "markdown",
      "metadata": {
        "id": "f6R2N6DhKvyi"
      },
      "source": [
        "## Compile, Train and Evaluate the Model"
      ]
    },
    {
      "cell_type": "code",
      "source": [
        "# Define the model\n",
        "nn = tf.keras.models.Sequential()\n",
        "\n",
        "# First hidden layer\n",
        "nn.add(tf.keras.layers.Dense(units=80, activation='relu', input_dim=X_train_scaled.shape[1]))\n",
        "\n",
        "# Second hidden layer\n",
        "nn.add(tf.keras.layers.Dense(units=30, activation='relu'))\n",
        "\n",
        "# Output layer\n",
        "nn.add(tf.keras.layers.Dense(units=1, activation='sigmoid'))\n",
        "\n",
        "# Check the structure of the model\n",
        "nn.summary()"
      ],
      "metadata": {
        "colab": {
          "base_uri": "https://localhost:8080/"
        },
        "id": "Jus_tAcUG9NY",
        "outputId": "0351272e-827b-4f8a-8773-e1afff0f692e"
      },
      "execution_count": 12,
      "outputs": [
        {
          "output_type": "stream",
          "name": "stdout",
          "text": [
            "Model: \"sequential\"\n",
            "_________________________________________________________________\n",
            " Layer (type)                Output Shape              Param #   \n",
            "=================================================================\n",
            " dense (Dense)               (None, 80)                3600      \n",
            "                                                                 \n",
            " dense_1 (Dense)             (None, 30)                2430      \n",
            "                                                                 \n",
            " dense_2 (Dense)             (None, 1)                 31        \n",
            "                                                                 \n",
            "=================================================================\n",
            "Total params: 6,061\n",
            "Trainable params: 6,061\n",
            "Non-trainable params: 0\n",
            "_________________________________________________________________\n"
          ]
        }
      ]
    },
    {
      "cell_type": "code",
      "source": [
        "# Compile the model\n",
        "nn.compile(loss='binary_crossentropy', optimizer='adam', metrics=['accuracy'])"
      ],
      "metadata": {
        "id": "Yk983jUXHRDO"
      },
      "execution_count": 13,
      "outputs": []
    },
    {
      "cell_type": "code",
      "source": [
        "# Train the model\n",
        "history = nn.fit(X_train_scaled, y_train, epochs=100, verbose=2, batch_size=16)"
      ],
      "metadata": {
        "colab": {
          "base_uri": "https://localhost:8080/"
        },
        "id": "Su23pDasHScw",
        "outputId": "3371148e-51c9-4fc3-99c2-48eb0bfb2c7b"
      },
      "execution_count": 14,
      "outputs": [
        {
          "output_type": "stream",
          "name": "stdout",
          "text": [
            "Epoch 1/100\n",
            "1608/1608 - 8s - loss: 0.5674 - accuracy: 0.7206 - 8s/epoch - 5ms/step\n",
            "Epoch 2/100\n",
            "1608/1608 - 4s - loss: 0.5557 - accuracy: 0.7296 - 4s/epoch - 2ms/step\n",
            "Epoch 3/100\n",
            "1608/1608 - 4s - loss: 0.5522 - accuracy: 0.7292 - 4s/epoch - 3ms/step\n",
            "Epoch 4/100\n",
            "1608/1608 - 4s - loss: 0.5503 - accuracy: 0.7302 - 4s/epoch - 2ms/step\n",
            "Epoch 5/100\n",
            "1608/1608 - 4s - loss: 0.5491 - accuracy: 0.7322 - 4s/epoch - 2ms/step\n",
            "Epoch 6/100\n",
            "1608/1608 - 3s - loss: 0.5477 - accuracy: 0.7318 - 3s/epoch - 2ms/step\n",
            "Epoch 7/100\n",
            "1608/1608 - 1s - loss: 0.5470 - accuracy: 0.7319 - 1s/epoch - 925us/step\n",
            "Epoch 8/100\n",
            "1608/1608 - 1s - loss: 0.5458 - accuracy: 0.7322 - 1s/epoch - 912us/step\n",
            "Epoch 9/100\n",
            "1608/1608 - 1s - loss: 0.5458 - accuracy: 0.7322 - 1s/epoch - 916us/step\n",
            "Epoch 10/100\n",
            "1608/1608 - 1s - loss: 0.5449 - accuracy: 0.7355 - 1s/epoch - 907us/step\n",
            "Epoch 11/100\n",
            "1608/1608 - 1s - loss: 0.5444 - accuracy: 0.7336 - 1s/epoch - 932us/step\n",
            "Epoch 12/100\n",
            "1608/1608 - 1s - loss: 0.5448 - accuracy: 0.7355 - 1s/epoch - 920us/step\n",
            "Epoch 13/100\n",
            "1608/1608 - 2s - loss: 0.5433 - accuracy: 0.7360 - 2s/epoch - 1ms/step\n",
            "Epoch 14/100\n",
            "1608/1608 - 1s - loss: 0.5433 - accuracy: 0.7346 - 1s/epoch - 917us/step\n",
            "Epoch 15/100\n",
            "1608/1608 - 2s - loss: 0.5430 - accuracy: 0.7350 - 2s/epoch - 939us/step\n",
            "Epoch 16/100\n",
            "1608/1608 - 1s - loss: 0.5421 - accuracy: 0.7350 - 1s/epoch - 926us/step\n",
            "Epoch 17/100\n",
            "1608/1608 - 1s - loss: 0.5424 - accuracy: 0.7351 - 1s/epoch - 919us/step\n",
            "Epoch 18/100\n",
            "1608/1608 - 1s - loss: 0.5416 - accuracy: 0.7363 - 1s/epoch - 909us/step\n",
            "Epoch 19/100\n",
            "1608/1608 - 1s - loss: 0.5418 - accuracy: 0.7358 - 1s/epoch - 917us/step\n",
            "Epoch 20/100\n",
            "1608/1608 - 2s - loss: 0.5419 - accuracy: 0.7347 - 2s/epoch - 1ms/step\n",
            "Epoch 21/100\n",
            "1608/1608 - 2s - loss: 0.5414 - accuracy: 0.7357 - 2s/epoch - 1ms/step\n",
            "Epoch 22/100\n",
            "1608/1608 - 1s - loss: 0.5410 - accuracy: 0.7365 - 1s/epoch - 929us/step\n",
            "Epoch 23/100\n",
            "1608/1608 - 1s - loss: 0.5411 - accuracy: 0.7356 - 1s/epoch - 926us/step\n",
            "Epoch 24/100\n",
            "1608/1608 - 1s - loss: 0.5402 - accuracy: 0.7362 - 1s/epoch - 918us/step\n",
            "Epoch 25/100\n",
            "1608/1608 - 1s - loss: 0.5407 - accuracy: 0.7376 - 1s/epoch - 919us/step\n",
            "Epoch 26/100\n",
            "1608/1608 - 1s - loss: 0.5400 - accuracy: 0.7372 - 1s/epoch - 911us/step\n",
            "Epoch 27/100\n",
            "1608/1608 - 1s - loss: 0.5403 - accuracy: 0.7374 - 1s/epoch - 922us/step\n",
            "Epoch 28/100\n",
            "1608/1608 - 2s - loss: 0.5395 - accuracy: 0.7379 - 2s/epoch - 1ms/step\n",
            "Epoch 29/100\n",
            "1608/1608 - 2s - loss: 0.5399 - accuracy: 0.7372 - 2s/epoch - 991us/step\n",
            "Epoch 30/100\n",
            "1608/1608 - 1s - loss: 0.5399 - accuracy: 0.7369 - 1s/epoch - 921us/step\n",
            "Epoch 31/100\n",
            "1608/1608 - 1s - loss: 0.5395 - accuracy: 0.7378 - 1s/epoch - 905us/step\n",
            "Epoch 32/100\n",
            "1608/1608 - 1s - loss: 0.5393 - accuracy: 0.7379 - 1s/epoch - 917us/step\n",
            "Epoch 33/100\n",
            "1608/1608 - 1s - loss: 0.5391 - accuracy: 0.7376 - 1s/epoch - 927us/step\n",
            "Epoch 34/100\n",
            "1608/1608 - 1s - loss: 0.5392 - accuracy: 0.7374 - 1s/epoch - 909us/step\n",
            "Epoch 35/100\n",
            "1608/1608 - 1s - loss: 0.5392 - accuracy: 0.7387 - 1s/epoch - 920us/step\n",
            "Epoch 36/100\n",
            "1608/1608 - 2s - loss: 0.5387 - accuracy: 0.7378 - 2s/epoch - 1ms/step\n",
            "Epoch 37/100\n",
            "1608/1608 - 1s - loss: 0.5389 - accuracy: 0.7374 - 1s/epoch - 910us/step\n",
            "Epoch 38/100\n",
            "1608/1608 - 1s - loss: 0.5385 - accuracy: 0.7379 - 1s/epoch - 916us/step\n",
            "Epoch 39/100\n",
            "1608/1608 - 1s - loss: 0.5381 - accuracy: 0.7379 - 1s/epoch - 917us/step\n",
            "Epoch 40/100\n",
            "1608/1608 - 2s - loss: 0.5389 - accuracy: 0.7379 - 2s/epoch - 935us/step\n",
            "Epoch 41/100\n",
            "1608/1608 - 1s - loss: 0.5382 - accuracy: 0.7375 - 1s/epoch - 916us/step\n",
            "Epoch 42/100\n",
            "1608/1608 - 1s - loss: 0.5376 - accuracy: 0.7389 - 1s/epoch - 926us/step\n",
            "Epoch 43/100\n",
            "1608/1608 - 2s - loss: 0.5380 - accuracy: 0.7388 - 2s/epoch - 1ms/step\n",
            "Epoch 44/100\n",
            "1608/1608 - 2s - loss: 0.5380 - accuracy: 0.7380 - 2s/epoch - 1ms/step\n",
            "Epoch 45/100\n",
            "1608/1608 - 1s - loss: 0.5378 - accuracy: 0.7384 - 1s/epoch - 918us/step\n",
            "Epoch 46/100\n",
            "1608/1608 - 1s - loss: 0.5376 - accuracy: 0.7383 - 1s/epoch - 918us/step\n",
            "Epoch 47/100\n",
            "1608/1608 - 1s - loss: 0.5378 - accuracy: 0.7377 - 1s/epoch - 913us/step\n",
            "Epoch 48/100\n",
            "1608/1608 - 1s - loss: 0.5378 - accuracy: 0.7386 - 1s/epoch - 926us/step\n",
            "Epoch 49/100\n",
            "1608/1608 - 2s - loss: 0.5373 - accuracy: 0.7386 - 2s/epoch - 1ms/step\n",
            "Epoch 50/100\n",
            "1608/1608 - 2s - loss: 0.5375 - accuracy: 0.7388 - 2s/epoch - 1ms/step\n",
            "Epoch 51/100\n",
            "1608/1608 - 2s - loss: 0.5369 - accuracy: 0.7379 - 2s/epoch - 1ms/step\n",
            "Epoch 52/100\n",
            "1608/1608 - 1s - loss: 0.5366 - accuracy: 0.7381 - 1s/epoch - 932us/step\n",
            "Epoch 53/100\n",
            "1608/1608 - 1s - loss: 0.5367 - accuracy: 0.7385 - 1s/epoch - 928us/step\n",
            "Epoch 54/100\n",
            "1608/1608 - 1s - loss: 0.5366 - accuracy: 0.7380 - 1s/epoch - 926us/step\n",
            "Epoch 55/100\n",
            "1608/1608 - 1s - loss: 0.5365 - accuracy: 0.7391 - 1s/epoch - 932us/step\n",
            "Epoch 56/100\n",
            "1608/1608 - 1s - loss: 0.5366 - accuracy: 0.7390 - 1s/epoch - 931us/step\n",
            "Epoch 57/100\n",
            "1608/1608 - 1s - loss: 0.5364 - accuracy: 0.7390 - 1s/epoch - 929us/step\n",
            "Epoch 58/100\n",
            "1608/1608 - 2s - loss: 0.5365 - accuracy: 0.7386 - 2s/epoch - 1ms/step\n",
            "Epoch 59/100\n",
            "1608/1608 - 2s - loss: 0.5362 - accuracy: 0.7396 - 2s/epoch - 970us/step\n",
            "Epoch 60/100\n",
            "1608/1608 - 1s - loss: 0.5366 - accuracy: 0.7396 - 1s/epoch - 923us/step\n",
            "Epoch 61/100\n",
            "1608/1608 - 2s - loss: 0.5362 - accuracy: 0.7395 - 2s/epoch - 959us/step\n",
            "Epoch 62/100\n",
            "1608/1608 - 1s - loss: 0.5357 - accuracy: 0.7391 - 1s/epoch - 931us/step\n",
            "Epoch 63/100\n",
            "1608/1608 - 1s - loss: 0.5358 - accuracy: 0.7388 - 1s/epoch - 921us/step\n",
            "Epoch 64/100\n",
            "1608/1608 - 1s - loss: 0.5358 - accuracy: 0.7393 - 1s/epoch - 917us/step\n",
            "Epoch 65/100\n",
            "1608/1608 - 2s - loss: 0.5361 - accuracy: 0.7390 - 2s/epoch - 981us/step\n",
            "Epoch 66/100\n",
            "1608/1608 - 2s - loss: 0.5355 - accuracy: 0.7393 - 2s/epoch - 1ms/step\n",
            "Epoch 67/100\n",
            "1608/1608 - 1s - loss: 0.5355 - accuracy: 0.7392 - 1s/epoch - 914us/step\n",
            "Epoch 68/100\n",
            "1608/1608 - 1s - loss: 0.5355 - accuracy: 0.7397 - 1s/epoch - 927us/step\n",
            "Epoch 69/100\n",
            "1608/1608 - 1s - loss: 0.5348 - accuracy: 0.7402 - 1s/epoch - 911us/step\n",
            "Epoch 70/100\n",
            "1608/1608 - 1s - loss: 0.5349 - accuracy: 0.7403 - 1s/epoch - 929us/step\n",
            "Epoch 71/100\n",
            "1608/1608 - 1s - loss: 0.5355 - accuracy: 0.7400 - 1s/epoch - 921us/step\n",
            "Epoch 72/100\n",
            "1608/1608 - 2s - loss: 0.5350 - accuracy: 0.7404 - 2s/epoch - 1ms/step\n",
            "Epoch 73/100\n",
            "1608/1608 - 2s - loss: 0.5348 - accuracy: 0.7398 - 2s/epoch - 1ms/step\n",
            "Epoch 74/100\n",
            "1608/1608 - 1s - loss: 0.5350 - accuracy: 0.7400 - 1s/epoch - 918us/step\n",
            "Epoch 75/100\n",
            "1608/1608 - 1s - loss: 0.5352 - accuracy: 0.7388 - 1s/epoch - 902us/step\n",
            "Epoch 76/100\n",
            "1608/1608 - 1s - loss: 0.5355 - accuracy: 0.7391 - 1s/epoch - 921us/step\n",
            "Epoch 77/100\n",
            "1608/1608 - 2s - loss: 0.5347 - accuracy: 0.7402 - 2s/epoch - 942us/step\n",
            "Epoch 78/100\n",
            "1608/1608 - 1s - loss: 0.5343 - accuracy: 0.7405 - 1s/epoch - 931us/step\n",
            "Epoch 79/100\n",
            "1608/1608 - 1s - loss: 0.5345 - accuracy: 0.7399 - 1s/epoch - 922us/step\n",
            "Epoch 80/100\n",
            "1608/1608 - 2s - loss: 0.5345 - accuracy: 0.7399 - 2s/epoch - 1ms/step\n",
            "Epoch 81/100\n",
            "1608/1608 - 2s - loss: 0.5345 - accuracy: 0.7398 - 2s/epoch - 1ms/step\n",
            "Epoch 82/100\n",
            "1608/1608 - 1s - loss: 0.5346 - accuracy: 0.7399 - 1s/epoch - 917us/step\n",
            "Epoch 83/100\n",
            "1608/1608 - 2s - loss: 0.5343 - accuracy: 0.7400 - 2s/epoch - 935us/step\n",
            "Epoch 84/100\n",
            "1608/1608 - 1s - loss: 0.5344 - accuracy: 0.7396 - 1s/epoch - 912us/step\n",
            "Epoch 85/100\n",
            "1608/1608 - 1s - loss: 0.5342 - accuracy: 0.7402 - 1s/epoch - 927us/step\n",
            "Epoch 86/100\n",
            "1608/1608 - 1s - loss: 0.5342 - accuracy: 0.7401 - 1s/epoch - 915us/step\n",
            "Epoch 87/100\n",
            "1608/1608 - 1s - loss: 0.5347 - accuracy: 0.7401 - 1s/epoch - 912us/step\n",
            "Epoch 88/100\n",
            "1608/1608 - 2s - loss: 0.5349 - accuracy: 0.7398 - 2s/epoch - 1ms/step\n",
            "Epoch 89/100\n",
            "1608/1608 - 2s - loss: 0.5342 - accuracy: 0.7403 - 2s/epoch - 992us/step\n",
            "Epoch 90/100\n",
            "1608/1608 - 2s - loss: 0.5340 - accuracy: 0.7400 - 2s/epoch - 935us/step\n",
            "Epoch 91/100\n",
            "1608/1608 - 2s - loss: 0.5341 - accuracy: 0.7397 - 2s/epoch - 935us/step\n",
            "Epoch 92/100\n",
            "1608/1608 - 1s - loss: 0.5346 - accuracy: 0.7399 - 1s/epoch - 923us/step\n",
            "Epoch 93/100\n",
            "1608/1608 - 1s - loss: 0.5337 - accuracy: 0.7403 - 1s/epoch - 928us/step\n",
            "Epoch 94/100\n",
            "1608/1608 - 2s - loss: 0.5339 - accuracy: 0.7403 - 2s/epoch - 935us/step\n",
            "Epoch 95/100\n",
            "1608/1608 - 2s - loss: 0.5343 - accuracy: 0.7399 - 2s/epoch - 995us/step\n",
            "Epoch 96/100\n",
            "1608/1608 - 2s - loss: 0.5338 - accuracy: 0.7403 - 2s/epoch - 1ms/step\n",
            "Epoch 97/100\n",
            "1608/1608 - 1s - loss: 0.5333 - accuracy: 0.7407 - 1s/epoch - 923us/step\n",
            "Epoch 98/100\n",
            "1608/1608 - 1s - loss: 0.5341 - accuracy: 0.7402 - 1s/epoch - 908us/step\n",
            "Epoch 99/100\n",
            "1608/1608 - 2s - loss: 0.5336 - accuracy: 0.7401 - 2s/epoch - 936us/step\n",
            "Epoch 100/100\n",
            "1608/1608 - 1s - loss: 0.5340 - accuracy: 0.7405 - 1s/epoch - 914us/step\n"
          ]
        }
      ]
    },
    {
      "cell_type": "code",
      "source": [
        "# Evaluate the model using the test data\n",
        "model_loss, model_accuracy = nn.evaluate(X_test_scaled,y_test,verbose=1, batch_size=1)\n",
        "print(f\"Loss: {model_loss}, Accuracy: {model_accuracy}\")"
      ],
      "metadata": {
        "colab": {
          "base_uri": "https://localhost:8080/"
        },
        "id": "xY43kl55He2V",
        "outputId": "35024b9c-88d4-46f4-9568-e6eb20d17775"
      },
      "execution_count": 15,
      "outputs": [
        {
          "output_type": "stream",
          "name": "stdout",
          "text": [
            "8575/8575 [==============================] - 8s 943us/step - loss: 0.5594 - accuracy: 0.7297\n",
            "Loss: 0.5594072341918945, Accuracy: 0.72967928647995\n"
          ]
        }
      ]
    },
    {
      "cell_type": "code",
      "source": [
        "# Export our model to HDF5 file\n",
        "nn.save('AlphabetSoupCharity.h5')"
      ],
      "metadata": {
        "id": "1CtB_FLUIFzp"
      },
      "execution_count": 16,
      "outputs": []
    },
    {
      "cell_type": "markdown",
      "source": [
        "## Optimization Method 1 - Add/Drop Columns"
      ],
      "metadata": {
        "id": "1CWkexTq3vKu"
      }
    },
    {
      "cell_type": "code",
      "source": [
        "from sklearn.linear_model import Lasso, Ridge\n",
        "from sklearn.metrics import mean_squared_error\n",
        "\n",
        "# Make a copy of the working dataset\n",
        "application_df_op1 = application_df_copy.copy()\n",
        "\n",
        "# Create X y data of the unaltered dataset to make Lasso and Ridge tests with\n",
        "dummy_default_df = pd.get_dummies(application_df_copy)\n",
        "\n",
        "Xdefault = dummy_default_df.drop('IS_SUCCESSFUL', axis=1)\n",
        "ydefault = dummy_default_df['IS_SUCCESSFUL']\n",
        "\n",
        "X_train_Default, X_test_Default, y_train_Default, y_test_Default = train_test_split(Xdefault, ydefault, test_size=0.25, random_state=1)\n",
        "\n",
        "X_scaler_Default = scaler.fit(X_train_Default)\n",
        "\n",
        "X_train_scaled_Default = X_scaler_Default.transform(X_train_Default)\n",
        "X_test_scaled_Default = X_scaler_Default.transform(X_test_Default)"
      ],
      "metadata": {
        "id": "BmBESMMVASLH"
      },
      "execution_count": 92,
      "outputs": []
    },
    {
      "cell_type": "code",
      "source": [
        "# Create a Lasso model\n",
        "lasso_model = Lasso(alpha=0.1)  # Adjust the alpha parameter for regularization strength\n",
        "lasso_model.fit(X_train_Default, y_train_Default)\n",
        "\n",
        "lasso_predictions = lasso_model.predict(X_test_Default)\n",
        "lasso_rmse = mean_squared_error(y_test_Default, lasso_predictions, squared=False)\n",
        "print(\"Lasso RMSE:\", lasso_rmse)\n",
        "\n",
        "# Create a Ridge model\n",
        "ridge_model = Ridge(alpha=0.1)  # Adjust the alpha parameter for regularization strength\n",
        "ridge_model.fit(X_train_Default, y_train_Default)\n",
        "\n",
        "ridge_predictions = ridge_model.predict(X_test_Default)\n",
        "ridge_rmse = mean_squared_error(y_test_Default, ridge_predictions, squared=False)\n",
        "print(\"Ridge RMSE:\", ridge_rmse)"
      ],
      "metadata": {
        "colab": {
          "base_uri": "https://localhost:8080/"
        },
        "id": "jEj9tAblAzYj",
        "outputId": "7d2cd26e-9917-47d6-e2b3-a03a56d45918"
      },
      "execution_count": 85,
      "outputs": [
        {
          "output_type": "stream",
          "name": "stdout",
          "text": [
            "Lasso RMSE: 0.49911599627875314\n",
            "Ridge RMSE: 0.44144622854052645\n"
          ]
        },
        {
          "output_type": "stream",
          "name": "stderr",
          "text": [
            "/usr/local/lib/python3.10/dist-packages/sklearn/linear_model/_ridge.py:216: LinAlgWarning: Ill-conditioned matrix (rcond=4.66371e-22): result may not be accurate.\n",
            "  return linalg.solve(A, Xy, assume_a=\"pos\", overwrite_a=True).T\n"
          ]
        }
      ]
    },
    {
      "cell_type": "code",
      "source": [
        "lasso_coeffs = lasso_model.coef_\n",
        "ridge_coeffs = ridge_model.coef_\n",
        "\n",
        "# make an array of columns to drop after failing Lasso and Ridge tests\n",
        "drop_columns = []\n",
        "coefficients_df = pd.DataFrame(columns=[\"Column\", \"Lasso Coefficient\", \"Ridge Coefficient\", \"Drop_Potential\"])\n",
        "\n",
        "for i in range(len(lasso_coeffs)):\n",
        "    if lasso_coeffs[i] == 0 and ((ridge_coeffs[i] > -0.1 and ridge_coeffs[i] <= 0) or (ridge_coeffs[i] < 0.1 and ridge_coeffs[i] >= 0)):\n",
        "        drop_columns.append(i)\n",
        "\n",
        "print(drop_columns)"
      ],
      "metadata": {
        "colab": {
          "base_uri": "https://localhost:8080/"
        },
        "id": "SyFoyX5cD8sL",
        "outputId": "cafb8982-f9d8-4139-b919-59f6917fccbd"
      },
      "execution_count": 93,
      "outputs": [
        {
          "output_type": "stream",
          "name": "stdout",
          "text": [
            "[3, 4, 7, 15, 18, 20, 21, 22, 24, 26, 28, 31, 32, 34, 43, 45, 46, 49, 50, 54, 63, 64, 65, 68, 72, 75, 79, 83, 86, 90, 93, 96, 97, 99, 101, 102, 103, 104, 108, 110, 111, 113, 114, 115]\n"
          ]
        }
      ]
    },
    {
      "cell_type": "code",
      "source": [
        "cutoff_value = 500\n",
        "application_types_to_replace = application_df_op1['APPLICATION_TYPE'].value_counts()[application_df_op1['APPLICATION_TYPE'].value_counts() < cutoff_value].index.tolist()\n",
        "\n",
        "for app in application_types_to_replace:\n",
        "    application_df_op1['APPLICATION_TYPE'] = application_df_op1['APPLICATION_TYPE'].replace(app,\"Other\")"
      ],
      "metadata": {
        "id": "FPU0TZMk9MnA"
      },
      "execution_count": 88,
      "outputs": []
    },
    {
      "cell_type": "code",
      "source": [
        "cutoff_value = 500\n",
        "classifications_to_replace = application_df_op1['CLASSIFICATION'].value_counts()[application_df_op1['CLASSIFICATION'].value_counts() < cutoff_value].index.tolist()\n",
        "\n",
        "for cls in classifications_to_replace:\n",
        "    application_df_op1['CLASSIFICATION'] = application_df_op1['CLASSIFICATION'].replace(cls,\"Other\")"
      ],
      "metadata": {
        "id": "E9VZjENN9mgo"
      },
      "execution_count": 89,
      "outputs": []
    },
    {
      "cell_type": "code",
      "source": [
        "dummy_working_op1_df = pd.get_dummies(application_df_op1)\n",
        "dummy_working_op1_df.head(5)"
      ],
      "metadata": {
        "colab": {
          "base_uri": "https://localhost:8080/",
          "height": 317
        },
        "id": "dlcTz7TE-Eki",
        "outputId": "75a29798-d97d-44ff-83af-29e72d5f5fa9"
      },
      "execution_count": 90,
      "outputs": [
        {
          "output_type": "execute_result",
          "data": {
            "text/plain": [
              "   STATUS  ASK_AMT  IS_SUCCESSFUL  APPLICATION_TYPE_Other  \\\n",
              "0       1     5000              1                       0   \n",
              "1       1   108590              1                       0   \n",
              "2       1     5000              0                       0   \n",
              "3       1     6692              1                       0   \n",
              "4       1   142590              1                       0   \n",
              "\n",
              "   APPLICATION_TYPE_T10  APPLICATION_TYPE_T19  APPLICATION_TYPE_T3  \\\n",
              "0                     1                     0                    0   \n",
              "1                     0                     0                    1   \n",
              "2                     0                     0                    0   \n",
              "3                     0                     0                    1   \n",
              "4                     0                     0                    1   \n",
              "\n",
              "   APPLICATION_TYPE_T4  APPLICATION_TYPE_T5  APPLICATION_TYPE_T6  ...  \\\n",
              "0                    0                    0                    0  ...   \n",
              "1                    0                    0                    0  ...   \n",
              "2                    0                    1                    0  ...   \n",
              "3                    0                    0                    0  ...   \n",
              "4                    0                    0                    0  ...   \n",
              "\n",
              "   INCOME_AMT_1-9999  INCOME_AMT_10000-24999  INCOME_AMT_100000-499999  \\\n",
              "0                  0                       0                         0   \n",
              "1                  1                       0                         0   \n",
              "2                  0                       0                         0   \n",
              "3                  0                       1                         0   \n",
              "4                  0                       0                         1   \n",
              "\n",
              "   INCOME_AMT_10M-50M  INCOME_AMT_1M-5M  INCOME_AMT_25000-99999  \\\n",
              "0                   0                 0                       0   \n",
              "1                   0                 0                       0   \n",
              "2                   0                 0                       0   \n",
              "3                   0                 0                       0   \n",
              "4                   0                 0                       0   \n",
              "\n",
              "   INCOME_AMT_50M+  INCOME_AMT_5M-10M  SPECIAL_CONSIDERATIONS_N  \\\n",
              "0                0                  0                         1   \n",
              "1                0                  0                         1   \n",
              "2                0                  0                         1   \n",
              "3                0                  0                         1   \n",
              "4                0                  0                         1   \n",
              "\n",
              "   SPECIAL_CONSIDERATIONS_Y  \n",
              "0                         0  \n",
              "1                         0  \n",
              "2                         0  \n",
              "3                         0  \n",
              "4                         0  \n",
              "\n",
              "[5 rows x 45 columns]"
            ],
            "text/html": [
              "\n",
              "  <div id=\"df-5a4fb00b-c122-4840-9633-9470e83ac283\">\n",
              "    <div class=\"colab-df-container\">\n",
              "      <div>\n",
              "<style scoped>\n",
              "    .dataframe tbody tr th:only-of-type {\n",
              "        vertical-align: middle;\n",
              "    }\n",
              "\n",
              "    .dataframe tbody tr th {\n",
              "        vertical-align: top;\n",
              "    }\n",
              "\n",
              "    .dataframe thead th {\n",
              "        text-align: right;\n",
              "    }\n",
              "</style>\n",
              "<table border=\"1\" class=\"dataframe\">\n",
              "  <thead>\n",
              "    <tr style=\"text-align: right;\">\n",
              "      <th></th>\n",
              "      <th>STATUS</th>\n",
              "      <th>ASK_AMT</th>\n",
              "      <th>IS_SUCCESSFUL</th>\n",
              "      <th>APPLICATION_TYPE_Other</th>\n",
              "      <th>APPLICATION_TYPE_T10</th>\n",
              "      <th>APPLICATION_TYPE_T19</th>\n",
              "      <th>APPLICATION_TYPE_T3</th>\n",
              "      <th>APPLICATION_TYPE_T4</th>\n",
              "      <th>APPLICATION_TYPE_T5</th>\n",
              "      <th>APPLICATION_TYPE_T6</th>\n",
              "      <th>...</th>\n",
              "      <th>INCOME_AMT_1-9999</th>\n",
              "      <th>INCOME_AMT_10000-24999</th>\n",
              "      <th>INCOME_AMT_100000-499999</th>\n",
              "      <th>INCOME_AMT_10M-50M</th>\n",
              "      <th>INCOME_AMT_1M-5M</th>\n",
              "      <th>INCOME_AMT_25000-99999</th>\n",
              "      <th>INCOME_AMT_50M+</th>\n",
              "      <th>INCOME_AMT_5M-10M</th>\n",
              "      <th>SPECIAL_CONSIDERATIONS_N</th>\n",
              "      <th>SPECIAL_CONSIDERATIONS_Y</th>\n",
              "    </tr>\n",
              "  </thead>\n",
              "  <tbody>\n",
              "    <tr>\n",
              "      <th>0</th>\n",
              "      <td>1</td>\n",
              "      <td>5000</td>\n",
              "      <td>1</td>\n",
              "      <td>0</td>\n",
              "      <td>1</td>\n",
              "      <td>0</td>\n",
              "      <td>0</td>\n",
              "      <td>0</td>\n",
              "      <td>0</td>\n",
              "      <td>0</td>\n",
              "      <td>...</td>\n",
              "      <td>0</td>\n",
              "      <td>0</td>\n",
              "      <td>0</td>\n",
              "      <td>0</td>\n",
              "      <td>0</td>\n",
              "      <td>0</td>\n",
              "      <td>0</td>\n",
              "      <td>0</td>\n",
              "      <td>1</td>\n",
              "      <td>0</td>\n",
              "    </tr>\n",
              "    <tr>\n",
              "      <th>1</th>\n",
              "      <td>1</td>\n",
              "      <td>108590</td>\n",
              "      <td>1</td>\n",
              "      <td>0</td>\n",
              "      <td>0</td>\n",
              "      <td>0</td>\n",
              "      <td>1</td>\n",
              "      <td>0</td>\n",
              "      <td>0</td>\n",
              "      <td>0</td>\n",
              "      <td>...</td>\n",
              "      <td>1</td>\n",
              "      <td>0</td>\n",
              "      <td>0</td>\n",
              "      <td>0</td>\n",
              "      <td>0</td>\n",
              "      <td>0</td>\n",
              "      <td>0</td>\n",
              "      <td>0</td>\n",
              "      <td>1</td>\n",
              "      <td>0</td>\n",
              "    </tr>\n",
              "    <tr>\n",
              "      <th>2</th>\n",
              "      <td>1</td>\n",
              "      <td>5000</td>\n",
              "      <td>0</td>\n",
              "      <td>0</td>\n",
              "      <td>0</td>\n",
              "      <td>0</td>\n",
              "      <td>0</td>\n",
              "      <td>0</td>\n",
              "      <td>1</td>\n",
              "      <td>0</td>\n",
              "      <td>...</td>\n",
              "      <td>0</td>\n",
              "      <td>0</td>\n",
              "      <td>0</td>\n",
              "      <td>0</td>\n",
              "      <td>0</td>\n",
              "      <td>0</td>\n",
              "      <td>0</td>\n",
              "      <td>0</td>\n",
              "      <td>1</td>\n",
              "      <td>0</td>\n",
              "    </tr>\n",
              "    <tr>\n",
              "      <th>3</th>\n",
              "      <td>1</td>\n",
              "      <td>6692</td>\n",
              "      <td>1</td>\n",
              "      <td>0</td>\n",
              "      <td>0</td>\n",
              "      <td>0</td>\n",
              "      <td>1</td>\n",
              "      <td>0</td>\n",
              "      <td>0</td>\n",
              "      <td>0</td>\n",
              "      <td>...</td>\n",
              "      <td>0</td>\n",
              "      <td>1</td>\n",
              "      <td>0</td>\n",
              "      <td>0</td>\n",
              "      <td>0</td>\n",
              "      <td>0</td>\n",
              "      <td>0</td>\n",
              "      <td>0</td>\n",
              "      <td>1</td>\n",
              "      <td>0</td>\n",
              "    </tr>\n",
              "    <tr>\n",
              "      <th>4</th>\n",
              "      <td>1</td>\n",
              "      <td>142590</td>\n",
              "      <td>1</td>\n",
              "      <td>0</td>\n",
              "      <td>0</td>\n",
              "      <td>0</td>\n",
              "      <td>1</td>\n",
              "      <td>0</td>\n",
              "      <td>0</td>\n",
              "      <td>0</td>\n",
              "      <td>...</td>\n",
              "      <td>0</td>\n",
              "      <td>0</td>\n",
              "      <td>1</td>\n",
              "      <td>0</td>\n",
              "      <td>0</td>\n",
              "      <td>0</td>\n",
              "      <td>0</td>\n",
              "      <td>0</td>\n",
              "      <td>1</td>\n",
              "      <td>0</td>\n",
              "    </tr>\n",
              "  </tbody>\n",
              "</table>\n",
              "<p>5 rows × 45 columns</p>\n",
              "</div>\n",
              "      <button class=\"colab-df-convert\" onclick=\"convertToInteractive('df-5a4fb00b-c122-4840-9633-9470e83ac283')\"\n",
              "              title=\"Convert this dataframe to an interactive table.\"\n",
              "              style=\"display:none;\">\n",
              "        \n",
              "  <svg xmlns=\"http://www.w3.org/2000/svg\" height=\"24px\"viewBox=\"0 0 24 24\"\n",
              "       width=\"24px\">\n",
              "    <path d=\"M0 0h24v24H0V0z\" fill=\"none\"/>\n",
              "    <path d=\"M18.56 5.44l.94 2.06.94-2.06 2.06-.94-2.06-.94-.94-2.06-.94 2.06-2.06.94zm-11 1L8.5 8.5l.94-2.06 2.06-.94-2.06-.94L8.5 2.5l-.94 2.06-2.06.94zm10 10l.94 2.06.94-2.06 2.06-.94-2.06-.94-.94-2.06-.94 2.06-2.06.94z\"/><path d=\"M17.41 7.96l-1.37-1.37c-.4-.4-.92-.59-1.43-.59-.52 0-1.04.2-1.43.59L10.3 9.45l-7.72 7.72c-.78.78-.78 2.05 0 2.83L4 21.41c.39.39.9.59 1.41.59.51 0 1.02-.2 1.41-.59l7.78-7.78 2.81-2.81c.8-.78.8-2.07 0-2.86zM5.41 20L4 18.59l7.72-7.72 1.47 1.35L5.41 20z\"/>\n",
              "  </svg>\n",
              "      </button>\n",
              "      \n",
              "  <style>\n",
              "    .colab-df-container {\n",
              "      display:flex;\n",
              "      flex-wrap:wrap;\n",
              "      gap: 12px;\n",
              "    }\n",
              "\n",
              "    .colab-df-convert {\n",
              "      background-color: #E8F0FE;\n",
              "      border: none;\n",
              "      border-radius: 50%;\n",
              "      cursor: pointer;\n",
              "      display: none;\n",
              "      fill: #1967D2;\n",
              "      height: 32px;\n",
              "      padding: 0 0 0 0;\n",
              "      width: 32px;\n",
              "    }\n",
              "\n",
              "    .colab-df-convert:hover {\n",
              "      background-color: #E2EBFA;\n",
              "      box-shadow: 0px 1px 2px rgba(60, 64, 67, 0.3), 0px 1px 3px 1px rgba(60, 64, 67, 0.15);\n",
              "      fill: #174EA6;\n",
              "    }\n",
              "\n",
              "    [theme=dark] .colab-df-convert {\n",
              "      background-color: #3B4455;\n",
              "      fill: #D2E3FC;\n",
              "    }\n",
              "\n",
              "    [theme=dark] .colab-df-convert:hover {\n",
              "      background-color: #434B5C;\n",
              "      box-shadow: 0px 1px 3px 1px rgba(0, 0, 0, 0.15);\n",
              "      filter: drop-shadow(0px 1px 2px rgba(0, 0, 0, 0.3));\n",
              "      fill: #FFFFFF;\n",
              "    }\n",
              "  </style>\n",
              "\n",
              "      <script>\n",
              "        const buttonEl =\n",
              "          document.querySelector('#df-5a4fb00b-c122-4840-9633-9470e83ac283 button.colab-df-convert');\n",
              "        buttonEl.style.display =\n",
              "          google.colab.kernel.accessAllowed ? 'block' : 'none';\n",
              "\n",
              "        async function convertToInteractive(key) {\n",
              "          const element = document.querySelector('#df-5a4fb00b-c122-4840-9633-9470e83ac283');\n",
              "          const dataTable =\n",
              "            await google.colab.kernel.invokeFunction('convertToInteractive',\n",
              "                                                     [key], {});\n",
              "          if (!dataTable) return;\n",
              "\n",
              "          const docLinkHtml = 'Like what you see? Visit the ' +\n",
              "            '<a target=\"_blank\" href=https://colab.research.google.com/notebooks/data_table.ipynb>data table notebook</a>'\n",
              "            + ' to learn more about interactive tables.';\n",
              "          element.innerHTML = '';\n",
              "          dataTable['output_type'] = 'display_data';\n",
              "          await google.colab.output.renderOutput(dataTable, element);\n",
              "          const docLink = document.createElement('div');\n",
              "          docLink.innerHTML = docLinkHtml;\n",
              "          element.appendChild(docLink);\n",
              "        }\n",
              "      </script>\n",
              "    </div>\n",
              "  </div>\n",
              "  "
            ]
          },
          "metadata": {},
          "execution_count": 90
        }
      ]
    },
    {
      "cell_type": "code",
      "source": [
        "import numpy as np\n",
        "import matplotlib.pyplot as plt\n",
        "\n",
        "fig1, ax1 = plt.subplots()\n",
        "ax1.set_title('Asking Amounts')\n",
        "ax1.set_ylabel('Amount in $')\n",
        "ax1.boxplot(dummy_working_op1_df['ASK_AMT'])\n",
        "plt.show()"
      ],
      "metadata": {
        "id": "ams5WCDPmt1F",
        "outputId": "2101efd5-f17e-43f8-b2d7-0d724a4eb595",
        "colab": {
          "base_uri": "https://localhost:8080/",
          "height": 452
        }
      },
      "execution_count": 68,
      "outputs": [
        {
          "output_type": "display_data",
          "data": {
            "text/plain": [
              "<Figure size 640x480 with 1 Axes>"
            ],
            "image/png": "[encoded data removed]"
          },
          "metadata": {}
        }
      ]
    },
    {
      "cell_type": "code",
      "source": [
        "# Determine which data points are outside of the 1.5*IQR range\n",
        "quartiles = np.quantile(dummy_working_op1_df['ASK_AMT'],[.25,.75])\n",
        "iqr = quartiles[1]-quartiles[0]\n",
        "lower_bound = quartiles[0]-(1.5*iqr)\n",
        "upper_bound = quartiles[1]+(1.5*iqr)\n",
        "print(\"Lower boundry: \", lower_bound, \" | Upper boundry: \", upper_bound)\n",
        "\n",
        "potential_outliers = [AMT for AMT in dummy_working_op1_df['ASK_AMT'] if AMT < lower_bound or AMT > upper_bound]\n",
        "print(\"Samples in dataset prior to outlier removal: \" + str(len(dummy_working_op1_df['ASK_AMT'])))\n",
        "print(\"After outlier removal: \" + str(len(dummy_working_op1_df['ASK_AMT']) - len(potential_outliers)))"
      ],
      "metadata": {
        "id": "ayCmqys2nW-Y",
        "outputId": "bdbd86f7-c901-4c0f-8d52-3e0b1dd3e52c",
        "colab": {
          "base_uri": "https://localhost:8080/"
        }
      },
      "execution_count": 71,
      "outputs": [
        {
          "output_type": "stream",
          "name": "stdout",
          "text": [
            "Lower boundry:  887.0  | Upper boundry:  11855.0\n",
            "Samples in dataset prior to outlier removal: 34299\n",
            "After outlier removal: 26093\n"
          ]
        }
      ]
    },
    {
      "cell_type": "code",
      "source": [
        "# Drop the unnecessary rows from the dataset\n",
        "condensed_data = dummy_working_op1_df.drop(dummy_working_op1_df.columns[drop_columns], axis=1)\n",
        "condensed_data = condensed_data[~condensed_data['ASK_AMT'].isin(potential_outliers)]\n",
        "print(condensed_data.shape)"
      ],
      "metadata": {
        "id": "qoK1Lubep9Gk",
        "outputId": "dfee725b-9379-464f-c696-4f12bd1f8509",
        "colab": {
          "base_uri": "https://localhost:8080/",
          "height": 339
        }
      },
      "execution_count": 72,
      "outputs": [
        {
          "output_type": "error",
          "ename": "IndexError",
          "evalue": "ignored",
          "traceback": [
            "\u001b[0;31m---------------------------------------------------------------------------\u001b[0m",
            "\u001b[0;31mIndexError\u001b[0m                                Traceback (most recent call last)",
            "\u001b[0;32m<ipython-input-72-57343dcad4b5>\u001b[0m in \u001b[0;36m<cell line: 2>\u001b[0;34m()\u001b[0m\n\u001b[1;32m      1\u001b[0m \u001b[0;31m# Drop the unnecessary columns & rows from the dataset\u001b[0m\u001b[0;34m\u001b[0m\u001b[0;34m\u001b[0m\u001b[0m\n\u001b[0;32m----> 2\u001b[0;31m \u001b[0mcondensed_data\u001b[0m \u001b[0;34m=\u001b[0m \u001b[0mdummy_working_op1_df\u001b[0m\u001b[0;34m.\u001b[0m\u001b[0mdrop\u001b[0m\u001b[0;34m(\u001b[0m\u001b[0mdummy_working_op1_df\u001b[0m\u001b[0;34m.\u001b[0m\u001b[0mcolumns\u001b[0m\u001b[0;34m[\u001b[0m\u001b[0mdrop_columns\u001b[0m\u001b[0;34m]\u001b[0m\u001b[0;34m,\u001b[0m \u001b[0maxis\u001b[0m\u001b[0;34m=\u001b[0m\u001b[0;36m1\u001b[0m\u001b[0;34m)\u001b[0m\u001b[0;34m\u001b[0m\u001b[0;34m\u001b[0m\u001b[0m\n\u001b[0m\u001b[1;32m      3\u001b[0m \u001b[0mcondensed_data\u001b[0m \u001b[0;34m=\u001b[0m \u001b[0mcondensed_data\u001b[0m\u001b[0;34m[\u001b[0m\u001b[0;34m~\u001b[0m\u001b[0mcondensed_data\u001b[0m\u001b[0;34m[\u001b[0m\u001b[0;34m'ASK_AMT'\u001b[0m\u001b[0;34m]\u001b[0m\u001b[0;34m.\u001b[0m\u001b[0misin\u001b[0m\u001b[0;34m(\u001b[0m\u001b[0mpotential_outliers\u001b[0m\u001b[0;34m)\u001b[0m\u001b[0;34m]\u001b[0m\u001b[0;34m\u001b[0m\u001b[0;34m\u001b[0m\u001b[0m\n\u001b[1;32m      4\u001b[0m \u001b[0mprint\u001b[0m\u001b[0;34m(\u001b[0m\u001b[0mcondensed_data\u001b[0m\u001b[0;34m.\u001b[0m\u001b[0mshape\u001b[0m\u001b[0;34m)\u001b[0m\u001b[0;34m\u001b[0m\u001b[0;34m\u001b[0m\u001b[0m\n",
            "\u001b[0;32m/usr/local/lib/python3.10/dist-packages/pandas/core/indexes/base.py\u001b[0m in \u001b[0;36m__getitem__\u001b[0;34m(self, key)\u001b[0m\n\u001b[1;32m   5337\u001b[0m                 \u001b[0mkey\u001b[0m \u001b[0;34m=\u001b[0m \u001b[0mnp\u001b[0m\u001b[0;34m.\u001b[0m\u001b[0masarray\u001b[0m\u001b[0;34m(\u001b[0m\u001b[0mkey\u001b[0m\u001b[0;34m,\u001b[0m \u001b[0mdtype\u001b[0m\u001b[0;34m=\u001b[0m\u001b[0mbool\u001b[0m\u001b[0;34m)\u001b[0m\u001b[0;34m\u001b[0m\u001b[0;34m\u001b[0m\u001b[0m\n\u001b[1;32m   5338\u001b[0m \u001b[0;34m\u001b[0m\u001b[0m\n\u001b[0;32m-> 5339\u001b[0;31m         \u001b[0mresult\u001b[0m \u001b[0;34m=\u001b[0m \u001b[0mgetitem\u001b[0m\u001b[0;34m(\u001b[0m\u001b[0mkey\u001b[0m\u001b[0;34m)\u001b[0m\u001b[0;34m\u001b[0m\u001b[0;34m\u001b[0m\u001b[0m\n\u001b[0m\u001b[1;32m   5340\u001b[0m         \u001b[0;31m# Because we ruled out integer above, we always get an arraylike here\u001b[0m\u001b[0;34m\u001b[0m\u001b[0;34m\u001b[0m\u001b[0m\n\u001b[1;32m   5341\u001b[0m         \u001b[0;32mif\u001b[0m \u001b[0mresult\u001b[0m\u001b[0;34m.\u001b[0m\u001b[0mndim\u001b[0m \u001b[0;34m>\u001b[0m \u001b[0;36m1\u001b[0m\u001b[0;34m:\u001b[0m\u001b[0;34m\u001b[0m\u001b[0;34m\u001b[0m\u001b[0m\n",
            "\u001b[0;31mIndexError\u001b[0m: index 45 is out of bounds for axis 0 with size 45"
          ]
        }
      ]
    },
    {
      "cell_type": "code",
      "source": [
        "X1 = condensed_data.drop('IS_SUCCESSFUL', axis=1)\n",
        "y1 = condensed_data['IS_SUCCESSFUL']\n",
        "print(X1.shape)\n",
        "\n",
        "X_train1, X_test1, y_train1, y_test1 = train_test_split(X1, y1, test_size=0.25, random_state=1)\n",
        "\n",
        "X_scaler1 = scaler.fit(X_train1)\n",
        "\n",
        "X_train_scaled1 = X_scaler1.transform(X_train1)\n",
        "X_test_scaled1 = X_scaler1.transform(X_test1)"
      ],
      "metadata": {
        "id": "X5hBrH0y-oQ3",
        "outputId": "0a259159-afc5-4681-97b0-14510443dade",
        "colab": {
          "base_uri": "https://localhost:8080/"
        }
      },
      "execution_count": 44,
      "outputs": [
        {
          "output_type": "stream",
          "name": "stdout",
          "text": [
            "(26093, 72)\n"
          ]
        }
      ]
    },
    {
      "cell_type": "code",
      "source": [
        "# Define the model\n",
        "nn_op1 = tf.keras.models.Sequential()\n",
        "\n",
        "# First hidden layer\n",
        "nn_op1.add(tf.keras.layers.Dense(units=80, activation='relu', input_dim=X_train_scaled1.shape[1]))\n",
        "\n",
        "# Second hidden layer\n",
        "nn_op1.add(tf.keras.layers.Dense(units=30, activation='relu'))\n",
        "\n",
        "# Output layer\n",
        "nn_op1.add(tf.keras.layers.Dense(units=1, activation='sigmoid'))\n",
        "\n",
        "# Check the structure of the model\n",
        "nn_op1.summary()"
      ],
      "metadata": {
        "colab": {
          "base_uri": "https://localhost:8080/"
        },
        "id": "iVSOzpWd_NDb",
        "outputId": "10ef80c8-da6a-4efd-9d4f-5b5f8650f96c"
      },
      "execution_count": 45,
      "outputs": [
        {
          "output_type": "stream",
          "name": "stdout",
          "text": [
            "Model: \"sequential_3\"\n",
            "_________________________________________________________________\n",
            " Layer (type)                Output Shape              Param #   \n",
            "=================================================================\n",
            " dense_9 (Dense)             (None, 80)                5840      \n",
            "                                                                 \n",
            " dense_10 (Dense)            (None, 30)                2430      \n",
            "                                                                 \n",
            " dense_11 (Dense)            (None, 1)                 31        \n",
            "                                                                 \n",
            "=================================================================\n",
            "Total params: 8,301\n",
            "Trainable params: 8,301\n",
            "Non-trainable params: 0\n",
            "_________________________________________________________________\n"
          ]
        }
      ]
    },
    {
      "cell_type": "code",
      "source": [
        "nn_op1.compile(loss='binary_crossentropy', optimizer='adam', metrics=['accuracy'])\n",
        "\n",
        "history1 = nn_op1.fit(X_train_scaled1, y_train1, epochs=100, verbose=1, batch_size=16)"
      ],
      "metadata": {
        "colab": {
          "base_uri": "https://localhost:8080/",
          "height": 1000
        },
        "id": "YRv6L9NJ_z-h",
        "outputId": "326aea44-71d9-42f7-d598-32f427c4a635"
      },
      "execution_count": 46,
      "outputs": [
        {
          "output_type": "stream",
          "name": "stdout",
          "text": [
            "Epoch 1/100\n",
            "1224/1224 [==============================] - 3s 2ms/step - loss: 0.6305 - accuracy: 0.6334\n",
            "Epoch 2/100\n",
            "1224/1224 [==============================] - 2s 1ms/step - loss: 0.6162 - accuracy: 0.6471\n",
            "Epoch 3/100\n",
            "1224/1224 [==============================] - 1s 1ms/step - loss: 0.6136 - accuracy: 0.6469\n",
            "Epoch 4/100\n",
            "1224/1224 [==============================] - 2s 1ms/step - loss: 0.6103 - accuracy: 0.6465\n",
            "Epoch 5/100\n",
            "1224/1224 [==============================] - 2s 1ms/step - loss: 0.6094 - accuracy: 0.6505\n",
            "Epoch 6/100\n",
            "1224/1224 [==============================] - 2s 1ms/step - loss: 0.6086 - accuracy: 0.6492\n",
            "Epoch 7/100\n",
            "1224/1224 [==============================] - 2s 1ms/step - loss: 0.6081 - accuracy: 0.6483\n",
            "Epoch 8/100\n",
            "1224/1224 [==============================] - 2s 1ms/step - loss: 0.6077 - accuracy: 0.6512\n",
            "Epoch 9/100\n",
            "1224/1224 [==============================] - 2s 1ms/step - loss: 0.6072 - accuracy: 0.6505\n",
            "Epoch 10/100\n",
            "1224/1224 [==============================] - 2s 1ms/step - loss: 0.6072 - accuracy: 0.6493\n",
            "Epoch 11/100\n",
            "1224/1224 [==============================] - 2s 2ms/step - loss: 0.6061 - accuracy: 0.6506\n",
            "Epoch 12/100\n",
            "1224/1224 [==============================] - 1s 1ms/step - loss: 0.6062 - accuracy: 0.6500\n",
            "Epoch 13/100\n",
            "1224/1224 [==============================] - 2s 1ms/step - loss: 0.6062 - accuracy: 0.6499\n",
            "Epoch 14/100\n",
            "1224/1224 [==============================] - 2s 1ms/step - loss: 0.6055 - accuracy: 0.6528\n",
            "Epoch 15/100\n",
            "1224/1224 [==============================] - 2s 1ms/step - loss: 0.6053 - accuracy: 0.6512\n",
            "Epoch 16/100\n",
            "1224/1224 [==============================] - 2s 2ms/step - loss: 0.6050 - accuracy: 0.6514\n",
            "Epoch 17/100\n",
            "1224/1224 [==============================] - 2s 1ms/step - loss: 0.6053 - accuracy: 0.6505\n",
            "Epoch 18/100\n",
            "1224/1224 [==============================] - 2s 1ms/step - loss: 0.6043 - accuracy: 0.6510\n",
            "Epoch 19/100\n",
            "1224/1224 [==============================] - 2s 1ms/step - loss: 0.6049 - accuracy: 0.6503\n",
            "Epoch 20/100\n",
            "1224/1224 [==============================] - 2s 1ms/step - loss: 0.6043 - accuracy: 0.6516\n",
            "Epoch 21/100\n",
            "1224/1224 [==============================] - 1s 1ms/step - loss: 0.6042 - accuracy: 0.6517\n",
            "Epoch 22/100\n",
            "1224/1224 [==============================] - 1s 1ms/step - loss: 0.6041 - accuracy: 0.6529\n",
            "Epoch 23/100\n",
            " 174/1224 [===>..........................] - ETA: 1s - loss: 0.6098 - accuracy: 0.6577"
          ]
        },
        {
          "output_type": "error",
          "ename": "KeyboardInterrupt",
          "evalue": "ignored",
          "traceback": [
            "\u001b[0;31m---------------------------------------------------------------------------\u001b[0m",
            "\u001b[0;31mKeyboardInterrupt\u001b[0m                         Traceback (most recent call last)",
            "\u001b[0;32m<ipython-input-46-05fba257e17a>\u001b[0m in \u001b[0;36m<cell line: 3>\u001b[0;34m()\u001b[0m\n\u001b[1;32m      1\u001b[0m \u001b[0mnn_op1\u001b[0m\u001b[0;34m.\u001b[0m\u001b[0mcompile\u001b[0m\u001b[0;34m(\u001b[0m\u001b[0mloss\u001b[0m\u001b[0;34m=\u001b[0m\u001b[0;34m'binary_crossentropy'\u001b[0m\u001b[0;34m,\u001b[0m \u001b[0moptimizer\u001b[0m\u001b[0;34m=\u001b[0m\u001b[0;34m'adam'\u001b[0m\u001b[0;34m,\u001b[0m \u001b[0mmetrics\u001b[0m\u001b[0;34m=\u001b[0m\u001b[0;34m[\u001b[0m\u001b[0;34m'accuracy'\u001b[0m\u001b[0;34m]\u001b[0m\u001b[0;34m)\u001b[0m\u001b[0;34m\u001b[0m\u001b[0;34m\u001b[0m\u001b[0m\n\u001b[1;32m      2\u001b[0m \u001b[0;34m\u001b[0m\u001b[0m\n\u001b[0;32m----> 3\u001b[0;31m \u001b[0mhistory1\u001b[0m \u001b[0;34m=\u001b[0m \u001b[0mnn_op1\u001b[0m\u001b[0;34m.\u001b[0m\u001b[0mfit\u001b[0m\u001b[0;34m(\u001b[0m\u001b[0mX_train_scaled1\u001b[0m\u001b[0;34m,\u001b[0m \u001b[0my_train1\u001b[0m\u001b[0;34m,\u001b[0m \u001b[0mepochs\u001b[0m\u001b[0;34m=\u001b[0m\u001b[0;36m100\u001b[0m\u001b[0;34m,\u001b[0m \u001b[0mverbose\u001b[0m\u001b[0;34m=\u001b[0m\u001b[0;36m1\u001b[0m\u001b[0;34m,\u001b[0m \u001b[0mbatch_size\u001b[0m\u001b[0;34m=\u001b[0m\u001b[0;36m16\u001b[0m\u001b[0;34m)\u001b[0m\u001b[0;34m\u001b[0m\u001b[0;34m\u001b[0m\u001b[0m\n\u001b[0m",
            "\u001b[0;32m/usr/local/lib/python3.10/dist-packages/keras/utils/traceback_utils.py\u001b[0m in \u001b[0;36merror_handler\u001b[0;34m(*args, **kwargs)\u001b[0m\n\u001b[1;32m     63\u001b[0m         \u001b[0mfiltered_tb\u001b[0m \u001b[0;34m=\u001b[0m \u001b[0;32mNone\u001b[0m\u001b[0;34m\u001b[0m\u001b[0;34m\u001b[0m\u001b[0m\n\u001b[1;32m     64\u001b[0m         \u001b[0;32mtry\u001b[0m\u001b[0;34m:\u001b[0m\u001b[0;34m\u001b[0m\u001b[0;34m\u001b[0m\u001b[0m\n\u001b[0;32m---> 65\u001b[0;31m             \u001b[0;32mreturn\u001b[0m \u001b[0mfn\u001b[0m\u001b[0;34m(\u001b[0m\u001b[0;34m*\u001b[0m\u001b[0margs\u001b[0m\u001b[0;34m,\u001b[0m \u001b[0;34m**\u001b[0m\u001b[0mkwargs\u001b[0m\u001b[0;34m)\u001b[0m\u001b[0;34m\u001b[0m\u001b[0;34m\u001b[0m\u001b[0m\n\u001b[0m\u001b[1;32m     66\u001b[0m         \u001b[0;32mexcept\u001b[0m \u001b[0mException\u001b[0m \u001b[0;32mas\u001b[0m \u001b[0me\u001b[0m\u001b[0;34m:\u001b[0m\u001b[0;34m\u001b[0m\u001b[0;34m\u001b[0m\u001b[0m\n\u001b[1;32m     67\u001b[0m             \u001b[0mfiltered_tb\u001b[0m \u001b[0;34m=\u001b[0m \u001b[0m_process_traceback_frames\u001b[0m\u001b[0;34m(\u001b[0m\u001b[0me\u001b[0m\u001b[0;34m.\u001b[0m\u001b[0m__traceback__\u001b[0m\u001b[0;34m)\u001b[0m\u001b[0;34m\u001b[0m\u001b[0;34m\u001b[0m\u001b[0m\n",
            "\u001b[0;32m/usr/local/lib/python3.10/dist-packages/keras/engine/training.py\u001b[0m in \u001b[0;36mfit\u001b[0;34m(self, x, y, batch_size, epochs, verbose, callbacks, validation_split, validation_data, shuffle, class_weight, sample_weight, initial_epoch, steps_per_epoch, validation_steps, validation_batch_size, validation_freq, max_queue_size, workers, use_multiprocessing)\u001b[0m\n\u001b[1;32m   1683\u001b[0m                         ):\n\u001b[1;32m   1684\u001b[0m                             \u001b[0mcallbacks\u001b[0m\u001b[0;34m.\u001b[0m\u001b[0mon_train_batch_begin\u001b[0m\u001b[0;34m(\u001b[0m\u001b[0mstep\u001b[0m\u001b[0;34m)\u001b[0m\u001b[0;34m\u001b[0m\u001b[0;34m\u001b[0m\u001b[0m\n\u001b[0;32m-> 1685\u001b[0;31m                             \u001b[0mtmp_logs\u001b[0m \u001b[0;34m=\u001b[0m \u001b[0mself\u001b[0m\u001b[0;34m.\u001b[0m\u001b[0mtrain_function\u001b[0m\u001b[0;34m(\u001b[0m\u001b[0miterator\u001b[0m\u001b[0;34m)\u001b[0m\u001b[0;34m\u001b[0m\u001b[0;34m\u001b[0m\u001b[0m\n\u001b[0m\u001b[1;32m   1686\u001b[0m                             \u001b[0;32mif\u001b[0m \u001b[0mdata_handler\u001b[0m\u001b[0;34m.\u001b[0m\u001b[0mshould_sync\u001b[0m\u001b[0;34m:\u001b[0m\u001b[0;34m\u001b[0m\u001b[0;34m\u001b[0m\u001b[0m\n\u001b[1;32m   1687\u001b[0m                                 \u001b[0mcontext\u001b[0m\u001b[0;34m.\u001b[0m\u001b[0masync_wait\u001b[0m\u001b[0;34m(\u001b[0m\u001b[0;34m)\u001b[0m\u001b[0;34m\u001b[0m\u001b[0;34m\u001b[0m\u001b[0m\n",
            "\u001b[0;32m/usr/local/lib/python3.10/dist-packages/tensorflow/python/util/traceback_utils.py\u001b[0m in \u001b[0;36merror_handler\u001b[0;34m(*args, **kwargs)\u001b[0m\n\u001b[1;32m    148\u001b[0m     \u001b[0mfiltered_tb\u001b[0m \u001b[0;34m=\u001b[0m \u001b[0;32mNone\u001b[0m\u001b[0;34m\u001b[0m\u001b[0;34m\u001b[0m\u001b[0m\n\u001b[1;32m    149\u001b[0m     \u001b[0;32mtry\u001b[0m\u001b[0;34m:\u001b[0m\u001b[0;34m\u001b[0m\u001b[0;34m\u001b[0m\u001b[0m\n\u001b[0;32m--> 150\u001b[0;31m       \u001b[0;32mreturn\u001b[0m \u001b[0mfn\u001b[0m\u001b[0;34m(\u001b[0m\u001b[0;34m*\u001b[0m\u001b[0margs\u001b[0m\u001b[0;34m,\u001b[0m \u001b[0;34m**\u001b[0m\u001b[0mkwargs\u001b[0m\u001b[0;34m)\u001b[0m\u001b[0;34m\u001b[0m\u001b[0;34m\u001b[0m\u001b[0m\n\u001b[0m\u001b[1;32m    151\u001b[0m     \u001b[0;32mexcept\u001b[0m \u001b[0mException\u001b[0m \u001b[0;32mas\u001b[0m \u001b[0me\u001b[0m\u001b[0;34m:\u001b[0m\u001b[0;34m\u001b[0m\u001b[0;34m\u001b[0m\u001b[0m\n\u001b[1;32m    152\u001b[0m       \u001b[0mfiltered_tb\u001b[0m \u001b[0;34m=\u001b[0m \u001b[0m_process_traceback_frames\u001b[0m\u001b[0;34m(\u001b[0m\u001b[0me\u001b[0m\u001b[0;34m.\u001b[0m\u001b[0m__traceback__\u001b[0m\u001b[0;34m)\u001b[0m\u001b[0;34m\u001b[0m\u001b[0;34m\u001b[0m\u001b[0m\n",
            "\u001b[0;32m/usr/local/lib/python3.10/dist-packages/tensorflow/python/eager/polymorphic_function/polymorphic_function.py\u001b[0m in \u001b[0;36m__call__\u001b[0;34m(self, *args, **kwds)\u001b[0m\n\u001b[1;32m    892\u001b[0m \u001b[0;34m\u001b[0m\u001b[0m\n\u001b[1;32m    893\u001b[0m       \u001b[0;32mwith\u001b[0m \u001b[0mOptionalXlaContext\u001b[0m\u001b[0;34m(\u001b[0m\u001b[0mself\u001b[0m\u001b[0;34m.\u001b[0m\u001b[0m_jit_compile\u001b[0m\u001b[0;34m)\u001b[0m\u001b[0;34m:\u001b[0m\u001b[0;34m\u001b[0m\u001b[0;34m\u001b[0m\u001b[0m\n\u001b[0;32m--> 894\u001b[0;31m         \u001b[0mresult\u001b[0m \u001b[0;34m=\u001b[0m \u001b[0mself\u001b[0m\u001b[0;34m.\u001b[0m\u001b[0m_call\u001b[0m\u001b[0;34m(\u001b[0m\u001b[0;34m*\u001b[0m\u001b[0margs\u001b[0m\u001b[0;34m,\u001b[0m \u001b[0;34m**\u001b[0m\u001b[0mkwds\u001b[0m\u001b[0;34m)\u001b[0m\u001b[0;34m\u001b[0m\u001b[0;34m\u001b[0m\u001b[0m\n\u001b[0m\u001b[1;32m    895\u001b[0m \u001b[0;34m\u001b[0m\u001b[0m\n\u001b[1;32m    896\u001b[0m       \u001b[0mnew_tracing_count\u001b[0m \u001b[0;34m=\u001b[0m \u001b[0mself\u001b[0m\u001b[0;34m.\u001b[0m\u001b[0mexperimental_get_tracing_count\u001b[0m\u001b[0;34m(\u001b[0m\u001b[0;34m)\u001b[0m\u001b[0;34m\u001b[0m\u001b[0;34m\u001b[0m\u001b[0m\n",
            "\u001b[0;32m/usr/local/lib/python3.10/dist-packages/tensorflow/python/eager/polymorphic_function/polymorphic_function.py\u001b[0m in \u001b[0;36m_call\u001b[0;34m(self, *args, **kwds)\u001b[0m\n\u001b[1;32m    924\u001b[0m       \u001b[0;31m# In this case we have created variables on the first call, so we run the\u001b[0m\u001b[0;34m\u001b[0m\u001b[0;34m\u001b[0m\u001b[0m\n\u001b[1;32m    925\u001b[0m       \u001b[0;31m# defunned version which is guaranteed to never create variables.\u001b[0m\u001b[0;34m\u001b[0m\u001b[0;34m\u001b[0m\u001b[0m\n\u001b[0;32m--> 926\u001b[0;31m       \u001b[0;32mreturn\u001b[0m \u001b[0mself\u001b[0m\u001b[0;34m.\u001b[0m\u001b[0m_no_variable_creation_fn\u001b[0m\u001b[0;34m(\u001b[0m\u001b[0;34m*\u001b[0m\u001b[0margs\u001b[0m\u001b[0;34m,\u001b[0m \u001b[0;34m**\u001b[0m\u001b[0mkwds\u001b[0m\u001b[0;34m)\u001b[0m  \u001b[0;31m# pylint: disable=not-callable\u001b[0m\u001b[0;34m\u001b[0m\u001b[0;34m\u001b[0m\u001b[0m\n\u001b[0m\u001b[1;32m    927\u001b[0m     \u001b[0;32melif\u001b[0m \u001b[0mself\u001b[0m\u001b[0;34m.\u001b[0m\u001b[0m_variable_creation_fn\u001b[0m \u001b[0;32mis\u001b[0m \u001b[0;32mnot\u001b[0m \u001b[0;32mNone\u001b[0m\u001b[0;34m:\u001b[0m\u001b[0;34m\u001b[0m\u001b[0;34m\u001b[0m\u001b[0m\n\u001b[1;32m    928\u001b[0m       \u001b[0;31m# Release the lock early so that multiple threads can perform the call\u001b[0m\u001b[0;34m\u001b[0m\u001b[0;34m\u001b[0m\u001b[0m\n",
            "\u001b[0;32m/usr/local/lib/python3.10/dist-packages/tensorflow/python/eager/polymorphic_function/tracing_compiler.py\u001b[0m in \u001b[0;36m__call__\u001b[0;34m(self, *args, **kwargs)\u001b[0m\n\u001b[1;32m    141\u001b[0m       (concrete_function,\n\u001b[1;32m    142\u001b[0m        filtered_flat_args) = self._maybe_define_function(args, kwargs)\n\u001b[0;32m--> 143\u001b[0;31m     return concrete_function._call_flat(\n\u001b[0m\u001b[1;32m    144\u001b[0m         filtered_flat_args, captured_inputs=concrete_function.captured_inputs)  # pylint: disable=protected-access\n\u001b[1;32m    145\u001b[0m \u001b[0;34m\u001b[0m\u001b[0m\n",
            "\u001b[0;32m/usr/local/lib/python3.10/dist-packages/tensorflow/python/eager/polymorphic_function/monomorphic_function.py\u001b[0m in \u001b[0;36m_call_flat\u001b[0;34m(self, args, captured_inputs, cancellation_manager)\u001b[0m\n\u001b[1;32m   1755\u001b[0m         and executing_eagerly):\n\u001b[1;32m   1756\u001b[0m       \u001b[0;31m# No tape is watching; skip to running the function.\u001b[0m\u001b[0;34m\u001b[0m\u001b[0;34m\u001b[0m\u001b[0m\n\u001b[0;32m-> 1757\u001b[0;31m       return self._build_call_outputs(self._inference_function.call(\n\u001b[0m\u001b[1;32m   1758\u001b[0m           ctx, args, cancellation_manager=cancellation_manager))\n\u001b[1;32m   1759\u001b[0m     forward_backward = self._select_forward_and_backward_functions(\n",
            "\u001b[0;32m/usr/local/lib/python3.10/dist-packages/tensorflow/python/eager/polymorphic_function/monomorphic_function.py\u001b[0m in \u001b[0;36m_build_call_outputs\u001b[0;34m(self, result)\u001b[0m\n\u001b[1;32m   2121\u001b[0m         \u001b[0moutputs_list\u001b[0m\u001b[0;34m[\u001b[0m\u001b[0mi\u001b[0m\u001b[0;34m]\u001b[0m \u001b[0;34m=\u001b[0m \u001b[0mresult\u001b[0m\u001b[0;34m[\u001b[0m\u001b[0mj\u001b[0m\u001b[0;34m]\u001b[0m\u001b[0;34m\u001b[0m\u001b[0;34m\u001b[0m\u001b[0m\n\u001b[1;32m   2122\u001b[0m         \u001b[0mj\u001b[0m \u001b[0;34m+=\u001b[0m \u001b[0;36m1\u001b[0m\u001b[0;34m\u001b[0m\u001b[0;34m\u001b[0m\u001b[0m\n\u001b[0;32m-> 2123\u001b[0;31m     ret = nest.pack_sequence_as(self._func_graph.structured_outputs,\n\u001b[0m\u001b[1;32m   2124\u001b[0m                                 outputs_list, expand_composites=True)\n\u001b[1;32m   2125\u001b[0m     \u001b[0;32mreturn\u001b[0m \u001b[0mret\u001b[0m\u001b[0;34m\u001b[0m\u001b[0;34m\u001b[0m\u001b[0m\n",
            "\u001b[0;32m/usr/local/lib/python3.10/dist-packages/tensorflow/python/util/nest.py\u001b[0m in \u001b[0;36mpack_sequence_as\u001b[0;34m(structure, flat_sequence, expand_composites)\u001b[0m\n\u001b[1;32m    804\u001b[0m     \u001b[0mTypeError\u001b[0m\u001b[0;34m:\u001b[0m\u001b[0;31m \u001b[0m\u001b[0;31m`\u001b[0m\u001b[0mstructure\u001b[0m\u001b[0;31m`\u001b[0m \u001b[0;32mis\u001b[0m \u001b[0;32mor\u001b[0m \u001b[0mcontains\u001b[0m \u001b[0ma\u001b[0m \u001b[0mdict\u001b[0m \u001b[0;32mwith\u001b[0m \u001b[0mnon\u001b[0m\u001b[0;34m-\u001b[0m\u001b[0msortable\u001b[0m \u001b[0mkeys\u001b[0m\u001b[0;34m.\u001b[0m\u001b[0;34m\u001b[0m\u001b[0;34m\u001b[0m\u001b[0m\n\u001b[1;32m    805\u001b[0m   \"\"\"\n\u001b[0;32m--> 806\u001b[0;31m   \u001b[0;32mreturn\u001b[0m \u001b[0m_pack_sequence_as\u001b[0m\u001b[0;34m(\u001b[0m\u001b[0mstructure\u001b[0m\u001b[0;34m,\u001b[0m \u001b[0mflat_sequence\u001b[0m\u001b[0;34m,\u001b[0m \u001b[0mexpand_composites\u001b[0m\u001b[0;34m)\u001b[0m\u001b[0;34m\u001b[0m\u001b[0;34m\u001b[0m\u001b[0m\n\u001b[0m\u001b[1;32m    807\u001b[0m \u001b[0;34m\u001b[0m\u001b[0m\n\u001b[1;32m    808\u001b[0m \u001b[0;34m\u001b[0m\u001b[0m\n",
            "\u001b[0;32m/usr/local/lib/python3.10/dist-packages/tensorflow/python/util/nest.py\u001b[0m in \u001b[0;36m_pack_sequence_as\u001b[0;34m(structure, flat_sequence, expand_composites, sequence_fn)\u001b[0m\n\u001b[1;32m    687\u001b[0m           \u001b[0;34m\"flat_sequence had %d items.  Structure: %s, flat_sequence: %s.\"\u001b[0m \u001b[0;34m%\u001b[0m\u001b[0;34m\u001b[0m\u001b[0;34m\u001b[0m\u001b[0m\n\u001b[1;32m    688\u001b[0m           (len(flat_structure), len(flat_sequence), structure, flat_sequence))\n\u001b[0;32m--> 689\u001b[0;31m   \u001b[0;32mreturn\u001b[0m \u001b[0msequence_fn\u001b[0m\u001b[0;34m(\u001b[0m\u001b[0mstructure\u001b[0m\u001b[0;34m,\u001b[0m \u001b[0mpacked\u001b[0m\u001b[0;34m)\u001b[0m\u001b[0;34m\u001b[0m\u001b[0;34m\u001b[0m\u001b[0m\n\u001b[0m\u001b[1;32m    690\u001b[0m \u001b[0;34m\u001b[0m\u001b[0m\n\u001b[1;32m    691\u001b[0m \u001b[0;34m\u001b[0m\u001b[0m\n",
            "\u001b[0;32m/usr/local/lib/python3.10/dist-packages/tensorflow/python/util/nest.py\u001b[0m in \u001b[0;36m_sequence_like\u001b[0;34m(instance, args)\u001b[0m\n\u001b[1;32m    196\u001b[0m     \u001b[0;31m`\u001b[0m\u001b[0margs\u001b[0m\u001b[0;31m`\u001b[0m \u001b[0;32mwith\u001b[0m \u001b[0mthe\u001b[0m \u001b[0mtype\u001b[0m \u001b[0mof\u001b[0m\u001b[0;31m \u001b[0m\u001b[0;31m`\u001b[0m\u001b[0minstance\u001b[0m\u001b[0;31m`\u001b[0m\u001b[0;34m.\u001b[0m\u001b[0;34m\u001b[0m\u001b[0;34m\u001b[0m\u001b[0m\n\u001b[1;32m    197\u001b[0m   \"\"\"\n\u001b[0;32m--> 198\u001b[0;31m   \u001b[0;32mif\u001b[0m \u001b[0m_is_mutable_mapping\u001b[0m\u001b[0;34m(\u001b[0m\u001b[0minstance\u001b[0m\u001b[0;34m)\u001b[0m\u001b[0;34m:\u001b[0m\u001b[0;34m\u001b[0m\u001b[0;34m\u001b[0m\u001b[0m\n\u001b[0m\u001b[1;32m    199\u001b[0m     \u001b[0;31m# Pack dictionaries in a deterministic order by sorting the keys.\u001b[0m\u001b[0;34m\u001b[0m\u001b[0;34m\u001b[0m\u001b[0m\n\u001b[1;32m    200\u001b[0m     \u001b[0;31m# Notice this means that we ignore the original order of `OrderedDict`\u001b[0m\u001b[0;34m\u001b[0m\u001b[0;34m\u001b[0m\u001b[0m\n",
            "\u001b[0;31mKeyboardInterrupt\u001b[0m: "
          ]
        }
      ]
    },
    {
      "cell_type": "code",
      "source": [
        "model_loss, model_accuracy = nn_op1.evaluate(X_test_scaled1,y_test1,verbose=1, batch_size=16)\n",
        "print(f\"Loss: {model_loss}, Accuracy: {model_accuracy}\")"
      ],
      "metadata": {
        "id": "GUL8zMpZzQPa",
        "outputId": "297ca06c-6c89-4601-8bf5-0b96458eed30",
        "colab": {
          "base_uri": "https://localhost:8080/"
        }
      },
      "execution_count": 29,
      "outputs": [
        {
          "output_type": "stream",
          "name": "stdout",
          "text": [
            "536/536 [==============================] - 1s 1ms/step - loss: 0.5716 - accuracy: 0.7230\n",
            "Loss: 0.571590781211853, Accuracy: 0.7230320572853088\n"
          ]
        }
      ]
    },
    {
      "cell_type": "markdown",
      "source": [
        "## Optimization Method 2 - Altering Model"
      ],
      "metadata": {
        "id": "9gmcyF4CRNMG"
      }
    },
    {
      "cell_type": "code",
      "source": [
        "# Model creation function for ease of coding later\n",
        "def create_model(hp):\n",
        "    nn_model = tf.keras.models.Sequential()\n",
        "\n",
        "    activation = hp.Choice('activation', ['relu', 'tanh', 'leaky_relu']) # removed 'selu', 'elu', & 'sigmoid'\n",
        "\n",
        "    nn_model.add(tf.keras.layers.Dense(units=hp.Int('first_units',\n",
        "        min_value=100,\n",
        "        max_value=100,\n",
        "        step=5), activation=activation, input_dim=X_train1.shape[1]))\n",
        "    \n",
        "    for i in range(hp.Int('num_layers', 3, 8)):\n",
        "        nn_model.add(tf.keras.layers.Dense(units=hp.Int('units_' + str(i),\n",
        "            min_value=100,\n",
        "            max_value=100,\n",
        "            step=5),\n",
        "            activation=activation))\n",
        "    \n",
        "    nn_model.add(tf.keras.layers.Dense(units=1, activation=\"sigmoid\"))\n",
        "\n",
        "    nn_model.compile(loss=\"binary_crossentropy\", optimizer='adam', metrics=[\"accuracy\"])\n",
        "    \n",
        "    return nn_model"
      ],
      "metadata": {
        "id": "suIbcDcbikfZ"
      },
      "execution_count": 28,
      "outputs": []
    },
    {
      "cell_type": "code",
      "source": [
        "# Install & import the kerastuner library\n",
        "!pip install keras_tuner\n",
        "import keras_tuner as kt"
      ],
      "metadata": {
        "id": "zT-M6WnwkSGP",
        "outputId": "ec4bb808-6fa1-496e-ade5-f3a951f33992",
        "colab": {
          "base_uri": "https://localhost:8080/"
        }
      },
      "execution_count": 29,
      "outputs": [
        {
          "output_type": "stream",
          "name": "stdout",
          "text": [
            "Looking in indexes: https://pypi.org/simple, https://us-python.pkg.dev/colab-wheels/public/simple/\n",
            "Collecting keras_tuner\n",
            "  Downloading keras_tuner-1.3.5-py3-none-any.whl (176 kB)\n",
            "\u001b[2K     \u001b[90m━━━━━━━━━━━━━━━━━━━━━━━━━━━━━━━━━━━━━━━\u001b[0m \u001b[32m176.1/176.1 kB\u001b[0m \u001b[31m7.0 MB/s\u001b[0m eta \u001b[36m0:00:00\u001b[0m\n",
            "\u001b[?25hRequirement already satisfied: packaging in /usr/local/lib/python3.10/dist-packages (from keras_tuner) (23.1)\n",
            "Requirement already satisfied: requests in /usr/local/lib/python3.10/dist-packages (from keras_tuner) (2.27.1)\n",
            "Collecting kt-legacy (from keras_tuner)\n",
            "  Downloading kt_legacy-1.0.5-py3-none-any.whl (9.6 kB)\n",
            "Requirement already satisfied: urllib3<1.27,>=1.21.1 in /usr/local/lib/python3.10/dist-packages (from requests->keras_tuner) (1.26.15)\n",
            "Requirement already satisfied: certifi>=2017.4.17 in /usr/local/lib/python3.10/dist-packages (from requests->keras_tuner) (2022.12.7)\n",
            "Requirement already satisfied: charset-normalizer~=2.0.0 in /usr/local/lib/python3.10/dist-packages (from requests->keras_tuner) (2.0.12)\n",
            "Requirement already satisfied: idna<4,>=2.5 in /usr/local/lib/python3.10/dist-packages (from requests->keras_tuner) (3.4)\n",
            "Installing collected packages: kt-legacy, keras_tuner\n",
            "Successfully installed keras_tuner-1.3.5 kt-legacy-1.0.5\n"
          ]
        }
      ]
    },
    {
      "cell_type": "code",
      "source": [
        "tuner = kt.Hyperband(\n",
        "    create_model,\n",
        "    objective=\"accuracy\",\n",
        "    max_epochs=10,\n",
        "    hyperband_iterations=2)"
      ],
      "metadata": {
        "id": "WOH6a-1Sv7h8"
      },
      "execution_count": 30,
      "outputs": []
    },
    {
      "cell_type": "code",
      "source": [
        "tuner.search(X_train_scaled1,y_train1,epochs=5,validation_data=(X_test_scaled1,y_test1), batch_size=16)"
      ],
      "metadata": {
        "id": "GpS-9dQZlIvX",
        "outputId": "8b9c3e9d-3103-434d-c084-f38a07736399",
        "colab": {
          "base_uri": "https://localhost:8080/"
        }
      },
      "execution_count": 31,
      "outputs": [
        {
          "output_type": "stream",
          "name": "stdout",
          "text": [
            "Trial 31 Complete [00h 00m 13s]\n",
            "accuracy: 0.7288135886192322\n",
            "\n",
            "Best accuracy So Far: 0.7365106344223022\n",
            "Total elapsed time: 00h 12m 32s\n"
          ]
        }
      ]
    },
    {
      "cell_type": "code",
      "source": [
        "top_hyper = tuner.get_best_hyperparameters(5)\n",
        "for param in top_hyper:\n",
        "    print(param.values)"
      ],
      "metadata": {
        "id": "Sgj-UoYhnxjE",
        "outputId": "bced2c75-5612-4d9e-f2dc-f02ce659acca",
        "colab": {
          "base_uri": "https://localhost:8080/"
        }
      },
      "execution_count": 32,
      "outputs": [
        {
          "output_type": "stream",
          "name": "stdout",
          "text": [
            "{'activation': 'relu', 'first_units': 100, 'num_layers': 4, 'units_0': 100, 'units_1': 100, 'units_2': 100, 'units_3': 100, 'units_4': 100, 'units_5': 100, 'units_6': 100, 'units_7': 100, 'tuner/epochs': 10, 'tuner/initial_epoch': 4, 'tuner/bracket': 1, 'tuner/round': 1, 'tuner/trial_id': '0023'}\n",
            "{'activation': 'relu', 'first_units': 100, 'num_layers': 6, 'units_0': 100, 'units_1': 100, 'units_2': 100, 'units_3': 100, 'units_4': 100, 'units_5': 100, 'tuner/epochs': 10, 'tuner/initial_epoch': 4, 'tuner/bracket': 2, 'tuner/round': 2, 'tuner/trial_id': '0012', 'units_6': 100, 'units_7': 100}\n",
            "{'activation': 'relu', 'first_units': 100, 'num_layers': 7, 'units_0': 100, 'units_1': 100, 'units_2': 100, 'units_3': 100, 'units_4': 100, 'units_5': 100, 'units_6': 100, 'units_7': 100, 'tuner/epochs': 10, 'tuner/initial_epoch': 4, 'tuner/bracket': 2, 'tuner/round': 2, 'tuner/trial_id': '0013'}\n",
            "{'activation': 'leaky_relu', 'first_units': 100, 'num_layers': 3, 'units_0': 100, 'units_1': 100, 'units_2': 100, 'units_3': 100, 'units_4': 100, 'units_5': 100, 'units_6': 100, 'units_7': 100, 'tuner/epochs': 10, 'tuner/initial_epoch': 0, 'tuner/bracket': 0, 'tuner/round': 0}\n",
            "{'activation': 'relu', 'first_units': 100, 'num_layers': 5, 'units_0': 100, 'units_1': 100, 'units_2': 100, 'units_3': 100, 'units_4': 100, 'units_5': 100, 'units_6': 100, 'units_7': 100, 'tuner/epochs': 10, 'tuner/initial_epoch': 0, 'tuner/bracket': 0, 'tuner/round': 0}\n"
          ]
        }
      ]
    },
    {
      "cell_type": "code",
      "execution_count": 33,
      "metadata": {
        "id": "dbGci5K9Kvyi",
        "outputId": "b8acf33f-d5e9-48b7-9907-32f9a7d636ac",
        "colab": {
          "base_uri": "https://localhost:8080/"
        }
      },
      "outputs": [
        {
          "output_type": "stream",
          "name": "stdout",
          "text": [
            "Model: \"sequential_1\"\n",
            "_________________________________________________________________\n",
            " Layer (type)                Output Shape              Param #   \n",
            "=================================================================\n",
            " dense_9 (Dense)             (None, 100)               4500      \n",
            "                                                                 \n",
            " dense_10 (Dense)            (None, 100)               10100     \n",
            "                                                                 \n",
            " dense_11 (Dense)            (None, 100)               10100     \n",
            "                                                                 \n",
            " dense_12 (Dense)            (None, 100)               10100     \n",
            "                                                                 \n",
            " dense_13 (Dense)            (None, 100)               10100     \n",
            "                                                                 \n",
            " dense_14 (Dense)            (None, 100)               10100     \n",
            "                                                                 \n",
            " dense_15 (Dense)            (None, 1)                 101       \n",
            "                                                                 \n",
            "=================================================================\n",
            "Total params: 55,101\n",
            "Trainable params: 55,101\n",
            "Non-trainable params: 0\n",
            "_________________________________________________________________\n"
          ]
        }
      ],
      "source": [
        "# Define the model - deep neural net, i.e., the number of input features and hidden nodes for each layer.\n",
        "nn_op = tf.keras.models.Sequential()\n",
        "\n",
        "# Take optimized hyperparams and make a model\n",
        "nn_op.add(tf.keras.layers.Dense(units=param.values['first_units'], activation=param.values['activation'], input_dim=X_train_scaled.shape[1]))\n",
        "for i in range(param.values['num_layers']):\n",
        "    nn_op.add(tf.keras.layers.Dense(units=param.values[f'units_{i}'], activation=param.values['activation']))\n",
        "\n",
        "# Output layer\n",
        "nn_op.add(tf.keras.layers.Dense(units=1, activation='sigmoid'))\n",
        "\n",
        "# Check the structure of the model\n",
        "nn_op.summary()"
      ]
    },
    {
      "cell_type": "code",
      "execution_count": 34,
      "metadata": {
        "id": "Fs0Qh2Y5Kvyi"
      },
      "outputs": [],
      "source": [
        "# Compile the model\n",
        "nn_op.compile(loss='binary_crossentropy', optimizer='adam', metrics=['accuracy'])"
      ]
    },
    {
      "cell_type": "code",
      "execution_count": 35,
      "metadata": {
        "id": "uYdr9zhqKvyj",
        "outputId": "bbdb57e1-caeb-426a-aa51-a57e3ecfe67d",
        "colab": {
          "base_uri": "https://localhost:8080/"
        }
      },
      "outputs": [
        {
          "output_type": "stream",
          "name": "stdout",
          "text": [
            "Epoch 1/100\n",
            "804/804 [==============================] - 9s 9ms/step - loss: 0.5692 - accuracy: 0.7222\n",
            "Epoch 2/100\n",
            "804/804 [==============================] - 7s 9ms/step - loss: 0.5549 - accuracy: 0.7286\n",
            "Epoch 3/100\n",
            "804/804 [==============================] - 8s 10ms/step - loss: 0.5521 - accuracy: 0.7310\n",
            "Epoch 4/100\n",
            "804/804 [==============================] - 9s 11ms/step - loss: 0.5506 - accuracy: 0.7310\n",
            "Epoch 5/100\n",
            "804/804 [==============================] - 8s 9ms/step - loss: 0.5491 - accuracy: 0.7324\n",
            "Epoch 6/100\n",
            "804/804 [==============================] - 9s 11ms/step - loss: 0.5479 - accuracy: 0.7321\n",
            "Epoch 7/100\n",
            "804/804 [==============================] - 4s 5ms/step - loss: 0.5472 - accuracy: 0.7333\n",
            "Epoch 8/100\n",
            "804/804 [==============================] - 3s 4ms/step - loss: 0.5474 - accuracy: 0.7345\n",
            "Epoch 9/100\n",
            "804/804 [==============================] - 5s 6ms/step - loss: 0.5462 - accuracy: 0.7331\n",
            "Epoch 10/100\n",
            "804/804 [==============================] - 3s 4ms/step - loss: 0.5448 - accuracy: 0.7346\n",
            "Epoch 11/100\n",
            "804/804 [==============================] - 3s 4ms/step - loss: 0.5448 - accuracy: 0.7339\n",
            "Epoch 12/100\n",
            "804/804 [==============================] - 4s 5ms/step - loss: 0.5438 - accuracy: 0.7354\n",
            "Epoch 13/100\n",
            "804/804 [==============================] - 4s 5ms/step - loss: 0.5437 - accuracy: 0.7348\n",
            "Epoch 14/100\n",
            "804/804 [==============================] - 3s 4ms/step - loss: 0.5431 - accuracy: 0.7357\n",
            "Epoch 15/100\n",
            "804/804 [==============================] - 3s 4ms/step - loss: 0.5434 - accuracy: 0.7358\n",
            "Epoch 16/100\n",
            "804/804 [==============================] - 4s 6ms/step - loss: 0.5427 - accuracy: 0.7367\n",
            "Epoch 17/100\n",
            "804/804 [==============================] - 4s 4ms/step - loss: 0.5426 - accuracy: 0.7366\n",
            "Epoch 18/100\n",
            "804/804 [==============================] - 3s 4ms/step - loss: 0.5418 - accuracy: 0.7370\n",
            "Epoch 19/100\n",
            "804/804 [==============================] - 4s 5ms/step - loss: 0.5414 - accuracy: 0.7372\n",
            "Epoch 20/100\n",
            "804/804 [==============================] - 5s 6ms/step - loss: 0.5404 - accuracy: 0.7376\n",
            "Epoch 21/100\n",
            "804/804 [==============================] - 4s 4ms/step - loss: 0.5408 - accuracy: 0.7371\n",
            "Epoch 22/100\n",
            "804/804 [==============================] - 3s 4ms/step - loss: 0.5407 - accuracy: 0.7377\n",
            "Epoch 23/100\n",
            "804/804 [==============================] - 4s 5ms/step - loss: 0.5398 - accuracy: 0.7376\n",
            "Epoch 24/100\n",
            "804/804 [==============================] - 4s 4ms/step - loss: 0.5409 - accuracy: 0.7363\n",
            "Epoch 25/100\n",
            "804/804 [==============================] - 4s 4ms/step - loss: 0.5397 - accuracy: 0.7376\n",
            "Epoch 26/100\n",
            "804/804 [==============================] - 4s 5ms/step - loss: 0.5391 - accuracy: 0.7381\n",
            "Epoch 27/100\n",
            "804/804 [==============================] - 4s 5ms/step - loss: 0.5396 - accuracy: 0.7362\n",
            "Epoch 28/100\n",
            "804/804 [==============================] - 3s 4ms/step - loss: 0.5384 - accuracy: 0.7382\n",
            "Epoch 29/100\n",
            "804/804 [==============================] - 3s 4ms/step - loss: 0.5389 - accuracy: 0.7370\n",
            "Epoch 30/100\n",
            "804/804 [==============================] - 5s 6ms/step - loss: 0.5390 - accuracy: 0.7391\n",
            "Epoch 31/100\n",
            "804/804 [==============================] - 4s 5ms/step - loss: 0.5384 - accuracy: 0.7381\n",
            "Epoch 32/100\n",
            "804/804 [==============================] - 4s 5ms/step - loss: 0.5385 - accuracy: 0.7376\n",
            "Epoch 33/100\n",
            "804/804 [==============================] - 5s 6ms/step - loss: 0.5375 - accuracy: 0.7381\n",
            "Epoch 34/100\n",
            "804/804 [==============================] - 4s 5ms/step - loss: 0.5393 - accuracy: 0.7383\n",
            "Epoch 35/100\n",
            "804/804 [==============================] - 3s 4ms/step - loss: 0.5375 - accuracy: 0.7380\n",
            "Epoch 36/100\n",
            "804/804 [==============================] - 4s 5ms/step - loss: 0.5390 - accuracy: 0.7392\n",
            "Epoch 37/100\n",
            "804/804 [==============================] - 4s 5ms/step - loss: 0.5369 - accuracy: 0.7389\n",
            "Epoch 38/100\n",
            "804/804 [==============================] - 4s 4ms/step - loss: 0.5363 - accuracy: 0.7393\n",
            "Epoch 39/100\n",
            "804/804 [==============================] - 5s 7ms/step - loss: 0.5367 - accuracy: 0.7386\n",
            "Epoch 40/100\n",
            "804/804 [==============================] - 4s 5ms/step - loss: 0.5361 - accuracy: 0.7381\n",
            "Epoch 41/100\n",
            "804/804 [==============================] - 3s 4ms/step - loss: 0.5364 - accuracy: 0.7382\n",
            "Epoch 42/100\n",
            "804/804 [==============================] - 5s 6ms/step - loss: 0.5370 - accuracy: 0.7375\n",
            "Epoch 43/100\n",
            "804/804 [==============================] - 8s 10ms/step - loss: 0.5358 - accuracy: 0.7394\n",
            "Epoch 44/100\n",
            "804/804 [==============================] - 8s 10ms/step - loss: 0.5363 - accuracy: 0.7388\n",
            "Epoch 45/100\n",
            "804/804 [==============================] - 8s 10ms/step - loss: 0.5358 - accuracy: 0.7389\n",
            "Epoch 46/100\n",
            "804/804 [==============================] - 8s 10ms/step - loss: 0.5353 - accuracy: 0.7389\n",
            "Epoch 47/100\n",
            "804/804 [==============================] - 4s 5ms/step - loss: 0.5356 - accuracy: 0.7386\n",
            "Epoch 48/100\n",
            "804/804 [==============================] - 9s 11ms/step - loss: 0.5354 - accuracy: 0.7397\n",
            "Epoch 49/100\n",
            "804/804 [==============================] - 3s 4ms/step - loss: 0.5350 - accuracy: 0.7393\n",
            "Epoch 50/100\n",
            "804/804 [==============================] - 3s 4ms/step - loss: 0.5351 - accuracy: 0.7393\n",
            "Epoch 51/100\n",
            "804/804 [==============================] - 3s 4ms/step - loss: 0.5344 - accuracy: 0.7395\n",
            "Epoch 52/100\n",
            "804/804 [==============================] - 4s 5ms/step - loss: 0.5356 - accuracy: 0.7395\n",
            "Epoch 53/100\n",
            "804/804 [==============================] - 3s 4ms/step - loss: 0.5366 - accuracy: 0.7389\n",
            "Epoch 54/100\n",
            "804/804 [==============================] - 3s 4ms/step - loss: 0.5352 - accuracy: 0.7390\n",
            "Epoch 55/100\n",
            "804/804 [==============================] - 3s 4ms/step - loss: 0.5345 - accuracy: 0.7398\n",
            "Epoch 56/100\n",
            "804/804 [==============================] - 3s 4ms/step - loss: 0.5342 - accuracy: 0.7395\n",
            "Epoch 57/100\n",
            "804/804 [==============================] - 2s 3ms/step - loss: 0.5334 - accuracy: 0.7399\n",
            "Epoch 58/100\n",
            "804/804 [==============================] - 2s 3ms/step - loss: 0.5340 - accuracy: 0.7399\n",
            "Epoch 59/100\n",
            "804/804 [==============================] - 2s 3ms/step - loss: 0.5339 - accuracy: 0.7383\n",
            "Epoch 60/100\n",
            "804/804 [==============================] - 3s 4ms/step - loss: 0.5340 - accuracy: 0.7401\n",
            "Epoch 61/100\n",
            "804/804 [==============================] - 3s 4ms/step - loss: 0.5344 - accuracy: 0.7385\n",
            "Epoch 62/100\n",
            "804/804 [==============================] - 2s 3ms/step - loss: 0.5338 - accuracy: 0.7392\n",
            "Epoch 63/100\n",
            "804/804 [==============================] - 2s 3ms/step - loss: 0.5338 - accuracy: 0.7395\n",
            "Epoch 64/100\n",
            "804/804 [==============================] - 2s 3ms/step - loss: 0.5333 - accuracy: 0.7393\n",
            "Epoch 65/100\n",
            "804/804 [==============================] - 2s 3ms/step - loss: 0.5341 - accuracy: 0.7396\n",
            "Epoch 66/100\n",
            "804/804 [==============================] - 3s 4ms/step - loss: 0.5331 - accuracy: 0.7400\n",
            "Epoch 67/100\n",
            "804/804 [==============================] - 2s 3ms/step - loss: 0.5337 - accuracy: 0.7381\n",
            "Epoch 68/100\n",
            "804/804 [==============================] - 2s 3ms/step - loss: 0.5337 - accuracy: 0.7385\n",
            "Epoch 69/100\n",
            "804/804 [==============================] - 2s 3ms/step - loss: 0.5384 - accuracy: 0.7405\n",
            "Epoch 70/100\n",
            "804/804 [==============================] - 2s 3ms/step - loss: 0.5337 - accuracy: 0.7390\n",
            "Epoch 71/100\n",
            "804/804 [==============================] - 4s 4ms/step - loss: 0.5333 - accuracy: 0.7389\n",
            "Epoch 72/100\n",
            "804/804 [==============================] - 2s 3ms/step - loss: 0.5337 - accuracy: 0.7392\n",
            "Epoch 73/100\n",
            "804/804 [==============================] - 2s 3ms/step - loss: 0.5332 - accuracy: 0.7402\n",
            "Epoch 74/100\n",
            "804/804 [==============================] - 2s 3ms/step - loss: 0.5339 - accuracy: 0.7393\n",
            "Epoch 75/100\n",
            "804/804 [==============================] - 6s 7ms/step - loss: 0.5330 - accuracy: 0.7397\n",
            "Epoch 76/100\n",
            "804/804 [==============================] - 3s 4ms/step - loss: 0.5324 - accuracy: 0.7399\n",
            "Epoch 77/100\n",
            "804/804 [==============================] - 3s 4ms/step - loss: 0.5332 - accuracy: 0.7405\n",
            "Epoch 78/100\n",
            "804/804 [==============================] - 3s 4ms/step - loss: 0.5342 - accuracy: 0.7397\n",
            "Epoch 79/100\n",
            "804/804 [==============================] - 5s 6ms/step - loss: 0.5332 - accuracy: 0.7401\n",
            "Epoch 80/100\n",
            "804/804 [==============================] - 4s 5ms/step - loss: 0.5326 - accuracy: 0.7399\n",
            "Epoch 81/100\n",
            "804/804 [==============================] - 4s 5ms/step - loss: 0.5322 - accuracy: 0.7399\n",
            "Epoch 82/100\n",
            "804/804 [==============================] - 6s 7ms/step - loss: 0.5333 - accuracy: 0.7398\n",
            "Epoch 83/100\n",
            "804/804 [==============================] - 4s 5ms/step - loss: 0.5320 - accuracy: 0.7401\n",
            "Epoch 84/100\n",
            "804/804 [==============================] - 4s 5ms/step - loss: 0.5325 - accuracy: 0.7402\n",
            "Epoch 85/100\n",
            "804/804 [==============================] - 5s 6ms/step - loss: 0.5326 - accuracy: 0.7397\n",
            "Epoch 86/100\n",
            "804/804 [==============================] - 4s 5ms/step - loss: 0.5332 - accuracy: 0.7405\n",
            "Epoch 87/100\n",
            "804/804 [==============================] - 4s 5ms/step - loss: 0.5326 - accuracy: 0.7396\n",
            "Epoch 88/100\n",
            "804/804 [==============================] - 5s 6ms/step - loss: 0.5319 - accuracy: 0.7407\n",
            "Epoch 89/100\n",
            "804/804 [==============================] - 4s 5ms/step - loss: 0.5319 - accuracy: 0.7397\n",
            "Epoch 90/100\n",
            "804/804 [==============================] - 4s 5ms/step - loss: 0.5330 - accuracy: 0.7394\n",
            "Epoch 91/100\n",
            "804/804 [==============================] - 6s 8ms/step - loss: 0.5323 - accuracy: 0.7405\n",
            "Epoch 92/100\n",
            "804/804 [==============================] - 9s 11ms/step - loss: 0.5321 - accuracy: 0.7395\n",
            "Epoch 93/100\n",
            "804/804 [==============================] - 5s 6ms/step - loss: 0.5330 - accuracy: 0.7398\n",
            "Epoch 94/100\n",
            "804/804 [==============================] - 4s 5ms/step - loss: 0.5334 - accuracy: 0.7394\n",
            "Epoch 95/100\n",
            "804/804 [==============================] - 4s 5ms/step - loss: 0.5330 - accuracy: 0.7403\n",
            "Epoch 96/100\n",
            "804/804 [==============================] - 5s 6ms/step - loss: 0.5321 - accuracy: 0.7399\n",
            "Epoch 97/100\n",
            "804/804 [==============================] - 4s 5ms/step - loss: 0.5329 - accuracy: 0.7405\n",
            "Epoch 98/100\n",
            "804/804 [==============================] - 4s 5ms/step - loss: 0.5337 - accuracy: 0.7389\n",
            "Epoch 99/100\n",
            "804/804 [==============================] - 5s 7ms/step - loss: 0.5319 - accuracy: 0.7406\n",
            "Epoch 100/100\n",
            "804/804 [==============================] - 4s 5ms/step - loss: 0.5314 - accuracy: 0.7411\n"
          ]
        }
      ],
      "source": [
        "# Train the model\n",
        "history = nn_op.fit(X_train_scaled, y_train, epochs=100, verbose=1, batch_size=16)"
      ]
    },
    {
      "cell_type": "code",
      "execution_count": 36,
      "metadata": {
        "id": "vSp7TNeKKvyj",
        "outputId": "db43cddd-f5d5-4029-afa5-ab1864b04206",
        "colab": {
          "base_uri": "https://localhost:8080/"
        }
      },
      "outputs": [
        {
          "output_type": "stream",
          "name": "stdout",
          "text": [
            "8575/8575 [==============================] - 22s 2ms/step - loss: 0.5886 - accuracy: 0.7280\n",
            "Loss: 0.5885549187660217, Accuracy: 0.7280466556549072\n"
          ]
        }
      ],
      "source": [
        "# Evaluate the model using the test data\n",
        "model_loss, model_accuracy = nn_op.evaluate(X_test_scaled,y_test,verbose=1, batch_size=16)\n",
        "print(f\"Loss: {model_loss}, Accuracy: {model_accuracy}\")"
      ]
    },
    {
      "cell_type": "code",
      "execution_count": 37,
      "metadata": {
        "id": "JVGVAcJ6Kvyj"
      },
      "outputs": [],
      "source": [
        "# Export our model to HDF5 file\n",
        "nn_op.save('AlphabetSoupCharity_Optimization.h5')"
      ]
    },
    {
      "cell_type": "markdown",
      "source": [
        "## Optimization Method 3 - Oversampling"
      ],
      "metadata": {
        "id": "hNMsmEhLbYFg"
      }
    }
  ],
  "metadata": {
    "kernelspec": {
      "display_name": "Python 3",
      "language": "python",
      "name": "python3"
    },
    "language_info": {
      "codemirror_mode": {
        "name": "ipython",
        "version": 3
      },
      "file_extension": ".py",
      "mimetype": "text/x-python",
      "name": "python",
      "nbconvert_exporter": "python",
      "pygments_lexer": "ipython3",
      "version": "3.-1.-1"
    },
    "vscode": {
      "interpreter": {
        "hash": "31f2aee4e71d21fbe5cf8b01ff0e069b9275f58929596ceb00d14d90e3e16cd6"
      }
    },
    "colab": {
      "provenance": []
    }
  },
  "nbformat": 4,
  "nbformat_minor": 0
}