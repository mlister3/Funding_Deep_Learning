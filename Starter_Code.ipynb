{
  "cells": [
    {
      "cell_type": "markdown",
      "metadata": {
        "id": "1luGE0ovKvyX"
      },
      "source": [
        "## Preprocessing"
      ]
    },
    {
      "cell_type": "code",
      "execution_count": 1,
      "metadata": {
        "colab": {
          "base_uri": "https://localhost:8080/",
          "height": 0
        },
        "id": "uIbKw_xTKvyZ",
        "outputId": "cbf44ad4-ae68-40fb-f160-ddb160bfb45c"
      },
      "outputs": [
        {
          "output_type": "stream",
          "name": "stdout",
          "text": [
            "\u001b[?25l     \u001b[90m━━━━━━━━━━━━━━━━━━━━━━━━━━━━━━━━━━━━━━━━\u001b[0m \u001b[32m0.0/176.1 kB\u001b[0m \u001b[31m?\u001b[0m eta \u001b[36m-:--:--\u001b[0m\r\u001b[2K     \u001b[90m━━━━━━━━━━━━━━━━━━━━━━━━━━━━━━━━━━━━━━\u001b[0m \u001b[32m176.1/176.1 kB\u001b[0m \u001b[31m14.3 MB/s\u001b[0m eta \u001b[36m0:00:00\u001b[0m\n",
            "\u001b[?25h"
          ]
        },
        {
          "output_type": "execute_result",
          "data": {
            "text/plain": [
              "        EIN                                      NAME APPLICATION_TYPE  \\\n",
              "0  10520599              BLUE KNIGHTS MOTORCYCLE CLUB              T10   \n",
              "1  10531628    AMERICAN CHESAPEAKE CLUB CHARITABLE TR               T3   \n",
              "2  10547893        ST CLOUD PROFESSIONAL FIREFIGHTERS               T5   \n",
              "3  10553066            SOUTHSIDE ATHLETIC ASSOCIATION               T3   \n",
              "4  10556103  GENETIC RESEARCH INSTITUTE OF THE DESERT               T3   \n",
              "\n",
              "        AFFILIATION CLASSIFICATION      USE_CASE  ORGANIZATION  STATUS  \\\n",
              "0       Independent          C1000    ProductDev   Association       1   \n",
              "1       Independent          C2000  Preservation  Co-operative       1   \n",
              "2  CompanySponsored          C3000    ProductDev   Association       1   \n",
              "3  CompanySponsored          C2000  Preservation         Trust       1   \n",
              "4       Independent          C1000     Heathcare         Trust       1   \n",
              "\n",
              "      INCOME_AMT SPECIAL_CONSIDERATIONS  ASK_AMT  IS_SUCCESSFUL  \n",
              "0              0                      N     5000              1  \n",
              "1         1-9999                      N   108590              1  \n",
              "2              0                      N     5000              0  \n",
              "3    10000-24999                      N     6692              1  \n",
              "4  100000-499999                      N   142590              1  "
            ],
            "text/html": [
              "\n",
              "  <div id=\"df-750b9ebf-ad35-4b5e-895b-fd750d0bddb4\">\n",
              "    <div class=\"colab-df-container\">\n",
              "      <div>\n",
              "<style scoped>\n",
              "    .dataframe tbody tr th:only-of-type {\n",
              "        vertical-align: middle;\n",
              "    }\n",
              "\n",
              "    .dataframe tbody tr th {\n",
              "        vertical-align: top;\n",
              "    }\n",
              "\n",
              "    .dataframe thead th {\n",
              "        text-align: right;\n",
              "    }\n",
              "</style>\n",
              "<table border=\"1\" class=\"dataframe\">\n",
              "  <thead>\n",
              "    <tr style=\"text-align: right;\">\n",
              "      <th></th>\n",
              "      <th>EIN</th>\n",
              "      <th>NAME</th>\n",
              "      <th>APPLICATION_TYPE</th>\n",
              "      <th>AFFILIATION</th>\n",
              "      <th>CLASSIFICATION</th>\n",
              "      <th>USE_CASE</th>\n",
              "      <th>ORGANIZATION</th>\n",
              "      <th>STATUS</th>\n",
              "      <th>INCOME_AMT</th>\n",
              "      <th>SPECIAL_CONSIDERATIONS</th>\n",
              "      <th>ASK_AMT</th>\n",
              "      <th>IS_SUCCESSFUL</th>\n",
              "    </tr>\n",
              "  </thead>\n",
              "  <tbody>\n",
              "    <tr>\n",
              "      <th>0</th>\n",
              "      <td>10520599</td>\n",
              "      <td>BLUE KNIGHTS MOTORCYCLE CLUB</td>\n",
              "      <td>T10</td>\n",
              "      <td>Independent</td>\n",
              "      <td>C1000</td>\n",
              "      <td>ProductDev</td>\n",
              "      <td>Association</td>\n",
              "      <td>1</td>\n",
              "      <td>0</td>\n",
              "      <td>N</td>\n",
              "      <td>5000</td>\n",
              "      <td>1</td>\n",
              "    </tr>\n",
              "    <tr>\n",
              "      <th>1</th>\n",
              "      <td>10531628</td>\n",
              "      <td>AMERICAN CHESAPEAKE CLUB CHARITABLE TR</td>\n",
              "      <td>T3</td>\n",
              "      <td>Independent</td>\n",
              "      <td>C2000</td>\n",
              "      <td>Preservation</td>\n",
              "      <td>Co-operative</td>\n",
              "      <td>1</td>\n",
              "      <td>1-9999</td>\n",
              "      <td>N</td>\n",
              "      <td>108590</td>\n",
              "      <td>1</td>\n",
              "    </tr>\n",
              "    <tr>\n",
              "      <th>2</th>\n",
              "      <td>10547893</td>\n",
              "      <td>ST CLOUD PROFESSIONAL FIREFIGHTERS</td>\n",
              "      <td>T5</td>\n",
              "      <td>CompanySponsored</td>\n",
              "      <td>C3000</td>\n",
              "      <td>ProductDev</td>\n",
              "      <td>Association</td>\n",
              "      <td>1</td>\n",
              "      <td>0</td>\n",
              "      <td>N</td>\n",
              "      <td>5000</td>\n",
              "      <td>0</td>\n",
              "    </tr>\n",
              "    <tr>\n",
              "      <th>3</th>\n",
              "      <td>10553066</td>\n",
              "      <td>SOUTHSIDE ATHLETIC ASSOCIATION</td>\n",
              "      <td>T3</td>\n",
              "      <td>CompanySponsored</td>\n",
              "      <td>C2000</td>\n",
              "      <td>Preservation</td>\n",
              "      <td>Trust</td>\n",
              "      <td>1</td>\n",
              "      <td>10000-24999</td>\n",
              "      <td>N</td>\n",
              "      <td>6692</td>\n",
              "      <td>1</td>\n",
              "    </tr>\n",
              "    <tr>\n",
              "      <th>4</th>\n",
              "      <td>10556103</td>\n",
              "      <td>GENETIC RESEARCH INSTITUTE OF THE DESERT</td>\n",
              "      <td>T3</td>\n",
              "      <td>Independent</td>\n",
              "      <td>C1000</td>\n",
              "      <td>Heathcare</td>\n",
              "      <td>Trust</td>\n",
              "      <td>1</td>\n",
              "      <td>100000-499999</td>\n",
              "      <td>N</td>\n",
              "      <td>142590</td>\n",
              "      <td>1</td>\n",
              "    </tr>\n",
              "  </tbody>\n",
              "</table>\n",
              "</div>\n",
              "      <button class=\"colab-df-convert\" onclick=\"convertToInteractive('df-750b9ebf-ad35-4b5e-895b-fd750d0bddb4')\"\n",
              "              title=\"Convert this dataframe to an interactive table.\"\n",
              "              style=\"display:none;\">\n",
              "        \n",
              "  <svg xmlns=\"http://www.w3.org/2000/svg\" height=\"24px\"viewBox=\"0 0 24 24\"\n",
              "       width=\"24px\">\n",
              "    <path d=\"M0 0h24v24H0V0z\" fill=\"none\"/>\n",
              "    <path d=\"M18.56 5.44l.94 2.06.94-2.06 2.06-.94-2.06-.94-.94-2.06-.94 2.06-2.06.94zm-11 1L8.5 8.5l.94-2.06 2.06-.94-2.06-.94L8.5 2.5l-.94 2.06-2.06.94zm10 10l.94 2.06.94-2.06 2.06-.94-2.06-.94-.94-2.06-.94 2.06-2.06.94z\"/><path d=\"M17.41 7.96l-1.37-1.37c-.4-.4-.92-.59-1.43-.59-.52 0-1.04.2-1.43.59L10.3 9.45l-7.72 7.72c-.78.78-.78 2.05 0 2.83L4 21.41c.39.39.9.59 1.41.59.51 0 1.02-.2 1.41-.59l7.78-7.78 2.81-2.81c.8-.78.8-2.07 0-2.86zM5.41 20L4 18.59l7.72-7.72 1.47 1.35L5.41 20z\"/>\n",
              "  </svg>\n",
              "      </button>\n",
              "      \n",
              "  <style>\n",
              "    .colab-df-container {\n",
              "      display:flex;\n",
              "      flex-wrap:wrap;\n",
              "      gap: 12px;\n",
              "    }\n",
              "\n",
              "    .colab-df-convert {\n",
              "      background-color: #E8F0FE;\n",
              "      border: none;\n",
              "      border-radius: 50%;\n",
              "      cursor: pointer;\n",
              "      display: none;\n",
              "      fill: #1967D2;\n",
              "      height: 32px;\n",
              "      padding: 0 0 0 0;\n",
              "      width: 32px;\n",
              "    }\n",
              "\n",
              "    .colab-df-convert:hover {\n",
              "      background-color: #E2EBFA;\n",
              "      box-shadow: 0px 1px 2px rgba(60, 64, 67, 0.3), 0px 1px 3px 1px rgba(60, 64, 67, 0.15);\n",
              "      fill: #174EA6;\n",
              "    }\n",
              "\n",
              "    [theme=dark] .colab-df-convert {\n",
              "      background-color: #3B4455;\n",
              "      fill: #D2E3FC;\n",
              "    }\n",
              "\n",
              "    [theme=dark] .colab-df-convert:hover {\n",
              "      background-color: #434B5C;\n",
              "      box-shadow: 0px 1px 3px 1px rgba(0, 0, 0, 0.15);\n",
              "      filter: drop-shadow(0px 1px 2px rgba(0, 0, 0, 0.3));\n",
              "      fill: #FFFFFF;\n",
              "    }\n",
              "  </style>\n",
              "\n",
              "      <script>\n",
              "        const buttonEl =\n",
              "          document.querySelector('#df-750b9ebf-ad35-4b5e-895b-fd750d0bddb4 button.colab-df-convert');\n",
              "        buttonEl.style.display =\n",
              "          google.colab.kernel.accessAllowed ? 'block' : 'none';\n",
              "\n",
              "        async function convertToInteractive(key) {\n",
              "          const element = document.querySelector('#df-750b9ebf-ad35-4b5e-895b-fd750d0bddb4');\n",
              "          const dataTable =\n",
              "            await google.colab.kernel.invokeFunction('convertToInteractive',\n",
              "                                                     [key], {});\n",
              "          if (!dataTable) return;\n",
              "\n",
              "          const docLinkHtml = 'Like what you see? Visit the ' +\n",
              "            '<a target=\"_blank\" href=https://colab.research.google.com/notebooks/data_table.ipynb>data table notebook</a>'\n",
              "            + ' to learn more about interactive tables.';\n",
              "          element.innerHTML = '';\n",
              "          dataTable['output_type'] = 'display_data';\n",
              "          await google.colab.output.renderOutput(dataTable, element);\n",
              "          const docLink = document.createElement('div');\n",
              "          docLink.innerHTML = docLinkHtml;\n",
              "          element.appendChild(docLink);\n",
              "        }\n",
              "      </script>\n",
              "    </div>\n",
              "  </div>\n",
              "  "
            ]
          },
          "metadata": {},
          "execution_count": 1
        }
      ],
      "source": [
        "!pip install keras_tuner -q\n",
        "# Import our dependencies\n",
        "from sklearn.model_selection import train_test_split\n",
        "from sklearn.preprocessing import StandardScaler\n",
        "from sklearn.decomposition import PCA\n",
        "import pandas as pd\n",
        "import tensorflow as tf\n",
        "import warnings\n",
        "import keras_tuner as kt\n",
        "from tensorflow.keras.callbacks import ModelCheckpoint\n",
        "\n",
        "# Disable all warnings\n",
        "warnings.filterwarnings(\"ignore\")\n",
        "\n",
        "#  Import and read the charity_data.csv.\n",
        "application_df = pd.read_csv(\"https://static.bc-edx.com/data/dl-1-2/m21/lms/starter/charity_data.csv\")\n",
        "application_df.head(5)"
      ]
    },
    {
      "cell_type": "code",
      "execution_count": 2,
      "metadata": {
        "id": "oBVH6xjsKvyb"
      },
      "outputs": [],
      "source": [
        "# Drop the non-beneficial ID columns, 'EIN' and 'NAME'.\n",
        "application_df = application_df.drop(['EIN', 'NAME'], axis=1)\n",
        "application_df_copy = application_df.copy()"
      ]
    },
    {
      "cell_type": "code",
      "execution_count": 3,
      "metadata": {
        "colab": {
          "base_uri": "https://localhost:8080/"
        },
        "id": "hld8LlbtKvyc",
        "outputId": "78e6ac54-2bcb-49ff-f468-a3fd02d7336f"
      },
      "outputs": [
        {
          "output_type": "execute_result",
          "data": {
            "text/plain": [
              "APPLICATION_TYPE            17\n",
              "AFFILIATION                  6\n",
              "CLASSIFICATION              71\n",
              "USE_CASE                     5\n",
              "ORGANIZATION                 4\n",
              "STATUS                       2\n",
              "INCOME_AMT                   9\n",
              "SPECIAL_CONSIDERATIONS       2\n",
              "ASK_AMT                   8747\n",
              "IS_SUCCESSFUL                2\n",
              "dtype: int64"
            ]
          },
          "metadata": {},
          "execution_count": 3
        }
      ],
      "source": [
        "# Determine the number of unique values in each column.\n",
        "application_df.nunique()"
      ]
    },
    {
      "cell_type": "code",
      "execution_count": 4,
      "metadata": {
        "colab": {
          "base_uri": "https://localhost:8080/"
        },
        "id": "qTx22cthKvyd",
        "outputId": "30aeb580-7047-4e67-fce9-90e62c27aba3"
      },
      "outputs": [
        {
          "output_type": "execute_result",
          "data": {
            "text/plain": [
              "T3     27037\n",
              "T4      1542\n",
              "T6      1216\n",
              "T5      1173\n",
              "T19     1065\n",
              "T8       737\n",
              "T7       725\n",
              "T10      528\n",
              "T9       156\n",
              "T13       66\n",
              "T12       27\n",
              "T2        16\n",
              "T25        3\n",
              "T14        3\n",
              "T29        2\n",
              "T15        2\n",
              "T17        1\n",
              "Name: APPLICATION_TYPE, dtype: int64"
            ]
          },
          "metadata": {},
          "execution_count": 4
        }
      ],
      "source": [
        "# Look at APPLICATION_TYPE value counts for binning\n",
        "application_df['APPLICATION_TYPE'].value_counts()"
      ]
    },
    {
      "cell_type": "code",
      "execution_count": 5,
      "metadata": {
        "colab": {
          "base_uri": "https://localhost:8080/"
        },
        "id": "2hp0X2j_Kvye",
        "outputId": "256dd506-9f0a-4315-fa40-d0a75e2a1fb0"
      },
      "outputs": [
        {
          "output_type": "execute_result",
          "data": {
            "text/plain": [
              "T3       27037\n",
              "T4        1542\n",
              "T6        1216\n",
              "T5        1173\n",
              "T19       1065\n",
              "T8         737\n",
              "T7         725\n",
              "T10        528\n",
              "Other      276\n",
              "Name: APPLICATION_TYPE, dtype: int64"
            ]
          },
          "metadata": {},
          "execution_count": 5
        }
      ],
      "source": [
        "# Choose a cutoff value and create a list of application types to be replaced\n",
        "# use the variable name `application_types_to_replace`\n",
        "cutoff_value = 500\n",
        "application_types_to_replace = application_df['APPLICATION_TYPE'].value_counts()[application_df['APPLICATION_TYPE'].value_counts() < cutoff_value].index.tolist()\n",
        "\n",
        "# Replace in dataframe\n",
        "for app in application_types_to_replace:\n",
        "    application_df['APPLICATION_TYPE'] = application_df['APPLICATION_TYPE'].replace(app,\"Other\")\n",
        "\n",
        "# Check to make sure binning was successful\n",
        "application_df['APPLICATION_TYPE'].value_counts()"
      ]
    },
    {
      "cell_type": "code",
      "execution_count": 6,
      "metadata": {
        "colab": {
          "base_uri": "https://localhost:8080/"
        },
        "id": "rxlZilgMKvyf",
        "outputId": "b945fd6a-d7b8-4067-8be4-dc97657df8b9"
      },
      "outputs": [
        {
          "output_type": "execute_result",
          "data": {
            "text/plain": [
              "C1000    17326\n",
              "C2000     6074\n",
              "C1200     4837\n",
              "C3000     1918\n",
              "C2100     1883\n",
              "         ...  \n",
              "C4120        1\n",
              "C8210        1\n",
              "C2561        1\n",
              "C4500        1\n",
              "C2150        1\n",
              "Name: CLASSIFICATION, Length: 71, dtype: int64"
            ]
          },
          "metadata": {},
          "execution_count": 6
        }
      ],
      "source": [
        "# Look at CLASSIFICATION value counts for binning\n",
        "application_df['CLASSIFICATION'].value_counts()"
      ]
    },
    {
      "cell_type": "code",
      "execution_count": 7,
      "metadata": {
        "colab": {
          "base_uri": "https://localhost:8080/"
        },
        "id": "cxA_HNVhKvyf",
        "outputId": "c20f5d38-aabe-4dd5-a5e1-1f966d1c97bd"
      },
      "outputs": [
        {
          "output_type": "execute_result",
          "data": {
            "text/plain": [
              "C1000    17326\n",
              "C2000     6074\n",
              "C1200     4837\n",
              "C3000     1918\n",
              "C2100     1883\n",
              "C7000      777\n",
              "C1700      287\n",
              "C4000      194\n",
              "C5000      116\n",
              "C1270      114\n",
              "C2700      104\n",
              "C2800       95\n",
              "C7100       75\n",
              "C1300       58\n",
              "C1280       50\n",
              "C1230       36\n",
              "C1400       34\n",
              "C7200       32\n",
              "C2300       32\n",
              "C1240       30\n",
              "C8000       20\n",
              "C7120       18\n",
              "C1500       16\n",
              "C1800       15\n",
              "C6000       15\n",
              "C1250       14\n",
              "C8200       11\n",
              "C1238       10\n",
              "C1278       10\n",
              "C1235        9\n",
              "C1237        9\n",
              "C7210        7\n",
              "C2400        6\n",
              "C1720        6\n",
              "C4100        6\n",
              "C1257        5\n",
              "C1600        5\n",
              "C1260        3\n",
              "C2710        3\n",
              "C0           3\n",
              "C3200        2\n",
              "C1234        2\n",
              "C1246        2\n",
              "C1267        2\n",
              "C1256        2\n",
              "Name: CLASSIFICATION, dtype: int64"
            ]
          },
          "metadata": {},
          "execution_count": 7
        }
      ],
      "source": [
        "# You may find it helpful to look at CLASSIFICATION value counts >1\n",
        "classification_counts = application_df['CLASSIFICATION'].value_counts()\n",
        "classification_counts[classification_counts > 1]"
      ]
    },
    {
      "cell_type": "code",
      "execution_count": 8,
      "metadata": {
        "colab": {
          "base_uri": "https://localhost:8080/"
        },
        "id": "F6-69P70Kvyg",
        "outputId": "e463d460-5907-4c0a-c893-86a9ba7a2747"
      },
      "outputs": [
        {
          "output_type": "execute_result",
          "data": {
            "text/plain": [
              "C1000    17326\n",
              "C2000     6074\n",
              "C1200     4837\n",
              "C3000     1918\n",
              "C2100     1883\n",
              "Other     1484\n",
              "C7000      777\n",
              "Name: CLASSIFICATION, dtype: int64"
            ]
          },
          "metadata": {},
          "execution_count": 8
        }
      ],
      "source": [
        "# Choose a cutoff value and create a list of classifications to be replaced\n",
        "# use the variable name `classifications_to_replace`\n",
        "cutoff_value = 500\n",
        "classifications_to_replace = application_df['CLASSIFICATION'].value_counts()[application_df['CLASSIFICATION'].value_counts() < cutoff_value].index.tolist()\n",
        "\n",
        "# Replace in dataframe\n",
        "for cls in classifications_to_replace:\n",
        "    application_df['CLASSIFICATION'] = application_df['CLASSIFICATION'].replace(cls,\"Other\")\n",
        "    \n",
        "# Check to make sure binning was successful\n",
        "application_df['CLASSIFICATION'].value_counts()"
      ]
    },
    {
      "cell_type": "code",
      "execution_count": 9,
      "metadata": {
        "colab": {
          "base_uri": "https://localhost:8080/",
          "height": 0
        },
        "id": "6EL377mWKvyg",
        "outputId": "026cfd81-87b3-4fb1-e613-f2795e2c1b73"
      },
      "outputs": [
        {
          "output_type": "execute_result",
          "data": {
            "text/plain": [
              "   STATUS  ASK_AMT  IS_SUCCESSFUL  APPLICATION_TYPE_Other  \\\n",
              "0       1     5000              1                       0   \n",
              "1       1   108590              1                       0   \n",
              "2       1     5000              0                       0   \n",
              "3       1     6692              1                       0   \n",
              "4       1   142590              1                       0   \n",
              "\n",
              "   APPLICATION_TYPE_T10  APPLICATION_TYPE_T19  APPLICATION_TYPE_T3  \\\n",
              "0                     1                     0                    0   \n",
              "1                     0                     0                    1   \n",
              "2                     0                     0                    0   \n",
              "3                     0                     0                    1   \n",
              "4                     0                     0                    1   \n",
              "\n",
              "   APPLICATION_TYPE_T4  APPLICATION_TYPE_T5  APPLICATION_TYPE_T6  ...  \\\n",
              "0                    0                    0                    0  ...   \n",
              "1                    0                    0                    0  ...   \n",
              "2                    0                    1                    0  ...   \n",
              "3                    0                    0                    0  ...   \n",
              "4                    0                    0                    0  ...   \n",
              "\n",
              "   INCOME_AMT_1-9999  INCOME_AMT_10000-24999  INCOME_AMT_100000-499999  \\\n",
              "0                  0                       0                         0   \n",
              "1                  1                       0                         0   \n",
              "2                  0                       0                         0   \n",
              "3                  0                       1                         0   \n",
              "4                  0                       0                         1   \n",
              "\n",
              "   INCOME_AMT_10M-50M  INCOME_AMT_1M-5M  INCOME_AMT_25000-99999  \\\n",
              "0                   0                 0                       0   \n",
              "1                   0                 0                       0   \n",
              "2                   0                 0                       0   \n",
              "3                   0                 0                       0   \n",
              "4                   0                 0                       0   \n",
              "\n",
              "   INCOME_AMT_50M+  INCOME_AMT_5M-10M  SPECIAL_CONSIDERATIONS_N  \\\n",
              "0                0                  0                         1   \n",
              "1                0                  0                         1   \n",
              "2                0                  0                         1   \n",
              "3                0                  0                         1   \n",
              "4                0                  0                         1   \n",
              "\n",
              "   SPECIAL_CONSIDERATIONS_Y  \n",
              "0                         0  \n",
              "1                         0  \n",
              "2                         0  \n",
              "3                         0  \n",
              "4                         0  \n",
              "\n",
              "[5 rows x 45 columns]"
            ],
            "text/html": [
              "\n",
              "  <div id=\"df-69e304b0-a3f2-452b-af03-089fa34fba79\">\n",
              "    <div class=\"colab-df-container\">\n",
              "      <div>\n",
              "<style scoped>\n",
              "    .dataframe tbody tr th:only-of-type {\n",
              "        vertical-align: middle;\n",
              "    }\n",
              "\n",
              "    .dataframe tbody tr th {\n",
              "        vertical-align: top;\n",
              "    }\n",
              "\n",
              "    .dataframe thead th {\n",
              "        text-align: right;\n",
              "    }\n",
              "</style>\n",
              "<table border=\"1\" class=\"dataframe\">\n",
              "  <thead>\n",
              "    <tr style=\"text-align: right;\">\n",
              "      <th></th>\n",
              "      <th>STATUS</th>\n",
              "      <th>ASK_AMT</th>\n",
              "      <th>IS_SUCCESSFUL</th>\n",
              "      <th>APPLICATION_TYPE_Other</th>\n",
              "      <th>APPLICATION_TYPE_T10</th>\n",
              "      <th>APPLICATION_TYPE_T19</th>\n",
              "      <th>APPLICATION_TYPE_T3</th>\n",
              "      <th>APPLICATION_TYPE_T4</th>\n",
              "      <th>APPLICATION_TYPE_T5</th>\n",
              "      <th>APPLICATION_TYPE_T6</th>\n",
              "      <th>...</th>\n",
              "      <th>INCOME_AMT_1-9999</th>\n",
              "      <th>INCOME_AMT_10000-24999</th>\n",
              "      <th>INCOME_AMT_100000-499999</th>\n",
              "      <th>INCOME_AMT_10M-50M</th>\n",
              "      <th>INCOME_AMT_1M-5M</th>\n",
              "      <th>INCOME_AMT_25000-99999</th>\n",
              "      <th>INCOME_AMT_50M+</th>\n",
              "      <th>INCOME_AMT_5M-10M</th>\n",
              "      <th>SPECIAL_CONSIDERATIONS_N</th>\n",
              "      <th>SPECIAL_CONSIDERATIONS_Y</th>\n",
              "    </tr>\n",
              "  </thead>\n",
              "  <tbody>\n",
              "    <tr>\n",
              "      <th>0</th>\n",
              "      <td>1</td>\n",
              "      <td>5000</td>\n",
              "      <td>1</td>\n",
              "      <td>0</td>\n",
              "      <td>1</td>\n",
              "      <td>0</td>\n",
              "      <td>0</td>\n",
              "      <td>0</td>\n",
              "      <td>0</td>\n",
              "      <td>0</td>\n",
              "      <td>...</td>\n",
              "      <td>0</td>\n",
              "      <td>0</td>\n",
              "      <td>0</td>\n",
              "      <td>0</td>\n",
              "      <td>0</td>\n",
              "      <td>0</td>\n",
              "      <td>0</td>\n",
              "      <td>0</td>\n",
              "      <td>1</td>\n",
              "      <td>0</td>\n",
              "    </tr>\n",
              "    <tr>\n",
              "      <th>1</th>\n",
              "      <td>1</td>\n",
              "      <td>108590</td>\n",
              "      <td>1</td>\n",
              "      <td>0</td>\n",
              "      <td>0</td>\n",
              "      <td>0</td>\n",
              "      <td>1</td>\n",
              "      <td>0</td>\n",
              "      <td>0</td>\n",
              "      <td>0</td>\n",
              "      <td>...</td>\n",
              "      <td>1</td>\n",
              "      <td>0</td>\n",
              "      <td>0</td>\n",
              "      <td>0</td>\n",
              "      <td>0</td>\n",
              "      <td>0</td>\n",
              "      <td>0</td>\n",
              "      <td>0</td>\n",
              "      <td>1</td>\n",
              "      <td>0</td>\n",
              "    </tr>\n",
              "    <tr>\n",
              "      <th>2</th>\n",
              "      <td>1</td>\n",
              "      <td>5000</td>\n",
              "      <td>0</td>\n",
              "      <td>0</td>\n",
              "      <td>0</td>\n",
              "      <td>0</td>\n",
              "      <td>0</td>\n",
              "      <td>0</td>\n",
              "      <td>1</td>\n",
              "      <td>0</td>\n",
              "      <td>...</td>\n",
              "      <td>0</td>\n",
              "      <td>0</td>\n",
              "      <td>0</td>\n",
              "      <td>0</td>\n",
              "      <td>0</td>\n",
              "      <td>0</td>\n",
              "      <td>0</td>\n",
              "      <td>0</td>\n",
              "      <td>1</td>\n",
              "      <td>0</td>\n",
              "    </tr>\n",
              "    <tr>\n",
              "      <th>3</th>\n",
              "      <td>1</td>\n",
              "      <td>6692</td>\n",
              "      <td>1</td>\n",
              "      <td>0</td>\n",
              "      <td>0</td>\n",
              "      <td>0</td>\n",
              "      <td>1</td>\n",
              "      <td>0</td>\n",
              "      <td>0</td>\n",
              "      <td>0</td>\n",
              "      <td>...</td>\n",
              "      <td>0</td>\n",
              "      <td>1</td>\n",
              "      <td>0</td>\n",
              "      <td>0</td>\n",
              "      <td>0</td>\n",
              "      <td>0</td>\n",
              "      <td>0</td>\n",
              "      <td>0</td>\n",
              "      <td>1</td>\n",
              "      <td>0</td>\n",
              "    </tr>\n",
              "    <tr>\n",
              "      <th>4</th>\n",
              "      <td>1</td>\n",
              "      <td>142590</td>\n",
              "      <td>1</td>\n",
              "      <td>0</td>\n",
              "      <td>0</td>\n",
              "      <td>0</td>\n",
              "      <td>1</td>\n",
              "      <td>0</td>\n",
              "      <td>0</td>\n",
              "      <td>0</td>\n",
              "      <td>...</td>\n",
              "      <td>0</td>\n",
              "      <td>0</td>\n",
              "      <td>1</td>\n",
              "      <td>0</td>\n",
              "      <td>0</td>\n",
              "      <td>0</td>\n",
              "      <td>0</td>\n",
              "      <td>0</td>\n",
              "      <td>1</td>\n",
              "      <td>0</td>\n",
              "    </tr>\n",
              "  </tbody>\n",
              "</table>\n",
              "<p>5 rows × 45 columns</p>\n",
              "</div>\n",
              "      <button class=\"colab-df-convert\" onclick=\"convertToInteractive('df-69e304b0-a3f2-452b-af03-089fa34fba79')\"\n",
              "              title=\"Convert this dataframe to an interactive table.\"\n",
              "              style=\"display:none;\">\n",
              "        \n",
              "  <svg xmlns=\"http://www.w3.org/2000/svg\" height=\"24px\"viewBox=\"0 0 24 24\"\n",
              "       width=\"24px\">\n",
              "    <path d=\"M0 0h24v24H0V0z\" fill=\"none\"/>\n",
              "    <path d=\"M18.56 5.44l.94 2.06.94-2.06 2.06-.94-2.06-.94-.94-2.06-.94 2.06-2.06.94zm-11 1L8.5 8.5l.94-2.06 2.06-.94-2.06-.94L8.5 2.5l-.94 2.06-2.06.94zm10 10l.94 2.06.94-2.06 2.06-.94-2.06-.94-.94-2.06-.94 2.06-2.06.94z\"/><path d=\"M17.41 7.96l-1.37-1.37c-.4-.4-.92-.59-1.43-.59-.52 0-1.04.2-1.43.59L10.3 9.45l-7.72 7.72c-.78.78-.78 2.05 0 2.83L4 21.41c.39.39.9.59 1.41.59.51 0 1.02-.2 1.41-.59l7.78-7.78 2.81-2.81c.8-.78.8-2.07 0-2.86zM5.41 20L4 18.59l7.72-7.72 1.47 1.35L5.41 20z\"/>\n",
              "  </svg>\n",
              "      </button>\n",
              "      \n",
              "  <style>\n",
              "    .colab-df-container {\n",
              "      display:flex;\n",
              "      flex-wrap:wrap;\n",
              "      gap: 12px;\n",
              "    }\n",
              "\n",
              "    .colab-df-convert {\n",
              "      background-color: #E8F0FE;\n",
              "      border: none;\n",
              "      border-radius: 50%;\n",
              "      cursor: pointer;\n",
              "      display: none;\n",
              "      fill: #1967D2;\n",
              "      height: 32px;\n",
              "      padding: 0 0 0 0;\n",
              "      width: 32px;\n",
              "    }\n",
              "\n",
              "    .colab-df-convert:hover {\n",
              "      background-color: #E2EBFA;\n",
              "      box-shadow: 0px 1px 2px rgba(60, 64, 67, 0.3), 0px 1px 3px 1px rgba(60, 64, 67, 0.15);\n",
              "      fill: #174EA6;\n",
              "    }\n",
              "\n",
              "    [theme=dark] .colab-df-convert {\n",
              "      background-color: #3B4455;\n",
              "      fill: #D2E3FC;\n",
              "    }\n",
              "\n",
              "    [theme=dark] .colab-df-convert:hover {\n",
              "      background-color: #434B5C;\n",
              "      box-shadow: 0px 1px 3px 1px rgba(0, 0, 0, 0.15);\n",
              "      filter: drop-shadow(0px 1px 2px rgba(0, 0, 0, 0.3));\n",
              "      fill: #FFFFFF;\n",
              "    }\n",
              "  </style>\n",
              "\n",
              "      <script>\n",
              "        const buttonEl =\n",
              "          document.querySelector('#df-69e304b0-a3f2-452b-af03-089fa34fba79 button.colab-df-convert');\n",
              "        buttonEl.style.display =\n",
              "          google.colab.kernel.accessAllowed ? 'block' : 'none';\n",
              "\n",
              "        async function convertToInteractive(key) {\n",
              "          const element = document.querySelector('#df-69e304b0-a3f2-452b-af03-089fa34fba79');\n",
              "          const dataTable =\n",
              "            await google.colab.kernel.invokeFunction('convertToInteractive',\n",
              "                                                     [key], {});\n",
              "          if (!dataTable) return;\n",
              "\n",
              "          const docLinkHtml = 'Like what you see? Visit the ' +\n",
              "            '<a target=\"_blank\" href=https://colab.research.google.com/notebooks/data_table.ipynb>data table notebook</a>'\n",
              "            + ' to learn more about interactive tables.';\n",
              "          element.innerHTML = '';\n",
              "          dataTable['output_type'] = 'display_data';\n",
              "          await google.colab.output.renderOutput(dataTable, element);\n",
              "          const docLink = document.createElement('div');\n",
              "          docLink.innerHTML = docLinkHtml;\n",
              "          element.appendChild(docLink);\n",
              "        }\n",
              "      </script>\n",
              "    </div>\n",
              "  </div>\n",
              "  "
            ]
          },
          "metadata": {},
          "execution_count": 9
        }
      ],
      "source": [
        "# Convert categorical data to numeric with `pd.get_dummies`\n",
        "dummy_application_df = pd.get_dummies(application_df)\n",
        "dummy_application_df.head(5)"
      ]
    },
    {
      "cell_type": "code",
      "execution_count": 10,
      "metadata": {
        "id": "wJGDsOGCKvyh"
      },
      "outputs": [],
      "source": [
        "# Split our preprocessed data into our features and target arrays\n",
        "X = dummy_application_df.drop('IS_SUCCESSFUL', axis=1)\n",
        "y = dummy_application_df['IS_SUCCESSFUL']\n",
        "\n",
        "# Split the preprocessed data into a training and testing dataset\n",
        "X_train, X_test, y_train, y_test = train_test_split(X, y, test_size=0.25, random_state=1)"
      ]
    },
    {
      "cell_type": "code",
      "execution_count": 11,
      "metadata": {
        "id": "Efcr1-JmKvyi"
      },
      "outputs": [],
      "source": [
        "# Create a StandardScaler instances\n",
        "scaler = StandardScaler()\n",
        "\n",
        "# Fit the StandardScaler\n",
        "X_scaler = scaler.fit(X_train)\n",
        "\n",
        "# Scale the data\n",
        "X_train_scaled = X_scaler.transform(X_train)\n",
        "X_test_scaled = X_scaler.transform(X_test)"
      ]
    },
    {
      "cell_type": "markdown",
      "metadata": {
        "id": "f6R2N6DhKvyi"
      },
      "source": [
        "## Compile, Train and Evaluate the Model"
      ]
    },
    {
      "cell_type": "code",
      "source": [
        "# Define the filepath for saving the weights\n",
        "checkpoint_filepath = 'weights_checkpoint.h5'"
      ],
      "metadata": {
        "id": "LiS9adGL_-_5"
      },
      "execution_count": 12,
      "outputs": []
    },
    {
      "cell_type": "code",
      "source": [
        "# Create the ModelCheckpoint callback\n",
        "checkpoint_callback = ModelCheckpoint(\n",
        "    filepath=checkpoint_filepath,\n",
        "    save_weights_only=True,\n",
        "    save_freq='epoch',\n",
        "    period=5\n",
        ")"
      ],
      "metadata": {
        "id": "MNmhmP0jACdS",
        "outputId": "5f89e77b-05f1-402e-c2da-aaf789bff74b",
        "colab": {
          "base_uri": "https://localhost:8080/"
        }
      },
      "execution_count": 13,
      "outputs": [
        {
          "output_type": "stream",
          "name": "stderr",
          "text": [
            "WARNING:tensorflow:`period` argument is deprecated. Please use `save_freq` to specify the frequency in number of batches seen.\n"
          ]
        }
      ]
    },
    {
      "cell_type": "code",
      "source": [
        "# Define the model\n",
        "nn_default = tf.keras.models.Sequential()\n",
        "\n",
        "# First hidden layer\n",
        "nn_default.add(tf.keras.layers.Dense(units=80, activation='relu', input_dim=X_train_scaled.shape[1]))\n",
        "\n",
        "# Second hidden layer\n",
        "nn_default.add(tf.keras.layers.Dense(units=30, activation='relu'))\n",
        "\n",
        "# Output layer\n",
        "nn_default.add(tf.keras.layers.Dense(units=1, activation='sigmoid'))\n",
        "\n",
        "# Check the structure of the model\n",
        "nn_default.summary()"
      ],
      "metadata": {
        "colab": {
          "base_uri": "https://localhost:8080/"
        },
        "id": "Jus_tAcUG9NY",
        "outputId": "6f7b7885-7670-4cb1-bb50-1096d8851d08"
      },
      "execution_count": 14,
      "outputs": [
        {
          "output_type": "stream",
          "name": "stdout",
          "text": [
            "Model: \"sequential\"\n",
            "_________________________________________________________________\n",
            " Layer (type)                Output Shape              Param #   \n",
            "=================================================================\n",
            " dense (Dense)               (None, 80)                3600      \n",
            "                                                                 \n",
            " dense_1 (Dense)             (None, 30)                2430      \n",
            "                                                                 \n",
            " dense_2 (Dense)             (None, 1)                 31        \n",
            "                                                                 \n",
            "=================================================================\n",
            "Total params: 6,061\n",
            "Trainable params: 6,061\n",
            "Non-trainable params: 0\n",
            "_________________________________________________________________\n"
          ]
        }
      ]
    },
    {
      "cell_type": "code",
      "source": [
        "# Compile the model\n",
        "nn_default.compile(loss='binary_crossentropy', optimizer='adam', metrics=['accuracy'])"
      ],
      "metadata": {
        "id": "Yk983jUXHRDO"
      },
      "execution_count": 15,
      "outputs": []
    },
    {
      "cell_type": "code",
      "source": [
        "# Train the model\n",
        "history = nn_default.fit(X_train_scaled, y_train, epochs=100, verbose=2, batch_size=16, callbacks=[checkpoint_callback])"
      ],
      "metadata": {
        "colab": {
          "base_uri": "https://localhost:8080/"
        },
        "id": "Su23pDasHScw",
        "outputId": "e650ee28-c720-4f82-d1ea-7ad4f429cdf3"
      },
      "execution_count": 16,
      "outputs": [
        {
          "output_type": "stream",
          "name": "stdout",
          "text": [
            "Epoch 1/100\n",
            "1608/1608 - 4s - loss: 0.5698 - accuracy: 0.7220 - 4s/epoch - 3ms/step\n",
            "Epoch 2/100\n",
            "1608/1608 - 3s - loss: 0.5536 - accuracy: 0.7273 - 3s/epoch - 2ms/step\n",
            "Epoch 3/100\n",
            "1608/1608 - 4s - loss: 0.5514 - accuracy: 0.7285 - 4s/epoch - 2ms/step\n",
            "Epoch 4/100\n",
            "1608/1608 - 4s - loss: 0.5494 - accuracy: 0.7323 - 4s/epoch - 3ms/step\n",
            "Epoch 5/100\n",
            "1608/1608 - 5s - loss: 0.5475 - accuracy: 0.7326 - 5s/epoch - 3ms/step\n",
            "Epoch 6/100\n",
            "1608/1608 - 4s - loss: 0.5474 - accuracy: 0.7325 - 4s/epoch - 2ms/step\n",
            "Epoch 7/100\n",
            "1608/1608 - 4s - loss: 0.5468 - accuracy: 0.7336 - 4s/epoch - 3ms/step\n",
            "Epoch 8/100\n",
            "1608/1608 - 4s - loss: 0.5454 - accuracy: 0.7339 - 4s/epoch - 3ms/step\n",
            "Epoch 9/100\n",
            "1608/1608 - 4s - loss: 0.5449 - accuracy: 0.7342 - 4s/epoch - 3ms/step\n",
            "Epoch 10/100\n",
            "1608/1608 - 4s - loss: 0.5448 - accuracy: 0.7348 - 4s/epoch - 2ms/step\n",
            "Epoch 11/100\n",
            "1608/1608 - 3s - loss: 0.5435 - accuracy: 0.7356 - 3s/epoch - 2ms/step\n",
            "Epoch 12/100\n",
            "1608/1608 - 2s - loss: 0.5438 - accuracy: 0.7350 - 2s/epoch - 1ms/step\n",
            "Epoch 13/100\n",
            "1608/1608 - 2s - loss: 0.5434 - accuracy: 0.7343 - 2s/epoch - 1ms/step\n",
            "Epoch 14/100\n",
            "1608/1608 - 2s - loss: 0.5432 - accuracy: 0.7353 - 2s/epoch - 1ms/step\n",
            "Epoch 15/100\n",
            "1608/1608 - 2s - loss: 0.5423 - accuracy: 0.7361 - 2s/epoch - 1ms/step\n",
            "Epoch 16/100\n",
            "1608/1608 - 3s - loss: 0.5425 - accuracy: 0.7359 - 3s/epoch - 2ms/step\n",
            "Epoch 17/100\n",
            "1608/1608 - 2s - loss: 0.5420 - accuracy: 0.7360 - 2s/epoch - 1ms/step\n",
            "Epoch 18/100\n",
            "1608/1608 - 2s - loss: 0.5419 - accuracy: 0.7370 - 2s/epoch - 1ms/step\n",
            "Epoch 19/100\n",
            "1608/1608 - 2s - loss: 0.5416 - accuracy: 0.7370 - 2s/epoch - 1ms/step\n",
            "Epoch 20/100\n",
            "1608/1608 - 2s - loss: 0.5414 - accuracy: 0.7372 - 2s/epoch - 1ms/step\n",
            "Epoch 21/100\n",
            "1608/1608 - 2s - loss: 0.5409 - accuracy: 0.7373 - 2s/epoch - 1ms/step\n",
            "Epoch 22/100\n",
            "1608/1608 - 3s - loss: 0.5412 - accuracy: 0.7360 - 3s/epoch - 2ms/step\n",
            "Epoch 23/100\n",
            "1608/1608 - 2s - loss: 0.5409 - accuracy: 0.7373 - 2s/epoch - 1ms/step\n",
            "Epoch 24/100\n",
            "1608/1608 - 2s - loss: 0.5407 - accuracy: 0.7366 - 2s/epoch - 1ms/step\n",
            "Epoch 25/100\n",
            "1608/1608 - 2s - loss: 0.5405 - accuracy: 0.7372 - 2s/epoch - 1ms/step\n",
            "Epoch 26/100\n",
            "1608/1608 - 2s - loss: 0.5401 - accuracy: 0.7368 - 2s/epoch - 1ms/step\n",
            "Epoch 27/100\n",
            "1608/1608 - 3s - loss: 0.5401 - accuracy: 0.7377 - 3s/epoch - 2ms/step\n",
            "Epoch 28/100\n",
            "1608/1608 - 2s - loss: 0.5394 - accuracy: 0.7371 - 2s/epoch - 1ms/step\n",
            "Epoch 29/100\n",
            "1608/1608 - 2s - loss: 0.5395 - accuracy: 0.7381 - 2s/epoch - 1ms/step\n",
            "Epoch 30/100\n",
            "1608/1608 - 2s - loss: 0.5393 - accuracy: 0.7366 - 2s/epoch - 1ms/step\n",
            "Epoch 31/100\n",
            "1608/1608 - 2s - loss: 0.5394 - accuracy: 0.7379 - 2s/epoch - 1ms/step\n",
            "Epoch 32/100\n",
            "1608/1608 - 2s - loss: 0.5392 - accuracy: 0.7385 - 2s/epoch - 1ms/step\n",
            "Epoch 33/100\n",
            "1608/1608 - 3s - loss: 0.5394 - accuracy: 0.7377 - 3s/epoch - 2ms/step\n",
            "Epoch 34/100\n",
            "1608/1608 - 2s - loss: 0.5389 - accuracy: 0.7372 - 2s/epoch - 1ms/step\n",
            "Epoch 35/100\n",
            "1608/1608 - 2s - loss: 0.5384 - accuracy: 0.7384 - 2s/epoch - 1ms/step\n",
            "Epoch 36/100\n",
            "1608/1608 - 2s - loss: 0.5389 - accuracy: 0.7378 - 2s/epoch - 1ms/step\n",
            "Epoch 37/100\n",
            "1608/1608 - 2s - loss: 0.5386 - accuracy: 0.7375 - 2s/epoch - 1ms/step\n",
            "Epoch 38/100\n",
            "1608/1608 - 3s - loss: 0.5382 - accuracy: 0.7384 - 3s/epoch - 2ms/step\n",
            "Epoch 39/100\n",
            "1608/1608 - 3s - loss: 0.5380 - accuracy: 0.7392 - 3s/epoch - 2ms/step\n",
            "Epoch 40/100\n",
            "1608/1608 - 2s - loss: 0.5382 - accuracy: 0.7385 - 2s/epoch - 1ms/step\n",
            "Epoch 41/100\n",
            "1608/1608 - 2s - loss: 0.5376 - accuracy: 0.7385 - 2s/epoch - 1ms/step\n",
            "Epoch 42/100\n",
            "1608/1608 - 2s - loss: 0.5377 - accuracy: 0.7382 - 2s/epoch - 1ms/step\n",
            "Epoch 43/100\n",
            "1608/1608 - 2s - loss: 0.5374 - accuracy: 0.7392 - 2s/epoch - 1ms/step\n",
            "Epoch 44/100\n",
            "1608/1608 - 3s - loss: 0.5378 - accuracy: 0.7384 - 3s/epoch - 2ms/step\n",
            "Epoch 45/100\n",
            "1608/1608 - 2s - loss: 0.5376 - accuracy: 0.7390 - 2s/epoch - 1ms/step\n",
            "Epoch 46/100\n",
            "1608/1608 - 2s - loss: 0.5379 - accuracy: 0.7383 - 2s/epoch - 1ms/step\n",
            "Epoch 47/100\n",
            "1608/1608 - 2s - loss: 0.5375 - accuracy: 0.7389 - 2s/epoch - 1ms/step\n",
            "Epoch 48/100\n",
            "1608/1608 - 2s - loss: 0.5369 - accuracy: 0.7387 - 2s/epoch - 1ms/step\n",
            "Epoch 49/100\n",
            "1608/1608 - 2s - loss: 0.5373 - accuracy: 0.7389 - 2s/epoch - 2ms/step\n",
            "Epoch 50/100\n",
            "1608/1608 - 3s - loss: 0.5367 - accuracy: 0.7396 - 3s/epoch - 2ms/step\n",
            "Epoch 51/100\n",
            "1608/1608 - 2s - loss: 0.5367 - accuracy: 0.7390 - 2s/epoch - 1ms/step\n",
            "Epoch 52/100\n",
            "1608/1608 - 2s - loss: 0.5365 - accuracy: 0.7386 - 2s/epoch - 1ms/step\n",
            "Epoch 53/100\n",
            "1608/1608 - 3s - loss: 0.5365 - accuracy: 0.7391 - 3s/epoch - 2ms/step\n",
            "Epoch 54/100\n",
            "1608/1608 - 3s - loss: 0.5367 - accuracy: 0.7393 - 3s/epoch - 2ms/step\n",
            "Epoch 55/100\n",
            "1608/1608 - 2s - loss: 0.5364 - accuracy: 0.7389 - 2s/epoch - 2ms/step\n",
            "Epoch 56/100\n",
            "1608/1608 - 2s - loss: 0.5369 - accuracy: 0.7384 - 2s/epoch - 1ms/step\n",
            "Epoch 57/100\n",
            "1608/1608 - 2s - loss: 0.5368 - accuracy: 0.7387 - 2s/epoch - 1ms/step\n",
            "Epoch 58/100\n",
            "1608/1608 - 2s - loss: 0.5366 - accuracy: 0.7386 - 2s/epoch - 1ms/step\n",
            "Epoch 59/100\n",
            "1608/1608 - 2s - loss: 0.5368 - accuracy: 0.7388 - 2s/epoch - 1ms/step\n",
            "Epoch 60/100\n",
            "1608/1608 - 3s - loss: 0.5359 - accuracy: 0.7388 - 3s/epoch - 2ms/step\n",
            "Epoch 61/100\n",
            "1608/1608 - 2s - loss: 0.5361 - accuracy: 0.7395 - 2s/epoch - 1ms/step\n",
            "Epoch 62/100\n",
            "1608/1608 - 2s - loss: 0.5362 - accuracy: 0.7397 - 2s/epoch - 1ms/step\n",
            "Epoch 63/100\n",
            "1608/1608 - 2s - loss: 0.5357 - accuracy: 0.7391 - 2s/epoch - 1ms/step\n",
            "Epoch 64/100\n",
            "1608/1608 - 2s - loss: 0.5361 - accuracy: 0.7386 - 2s/epoch - 1ms/step\n",
            "Epoch 65/100\n",
            "1608/1608 - 2s - loss: 0.5354 - accuracy: 0.7390 - 2s/epoch - 2ms/step\n",
            "Epoch 66/100\n",
            "1608/1608 - 3s - loss: 0.5366 - accuracy: 0.7388 - 3s/epoch - 2ms/step\n",
            "Epoch 67/100\n",
            "1608/1608 - 2s - loss: 0.5355 - accuracy: 0.7392 - 2s/epoch - 1ms/step\n",
            "Epoch 68/100\n",
            "1608/1608 - 2s - loss: 0.5356 - accuracy: 0.7390 - 2s/epoch - 1ms/step\n",
            "Epoch 69/100\n",
            "1608/1608 - 2s - loss: 0.5356 - accuracy: 0.7393 - 2s/epoch - 1ms/step\n",
            "Epoch 70/100\n",
            "1608/1608 - 2s - loss: 0.5355 - accuracy: 0.7393 - 2s/epoch - 1ms/step\n",
            "Epoch 71/100\n",
            "1608/1608 - 3s - loss: 0.5355 - accuracy: 0.7386 - 3s/epoch - 2ms/step\n",
            "Epoch 72/100\n",
            "1608/1608 - 2s - loss: 0.5356 - accuracy: 0.7388 - 2s/epoch - 1ms/step\n",
            "Epoch 73/100\n",
            "1608/1608 - 2s - loss: 0.5355 - accuracy: 0.7388 - 2s/epoch - 1ms/step\n",
            "Epoch 74/100\n",
            "1608/1608 - 2s - loss: 0.5355 - accuracy: 0.7393 - 2s/epoch - 1ms/step\n",
            "Epoch 75/100\n",
            "1608/1608 - 2s - loss: 0.5354 - accuracy: 0.7393 - 2s/epoch - 1ms/step\n",
            "Epoch 76/100\n",
            "1608/1608 - 2s - loss: 0.5347 - accuracy: 0.7392 - 2s/epoch - 1ms/step\n",
            "Epoch 77/100\n",
            "1608/1608 - 3s - loss: 0.5362 - accuracy: 0.7392 - 3s/epoch - 2ms/step\n",
            "Epoch 78/100\n",
            "1608/1608 - 2s - loss: 0.5355 - accuracy: 0.7397 - 2s/epoch - 1ms/step\n",
            "Epoch 79/100\n",
            "1608/1608 - 2s - loss: 0.5356 - accuracy: 0.7391 - 2s/epoch - 1ms/step\n",
            "Epoch 80/100\n",
            "1608/1608 - 2s - loss: 0.5351 - accuracy: 0.7398 - 2s/epoch - 1ms/step\n",
            "Epoch 81/100\n",
            "1608/1608 - 2s - loss: 0.5351 - accuracy: 0.7394 - 2s/epoch - 1ms/step\n",
            "Epoch 82/100\n",
            "1608/1608 - 3s - loss: 0.5348 - accuracy: 0.7400 - 3s/epoch - 2ms/step\n",
            "Epoch 83/100\n",
            "1608/1608 - 2s - loss: 0.5349 - accuracy: 0.7390 - 2s/epoch - 1ms/step\n",
            "Epoch 84/100\n",
            "1608/1608 - 2s - loss: 0.5348 - accuracy: 0.7390 - 2s/epoch - 1ms/step\n",
            "Epoch 85/100\n",
            "1608/1608 - 2s - loss: 0.5346 - accuracy: 0.7400 - 2s/epoch - 1ms/step\n",
            "Epoch 86/100\n",
            "1608/1608 - 2s - loss: 0.5351 - accuracy: 0.7393 - 2s/epoch - 1ms/step\n",
            "Epoch 87/100\n",
            "1608/1608 - 2s - loss: 0.5342 - accuracy: 0.7396 - 2s/epoch - 1ms/step\n",
            "Epoch 88/100\n",
            "1608/1608 - 3s - loss: 0.5345 - accuracy: 0.7390 - 3s/epoch - 2ms/step\n",
            "Epoch 89/100\n",
            "1608/1608 - 2s - loss: 0.5345 - accuracy: 0.7403 - 2s/epoch - 1ms/step\n",
            "Epoch 90/100\n",
            "1608/1608 - 2s - loss: 0.5346 - accuracy: 0.7393 - 2s/epoch - 1ms/step\n",
            "Epoch 91/100\n",
            "1608/1608 - 2s - loss: 0.5345 - accuracy: 0.7393 - 2s/epoch - 1ms/step\n",
            "Epoch 92/100\n",
            "1608/1608 - 2s - loss: 0.5343 - accuracy: 0.7399 - 2s/epoch - 1ms/step\n",
            "Epoch 93/100\n",
            "1608/1608 - 3s - loss: 0.5347 - accuracy: 0.7404 - 3s/epoch - 2ms/step\n",
            "Epoch 94/100\n",
            "1608/1608 - 3s - loss: 0.5365 - accuracy: 0.7395 - 3s/epoch - 2ms/step\n",
            "Epoch 95/100\n",
            "1608/1608 - 2s - loss: 0.5347 - accuracy: 0.7400 - 2s/epoch - 1ms/step\n",
            "Epoch 96/100\n",
            "1608/1608 - 2s - loss: 0.5341 - accuracy: 0.7395 - 2s/epoch - 1ms/step\n",
            "Epoch 97/100\n",
            "1608/1608 - 2s - loss: 0.5343 - accuracy: 0.7391 - 2s/epoch - 1ms/step\n",
            "Epoch 98/100\n",
            "1608/1608 - 2s - loss: 0.5350 - accuracy: 0.7402 - 2s/epoch - 1ms/step\n",
            "Epoch 99/100\n",
            "1608/1608 - 3s - loss: 0.5343 - accuracy: 0.7392 - 3s/epoch - 2ms/step\n",
            "Epoch 100/100\n",
            "1608/1608 - 2s - loss: 0.5347 - accuracy: 0.7400 - 2s/epoch - 1ms/step\n"
          ]
        }
      ]
    },
    {
      "cell_type": "code",
      "source": [
        "# Evaluate the model using the test data\n",
        "model_loss, model_accuracy = nn_default.evaluate(X_test_scaled,y_test,verbose=1, batch_size=16)\n",
        "print(f\"Loss: {model_loss}, Accuracy: {model_accuracy}\")"
      ],
      "metadata": {
        "colab": {
          "base_uri": "https://localhost:8080/"
        },
        "id": "xY43kl55He2V",
        "outputId": "77bd642b-6709-4f13-bc28-618dbbd3c86d"
      },
      "execution_count": 17,
      "outputs": [
        {
          "output_type": "stream",
          "name": "stdout",
          "text": [
            "536/536 [==============================] - 1s 1ms/step - loss: 0.5575 - accuracy: 0.7297\n",
            "Loss: 0.5574637055397034, Accuracy: 0.72967928647995\n"
          ]
        }
      ]
    },
    {
      "cell_type": "code",
      "source": [
        "# Export our model to HDF5 file\n",
        "nn_default.save('AlphabetSoupCharity_default_no_op.h5')"
      ],
      "metadata": {
        "id": "1CtB_FLUIFzp"
      },
      "execution_count": 18,
      "outputs": []
    },
    {
      "cell_type": "markdown",
      "source": [
        "## Optimization Preprocessing Method 1 - Add/Drop Columns"
      ],
      "metadata": {
        "id": "1CWkexTq3vKu"
      }
    },
    {
      "cell_type": "code",
      "source": [
        "from sklearn.linear_model import Lasso, Ridge\n",
        "from sklearn.metrics import mean_squared_error\n",
        "\n",
        "# Make a copy of the working dataset\n",
        "application_df_dropping = application_df_copy.copy()\n",
        "\n",
        "print(\"Step 1 of 6 - Start... Samples: \", len(application_df_dropping), \" | (No dummies) Columns/Features: \", len(application_df_dropping.columns))"
      ],
      "metadata": {
        "id": "BmBESMMVASLH",
        "colab": {
          "base_uri": "https://localhost:8080/"
        },
        "outputId": "d4b2024f-48cf-4b43-fb10-aa9e25fb7607"
      },
      "execution_count": 19,
      "outputs": [
        {
          "output_type": "stream",
          "name": "stdout",
          "text": [
            "Step 1 of 6 - Start... Samples:  34299  | (No dummies) Columns/Features:  10\n"
          ]
        }
      ]
    },
    {
      "cell_type": "code",
      "source": [
        "cutoff_value = 500\n",
        "application_types_to_replace = application_df_dropping['APPLICATION_TYPE'].value_counts()[application_df_dropping['APPLICATION_TYPE'].value_counts() < cutoff_value].index.tolist()\n",
        "\n",
        "for app in application_types_to_replace:\n",
        "    application_df_dropping['APPLICATION_TYPE'] = application_df_dropping['APPLICATION_TYPE'].replace(app,\"Other\")\n",
        "\n",
        "cutoff_value2 = 500\n",
        "classifications_to_replace = application_df_dropping['CLASSIFICATION'].value_counts()[application_df_dropping['CLASSIFICATION'].value_counts() < cutoff_value2].index.tolist()\n",
        "\n",
        "for cls in classifications_to_replace:\n",
        "    application_df_dropping['CLASSIFICATION'] = application_df_dropping['CLASSIFICATION'].replace(cls,\"Other\")\n",
        "\n",
        "print(\"Step 2 of 6 - Simplify 'APPLICATION_TYPE' & 'CLASSIFICATION'... Samples: \", len(application_df_dropping), \" | (No dummies) Columns/Features: \", len(application_df_dropping.columns))"
      ],
      "metadata": {
        "id": "FPU0TZMk9MnA",
        "colab": {
          "base_uri": "https://localhost:8080/"
        },
        "outputId": "c7b83591-20fe-494c-8c2f-8aabcd2ab8c3"
      },
      "execution_count": 20,
      "outputs": [
        {
          "output_type": "stream",
          "name": "stdout",
          "text": [
            "Step 2 of 6 - Simplify 'APPLICATION_TYPE' & 'CLASSIFICATION'... Samples:  34299  | (No dummies) Columns/Features:  10\n"
          ]
        }
      ]
    },
    {
      "cell_type": "code",
      "source": [
        "dummy_working_dropping_df = pd.get_dummies(application_df_dropping)\n",
        "dummy_working_dropping_df.head(3)\n",
        "\n",
        "print(\"Step 3 of 6 - Get Dummies... Samples: \", len(dummy_working_dropping_df), \" | Columns/Features: \", len(dummy_working_dropping_df.columns))\n",
        "dummy_working_dropping_df.head(3)"
      ],
      "metadata": {
        "colab": {
          "base_uri": "https://localhost:8080/",
          "height": 271
        },
        "id": "dlcTz7TE-Eki",
        "outputId": "08f54eeb-5e1e-467b-d20a-b41a25b602fe"
      },
      "execution_count": 21,
      "outputs": [
        {
          "output_type": "stream",
          "name": "stdout",
          "text": [
            "Step 3 of 6 - Get Dummies... Samples:  34299  | Columns/Features:  45\n"
          ]
        },
        {
          "output_type": "execute_result",
          "data": {
            "text/plain": [
              "   STATUS  ASK_AMT  IS_SUCCESSFUL  APPLICATION_TYPE_Other  \\\n",
              "0       1     5000              1                       0   \n",
              "1       1   108590              1                       0   \n",
              "2       1     5000              0                       0   \n",
              "\n",
              "   APPLICATION_TYPE_T10  APPLICATION_TYPE_T19  APPLICATION_TYPE_T3  \\\n",
              "0                     1                     0                    0   \n",
              "1                     0                     0                    1   \n",
              "2                     0                     0                    0   \n",
              "\n",
              "   APPLICATION_TYPE_T4  APPLICATION_TYPE_T5  APPLICATION_TYPE_T6  ...  \\\n",
              "0                    0                    0                    0  ...   \n",
              "1                    0                    0                    0  ...   \n",
              "2                    0                    1                    0  ...   \n",
              "\n",
              "   INCOME_AMT_1-9999  INCOME_AMT_10000-24999  INCOME_AMT_100000-499999  \\\n",
              "0                  0                       0                         0   \n",
              "1                  1                       0                         0   \n",
              "2                  0                       0                         0   \n",
              "\n",
              "   INCOME_AMT_10M-50M  INCOME_AMT_1M-5M  INCOME_AMT_25000-99999  \\\n",
              "0                   0                 0                       0   \n",
              "1                   0                 0                       0   \n",
              "2                   0                 0                       0   \n",
              "\n",
              "   INCOME_AMT_50M+  INCOME_AMT_5M-10M  SPECIAL_CONSIDERATIONS_N  \\\n",
              "0                0                  0                         1   \n",
              "1                0                  0                         1   \n",
              "2                0                  0                         1   \n",
              "\n",
              "   SPECIAL_CONSIDERATIONS_Y  \n",
              "0                         0  \n",
              "1                         0  \n",
              "2                         0  \n",
              "\n",
              "[3 rows x 45 columns]"
            ],
            "text/html": [
              "\n",
              "  <div id=\"df-36ac0f27-87ef-42ec-98b8-f4c9f166bb2f\">\n",
              "    <div class=\"colab-df-container\">\n",
              "      <div>\n",
              "<style scoped>\n",
              "    .dataframe tbody tr th:only-of-type {\n",
              "        vertical-align: middle;\n",
              "    }\n",
              "\n",
              "    .dataframe tbody tr th {\n",
              "        vertical-align: top;\n",
              "    }\n",
              "\n",
              "    .dataframe thead th {\n",
              "        text-align: right;\n",
              "    }\n",
              "</style>\n",
              "<table border=\"1\" class=\"dataframe\">\n",
              "  <thead>\n",
              "    <tr style=\"text-align: right;\">\n",
              "      <th></th>\n",
              "      <th>STATUS</th>\n",
              "      <th>ASK_AMT</th>\n",
              "      <th>IS_SUCCESSFUL</th>\n",
              "      <th>APPLICATION_TYPE_Other</th>\n",
              "      <th>APPLICATION_TYPE_T10</th>\n",
              "      <th>APPLICATION_TYPE_T19</th>\n",
              "      <th>APPLICATION_TYPE_T3</th>\n",
              "      <th>APPLICATION_TYPE_T4</th>\n",
              "      <th>APPLICATION_TYPE_T5</th>\n",
              "      <th>APPLICATION_TYPE_T6</th>\n",
              "      <th>...</th>\n",
              "      <th>INCOME_AMT_1-9999</th>\n",
              "      <th>INCOME_AMT_10000-24999</th>\n",
              "      <th>INCOME_AMT_100000-499999</th>\n",
              "      <th>INCOME_AMT_10M-50M</th>\n",
              "      <th>INCOME_AMT_1M-5M</th>\n",
              "      <th>INCOME_AMT_25000-99999</th>\n",
              "      <th>INCOME_AMT_50M+</th>\n",
              "      <th>INCOME_AMT_5M-10M</th>\n",
              "      <th>SPECIAL_CONSIDERATIONS_N</th>\n",
              "      <th>SPECIAL_CONSIDERATIONS_Y</th>\n",
              "    </tr>\n",
              "  </thead>\n",
              "  <tbody>\n",
              "    <tr>\n",
              "      <th>0</th>\n",
              "      <td>1</td>\n",
              "      <td>5000</td>\n",
              "      <td>1</td>\n",
              "      <td>0</td>\n",
              "      <td>1</td>\n",
              "      <td>0</td>\n",
              "      <td>0</td>\n",
              "      <td>0</td>\n",
              "      <td>0</td>\n",
              "      <td>0</td>\n",
              "      <td>...</td>\n",
              "      <td>0</td>\n",
              "      <td>0</td>\n",
              "      <td>0</td>\n",
              "      <td>0</td>\n",
              "      <td>0</td>\n",
              "      <td>0</td>\n",
              "      <td>0</td>\n",
              "      <td>0</td>\n",
              "      <td>1</td>\n",
              "      <td>0</td>\n",
              "    </tr>\n",
              "    <tr>\n",
              "      <th>1</th>\n",
              "      <td>1</td>\n",
              "      <td>108590</td>\n",
              "      <td>1</td>\n",
              "      <td>0</td>\n",
              "      <td>0</td>\n",
              "      <td>0</td>\n",
              "      <td>1</td>\n",
              "      <td>0</td>\n",
              "      <td>0</td>\n",
              "      <td>0</td>\n",
              "      <td>...</td>\n",
              "      <td>1</td>\n",
              "      <td>0</td>\n",
              "      <td>0</td>\n",
              "      <td>0</td>\n",
              "      <td>0</td>\n",
              "      <td>0</td>\n",
              "      <td>0</td>\n",
              "      <td>0</td>\n",
              "      <td>1</td>\n",
              "      <td>0</td>\n",
              "    </tr>\n",
              "    <tr>\n",
              "      <th>2</th>\n",
              "      <td>1</td>\n",
              "      <td>5000</td>\n",
              "      <td>0</td>\n",
              "      <td>0</td>\n",
              "      <td>0</td>\n",
              "      <td>0</td>\n",
              "      <td>0</td>\n",
              "      <td>0</td>\n",
              "      <td>1</td>\n",
              "      <td>0</td>\n",
              "      <td>...</td>\n",
              "      <td>0</td>\n",
              "      <td>0</td>\n",
              "      <td>0</td>\n",
              "      <td>0</td>\n",
              "      <td>0</td>\n",
              "      <td>0</td>\n",
              "      <td>0</td>\n",
              "      <td>0</td>\n",
              "      <td>1</td>\n",
              "      <td>0</td>\n",
              "    </tr>\n",
              "  </tbody>\n",
              "</table>\n",
              "<p>3 rows × 45 columns</p>\n",
              "</div>\n",
              "      <button class=\"colab-df-convert\" onclick=\"convertToInteractive('df-36ac0f27-87ef-42ec-98b8-f4c9f166bb2f')\"\n",
              "              title=\"Convert this dataframe to an interactive table.\"\n",
              "              style=\"display:none;\">\n",
              "        \n",
              "  <svg xmlns=\"http://www.w3.org/2000/svg\" height=\"24px\"viewBox=\"0 0 24 24\"\n",
              "       width=\"24px\">\n",
              "    <path d=\"M0 0h24v24H0V0z\" fill=\"none\"/>\n",
              "    <path d=\"M18.56 5.44l.94 2.06.94-2.06 2.06-.94-2.06-.94-.94-2.06-.94 2.06-2.06.94zm-11 1L8.5 8.5l.94-2.06 2.06-.94-2.06-.94L8.5 2.5l-.94 2.06-2.06.94zm10 10l.94 2.06.94-2.06 2.06-.94-2.06-.94-.94-2.06-.94 2.06-2.06.94z\"/><path d=\"M17.41 7.96l-1.37-1.37c-.4-.4-.92-.59-1.43-.59-.52 0-1.04.2-1.43.59L10.3 9.45l-7.72 7.72c-.78.78-.78 2.05 0 2.83L4 21.41c.39.39.9.59 1.41.59.51 0 1.02-.2 1.41-.59l7.78-7.78 2.81-2.81c.8-.78.8-2.07 0-2.86zM5.41 20L4 18.59l7.72-7.72 1.47 1.35L5.41 20z\"/>\n",
              "  </svg>\n",
              "      </button>\n",
              "      \n",
              "  <style>\n",
              "    .colab-df-container {\n",
              "      display:flex;\n",
              "      flex-wrap:wrap;\n",
              "      gap: 12px;\n",
              "    }\n",
              "\n",
              "    .colab-df-convert {\n",
              "      background-color: #E8F0FE;\n",
              "      border: none;\n",
              "      border-radius: 50%;\n",
              "      cursor: pointer;\n",
              "      display: none;\n",
              "      fill: #1967D2;\n",
              "      height: 32px;\n",
              "      padding: 0 0 0 0;\n",
              "      width: 32px;\n",
              "    }\n",
              "\n",
              "    .colab-df-convert:hover {\n",
              "      background-color: #E2EBFA;\n",
              "      box-shadow: 0px 1px 2px rgba(60, 64, 67, 0.3), 0px 1px 3px 1px rgba(60, 64, 67, 0.15);\n",
              "      fill: #174EA6;\n",
              "    }\n",
              "\n",
              "    [theme=dark] .colab-df-convert {\n",
              "      background-color: #3B4455;\n",
              "      fill: #D2E3FC;\n",
              "    }\n",
              "\n",
              "    [theme=dark] .colab-df-convert:hover {\n",
              "      background-color: #434B5C;\n",
              "      box-shadow: 0px 1px 3px 1px rgba(0, 0, 0, 0.15);\n",
              "      filter: drop-shadow(0px 1px 2px rgba(0, 0, 0, 0.3));\n",
              "      fill: #FFFFFF;\n",
              "    }\n",
              "  </style>\n",
              "\n",
              "      <script>\n",
              "        const buttonEl =\n",
              "          document.querySelector('#df-36ac0f27-87ef-42ec-98b8-f4c9f166bb2f button.colab-df-convert');\n",
              "        buttonEl.style.display =\n",
              "          google.colab.kernel.accessAllowed ? 'block' : 'none';\n",
              "\n",
              "        async function convertToInteractive(key) {\n",
              "          const element = document.querySelector('#df-36ac0f27-87ef-42ec-98b8-f4c9f166bb2f');\n",
              "          const dataTable =\n",
              "            await google.colab.kernel.invokeFunction('convertToInteractive',\n",
              "                                                     [key], {});\n",
              "          if (!dataTable) return;\n",
              "\n",
              "          const docLinkHtml = 'Like what you see? Visit the ' +\n",
              "            '<a target=\"_blank\" href=https://colab.research.google.com/notebooks/data_table.ipynb>data table notebook</a>'\n",
              "            + ' to learn more about interactive tables.';\n",
              "          element.innerHTML = '';\n",
              "          dataTable['output_type'] = 'display_data';\n",
              "          await google.colab.output.renderOutput(dataTable, element);\n",
              "          const docLink = document.createElement('div');\n",
              "          docLink.innerHTML = docLinkHtml;\n",
              "          element.appendChild(docLink);\n",
              "        }\n",
              "      </script>\n",
              "    </div>\n",
              "  </div>\n",
              "  "
            ]
          },
          "metadata": {},
          "execution_count": 21
        }
      ]
    },
    {
      "cell_type": "code",
      "source": [
        "import numpy as np\n",
        "import matplotlib.pyplot as plt\n",
        "\n",
        "fig1, ax1 = plt.subplots()\n",
        "ax1.set_title('Dataset Asking Amounts')\n",
        "ax1.set_ylabel('Amount $')\n",
        "ax1.set_xlabel('Spead')\n",
        "ax1.boxplot(dummy_working_dropping_df['ASK_AMT'])\n",
        "plt.show()"
      ],
      "metadata": {
        "colab": {
          "base_uri": "https://localhost:8080/",
          "height": 472
        },
        "id": "ams5WCDPmt1F",
        "outputId": "d9587987-cde0-4dee-bba5-cdb7e22719ea"
      },
      "execution_count": 22,
      "outputs": [
        {
          "output_type": "display_data",
          "data": {
            "text/plain": [
              "<Figure size 640x480 with 1 Axes>"
            ],
            "image/png": "[encoded data removed]"
          },
          "metadata": {}
        }
      ]
    },
    {
      "cell_type": "code",
      "source": [
        "# Determine which data points are outside of the 1.5*IQR range\n",
        "quartiles = np.quantile(dummy_working_dropping_df['ASK_AMT'],[.25,.75])\n",
        "iqr = quartiles[1]-quartiles[0]\n",
        "lower_bound = quartiles[0]-(1.45*iqr)\n",
        "upper_bound = quartiles[1]+(1.45*iqr)\n",
        "print(\"Lower boundry: \", lower_bound, \" | Upper boundry: \", upper_bound)\n",
        "\n",
        "potential_outliers = [AMT for AMT in dummy_working_dropping_df['ASK_AMT'] if AMT < lower_bound or AMT > upper_bound]\n",
        "print(\"Samples in dataset prior to outlier removal: \" + str(len(dummy_working_dropping_df['ASK_AMT'])))\n",
        "print(\"After outlier removal: \" + str(len(dummy_working_dropping_df['ASK_AMT']) - len(potential_outliers)))"
      ],
      "metadata": {
        "colab": {
          "base_uri": "https://localhost:8080/"
        },
        "id": "ayCmqys2nW-Y",
        "outputId": "cdf28f84-6653-4cd6-faac-5b5c6dd491a9"
      },
      "execution_count": 23,
      "outputs": [
        {
          "output_type": "stream",
          "name": "stdout",
          "text": [
            "Lower boundry:  1024.1  | Upper boundry:  11717.9\n",
            "Samples in dataset prior to outlier removal: 34299\n",
            "After outlier removal: 26078\n"
          ]
        }
      ]
    },
    {
      "cell_type": "code",
      "source": [
        "# Drop the unnecessary rows from the dataset\n",
        "condensed_data = dummy_working_dropping_df[~dummy_working_dropping_df['ASK_AMT'].isin(potential_outliers)]\n",
        "print(\"Step 4 of 6 - Remove rows where 'ASK_AMT' is an outlier... Samples: \", len(condensed_data), \" | Columns/Features: \", len(condensed_data.columns))"
      ],
      "metadata": {
        "colab": {
          "base_uri": "https://localhost:8080/"
        },
        "id": "qoK1Lubep9Gk",
        "outputId": "18c7bacd-a9ce-4f60-c2b3-c237ff35d563"
      },
      "execution_count": 24,
      "outputs": [
        {
          "output_type": "stream",
          "name": "stdout",
          "text": [
            "Step 4 of 6 - Remove rows where 'ASK_AMT' is an outlier... Samples:  26078  | Columns/Features:  45\n"
          ]
        }
      ]
    },
    {
      "cell_type": "code",
      "source": [
        "X_dropping = condensed_data.drop('IS_SUCCESSFUL', axis=1)\n",
        "y_dropping = condensed_data['IS_SUCCESSFUL']\n",
        "\n",
        "X_train_column_drop, X_test_column_drop, y_train_column_drop, y_test_column_drop = train_test_split(X_dropping, y_dropping, test_size=0.25, random_state=1)\n",
        "\n",
        "print(\"Step 5 of 6 - Split training and testing samples... Samples: \", len(X_train_column_drop), \" | Columns/Features: \", len(X_train_column_drop.columns))"
      ],
      "metadata": {
        "id": "X5hBrH0y-oQ3",
        "colab": {
          "base_uri": "https://localhost:8080/"
        },
        "outputId": "f2b0c825-ce31-4198-e0d0-59e468126aa9"
      },
      "execution_count": 25,
      "outputs": [
        {
          "output_type": "stream",
          "name": "stdout",
          "text": [
            "Step 5 of 6 - Split training and testing samples... Samples:  19558  | Columns/Features:  44\n"
          ]
        }
      ]
    },
    {
      "cell_type": "code",
      "source": [
        "# Create a Lasso model\n",
        "lasso_model = Lasso(alpha=0.1)  # Adjust the alpha parameter for regularization strength\n",
        "lasso_model.fit(X_train_column_drop, y_train_column_drop)\n",
        "\n",
        "lasso_predictions = lasso_model.predict(X_test_column_drop)\n",
        "lasso_rmse = mean_squared_error(y_test_column_drop, lasso_predictions, squared=False)\n",
        "print(\"Lasso RMSE:\", lasso_rmse)\n",
        "\n",
        "# Create a Ridge model\n",
        "ridge_model = Ridge(alpha=0.1)  # Adjust the alpha parameter for regularization strength\n",
        "ridge_model.fit(X_train_column_drop, y_train_column_drop)\n",
        "\n",
        "ridge_predictions = ridge_model.predict(X_test_column_drop)\n",
        "ridge_rmse = mean_squared_error(y_test_column_drop, ridge_predictions, squared=False)\n",
        "print(\"Ridge RMSE:\", ridge_rmse)\n",
        "\n",
        "print(\"- - -\")\n",
        "\n",
        "lasso_coeffs = lasso_model.coef_\n",
        "ridge_coeffs = ridge_model.coef_\n",
        "\n",
        "# make an array of columns to drop after failing Lasso and Ridge tests\n",
        "drop_columns = []\n",
        "\n",
        "Lower_Ridge = -0.005\n",
        "Upper_Ridge = 0.005\n",
        "\n",
        "for i in range(len(lasso_coeffs)):\n",
        "    if lasso_coeffs[i] == 0 and ((ridge_coeffs[i] > Lower_Ridge and ridge_coeffs[i] <= 0) or (ridge_coeffs[i] < Upper_Ridge and ridge_coeffs[i] >= 0)):\n",
        "        drop_columns.append(i)\n",
        "\n",
        "print(drop_columns)\n",
        "print(\"# of Columns/Features that will be dropped\", len(drop_columns))\n",
        "\n",
        "# remove columns from X1 df\n",
        "X_train_column_drop = X_train_column_drop.drop(X_train_column_drop.columns[drop_columns], axis=1)\n",
        "X_test_column_drop = X_test_column_drop.drop(X_test_column_drop.columns[drop_columns], axis=1)\n",
        "\n",
        "print(\"Step 6 of 6 - Remove Columns that fail Lasso & Ridge Tests... Samples: \", len(X_train_column_drop), \" | Columns/Features: \", len(X_train_column_drop.columns))"
      ],
      "metadata": {
        "colab": {
          "base_uri": "https://localhost:8080/"
        },
        "id": "SyFoyX5cD8sL",
        "outputId": "4822a396-ac96-4bf6-ce19-18df937e26ff"
      },
      "execution_count": 26,
      "outputs": [
        {
          "output_type": "stream",
          "name": "stdout",
          "text": [
            "Lasso RMSE: 0.4993190478758795\n",
            "Ridge RMSE: 0.4307788485480379\n",
            "- - -\n",
            "[2, 27]\n",
            "# of Columns/Features that will be dropped 2\n",
            "Step 6 of 6 - Remove Columns that fail Lasso & Ridge Tests... Samples:  19558  | Columns/Features:  42\n"
          ]
        }
      ]
    },
    {
      "cell_type": "code",
      "source": [
        "X_scaler_columns_dropped = scaler.fit(X_train_column_drop)\n",
        "\n",
        "X_train_column_drop_scaled = X_scaler_columns_dropped.transform(X_train_column_drop)\n",
        "X_test_column_drop_scaled = X_scaler_columns_dropped.transform(X_test_column_drop)\n",
        "\n",
        "# Define the model\n",
        "nn_column_drop = tf.keras.models.Sequential()\n",
        "\n",
        "# First hidden layer\n",
        "nn_column_drop.add(tf.keras.layers.Dense(units=80, activation='relu', input_dim=X_train_column_drop_scaled.shape[1]))\n",
        "\n",
        "# Second hidden layer\n",
        "nn_column_drop.add(tf.keras.layers.Dense(units=30, activation='relu'))\n",
        "\n",
        "# Output layer\n",
        "nn_column_drop.add(tf.keras.layers.Dense(units=1, activation='sigmoid'))\n",
        "\n",
        "# Check the structure of the model\n",
        "nn_column_drop.summary()"
      ],
      "metadata": {
        "colab": {
          "base_uri": "https://localhost:8080/"
        },
        "id": "iVSOzpWd_NDb",
        "outputId": "1c7cb4cd-383c-4012-ba1d-f54eed8f7a47"
      },
      "execution_count": 27,
      "outputs": [
        {
          "output_type": "stream",
          "name": "stdout",
          "text": [
            "Model: \"sequential_1\"\n",
            "_________________________________________________________________\n",
            " Layer (type)                Output Shape              Param #   \n",
            "=================================================================\n",
            " dense_3 (Dense)             (None, 80)                3440      \n",
            "                                                                 \n",
            " dense_4 (Dense)             (None, 30)                2430      \n",
            "                                                                 \n",
            " dense_5 (Dense)             (None, 1)                 31        \n",
            "                                                                 \n",
            "=================================================================\n",
            "Total params: 5,901\n",
            "Trainable params: 5,901\n",
            "Non-trainable params: 0\n",
            "_________________________________________________________________\n"
          ]
        }
      ]
    },
    {
      "cell_type": "code",
      "source": [
        "nn_column_drop.compile(loss='binary_crossentropy', optimizer='adam', metrics=['accuracy'])\n",
        "\n",
        "history_column_drop = nn_column_drop.fit(X_train_column_drop_scaled, y_train_column_drop, epochs=20, verbose=1, batch_size=16)"
      ],
      "metadata": {
        "colab": {
          "base_uri": "https://localhost:8080/"
        },
        "id": "YRv6L9NJ_z-h",
        "outputId": "a983cc61-3314-4847-a5cf-666e30d2f912"
      },
      "execution_count": 28,
      "outputs": [
        {
          "output_type": "stream",
          "name": "stdout",
          "text": [
            "Epoch 1/20\n",
            "1223/1223 [==============================] - 3s 2ms/step - loss: 0.5559 - accuracy: 0.7364\n",
            "Epoch 2/20\n",
            "1223/1223 [==============================] - 2s 2ms/step - loss: 0.5389 - accuracy: 0.7428\n",
            "Epoch 3/20\n",
            "1223/1223 [==============================] - 2s 2ms/step - loss: 0.5362 - accuracy: 0.7446\n",
            "Epoch 4/20\n",
            "1223/1223 [==============================] - 2s 2ms/step - loss: 0.5337 - accuracy: 0.7436\n",
            "Epoch 5/20\n",
            "1223/1223 [==============================] - 2s 2ms/step - loss: 0.5326 - accuracy: 0.7417\n",
            "Epoch 6/20\n",
            "1223/1223 [==============================] - 2s 2ms/step - loss: 0.5322 - accuracy: 0.7460\n",
            "Epoch 7/20\n",
            "1223/1223 [==============================] - 2s 2ms/step - loss: 0.5315 - accuracy: 0.7479\n",
            "Epoch 8/20\n",
            "1223/1223 [==============================] - 3s 2ms/step - loss: 0.5310 - accuracy: 0.7455\n",
            "Epoch 9/20\n",
            "1223/1223 [==============================] - 2s 2ms/step - loss: 0.5303 - accuracy: 0.7464\n",
            "Epoch 10/20\n",
            "1223/1223 [==============================] - 2s 2ms/step - loss: 0.5296 - accuracy: 0.7462\n",
            "Epoch 11/20\n",
            "1223/1223 [==============================] - 2s 2ms/step - loss: 0.5287 - accuracy: 0.7472\n",
            "Epoch 12/20\n",
            "1223/1223 [==============================] - 2s 2ms/step - loss: 0.5289 - accuracy: 0.7472\n",
            "Epoch 13/20\n",
            "1223/1223 [==============================] - 2s 2ms/step - loss: 0.5281 - accuracy: 0.7475\n",
            "Epoch 14/20\n",
            "1223/1223 [==============================] - 2s 2ms/step - loss: 0.5279 - accuracy: 0.7480\n",
            "Epoch 15/20\n",
            "1223/1223 [==============================] - 2s 2ms/step - loss: 0.5278 - accuracy: 0.7485\n",
            "Epoch 16/20\n",
            "1223/1223 [==============================] - 2s 2ms/step - loss: 0.5270 - accuracy: 0.7486\n",
            "Epoch 17/20\n",
            "1223/1223 [==============================] - 2s 2ms/step - loss: 0.5275 - accuracy: 0.7490\n",
            "Epoch 18/20\n",
            "1223/1223 [==============================] - 2s 2ms/step - loss: 0.5261 - accuracy: 0.7476\n",
            "Epoch 19/20\n",
            "1223/1223 [==============================] - 2s 2ms/step - loss: 0.5264 - accuracy: 0.7478\n",
            "Epoch 20/20\n",
            "1223/1223 [==============================] - 3s 2ms/step - loss: 0.5258 - accuracy: 0.7495\n"
          ]
        }
      ]
    },
    {
      "cell_type": "code",
      "source": [
        "model_loss, model_accuracy = nn_column_drop.evaluate(X_test_column_drop_scaled,y_test_column_drop,verbose=1, batch_size=16)\n",
        "print(f\"Loss: {model_loss}, Accuracy: {model_accuracy}\")"
      ],
      "metadata": {
        "colab": {
          "base_uri": "https://localhost:8080/"
        },
        "id": "GUL8zMpZzQPa",
        "outputId": "40e88de6-3f23-4450-fdd6-03c73f13521d"
      },
      "execution_count": 29,
      "outputs": [
        {
          "output_type": "stream",
          "name": "stdout",
          "text": [
            "408/408 [==============================] - 1s 1ms/step - loss: 0.5363 - accuracy: 0.7560\n",
            "Loss: 0.5362584590911865, Accuracy: 0.7559816241264343\n"
          ]
        }
      ]
    },
    {
      "cell_type": "code",
      "source": [
        "# Export our model to HDF5 file\n",
        "nn_column_drop.save('AlphabetSoupCharity_Optimization_Dropping_Columns.h5')"
      ],
      "metadata": {
        "id": "rJHv4lTM_GC_"
      },
      "execution_count": 30,
      "outputs": []
    },
    {
      "cell_type": "markdown",
      "source": [
        "## Optimization Preprocessing Method 2 - PCA"
      ],
      "metadata": {
        "id": "L6LfaIkzGl4Y"
      }
    },
    {
      "cell_type": "code",
      "source": [
        "# Create PCA Model\n",
        "pca_model = PCA(n_components=20)"
      ],
      "metadata": {
        "id": "FoiHdGDqGr2L"
      },
      "execution_count": 31,
      "outputs": []
    },
    {
      "cell_type": "code",
      "source": [
        "X_scaler_PCA = scaler.fit(X_train_column_drop)\n",
        "\n",
        "X_train_pre_pca_scaled = X_scaler_PCA.transform(X_train_column_drop)\n",
        "X_test_pre_pca_scaled = X_scaler_PCA.transform(X_test_column_drop)"
      ],
      "metadata": {
        "id": "bq1yIw1G2F_N"
      },
      "execution_count": 32,
      "outputs": []
    },
    {
      "cell_type": "code",
      "source": [
        "pca_model = pca_model.fit(X_train_pre_pca_scaled)\n",
        "\n",
        "pca_X_train = pca_model.transform(X_train_pre_pca_scaled)\n",
        "pca_X_test = pca_model.transform(X_test_pre_pca_scaled)\n",
        "\n",
        "# Training DataFrame with the PCA components\n",
        "pca_df = pd.DataFrame(data=pca_X_train, columns=['PC1', 'PC2', 'PC3', 'PC4', 'PC5', 'PC6', 'PC7', 'PC8', 'PC9', 'PC10', \n",
        "                                                'PC11', 'PC12', 'PC13', 'PC14', 'PC15', 'PC16', 'PC17', 'PC18', 'PC19', 'PC20'])\n",
        "                                              #  'PC21', 'PC22', 'PC23', 'PC24', 'PC25', 'PC26', 'PC27', 'PC28', 'PC29', 'PC30',\n",
        "                                              #  'PC31', 'PC32', 'PC33', 'PC34', 'PC35'])\n",
        "\n",
        "# View the first five rows of the DataFrame\n",
        "pca_df.head()"
      ],
      "metadata": {
        "colab": {
          "base_uri": "https://localhost:8080/",
          "height": 270
        },
        "id": "C-3chlAvHIJB",
        "outputId": "14df8962-bd26-4ce7-8024-d89c419aaa60"
      },
      "execution_count": 33,
      "outputs": [
        {
          "output_type": "execute_result",
          "data": {
            "text/plain": [
              "        PC1       PC2       PC3       PC4       PC5       PC6       PC7  \\\n",
              "0  1.668502  0.363421 -1.220337  0.805760  0.226610 -0.414922 -0.224241   \n",
              "1  0.053277  1.357294 -1.930118  1.354460  1.639617  0.324711 -0.296157   \n",
              "2 -5.161517  1.530676  0.467306 -0.434179 -2.759748 -1.760149 -1.151587   \n",
              "3 -1.072659 -1.747413  1.137547 -0.682386 -0.168969  1.235400  1.106741   \n",
              "4 -1.014762 -2.029897  1.389449 -0.778170  0.368212 -0.899760  1.333917   \n",
              "\n",
              "        PC8       PC9      PC10      PC11      PC12      PC13      PC14  \\\n",
              "0 -0.080414  0.086268 -0.131248  0.009355 -0.274115 -0.019723 -0.103786   \n",
              "1 -0.048261 -0.186113 -0.070319 -0.074350  0.790519 -0.189532 -1.530491   \n",
              "2  0.060584 -0.404862  0.395579  0.413173 -1.889791  0.147674  0.924262   \n",
              "3  0.156141  0.667699 -0.357118 -0.041770 -0.288578 -0.080338 -0.068402   \n",
              "4 -0.079617 -1.317306  0.234652  0.353476  0.116561  0.376920 -0.398145   \n",
              "\n",
              "       PC15      PC16      PC17      PC18      PC19      PC20  \n",
              "0  0.094933  0.092107  0.100130  0.191607  0.201502 -0.096928  \n",
              "1 -2.491665 -0.417350  1.930841  0.922302 -0.841940  0.233404  \n",
              "2 -1.648319  2.488162 -0.371878  0.622338  0.136226 -0.101500  \n",
              "3 -0.058469 -0.004910  0.024032 -0.199984  0.099535 -0.047244  \n",
              "4  0.014440 -0.068135 -0.055933 -0.131655  0.243948 -0.078366  "
            ],
            "text/html": [
              "\n",
              "  <div id=\"df-85ecbafe-4dbe-4d36-8c75-ea6c8bcb32d3\">\n",
              "    <div class=\"colab-df-container\">\n",
              "      <div>\n",
              "<style scoped>\n",
              "    .dataframe tbody tr th:only-of-type {\n",
              "        vertical-align: middle;\n",
              "    }\n",
              "\n",
              "    .dataframe tbody tr th {\n",
              "        vertical-align: top;\n",
              "    }\n",
              "\n",
              "    .dataframe thead th {\n",
              "        text-align: right;\n",
              "    }\n",
              "</style>\n",
              "<table border=\"1\" class=\"dataframe\">\n",
              "  <thead>\n",
              "    <tr style=\"text-align: right;\">\n",
              "      <th></th>\n",
              "      <th>PC1</th>\n",
              "      <th>PC2</th>\n",
              "      <th>PC3</th>\n",
              "      <th>PC4</th>\n",
              "      <th>PC5</th>\n",
              "      <th>PC6</th>\n",
              "      <th>PC7</th>\n",
              "      <th>PC8</th>\n",
              "      <th>PC9</th>\n",
              "      <th>PC10</th>\n",
              "      <th>PC11</th>\n",
              "      <th>PC12</th>\n",
              "      <th>PC13</th>\n",
              "      <th>PC14</th>\n",
              "      <th>PC15</th>\n",
              "      <th>PC16</th>\n",
              "      <th>PC17</th>\n",
              "      <th>PC18</th>\n",
              "      <th>PC19</th>\n",
              "      <th>PC20</th>\n",
              "    </tr>\n",
              "  </thead>\n",
              "  <tbody>\n",
              "    <tr>\n",
              "      <th>0</th>\n",
              "      <td>1.668502</td>\n",
              "      <td>0.363421</td>\n",
              "      <td>-1.220337</td>\n",
              "      <td>0.805760</td>\n",
              "      <td>0.226610</td>\n",
              "      <td>-0.414922</td>\n",
              "      <td>-0.224241</td>\n",
              "      <td>-0.080414</td>\n",
              "      <td>0.086268</td>\n",
              "      <td>-0.131248</td>\n",
              "      <td>0.009355</td>\n",
              "      <td>-0.274115</td>\n",
              "      <td>-0.019723</td>\n",
              "      <td>-0.103786</td>\n",
              "      <td>0.094933</td>\n",
              "      <td>0.092107</td>\n",
              "      <td>0.100130</td>\n",
              "      <td>0.191607</td>\n",
              "      <td>0.201502</td>\n",
              "      <td>-0.096928</td>\n",
              "    </tr>\n",
              "    <tr>\n",
              "      <th>1</th>\n",
              "      <td>0.053277</td>\n",
              "      <td>1.357294</td>\n",
              "      <td>-1.930118</td>\n",
              "      <td>1.354460</td>\n",
              "      <td>1.639617</td>\n",
              "      <td>0.324711</td>\n",
              "      <td>-0.296157</td>\n",
              "      <td>-0.048261</td>\n",
              "      <td>-0.186113</td>\n",
              "      <td>-0.070319</td>\n",
              "      <td>-0.074350</td>\n",
              "      <td>0.790519</td>\n",
              "      <td>-0.189532</td>\n",
              "      <td>-1.530491</td>\n",
              "      <td>-2.491665</td>\n",
              "      <td>-0.417350</td>\n",
              "      <td>1.930841</td>\n",
              "      <td>0.922302</td>\n",
              "      <td>-0.841940</td>\n",
              "      <td>0.233404</td>\n",
              "    </tr>\n",
              "    <tr>\n",
              "      <th>2</th>\n",
              "      <td>-5.161517</td>\n",
              "      <td>1.530676</td>\n",
              "      <td>0.467306</td>\n",
              "      <td>-0.434179</td>\n",
              "      <td>-2.759748</td>\n",
              "      <td>-1.760149</td>\n",
              "      <td>-1.151587</td>\n",
              "      <td>0.060584</td>\n",
              "      <td>-0.404862</td>\n",
              "      <td>0.395579</td>\n",
              "      <td>0.413173</td>\n",
              "      <td>-1.889791</td>\n",
              "      <td>0.147674</td>\n",
              "      <td>0.924262</td>\n",
              "      <td>-1.648319</td>\n",
              "      <td>2.488162</td>\n",
              "      <td>-0.371878</td>\n",
              "      <td>0.622338</td>\n",
              "      <td>0.136226</td>\n",
              "      <td>-0.101500</td>\n",
              "    </tr>\n",
              "    <tr>\n",
              "      <th>3</th>\n",
              "      <td>-1.072659</td>\n",
              "      <td>-1.747413</td>\n",
              "      <td>1.137547</td>\n",
              "      <td>-0.682386</td>\n",
              "      <td>-0.168969</td>\n",
              "      <td>1.235400</td>\n",
              "      <td>1.106741</td>\n",
              "      <td>0.156141</td>\n",
              "      <td>0.667699</td>\n",
              "      <td>-0.357118</td>\n",
              "      <td>-0.041770</td>\n",
              "      <td>-0.288578</td>\n",
              "      <td>-0.080338</td>\n",
              "      <td>-0.068402</td>\n",
              "      <td>-0.058469</td>\n",
              "      <td>-0.004910</td>\n",
              "      <td>0.024032</td>\n",
              "      <td>-0.199984</td>\n",
              "      <td>0.099535</td>\n",
              "      <td>-0.047244</td>\n",
              "    </tr>\n",
              "    <tr>\n",
              "      <th>4</th>\n",
              "      <td>-1.014762</td>\n",
              "      <td>-2.029897</td>\n",
              "      <td>1.389449</td>\n",
              "      <td>-0.778170</td>\n",
              "      <td>0.368212</td>\n",
              "      <td>-0.899760</td>\n",
              "      <td>1.333917</td>\n",
              "      <td>-0.079617</td>\n",
              "      <td>-1.317306</td>\n",
              "      <td>0.234652</td>\n",
              "      <td>0.353476</td>\n",
              "      <td>0.116561</td>\n",
              "      <td>0.376920</td>\n",
              "      <td>-0.398145</td>\n",
              "      <td>0.014440</td>\n",
              "      <td>-0.068135</td>\n",
              "      <td>-0.055933</td>\n",
              "      <td>-0.131655</td>\n",
              "      <td>0.243948</td>\n",
              "      <td>-0.078366</td>\n",
              "    </tr>\n",
              "  </tbody>\n",
              "</table>\n",
              "</div>\n",
              "      <button class=\"colab-df-convert\" onclick=\"convertToInteractive('df-85ecbafe-4dbe-4d36-8c75-ea6c8bcb32d3')\"\n",
              "              title=\"Convert this dataframe to an interactive table.\"\n",
              "              style=\"display:none;\">\n",
              "        \n",
              "  <svg xmlns=\"http://www.w3.org/2000/svg\" height=\"24px\"viewBox=\"0 0 24 24\"\n",
              "       width=\"24px\">\n",
              "    <path d=\"M0 0h24v24H0V0z\" fill=\"none\"/>\n",
              "    <path d=\"M18.56 5.44l.94 2.06.94-2.06 2.06-.94-2.06-.94-.94-2.06-.94 2.06-2.06.94zm-11 1L8.5 8.5l.94-2.06 2.06-.94-2.06-.94L8.5 2.5l-.94 2.06-2.06.94zm10 10l.94 2.06.94-2.06 2.06-.94-2.06-.94-.94-2.06-.94 2.06-2.06.94z\"/><path d=\"M17.41 7.96l-1.37-1.37c-.4-.4-.92-.59-1.43-.59-.52 0-1.04.2-1.43.59L10.3 9.45l-7.72 7.72c-.78.78-.78 2.05 0 2.83L4 21.41c.39.39.9.59 1.41.59.51 0 1.02-.2 1.41-.59l7.78-7.78 2.81-2.81c.8-.78.8-2.07 0-2.86zM5.41 20L4 18.59l7.72-7.72 1.47 1.35L5.41 20z\"/>\n",
              "  </svg>\n",
              "      </button>\n",
              "      \n",
              "  <style>\n",
              "    .colab-df-container {\n",
              "      display:flex;\n",
              "      flex-wrap:wrap;\n",
              "      gap: 12px;\n",
              "    }\n",
              "\n",
              "    .colab-df-convert {\n",
              "      background-color: #E8F0FE;\n",
              "      border: none;\n",
              "      border-radius: 50%;\n",
              "      cursor: pointer;\n",
              "      display: none;\n",
              "      fill: #1967D2;\n",
              "      height: 32px;\n",
              "      padding: 0 0 0 0;\n",
              "      width: 32px;\n",
              "    }\n",
              "\n",
              "    .colab-df-convert:hover {\n",
              "      background-color: #E2EBFA;\n",
              "      box-shadow: 0px 1px 2px rgba(60, 64, 67, 0.3), 0px 1px 3px 1px rgba(60, 64, 67, 0.15);\n",
              "      fill: #174EA6;\n",
              "    }\n",
              "\n",
              "    [theme=dark] .colab-df-convert {\n",
              "      background-color: #3B4455;\n",
              "      fill: #D2E3FC;\n",
              "    }\n",
              "\n",
              "    [theme=dark] .colab-df-convert:hover {\n",
              "      background-color: #434B5C;\n",
              "      box-shadow: 0px 1px 3px 1px rgba(0, 0, 0, 0.15);\n",
              "      filter: drop-shadow(0px 1px 2px rgba(0, 0, 0, 0.3));\n",
              "      fill: #FFFFFF;\n",
              "    }\n",
              "  </style>\n",
              "\n",
              "      <script>\n",
              "        const buttonEl =\n",
              "          document.querySelector('#df-85ecbafe-4dbe-4d36-8c75-ea6c8bcb32d3 button.colab-df-convert');\n",
              "        buttonEl.style.display =\n",
              "          google.colab.kernel.accessAllowed ? 'block' : 'none';\n",
              "\n",
              "        async function convertToInteractive(key) {\n",
              "          const element = document.querySelector('#df-85ecbafe-4dbe-4d36-8c75-ea6c8bcb32d3');\n",
              "          const dataTable =\n",
              "            await google.colab.kernel.invokeFunction('convertToInteractive',\n",
              "                                                     [key], {});\n",
              "          if (!dataTable) return;\n",
              "\n",
              "          const docLinkHtml = 'Like what you see? Visit the ' +\n",
              "            '<a target=\"_blank\" href=https://colab.research.google.com/notebooks/data_table.ipynb>data table notebook</a>'\n",
              "            + ' to learn more about interactive tables.';\n",
              "          element.innerHTML = '';\n",
              "          dataTable['output_type'] = 'display_data';\n",
              "          await google.colab.output.renderOutput(dataTable, element);\n",
              "          const docLink = document.createElement('div');\n",
              "          docLink.innerHTML = docLinkHtml;\n",
              "          element.appendChild(docLink);\n",
              "        }\n",
              "      </script>\n",
              "    </div>\n",
              "  </div>\n",
              "  "
            ]
          },
          "metadata": {},
          "execution_count": 33
        }
      ]
    },
    {
      "cell_type": "code",
      "source": [
        "# Retrieve the explained variance from the PCA model\n",
        "explained_variance = pca_model.explained_variance_ratio_\n",
        "Scope = 0\n",
        "\n",
        "# Print the explained variance for each principal component\n",
        "for i, variance in enumerate(explained_variance):\n",
        "    Scope = Scope + variance\n",
        "    print(f\"Explained Variance PC{i+1}: {variance:.4f}\")\n",
        "\n",
        "print(f\"{Scope * 100:.2f}%\")"
      ],
      "metadata": {
        "colab": {
          "base_uri": "https://localhost:8080/"
        },
        "id": "YldwwU9hILqh",
        "outputId": "8a5673b6-860d-4637-8715-4f8e3d66f73d"
      },
      "execution_count": 34,
      "outputs": [
        {
          "output_type": "stream",
          "name": "stdout",
          "text": [
            "Explained Variance PC1: 0.0967\n",
            "Explained Variance PC2: 0.0606\n",
            "Explained Variance PC3: 0.0495\n",
            "Explained Variance PC4: 0.0485\n",
            "Explained Variance PC5: 0.0439\n",
            "Explained Variance PC6: 0.0354\n",
            "Explained Variance PC7: 0.0321\n",
            "Explained Variance PC8: 0.0309\n",
            "Explained Variance PC9: 0.0271\n",
            "Explained Variance PC10: 0.0270\n",
            "Explained Variance PC11: 0.0258\n",
            "Explained Variance PC12: 0.0256\n",
            "Explained Variance PC13: 0.0253\n",
            "Explained Variance PC14: 0.0251\n",
            "Explained Variance PC15: 0.0248\n",
            "Explained Variance PC16: 0.0246\n",
            "Explained Variance PC17: 0.0243\n",
            "Explained Variance PC18: 0.0242\n",
            "Explained Variance PC19: 0.0239\n",
            "Explained Variance PC20: 0.0238\n",
            "69.89%\n"
          ]
        }
      ]
    },
    {
      "cell_type": "code",
      "source": [
        "# Define the model\n",
        "nn_pca = tf.keras.models.Sequential()\n",
        "\n",
        "# First hidden layer\n",
        "nn_pca.add(tf.keras.layers.Dense(units=80, activation='relu', input_dim=pca_X_train.shape[1]))\n",
        "\n",
        "# Second hidden layer\n",
        "nn_pca.add(tf.keras.layers.Dense(units=30, activation='relu'))\n",
        "\n",
        "# Output layer\n",
        "nn_pca.add(tf.keras.layers.Dense(units=1, activation='sigmoid'))\n",
        "\n",
        "# Check the structure of the model\n",
        "nn_pca.summary()"
      ],
      "metadata": {
        "colab": {
          "base_uri": "https://localhost:8080/"
        },
        "id": "kqckYLXQK9KT",
        "outputId": "89a89eb2-d2f6-48c3-9d25-3cf2c667eef3"
      },
      "execution_count": 35,
      "outputs": [
        {
          "output_type": "stream",
          "name": "stdout",
          "text": [
            "Model: \"sequential_2\"\n",
            "_________________________________________________________________\n",
            " Layer (type)                Output Shape              Param #   \n",
            "=================================================================\n",
            " dense_6 (Dense)             (None, 80)                1680      \n",
            "                                                                 \n",
            " dense_7 (Dense)             (None, 30)                2430      \n",
            "                                                                 \n",
            " dense_8 (Dense)             (None, 1)                 31        \n",
            "                                                                 \n",
            "=================================================================\n",
            "Total params: 4,141\n",
            "Trainable params: 4,141\n",
            "Non-trainable params: 0\n",
            "_________________________________________________________________\n"
          ]
        }
      ]
    },
    {
      "cell_type": "code",
      "source": [
        "# Compile the model\n",
        "nn_pca.compile(loss='binary_crossentropy', optimizer='adam', metrics=['accuracy'])"
      ],
      "metadata": {
        "id": "loIid4Z1LDje"
      },
      "execution_count": 36,
      "outputs": []
    },
    {
      "cell_type": "code",
      "source": [
        "# Train the model\n",
        "history_pca = nn_pca.fit(pca_X_train, y_train_column_drop, epochs=20, verbose=1, batch_size=16)"
      ],
      "metadata": {
        "colab": {
          "base_uri": "https://localhost:8080/"
        },
        "id": "NXGIJXEPLPd5",
        "outputId": "940faf72-b13d-433b-c5dc-29804b61a0fb"
      },
      "execution_count": 37,
      "outputs": [
        {
          "output_type": "stream",
          "name": "stdout",
          "text": [
            "Epoch 1/20\n",
            "1223/1223 [==============================] - 3s 2ms/step - loss: 0.5531 - accuracy: 0.7356\n",
            "Epoch 2/20\n",
            "1223/1223 [==============================] - 2s 2ms/step - loss: 0.5401 - accuracy: 0.7425\n",
            "Epoch 3/20\n",
            "1223/1223 [==============================] - 2s 2ms/step - loss: 0.5384 - accuracy: 0.7442\n",
            "Epoch 4/20\n",
            "1223/1223 [==============================] - 2s 2ms/step - loss: 0.5367 - accuracy: 0.7442\n",
            "Epoch 5/20\n",
            "1223/1223 [==============================] - 3s 2ms/step - loss: 0.5352 - accuracy: 0.7436\n",
            "Epoch 6/20\n",
            "1223/1223 [==============================] - 2s 2ms/step - loss: 0.5334 - accuracy: 0.7455\n",
            "Epoch 7/20\n",
            "1223/1223 [==============================] - 2s 2ms/step - loss: 0.5330 - accuracy: 0.7449\n",
            "Epoch 8/20\n",
            "1223/1223 [==============================] - 2s 2ms/step - loss: 0.5325 - accuracy: 0.7464\n",
            "Epoch 9/20\n",
            "1223/1223 [==============================] - 2s 2ms/step - loss: 0.5310 - accuracy: 0.7464\n",
            "Epoch 10/20\n",
            "1223/1223 [==============================] - 2s 2ms/step - loss: 0.5310 - accuracy: 0.7469\n",
            "Epoch 11/20\n",
            "1223/1223 [==============================] - 3s 2ms/step - loss: 0.5312 - accuracy: 0.7468\n",
            "Epoch 12/20\n",
            "1223/1223 [==============================] - 2s 2ms/step - loss: 0.5304 - accuracy: 0.7468\n",
            "Epoch 13/20\n",
            "1223/1223 [==============================] - 2s 2ms/step - loss: 0.5303 - accuracy: 0.7485\n",
            "Epoch 14/20\n",
            "1223/1223 [==============================] - 2s 2ms/step - loss: 0.5293 - accuracy: 0.7489\n",
            "Epoch 15/20\n",
            "1223/1223 [==============================] - 2s 2ms/step - loss: 0.5293 - accuracy: 0.7487\n",
            "Epoch 16/20\n",
            "1223/1223 [==============================] - 2s 2ms/step - loss: 0.5288 - accuracy: 0.7478\n",
            "Epoch 17/20\n",
            "1223/1223 [==============================] - 3s 2ms/step - loss: 0.5285 - accuracy: 0.7484\n",
            "Epoch 18/20\n",
            "1223/1223 [==============================] - 2s 2ms/step - loss: 0.5284 - accuracy: 0.7485\n",
            "Epoch 19/20\n",
            "1223/1223 [==============================] - 2s 2ms/step - loss: 0.5282 - accuracy: 0.7494\n",
            "Epoch 20/20\n",
            "1223/1223 [==============================] - 2s 2ms/step - loss: 0.5281 - accuracy: 0.7487\n"
          ]
        }
      ]
    },
    {
      "cell_type": "code",
      "source": [
        "# Evaluate the model using the test data\n",
        "model_loss, model_accuracy = nn_pca.evaluate(pca_X_test, y_test_column_drop, verbose=1, batch_size=16)\n",
        "print(f\"Loss: {model_loss}, Accuracy: {model_accuracy}\")"
      ],
      "metadata": {
        "colab": {
          "base_uri": "https://localhost:8080/"
        },
        "id": "KhPwAv_wLzn6",
        "outputId": "7a61e9a1-1d50-4575-d5b0-26630fe901b6"
      },
      "execution_count": 38,
      "outputs": [
        {
          "output_type": "stream",
          "name": "stdout",
          "text": [
            "408/408 [==============================] - 1s 1ms/step - loss: 0.5305 - accuracy: 0.7532\n",
            "Loss: 0.5304990410804749, Accuracy: 0.7532208561897278\n"
          ]
        }
      ]
    },
    {
      "cell_type": "code",
      "source": [
        "# Export our model to HDF5 file\n",
        "nn_pca.save('AlphabetSoupCharity_Optimization_PCA.h5')"
      ],
      "metadata": {
        "id": "NqiwrE6-cpSF"
      },
      "execution_count": 39,
      "outputs": []
    },
    {
      "cell_type": "markdown",
      "source": [
        "## Optimization Preprocessing Method 3 - Oversampling"
      ],
      "metadata": {
        "id": "hNMsmEhLbYFg"
      }
    },
    {
      "cell_type": "code",
      "source": [
        "# Import the RandomOverSampler module form imbalanced-learn\n",
        "from imblearn.over_sampling import RandomOverSampler\n",
        "\n",
        "#from imblearn.over_sampling import SMOTE\n",
        "\n",
        "desired_samples = round(0.65 * len(X_train_column_drop_scaled))\n",
        "sampling_strategy = {0: desired_samples}\n",
        "\n",
        "# Instantiate the SMOTE model\n",
        "#smote_oversampler = SMOTE(sampling_strategy=sampling_strategy, random_state=1)\n",
        "# SMOTE oversampler resulted in lower accuracy\n",
        "\n",
        "# Instantiate the random oversampler model\n",
        "random_oversampler = RandomOverSampler(sampling_strategy=sampling_strategy, random_state=1)\n",
        "\n",
        "# Fit the original training data to the random_oversampler model\n",
        "X_train_oversampled_scaled, y_train_oversampled = random_oversampler.fit_resample(pca_X_train, y_train_column_drop)"
      ],
      "metadata": {
        "id": "Ch_Z-O7JPEzb"
      },
      "execution_count": 40,
      "outputs": []
    },
    {
      "cell_type": "code",
      "source": [
        "X_train_column_drop_scaled_df = pd.DataFrame(X_train_column_drop_scaled)\n",
        "X_train_oversampled_scaled_df = pd.DataFrame(X_train_oversampled_scaled)\n",
        "print(\"X Train Before Resampling: \", X_train_column_drop_scaled_df.shape)\n",
        "print(\"X Train After Resampling: \", X_train_oversampled_scaled.shape)\n",
        "\n",
        "y_train_column_drop_df = pd.DataFrame(y_train_column_drop)\n",
        "y_train_oversampled_df = pd.DataFrame(y_train_oversampled)\n",
        "print(\"Y Train Before Resampling: \", y_train_column_drop_df.shape)\n",
        "print(\"Y Train After Resampling: \", y_train_oversampled_df.shape)"
      ],
      "metadata": {
        "id": "3vZET3T_P9Of",
        "outputId": "98779318-01a8-4f9b-873e-ab71fb32ee02",
        "colab": {
          "base_uri": "https://localhost:8080/"
        }
      },
      "execution_count": 41,
      "outputs": [
        {
          "output_type": "stream",
          "name": "stdout",
          "text": [
            "X Train Before Resampling:  (19558, 42)\n",
            "X Train After Resampling:  (23023, 20)\n",
            "Y Train Before Resampling:  (19558, 1)\n",
            "Y Train After Resampling:  (23023, 1)\n"
          ]
        }
      ]
    },
    {
      "cell_type": "code",
      "source": [
        "# Define the model\n",
        "nn_oversample = tf.keras.models.Sequential()\n",
        "\n",
        "# First hidden layer\n",
        "nn_oversample.add(tf.keras.layers.Dense(units=80, activation='relu', input_dim=X_train_oversampled_scaled_df.shape[1]))\n",
        "\n",
        "# Second hidden layer\n",
        "nn_oversample.add(tf.keras.layers.Dense(units=30, activation='relu'))\n",
        "\n",
        "# Output layer\n",
        "nn_oversample.add(tf.keras.layers.Dense(units=1, activation='sigmoid'))\n",
        "\n",
        "# Check the structure of the model\n",
        "nn_oversample.summary()"
      ],
      "metadata": {
        "id": "PZUwifq2TaPo",
        "outputId": "85d13d77-95b0-497d-c564-e26cf448ec5f",
        "colab": {
          "base_uri": "https://localhost:8080/"
        }
      },
      "execution_count": 42,
      "outputs": [
        {
          "output_type": "stream",
          "name": "stdout",
          "text": [
            "Model: \"sequential_3\"\n",
            "_________________________________________________________________\n",
            " Layer (type)                Output Shape              Param #   \n",
            "=================================================================\n",
            " dense_9 (Dense)             (None, 80)                1680      \n",
            "                                                                 \n",
            " dense_10 (Dense)            (None, 30)                2430      \n",
            "                                                                 \n",
            " dense_11 (Dense)            (None, 1)                 31        \n",
            "                                                                 \n",
            "=================================================================\n",
            "Total params: 4,141\n",
            "Trainable params: 4,141\n",
            "Non-trainable params: 0\n",
            "_________________________________________________________________\n"
          ]
        }
      ]
    },
    {
      "cell_type": "code",
      "source": [
        "nn_oversample.compile(loss='binary_crossentropy', optimizer='adam', metrics=['accuracy'])\n",
        "\n",
        "history_oversample = nn_oversample.fit(X_train_oversampled_scaled_df, y_train_oversampled_df, epochs=20, verbose=2, batch_size=16)"
      ],
      "metadata": {
        "id": "zN0_M-_xT5QX",
        "outputId": "1f39244f-7c6a-41bd-e11f-877e01d02ee5",
        "colab": {
          "base_uri": "https://localhost:8080/"
        }
      },
      "execution_count": 43,
      "outputs": [
        {
          "output_type": "stream",
          "name": "stdout",
          "text": [
            "Epoch 1/20\n",
            "1439/1439 - 3s - loss: 0.5483 - accuracy: 0.7349 - 3s/epoch - 2ms/step\n",
            "Epoch 2/20\n",
            "1439/1439 - 3s - loss: 0.5352 - accuracy: 0.7426 - 3s/epoch - 2ms/step\n",
            "Epoch 3/20\n",
            "1439/1439 - 2s - loss: 0.5336 - accuracy: 0.7437 - 2s/epoch - 1ms/step\n",
            "Epoch 4/20\n",
            "1439/1439 - 2s - loss: 0.5321 - accuracy: 0.7452 - 2s/epoch - 1ms/step\n",
            "Epoch 5/20\n",
            "1439/1439 - 2s - loss: 0.5313 - accuracy: 0.7455 - 2s/epoch - 1ms/step\n",
            "Epoch 6/20\n",
            "1439/1439 - 2s - loss: 0.5297 - accuracy: 0.7455 - 2s/epoch - 1ms/step\n",
            "Epoch 7/20\n",
            "1439/1439 - 2s - loss: 0.5284 - accuracy: 0.7458 - 2s/epoch - 1ms/step\n",
            "Epoch 8/20\n",
            "1439/1439 - 3s - loss: 0.5288 - accuracy: 0.7462 - 3s/epoch - 2ms/step\n",
            "Epoch 9/20\n",
            "1439/1439 - 2s - loss: 0.5277 - accuracy: 0.7463 - 2s/epoch - 1ms/step\n",
            "Epoch 10/20\n",
            "1439/1439 - 2s - loss: 0.5274 - accuracy: 0.7474 - 2s/epoch - 1ms/step\n",
            "Epoch 11/20\n",
            "1439/1439 - 2s - loss: 0.5269 - accuracy: 0.7468 - 2s/epoch - 1ms/step\n",
            "Epoch 12/20\n",
            "1439/1439 - 2s - loss: 0.5265 - accuracy: 0.7481 - 2s/epoch - 1ms/step\n",
            "Epoch 13/20\n",
            "1439/1439 - 2s - loss: 0.5265 - accuracy: 0.7471 - 2s/epoch - 1ms/step\n",
            "Epoch 14/20\n",
            "1439/1439 - 2s - loss: 0.5260 - accuracy: 0.7482 - 2s/epoch - 2ms/step\n",
            "Epoch 15/20\n",
            "1439/1439 - 2s - loss: 0.5257 - accuracy: 0.7477 - 2s/epoch - 2ms/step\n",
            "Epoch 16/20\n",
            "1439/1439 - 2s - loss: 0.5260 - accuracy: 0.7482 - 2s/epoch - 1ms/step\n",
            "Epoch 17/20\n",
            "1439/1439 - 2s - loss: 0.5247 - accuracy: 0.7483 - 2s/epoch - 1ms/step\n",
            "Epoch 18/20\n",
            "1439/1439 - 2s - loss: 0.5244 - accuracy: 0.7475 - 2s/epoch - 1ms/step\n",
            "Epoch 19/20\n",
            "1439/1439 - 2s - loss: 0.5251 - accuracy: 0.7481 - 2s/epoch - 1ms/step\n",
            "Epoch 20/20\n",
            "1439/1439 - 2s - loss: 0.5245 - accuracy: 0.7481 - 2s/epoch - 2ms/step\n"
          ]
        }
      ]
    },
    {
      "cell_type": "code",
      "source": [
        "model_loss, model_accuracy = nn_oversample.evaluate(pca_X_test,y_test_column_drop,verbose=1, batch_size=16)\n",
        "print(f\"Loss: {model_loss}, Accuracy: {model_accuracy}\")"
      ],
      "metadata": {
        "id": "efz2vg-DUUtx",
        "outputId": "4caeafcc-c9ef-4e36-ae71-840f47d730c8",
        "colab": {
          "base_uri": "https://localhost:8080/"
        }
      },
      "execution_count": 44,
      "outputs": [
        {
          "output_type": "stream",
          "name": "stdout",
          "text": [
            "408/408 [==============================] - 1s 2ms/step - loss: 0.5342 - accuracy: 0.7575\n",
            "Loss: 0.5341549515724182, Accuracy: 0.7575153112411499\n"
          ]
        }
      ]
    },
    {
      "cell_type": "code",
      "source": [
        "# Export our model to HDF5 file\n",
        "nn_oversample.save('AlphabetSoupCharity_Optimization_Oversampling.h5')"
      ],
      "metadata": {
        "id": "uID_vgGYc1w8"
      },
      "execution_count": 45,
      "outputs": []
    },
    {
      "cell_type": "markdown",
      "source": [
        "## Model Builder Function"
      ],
      "metadata": {
        "id": "agTawDRN_Nh5"
      }
    },
    {
      "cell_type": "code",
      "source": [
        "# Model creation function for ease of coding later\n",
        "def create_model_find_activation(hp, layer_min, layer_max, n_range_min, n_range_max):\n",
        "    nn_model = tf.keras.models.Sequential()\n",
        "\n",
        "    initial_activation = hp.Choice('initial activation', ['tanh']) # removed 'relu', 'leaky_relu', 'tanh', 'selu', 'elu', & 'sigmoid'\n",
        "\n",
        "    nn_model.add(tf.keras.layers.Dense(units=hp.Int('first_units',\n",
        "        min_value=80,\n",
        "        max_value=80,\n",
        "        step=5), activation=initial_activation, input_dim=X_train_oversampled_scaled_df.shape[1]))\n",
        "    \n",
        "    for i in range(hp.Int('num_layers', layer_min, layer_max)):\n",
        "        layer_activation = hp.Choice('layer_activation_' + str(i), ['relu', 'tanh'])\n",
        "        nn_model.add(tf.keras.layers.Dense(units=hp.Int('units_' + str(i),\n",
        "        min_value=n_range_min,\n",
        "        max_value=n_range_max,\n",
        "        step=5),\n",
        "        activation=layer_activation))\n",
        "\n",
        "    \n",
        "    nn_model.add(tf.keras.layers.Dense(units=1, activation=\"sigmoid\"))\n",
        "\n",
        "    nn_model.compile(loss=\"binary_crossentropy\", optimizer='adam', metrics=[\"accuracy\"])\n",
        "    \n",
        "    return nn_model"
      ],
      "metadata": {
        "id": "EcNkvBPO_aa-"
      },
      "execution_count": 46,
      "outputs": []
    },
    {
      "cell_type": "markdown",
      "source": [
        "## Model Optimization Method 1 - Altering Activation Only"
      ],
      "metadata": {
        "id": "9gmcyF4CRNMG"
      }
    },
    {
      "cell_type": "code",
      "source": [
        "activation_tuner = kt.Hyperband(\n",
        "    lambda hp: create_model_find_activation(hp, 1, 1, 30, 80),\n",
        "    objective=\"val_accuracy\",\n",
        "    max_epochs=20,\n",
        "    hyperband_iterations=2)"
      ],
      "metadata": {
        "id": "WOH6a-1Sv7h8"
      },
      "execution_count": 45,
      "outputs": []
    },
    {
      "cell_type": "code",
      "source": [
        "activation_tuner.search(X_train_oversampled_scaled_df,y_train_oversampled_df,epochs=10,validation_data=(pca_X_test,y_test_column_drop), batch_size=16)"
      ],
      "metadata": {
        "id": "GpS-9dQZlIvX",
        "colab": {
          "base_uri": "https://localhost:8080/"
        },
        "outputId": "142e098d-52df-4d6e-8e34-f12a4181fd66"
      },
      "execution_count": 46,
      "outputs": [
        {
          "output_type": "stream",
          "name": "stdout",
          "text": [
            "Trial 29 Complete [00h 01m 20s]\n",
            "val_accuracy: 0.7567484378814697\n",
            "\n",
            "Best val_accuracy So Far: 0.758128821849823\n",
            "Total elapsed time: 00h 16m 55s\n"
          ]
        }
      ]
    },
    {
      "cell_type": "code",
      "source": [
        "top_activation = activation_tuner.get_best_hyperparameters(3)\n",
        "\n",
        "for param in top_activation:\n",
        "    for key, value in param.values.items():\n",
        "        print(f\"{key}: {value}\")\n",
        "    print(\"- - -\")"
      ],
      "metadata": {
        "id": "Sgj-UoYhnxjE",
        "colab": {
          "base_uri": "https://localhost:8080/"
        },
        "outputId": "7db0f9a2-a863-4f8f-922a-9252da2837ed"
      },
      "execution_count": 53,
      "outputs": [
        {
          "output_type": "stream",
          "name": "stdout",
          "text": [
            "initial activation: tanh\n",
            "first_units: 80\n",
            "num_layers: 1\n",
            "layer_activation_0: tanh\n",
            "units_0: 75\n",
            "tuner/epochs: 20\n",
            "tuner/initial_epoch: 7\n",
            "tuner/bracket: 1\n",
            "tuner/round: 1\n",
            "tuner/trial_id: 0019\n",
            "- - -\n",
            "initial activation: tanh\n",
            "first_units: 80\n",
            "num_layers: 1\n",
            "layer_activation_0: tanh\n",
            "units_0: 75\n",
            "tuner/epochs: 7\n",
            "tuner/initial_epoch: 0\n",
            "tuner/bracket: 1\n",
            "tuner/round: 0\n",
            "- - -\n",
            "initial activation: tanh\n",
            "first_units: 80\n",
            "num_layers: 1\n",
            "layer_activation_0: tanh\n",
            "units_0: 80\n",
            "tuner/epochs: 20\n",
            "tuner/initial_epoch: 7\n",
            "tuner/bracket: 1\n",
            "tuner/round: 1\n",
            "tuner/trial_id: 0022\n",
            "- - -\n"
          ]
        }
      ]
    },
    {
      "cell_type": "code",
      "execution_count": 48,
      "metadata": {
        "id": "dbGci5K9Kvyi",
        "colab": {
          "base_uri": "https://localhost:8080/"
        },
        "outputId": "1d0f18a1-9ee6-446b-cd05-f188a9dca419"
      },
      "outputs": [
        {
          "output_type": "stream",
          "name": "stdout",
          "text": [
            "Model: \"sequential_1\"\n",
            "_________________________________________________________________\n",
            " Layer (type)                Output Shape              Param #   \n",
            "=================================================================\n",
            " dense_3 (Dense)             (None, 80)                1680      \n",
            "                                                                 \n",
            " dense_4 (Dense)             (None, 75)                6075      \n",
            "                                                                 \n",
            " dense_5 (Dense)             (None, 1)                 76        \n",
            "                                                                 \n",
            "=================================================================\n",
            "Total params: 7,831\n",
            "Trainable params: 7,831\n",
            "Non-trainable params: 0\n",
            "_________________________________________________________________\n"
          ]
        }
      ],
      "source": [
        "# Define the model - deep neural net, i.e., the number of input features and hidden nodes for each layer.\n",
        "nn_activation_optimized = tf.keras.models.Sequential()\n",
        "\n",
        "# Take optimized hyperparams and make a model\n",
        "nn_activation_optimized.add(tf.keras.layers.Dense(units=top_activation[0].values.get('first_units'), activation=top_activation[0].values.get('initial activation'), input_dim=X_train_oversampled_scaled_df.shape[1]))\n",
        "for i in range(top_activation[0].values.get('num_layers')):\n",
        "    nn_activation_optimized.add(tf.keras.layers.Dense(units=top_activation[0].values.get(f'units_{i}'), activation=top_activation[0].values.get('layer activation')))\n",
        "\n",
        "# Output layer\n",
        "nn_activation_optimized.add(tf.keras.layers.Dense(units=1, activation='sigmoid'))\n",
        "\n",
        "# Check the structure of the model\n",
        "nn_activation_optimized.summary()"
      ]
    },
    {
      "cell_type": "code",
      "execution_count": 49,
      "metadata": {
        "id": "Fs0Qh2Y5Kvyi"
      },
      "outputs": [],
      "source": [
        "# Compile the model\n",
        "nn_activation_optimized.compile(loss='binary_crossentropy', optimizer='adam', metrics=['accuracy'])"
      ]
    },
    {
      "cell_type": "code",
      "execution_count": 50,
      "metadata": {
        "id": "uYdr9zhqKvyj",
        "colab": {
          "base_uri": "https://localhost:8080/"
        },
        "outputId": "f41e1895-512f-46ec-c929-5816c51be650"
      },
      "outputs": [
        {
          "output_type": "stream",
          "name": "stdout",
          "text": [
            "Epoch 1/20\n",
            "1439/1439 [==============================] - 4s 2ms/step - loss: 0.5650 - accuracy: 0.7269\n",
            "Epoch 2/20\n",
            "1439/1439 [==============================] - 4s 3ms/step - loss: 0.5507 - accuracy: 0.7347\n",
            "Epoch 3/20\n",
            "1439/1439 [==============================] - 3s 2ms/step - loss: 0.5436 - accuracy: 0.7386\n",
            "Epoch 4/20\n",
            "1439/1439 [==============================] - 3s 2ms/step - loss: 0.5394 - accuracy: 0.7407\n",
            "Epoch 5/20\n",
            "1439/1439 [==============================] - 3s 2ms/step - loss: 0.5380 - accuracy: 0.7410\n",
            "Epoch 6/20\n",
            "1439/1439 [==============================] - 4s 3ms/step - loss: 0.5349 - accuracy: 0.7438\n",
            "Epoch 7/20\n",
            "1439/1439 [==============================] - 3s 2ms/step - loss: 0.5348 - accuracy: 0.7431\n",
            "Epoch 8/20\n",
            "1439/1439 [==============================] - 3s 2ms/step - loss: 0.5332 - accuracy: 0.7436\n",
            "Epoch 9/20\n",
            "1439/1439 [==============================] - 3s 2ms/step - loss: 0.5330 - accuracy: 0.7430\n",
            "Epoch 10/20\n",
            "1439/1439 [==============================] - 4s 3ms/step - loss: 0.5328 - accuracy: 0.7444\n",
            "Epoch 11/20\n",
            "1439/1439 [==============================] - 3s 2ms/step - loss: 0.5322 - accuracy: 0.7426\n",
            "Epoch 12/20\n",
            "1439/1439 [==============================] - 3s 2ms/step - loss: 0.5319 - accuracy: 0.7440\n",
            "Epoch 13/20\n",
            "1439/1439 [==============================] - 3s 2ms/step - loss: 0.5304 - accuracy: 0.7440\n",
            "Epoch 14/20\n",
            "1439/1439 [==============================] - 4s 3ms/step - loss: 0.5304 - accuracy: 0.7441\n",
            "Epoch 15/20\n",
            "1439/1439 [==============================] - 3s 2ms/step - loss: 0.5307 - accuracy: 0.7433\n",
            "Epoch 16/20\n",
            "1439/1439 [==============================] - 3s 2ms/step - loss: 0.5300 - accuracy: 0.7453\n",
            "Epoch 17/20\n",
            "1439/1439 [==============================] - 3s 2ms/step - loss: 0.5291 - accuracy: 0.7441\n",
            "Epoch 18/20\n",
            "1439/1439 [==============================] - 4s 3ms/step - loss: 0.5294 - accuracy: 0.7463\n",
            "Epoch 19/20\n",
            "1439/1439 [==============================] - 3s 2ms/step - loss: 0.5287 - accuracy: 0.7469\n",
            "Epoch 20/20\n",
            "1439/1439 [==============================] - 3s 2ms/step - loss: 0.5289 - accuracy: 0.7456\n"
          ]
        }
      ],
      "source": [
        "# Train the model\n",
        "history_activation_optimized = nn_activation_optimized.fit(X_train_oversampled_scaled_df,y_train_oversampled_df, epochs=20, verbose=1, batch_size=16)"
      ]
    },
    {
      "cell_type": "code",
      "execution_count": 51,
      "metadata": {
        "id": "vSp7TNeKKvyj",
        "colab": {
          "base_uri": "https://localhost:8080/"
        },
        "outputId": "a3620e6d-13c6-446a-e85b-58bfdb1200df"
      },
      "outputs": [
        {
          "output_type": "stream",
          "name": "stdout",
          "text": [
            "408/408 [==============================] - 1s 2ms/step - loss: 0.5333 - accuracy: 0.7529\n",
            "Loss: 0.5333229303359985, Accuracy: 0.7529141306877136\n"
          ]
        }
      ],
      "source": [
        "# Evaluate the model using the test data\n",
        "model_loss, model_accuracy = nn_activation_optimized.evaluate(pca_X_test,y_test_column_drop,verbose=1, batch_size=16)\n",
        "print(f\"Loss: {model_loss}, Accuracy: {model_accuracy}\")"
      ]
    },
    {
      "cell_type": "code",
      "execution_count": 52,
      "metadata": {
        "id": "JVGVAcJ6Kvyj"
      },
      "outputs": [],
      "source": [
        "# Export our model to HDF5 file\n",
        "nn_activation_optimized.save('AlphabetSoupCharity_Activtion_Optimization.h5')"
      ]
    },
    {
      "cell_type": "markdown",
      "source": [
        "## Model Optimization Method 2 - Altering Activation, Hidden Layers, and Neurons"
      ],
      "metadata": {
        "id": "WLpU_2QMdvyO"
      }
    },
    {
      "cell_type": "code",
      "source": [
        "layerNeuron_tuner = kt.Hyperband(\n",
        "    lambda hp: create_model_find_activation(hp, 3, 8, 30, 80),\n",
        "    objective=\"val_accuracy\",\n",
        "    max_epochs=20,\n",
        "    hyperband_iterations=2)\n",
        "\n",
        "layerNeuron_tuner.search(X_train_oversampled_scaled_df,y_train_oversampled_df,epochs=10,validation_data=(pca_X_test,y_test_column_drop), batch_size=16)"
      ],
      "metadata": {
        "id": "E7_maUsAfAJd",
        "outputId": "2b2574eb-f753-4766-b3d3-8ce0222e9bca",
        "colab": {
          "base_uri": "https://localhost:8080/"
        }
      },
      "execution_count": 47,
      "outputs": [
        {
          "output_type": "stream",
          "name": "stdout",
          "text": [
            "Trial 60 Complete [00h 01m 24s]\n",
            "val_accuracy: 0.7565950751304626\n",
            "\n",
            "Best val_accuracy So Far: 0.7587423324584961\n",
            "Total elapsed time: 00h 39m 46s\n"
          ]
        }
      ]
    },
    {
      "cell_type": "code",
      "source": [
        "top_nn = layerNeuron_tuner.get_best_hyperparameters(3)\n",
        "\n",
        "for param in top_nn:\n",
        "    for key, value in param.values.items():\n",
        "        print(f\"{key}: {value}\")\n",
        "    print(\"- - -\")"
      ],
      "metadata": {
        "id": "VrxP_Jrt7vaO",
        "outputId": "f7c3e01f-b4fb-43b4-e4e2-95c75f0ed453",
        "colab": {
          "base_uri": "https://localhost:8080/"
        }
      },
      "execution_count": 50,
      "outputs": [
        {
          "output_type": "stream",
          "name": "stdout",
          "text": [
            "initial activation: tanh\n",
            "first_units: 80\n",
            "num_layers: 3\n",
            "layer_activation_0: relu\n",
            "units_0: 55\n",
            "layer_activation_1: relu\n",
            "units_1: 60\n",
            "layer_activation_2: relu\n",
            "units_2: 50\n",
            "layer_activation_3: tanh\n",
            "units_3: 50\n",
            "tuner/epochs: 20\n",
            "tuner/initial_epoch: 7\n",
            "tuner/bracket: 2\n",
            "tuner/round: 2\n",
            "tuner/trial_id: 0015\n",
            "layer_activation_4: relu\n",
            "units_4: 70\n",
            "layer_activation_5: relu\n",
            "units_5: 55\n",
            "layer_activation_6: relu\n",
            "units_6: 50\n",
            "layer_activation_7: tanh\n",
            "units_7: 70\n",
            "- - -\n",
            "initial activation: tanh\n",
            "first_units: 80\n",
            "num_layers: 3\n",
            "layer_activation_0: relu\n",
            "units_0: 60\n",
            "layer_activation_1: tanh\n",
            "units_1: 30\n",
            "layer_activation_2: relu\n",
            "units_2: 65\n",
            "layer_activation_3: relu\n",
            "units_3: 60\n",
            "layer_activation_4: tanh\n",
            "units_4: 30\n",
            "layer_activation_5: tanh\n",
            "units_5: 50\n",
            "layer_activation_6: tanh\n",
            "units_6: 35\n",
            "layer_activation_7: relu\n",
            "units_7: 70\n",
            "tuner/epochs: 20\n",
            "tuner/initial_epoch: 0\n",
            "tuner/bracket: 0\n",
            "tuner/round: 0\n",
            "- - -\n",
            "initial activation: tanh\n",
            "first_units: 80\n",
            "num_layers: 7\n",
            "layer_activation_0: tanh\n",
            "units_0: 45\n",
            "layer_activation_1: tanh\n",
            "units_1: 50\n",
            "layer_activation_2: tanh\n",
            "units_2: 55\n",
            "layer_activation_3: relu\n",
            "units_3: 60\n",
            "layer_activation_4: tanh\n",
            "units_4: 30\n",
            "layer_activation_5: relu\n",
            "units_5: 40\n",
            "layer_activation_6: tanh\n",
            "units_6: 35\n",
            "layer_activation_7: relu\n",
            "units_7: 30\n",
            "tuner/epochs: 20\n",
            "tuner/initial_epoch: 0\n",
            "tuner/bracket: 0\n",
            "tuner/round: 0\n",
            "- - -\n"
          ]
        }
      ]
    },
    {
      "cell_type": "code",
      "source": [
        "# Define the model - deep neural net, i.e., the number of input features and hidden nodes for each layer.\n",
        "nn_layerNeuron = tf.keras.models.Sequential()\n",
        "\n",
        "# Take optimized hyperparams and make a model\n",
        "nn_layerNeuron.add(tf.keras.layers.Dense(units=top_nn[0].values.get('first_units'), activation=top_nn[0].values.get('initial activation'), input_dim=X_train_oversampled_scaled_df.shape[1]))\n",
        "for i in range(top_nn[0].values.get('num_layers')):\n",
        "    nn_layerNeuron.add(tf.keras.layers.Dense(units=top_nn[0].values.get(f'units_{i}'), activation=top_nn[0].values.get('layer activation')))\n",
        "\n",
        "# Output layer\n",
        "nn_layerNeuron.add(tf.keras.layers.Dense(units=1, activation='sigmoid'))\n",
        "\n",
        "# Check the structure of the model\n",
        "nn_layerNeuron.summary()"
      ],
      "metadata": {
        "id": "W6HbuaX478dh",
        "outputId": "7cdb4f8c-3491-4511-ee47-971f61773796",
        "colab": {
          "base_uri": "https://localhost:8080/"
        }
      },
      "execution_count": 52,
      "outputs": [
        {
          "output_type": "stream",
          "name": "stdout",
          "text": [
            "Model: \"sequential_3\"\n",
            "_________________________________________________________________\n",
            " Layer (type)                Output Shape              Param #   \n",
            "=================================================================\n",
            " dense_8 (Dense)             (None, 80)                1680      \n",
            "                                                                 \n",
            " dense_9 (Dense)             (None, 55)                4455      \n",
            "                                                                 \n",
            " dense_10 (Dense)            (None, 60)                3360      \n",
            "                                                                 \n",
            " dense_11 (Dense)            (None, 50)                3050      \n",
            "                                                                 \n",
            " dense_12 (Dense)            (None, 1)                 51        \n",
            "                                                                 \n",
            "=================================================================\n",
            "Total params: 12,596\n",
            "Trainable params: 12,596\n",
            "Non-trainable params: 0\n",
            "_________________________________________________________________\n"
          ]
        }
      ]
    },
    {
      "cell_type": "code",
      "source": [
        "# Compile the model\n",
        "nn_layerNeuron.compile(loss='binary_crossentropy', optimizer='adam', metrics=['accuracy'])\n",
        "\n",
        "# Train the model\n",
        "history_layerNeuron_optimized = nn_layerNeuron.fit(X_train_oversampled_scaled_df,y_train_oversampled_df, epochs=20, verbose=1, batch_size=16)"
      ],
      "metadata": {
        "id": "CVF0mUhV7_Rs",
        "outputId": "c2df087d-849c-4256-cb18-c3eeeccfd593",
        "colab": {
          "base_uri": "https://localhost:8080/"
        }
      },
      "execution_count": 53,
      "outputs": [
        {
          "output_type": "stream",
          "name": "stdout",
          "text": [
            "Epoch 1/20\n",
            "1439/1439 [==============================] - 4s 2ms/step - loss: 0.5669 - accuracy: 0.7269\n",
            "Epoch 2/20\n",
            "1439/1439 [==============================] - 3s 2ms/step - loss: 0.5559 - accuracy: 0.7342\n",
            "Epoch 3/20\n",
            "1439/1439 [==============================] - 3s 2ms/step - loss: 0.5471 - accuracy: 0.7388\n",
            "Epoch 4/20\n",
            "1439/1439 [==============================] - 3s 2ms/step - loss: 0.5427 - accuracy: 0.7393\n",
            "Epoch 5/20\n",
            "1439/1439 [==============================] - 3s 2ms/step - loss: 0.5394 - accuracy: 0.7409\n",
            "Epoch 6/20\n",
            "1439/1439 [==============================] - 3s 2ms/step - loss: 0.5371 - accuracy: 0.7425\n",
            "Epoch 7/20\n",
            "1439/1439 [==============================] - 4s 2ms/step - loss: 0.5357 - accuracy: 0.7450\n",
            "Epoch 8/20\n",
            "1439/1439 [==============================] - 3s 2ms/step - loss: 0.5346 - accuracy: 0.7456\n",
            "Epoch 9/20\n",
            "1439/1439 [==============================] - 3s 2ms/step - loss: 0.5340 - accuracy: 0.7444\n",
            "Epoch 10/20\n",
            "1439/1439 [==============================] - 3s 2ms/step - loss: 0.5321 - accuracy: 0.7442\n",
            "Epoch 11/20\n",
            "1439/1439 [==============================] - 3s 2ms/step - loss: 0.5322 - accuracy: 0.7457\n",
            "Epoch 12/20\n",
            "1439/1439 [==============================] - 3s 2ms/step - loss: 0.5314 - accuracy: 0.7452\n",
            "Epoch 13/20\n",
            "1439/1439 [==============================] - 3s 2ms/step - loss: 0.5314 - accuracy: 0.7452\n",
            "Epoch 14/20\n",
            "1439/1439 [==============================] - 3s 2ms/step - loss: 0.5308 - accuracy: 0.7463\n",
            "Epoch 15/20\n",
            "1439/1439 [==============================] - 3s 2ms/step - loss: 0.5305 - accuracy: 0.7458\n",
            "Epoch 16/20\n",
            "1439/1439 [==============================] - 3s 2ms/step - loss: 0.5303 - accuracy: 0.7458\n",
            "Epoch 17/20\n",
            "1439/1439 [==============================] - 3s 2ms/step - loss: 0.5296 - accuracy: 0.7465\n",
            "Epoch 18/20\n",
            "1439/1439 [==============================] - 3s 2ms/step - loss: 0.5295 - accuracy: 0.7462\n",
            "Epoch 19/20\n",
            "1439/1439 [==============================] - 3s 2ms/step - loss: 0.5297 - accuracy: 0.7457\n",
            "Epoch 20/20\n",
            "1439/1439 [==============================] - 3s 2ms/step - loss: 0.5287 - accuracy: 0.7462\n"
          ]
        }
      ]
    },
    {
      "cell_type": "code",
      "source": [
        "# Evaluate the model using the test data\n",
        "model_loss, model_accuracy = nn_layerNeuron.evaluate(pca_X_test,y_test_column_drop,verbose=1, batch_size=16)\n",
        "print(f\"Loss: {model_loss}, Accuracy: {model_accuracy}\")\n",
        "\n",
        "# Export our model to HDF5 file\n",
        "nn_layerNeuron.save('AlphabetSoupCharity_layerNeuron_Optimization_FINAL.h5')"
      ],
      "metadata": {
        "id": "XHiWD8xk8E6t",
        "outputId": "0387b5dd-0bd7-489f-8b97-5e131ad528a3",
        "colab": {
          "base_uri": "https://localhost:8080/"
        }
      },
      "execution_count": 54,
      "outputs": [
        {
          "output_type": "stream",
          "name": "stdout",
          "text": [
            "408/408 [==============================] - 1s 2ms/step - loss: 0.5368 - accuracy: 0.7515\n",
            "Loss: 0.5368475317955017, Accuracy: 0.7515337467193604\n"
          ]
        }
      ]
    }
  ],
  "metadata": {
    "kernelspec": {
      "display_name": "Python 3",
      "language": "python",
      "name": "python3"
    },
    "language_info": {
      "codemirror_mode": {
        "name": "ipython",
        "version": 3
      },
      "file_extension": ".py",
      "mimetype": "text/x-python",
      "name": "python",
      "nbconvert_exporter": "python",
      "pygments_lexer": "ipython3",
      "version": "3.-1.-1"
    },
    "vscode": {
      "interpreter": {
        "hash": "31f2aee4e71d21fbe5cf8b01ff0e069b9275f58929596ceb00d14d90e3e16cd6"
      }
    },
    "colab": {
      "provenance": []
    }
  },
  "nbformat": 4,
  "nbformat_minor": 0
}